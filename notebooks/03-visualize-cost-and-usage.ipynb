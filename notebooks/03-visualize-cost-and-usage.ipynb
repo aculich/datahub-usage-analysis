{
 "cells": [
  {
   "cell_type": "code",
   "execution_count": 194,
   "metadata": {},
   "outputs": [],
   "source": [
    "import pandas as pd\n",
    "import numpy as np\n",
    "from datetime import datetime\n",
    "import altair as alt\n",
    "from IPython import display"
   ]
  },
  {
   "cell_type": "markdown",
   "metadata": {},
   "source": [
    "# Load and cleanup data\n",
    "\n",
    "\n",
    "We load user activity data and cloud cost data for the duration of the semester\n",
    "into pandas dataframes. We make sure our timezones are right, and that we fill in\n",
    "NaNs where we have missing data."
   ]
  },
  {
   "cell_type": "code",
   "execution_count": 190,
   "metadata": {},
   "outputs": [],
   "source": [
    "semester_start = pd.Timestamp('2018-08-15').tz_localize('US/Pacific')\n",
    "semester_end = pd.Timestamp('2018-12-15').tz_localize('US/Pacific')"
   ]
  },
  {
   "cell_type": "code",
   "execution_count": 191,
   "metadata": {},
   "outputs": [],
   "source": [
    "# Log data for user activity\n",
    "path_usage = '../data/processed/fall-2018/user-activity.jsonl'\n",
    "datahub = pd.read_json(path_usage, lines=True)\n",
    "\n",
    "# Index by timestamp\n",
    "datahub = datahub.set_index('timestamp')\n",
    "\n",
    "# Our timestamps are in UTC\n",
    "datahub = datahub.tz_localize('UTC')\n",
    "# But we want them in US/Pacific, since that's how our billing data is setup\n",
    "datahub = datahub.tz_convert('US/Pacific')\n",
    "# Only between start and end of semester\n",
    "datahub = datahub[datahub.index > semester_start][datahub.index < semester_end]"
   ]
  },
  {
   "cell_type": "code",
   "execution_count": 192,
   "metadata": {},
   "outputs": [],
   "source": [
    "# Cost per day, in PST\n",
    "cost = pd.read_json('../data/processed/fall-2018/cloud-costs.jsonl', lines=True)\n",
    "\n",
    "cost = cost.set_index('start_time')\n",
    "cost = cost.drop(columns=['end_time'])\n",
    "# Pandas' read_json reads dates in as UTC, but since our *actual* dates for cloud costs are in PST, we convert back\n",
    "cost = cost.tz_localize('UTC')\n",
    "cost = cost.tz_convert('US/Pacific')\n",
    "\n",
    "# Only between start and end of semester\n",
    "cost = cost[cost.index > semester_start][cost.index < semester_end]\n",
    "# We only use indexing timestamps to make the tz_localize easier.\n",
    "# after that, we drop it to make everything else easier\n",
    "cost = cost.reset_index()\n",
    "\n",
    "# Fill in any missing data before beginning of date\n",
    "missing_dates = pd.date_range(semester_start, cost.start_time.min(), name='start_time')\n",
    "missing_dates_cost = pd.DataFrame(missing_dates, np.full(len(missing_dates), np.nan), columns={'start_time', 'cost'})\n",
    "cost = cost.append(missing_dates_cost)"
   ]
  },
  {
   "cell_type": "markdown",
   "metadata": {},
   "source": [
    "# Metrics\n",
    "\n",
    "We munge our raw data into specific metrics we care about"
   ]
  },
  {
   "cell_type": "markdown",
   "metadata": {},
   "source": [
    "## Daily Active user\n",
    "\n",
    "We count someone as a 'daily active user' if they start / stop their notebook server\n",
    "at least once. Due to anonimization techniques applied earlier, this might slightly\n",
    "under count users"
   ]
  },
  {
   "cell_type": "code",
   "execution_count": 175,
   "metadata": {},
   "outputs": [],
   "source": [
    "# Unique daily users - we count anyone who has logged in at least once a day\n",
    "# We want a dataframe with no index so we can use it easily with Altair\n",
    "daily_active_users = pd.DataFrame(datahub['user'].resample('D').nunique()).reset_index()"
   ]
  },
  {
   "cell_type": "code",
   "execution_count": 176,
   "metadata": {},
   "outputs": [
    {
     "data": {
      "application/vnd.vegalite.v2+json": {
       "$schema": "https://vega.github.io/schema/vega-lite/v2.6.0.json",
       "config": {
        "view": {
         "height": 300,
         "width": 400
        }
       },
       "data": {
        "name": "data-6b9a4a41bb836c489c41dd534314b140"
       },
       "datasets": {
        "data-6b9a4a41bb836c489c41dd534314b140": [
         {
          "timestamp": "2018-08-17T00:00:00-07:00",
          "user": 19
         },
         {
          "timestamp": "2018-08-18T00:00:00-07:00",
          "user": 46
         },
         {
          "timestamp": "2018-08-19T00:00:00-07:00",
          "user": 33
         },
         {
          "timestamp": "2018-08-20T00:00:00-07:00",
          "user": 61
         },
         {
          "timestamp": "2018-08-21T00:00:00-07:00",
          "user": 149
         },
         {
          "timestamp": "2018-08-22T00:00:00-07:00",
          "user": 1194
         },
         {
          "timestamp": "2018-08-23T00:00:00-07:00",
          "user": 1243
         },
         {
          "timestamp": "2018-08-24T00:00:00-07:00",
          "user": 1391
         },
         {
          "timestamp": "2018-08-25T00:00:00-07:00",
          "user": 988
         },
         {
          "timestamp": "2018-08-26T00:00:00-07:00",
          "user": 1174
         },
         {
          "timestamp": "2018-08-27T00:00:00-07:00",
          "user": 1508
         },
         {
          "timestamp": "2018-08-28T00:00:00-07:00",
          "user": 1351
         },
         {
          "timestamp": "2018-08-29T00:00:00-07:00",
          "user": 1598
         },
         {
          "timestamp": "2018-08-30T00:00:00-07:00",
          "user": 1322
         },
         {
          "timestamp": "2018-08-31T00:00:00-07:00",
          "user": 1194
         },
         {
          "timestamp": "2018-09-01T00:00:00-07:00",
          "user": 793
         },
         {
          "timestamp": "2018-09-02T00:00:00-07:00",
          "user": 964
         },
         {
          "timestamp": "2018-09-03T00:00:00-07:00",
          "user": 1259
         },
         {
          "timestamp": "2018-09-04T00:00:00-07:00",
          "user": 1495
         },
         {
          "timestamp": "2018-09-05T00:00:00-07:00",
          "user": 1675
         },
         {
          "timestamp": "2018-09-06T00:00:00-07:00",
          "user": 1429
         },
         {
          "timestamp": "2018-09-07T00:00:00-07:00",
          "user": 1120
         },
         {
          "timestamp": "2018-09-08T00:00:00-07:00",
          "user": 880
         },
         {
          "timestamp": "2018-09-09T00:00:00-07:00",
          "user": 1028
         },
         {
          "timestamp": "2018-09-10T00:00:00-07:00",
          "user": 1432
         },
         {
          "timestamp": "2018-09-11T00:00:00-07:00",
          "user": 1502
         },
         {
          "timestamp": "2018-09-12T00:00:00-07:00",
          "user": 1580
         },
         {
          "timestamp": "2018-09-13T00:00:00-07:00",
          "user": 1345
         },
         {
          "timestamp": "2018-09-14T00:00:00-07:00",
          "user": 1006
         },
         {
          "timestamp": "2018-09-15T00:00:00-07:00",
          "user": 842
         },
         {
          "timestamp": "2018-09-16T00:00:00-07:00",
          "user": 1091
         },
         {
          "timestamp": "2018-09-17T00:00:00-07:00",
          "user": 1491
         },
         {
          "timestamp": "2018-09-18T00:00:00-07:00",
          "user": 1419
         },
         {
          "timestamp": "2018-09-19T00:00:00-07:00",
          "user": 1549
         },
         {
          "timestamp": "2018-09-20T00:00:00-07:00",
          "user": 1480
         },
         {
          "timestamp": "2018-09-21T00:00:00-07:00",
          "user": 1294
         },
         {
          "timestamp": "2018-09-22T00:00:00-07:00",
          "user": 921
         },
         {
          "timestamp": "2018-09-23T00:00:00-07:00",
          "user": 921
         },
         {
          "timestamp": "2018-09-24T00:00:00-07:00",
          "user": 1253
         },
         {
          "timestamp": "2018-09-25T00:00:00-07:00",
          "user": 1333
         },
         {
          "timestamp": "2018-09-26T00:00:00-07:00",
          "user": 1540
         },
         {
          "timestamp": "2018-09-27T00:00:00-07:00",
          "user": 1510
         },
         {
          "timestamp": "2018-09-28T00:00:00-07:00",
          "user": 1362
         },
         {
          "timestamp": "2018-09-29T00:00:00-07:00",
          "user": 896
         },
         {
          "timestamp": "2018-09-30T00:00:00-07:00",
          "user": 1049
         },
         {
          "timestamp": "2018-10-01T00:00:00-07:00",
          "user": 1392
         },
         {
          "timestamp": "2018-10-02T00:00:00-07:00",
          "user": 1342
         },
         {
          "timestamp": "2018-10-03T00:00:00-07:00",
          "user": 1567
         },
         {
          "timestamp": "2018-10-04T00:00:00-07:00",
          "user": 1434
         },
         {
          "timestamp": "2018-10-05T00:00:00-07:00",
          "user": 1061
         },
         {
          "timestamp": "2018-10-06T00:00:00-07:00",
          "user": 750
         },
         {
          "timestamp": "2018-10-07T00:00:00-07:00",
          "user": 941
         },
         {
          "timestamp": "2018-10-08T00:00:00-07:00",
          "user": 1342
         },
         {
          "timestamp": "2018-10-09T00:00:00-07:00",
          "user": 1356
         },
         {
          "timestamp": "2018-10-10T00:00:00-07:00",
          "user": 1342
         },
         {
          "timestamp": "2018-10-11T00:00:00-07:00",
          "user": 1013
         },
         {
          "timestamp": "2018-10-12T00:00:00-07:00",
          "user": 1002
         },
         {
          "timestamp": "2018-10-13T00:00:00-07:00",
          "user": 399
         },
         {
          "timestamp": "2018-10-14T00:00:00-07:00",
          "user": 441
         },
         {
          "timestamp": "2018-10-15T00:00:00-07:00",
          "user": 894
         },
         {
          "timestamp": "2018-10-16T00:00:00-07:00",
          "user": 826
         },
         {
          "timestamp": "2018-10-17T00:00:00-07:00",
          "user": 1138
         },
         {
          "timestamp": "2018-10-18T00:00:00-07:00",
          "user": 1038
         },
         {
          "timestamp": "2018-10-19T00:00:00-07:00",
          "user": 641
         },
         {
          "timestamp": "2018-10-20T00:00:00-07:00",
          "user": 664
         },
         {
          "timestamp": "2018-10-21T00:00:00-07:00",
          "user": 856
         },
         {
          "timestamp": "2018-10-22T00:00:00-07:00",
          "user": 1205
         },
         {
          "timestamp": "2018-10-23T00:00:00-07:00",
          "user": 1134
         },
         {
          "timestamp": "2018-10-24T00:00:00-07:00",
          "user": 1448
         },
         {
          "timestamp": "2018-10-25T00:00:00-07:00",
          "user": 1400
         },
         {
          "timestamp": "2018-10-26T00:00:00-07:00",
          "user": 1190
         },
         {
          "timestamp": "2018-10-27T00:00:00-07:00",
          "user": 745
         },
         {
          "timestamp": "2018-10-28T00:00:00-07:00",
          "user": 861
         },
         {
          "timestamp": "2018-10-29T00:00:00-07:00",
          "user": 1306
         },
         {
          "timestamp": "2018-10-30T00:00:00-07:00",
          "user": 1270
         },
         {
          "timestamp": "2018-10-31T00:00:00-07:00",
          "user": 1471
         },
         {
          "timestamp": "2018-11-01T00:00:00-07:00",
          "user": 1476
         },
         {
          "timestamp": "2018-11-02T00:00:00-07:00",
          "user": 1325
         },
         {
          "timestamp": "2018-11-03T00:00:00-07:00",
          "user": 786
         },
         {
          "timestamp": "2018-11-04T00:00:00-07:00",
          "user": 747
         },
         {
          "timestamp": "2018-11-05T00:00:00-08:00",
          "user": 1044
         },
         {
          "timestamp": "2018-11-06T00:00:00-08:00",
          "user": 1133
         },
         {
          "timestamp": "2018-11-07T00:00:00-08:00",
          "user": 1510
         },
         {
          "timestamp": "2018-11-08T00:00:00-08:00",
          "user": 1344
         },
         {
          "timestamp": "2018-11-09T00:00:00-08:00",
          "user": 833
         },
         {
          "timestamp": "2018-11-10T00:00:00-08:00",
          "user": 655
         },
         {
          "timestamp": "2018-11-11T00:00:00-08:00",
          "user": 731
         },
         {
          "timestamp": "2018-11-12T00:00:00-08:00",
          "user": 948
         },
         {
          "timestamp": "2018-11-13T00:00:00-08:00",
          "user": 1209
         },
         {
          "timestamp": "2018-11-14T00:00:00-08:00",
          "user": 1558
         },
         {
          "timestamp": "2018-11-15T00:00:00-08:00",
          "user": 1444
         },
         {
          "timestamp": "2018-11-16T00:00:00-08:00",
          "user": 1055
         },
         {
          "timestamp": "2018-11-17T00:00:00-08:00",
          "user": 815
         },
         {
          "timestamp": "2018-11-18T00:00:00-08:00",
          "user": 800
         },
         {
          "timestamp": "2018-11-19T00:00:00-08:00",
          "user": 874
         },
         {
          "timestamp": "2018-11-20T00:00:00-08:00",
          "user": 725
         },
         {
          "timestamp": "2018-11-21T00:00:00-08:00",
          "user": 606
         },
         {
          "timestamp": "2018-11-22T00:00:00-08:00",
          "user": 480
         },
         {
          "timestamp": "2018-11-23T00:00:00-08:00",
          "user": 528
         },
         {
          "timestamp": "2018-11-24T00:00:00-08:00",
          "user": 524
         },
         {
          "timestamp": "2018-11-25T00:00:00-08:00",
          "user": 668
         },
         {
          "timestamp": "2018-11-26T00:00:00-08:00",
          "user": 1143
         },
         {
          "timestamp": "2018-11-27T00:00:00-08:00",
          "user": 1245
         },
         {
          "timestamp": "2018-11-28T00:00:00-08:00",
          "user": 1470
         },
         {
          "timestamp": "2018-11-29T00:00:00-08:00",
          "user": 1413
         },
         {
          "timestamp": "2018-11-30T00:00:00-08:00",
          "user": 1092
         },
         {
          "timestamp": "2018-12-01T00:00:00-08:00",
          "user": 546
         },
         {
          "timestamp": "2018-12-02T00:00:00-08:00",
          "user": 493
         },
         {
          "timestamp": "2018-12-03T00:00:00-08:00",
          "user": 653
         },
         {
          "timestamp": "2018-12-04T00:00:00-08:00",
          "user": 493
         },
         {
          "timestamp": "2018-12-05T00:00:00-08:00",
          "user": 543
         },
         {
          "timestamp": "2018-12-06T00:00:00-08:00",
          "user": 466
         },
         {
          "timestamp": "2018-12-07T00:00:00-08:00",
          "user": 430
         },
         {
          "timestamp": "2018-12-08T00:00:00-08:00",
          "user": 367
         },
         {
          "timestamp": "2018-12-09T00:00:00-08:00",
          "user": 311
         },
         {
          "timestamp": "2018-12-10T00:00:00-08:00",
          "user": 331
         },
         {
          "timestamp": "2018-12-11T00:00:00-08:00",
          "user": 370
         },
         {
          "timestamp": "2018-12-12T00:00:00-08:00",
          "user": 495
         },
         {
          "timestamp": "2018-12-13T00:00:00-08:00",
          "user": 607
         },
         {
          "timestamp": "2018-12-14T00:00:00-08:00",
          "user": 247
         }
        ]
       },
       "encoding": {
        "x": {
         "field": "timestamp",
         "type": "temporal"
        },
        "y": {
         "field": "user",
         "type": "quantitative"
        }
       },
       "mark": "line",
       "width": 900
      },
      "image/png": "[encoded data removed]",
      "text/plain": [
       "<VegaLite 2 object>\n",
       "\n",
       "If you see this message, it means the renderer has not been properly enabled\n",
       "for the frontend that you are using. For more information, see\n",
       "https://altair-viz.github.io/user_guide/troubleshooting.html\n"
      ]
     },
     "execution_count": 176,
     "metadata": {},
     "output_type": "execute_result"
    }
   ],
   "source": [
    "alt.Chart(daily_active_users, width=900).mark_line().encode(\n",
    "    x='timestamp',\n",
    "    y='user'\n",
    ")"
   ]
  },
  {
   "cell_type": "code",
   "execution_count": 199,
   "metadata": {},
   "outputs": [
    {
     "data": {
      "text/html": [
       "<h3>Mean daily active users: <b>1006.1</b></h3>"
      ],
      "text/plain": [
       "<IPython.core.display.HTML object>"
      ]
     },
     "execution_count": 199,
     "metadata": {},
     "output_type": "execute_result"
    }
   ],
   "source": [
    "# Mean daily active users\n",
    "mean_daily_active_users = daily_active_users['user'].mean()\n",
    "display.HTML(f'<h3>Mean daily active users: <b>{mean_daily_active_users}</b></h3>')"
   ]
  },
  {
   "cell_type": "markdown",
   "metadata": {},
   "source": [
    "## Daily cloud costs"
   ]
  },
  {
   "cell_type": "code",
   "execution_count": 200,
   "metadata": {},
   "outputs": [
    {
     "data": {
      "application/vnd.vegalite.v2+json": {
       "$schema": "https://vega.github.io/schema/vega-lite/v2.6.0.json",
       "config": {
        "view": {
         "height": 300,
         "width": 400
        }
       },
       "data": {
        "name": "data-e1a6ecb613e6b4b772489f2dc1fc7a71"
       },
       "datasets": {
        "data-e1a6ecb613e6b4b772489f2dc1fc7a71": [
         {
          "cost": 40.156909999999996,
          "start_time": "2018-09-12T00:00:00-07:00"
         },
         {
          "cost": 263.958762,
          "start_time": "2018-09-13T00:00:00-07:00"
         },
         {
          "cost": 233.378606,
          "start_time": "2018-09-14T00:00:00-07:00"
         },
         {
          "cost": 220.49735600000002,
          "start_time": "2018-09-15T00:00:00-07:00"
         },
         {
          "cost": 221.476064,
          "start_time": "2018-09-16T00:00:00-07:00"
         },
         {
          "cost": 254.118337,
          "start_time": "2018-09-17T00:00:00-07:00"
         },
         {
          "cost": 268.713372,
          "start_time": "2018-09-18T00:00:00-07:00"
         },
         {
          "cost": 277.049757,
          "start_time": "2018-09-19T00:00:00-07:00"
         },
         {
          "cost": 291.302796,
          "start_time": "2018-09-20T00:00:00-07:00"
         },
         {
          "cost": 268.42976,
          "start_time": "2018-09-21T00:00:00-07:00"
         },
         {
          "cost": 246.082326,
          "start_time": "2018-09-22T00:00:00-07:00"
         },
         {
          "cost": 244.174214,
          "start_time": "2018-09-23T00:00:00-07:00"
         },
         {
          "cost": 245.52624400000002,
          "start_time": "2018-09-24T00:00:00-07:00"
         },
         {
          "cost": 254.888743,
          "start_time": "2018-09-25T00:00:00-07:00"
         },
         {
          "cost": 277.179144,
          "start_time": "2018-09-26T00:00:00-07:00"
         },
         {
          "cost": 290.026115,
          "start_time": "2018-09-27T00:00:00-07:00"
         },
         {
          "cost": 268.253716,
          "start_time": "2018-09-28T00:00:00-07:00"
         },
         {
          "cost": 262.364679,
          "start_time": "2018-09-29T00:00:00-07:00"
         },
         {
          "cost": 244.44310099999998,
          "start_time": "2018-09-30T00:00:00-07:00"
         },
         {
          "cost": 248.97004299999998,
          "start_time": "2018-10-01T00:00:00-07:00"
         },
         {
          "cost": 243.463813,
          "start_time": "2018-10-02T00:00:00-07:00"
         },
         {
          "cost": 304.920198,
          "start_time": "2018-10-03T00:00:00-07:00"
         },
         {
          "cost": 452.96205100000003,
          "start_time": "2018-10-04T00:00:00-07:00"
         },
         {
          "cost": 275.03173200000003,
          "start_time": "2018-10-05T00:00:00-07:00"
         },
         {
          "cost": 181.814937,
          "start_time": "2018-10-06T00:00:00-07:00"
         },
         {
          "cost": 173.638486,
          "start_time": "2018-10-07T00:00:00-07:00"
         },
         {
          "cost": 197.120381,
          "start_time": "2018-10-08T00:00:00-07:00"
         },
         {
          "cost": 212.07737500000002,
          "start_time": "2018-10-09T00:00:00-07:00"
         },
         {
          "cost": 219.799082,
          "start_time": "2018-10-10T00:00:00-07:00"
         },
         {
          "cost": 203.78078899999997,
          "start_time": "2018-10-11T00:00:00-07:00"
         },
         {
          "cost": 206.12004299999998,
          "start_time": "2018-10-12T00:00:00-07:00"
         },
         {
          "cost": 202.40058399999998,
          "start_time": "2018-10-13T00:00:00-07:00"
         },
         {
          "cost": 182.316341,
          "start_time": "2018-10-14T00:00:00-07:00"
         },
         {
          "cost": 183.284113,
          "start_time": "2018-10-15T00:00:00-07:00"
         },
         {
          "cost": 191.61486699999998,
          "start_time": "2018-10-16T00:00:00-07:00"
         },
         {
          "cost": 186.137944,
          "start_time": "2018-10-17T00:00:00-07:00"
         },
         {
          "cost": 185.817201,
          "start_time": "2018-10-18T00:00:00-07:00"
         },
         {
          "cost": 185.48708799999997,
          "start_time": "2018-10-19T00:00:00-07:00"
         },
         {
          "cost": 149.516785,
          "start_time": "2018-10-20T00:00:00-07:00"
         },
         {
          "cost": 121.764895,
          "start_time": "2018-10-21T00:00:00-07:00"
         },
         {
          "cost": 142.410472,
          "start_time": "2018-10-22T00:00:00-07:00"
         },
         {
          "cost": 155.93802300000002,
          "start_time": "2018-10-23T00:00:00-07:00"
         },
         {
          "cost": 156.858114,
          "start_time": "2018-10-24T00:00:00-07:00"
         },
         {
          "cost": 156.38318199999998,
          "start_time": "2018-10-25T00:00:00-07:00"
         },
         {
          "cost": 155.87109700000002,
          "start_time": "2018-10-26T00:00:00-07:00"
         },
         {
          "cost": 145.873503,
          "start_time": "2018-10-27T00:00:00-07:00"
         },
         {
          "cost": 143.64437099999998,
          "start_time": "2018-10-28T00:00:00-07:00"
         },
         {
          "cost": 149.627417,
          "start_time": "2018-10-29T00:00:00-07:00"
         },
         {
          "cost": 168.580365,
          "start_time": "2018-10-30T00:00:00-07:00"
         },
         {
          "cost": 169.53366599999998,
          "start_time": "2018-10-31T00:00:00-07:00"
         },
         {
          "cost": 165.6526,
          "start_time": "2018-11-01T00:00:00-07:00"
         },
         {
          "cost": 174.670979,
          "start_time": "2018-11-02T00:00:00-07:00"
         },
         {
          "cost": 154.460981,
          "start_time": "2018-11-03T00:00:00-07:00"
         },
         {
          "cost": 160.182685,
          "start_time": "2018-11-04T00:00:00-07:00"
         },
         {
          "cost": 154.16036599999998,
          "start_time": "2018-11-05T00:00:00-08:00"
         },
         {
          "cost": 154.746287,
          "start_time": "2018-11-06T00:00:00-08:00"
         },
         {
          "cost": 170.92835399999998,
          "start_time": "2018-11-07T00:00:00-08:00"
         },
         {
          "cost": 177.70142,
          "start_time": "2018-11-08T00:00:00-08:00"
         },
         {
          "cost": 179.00012300000003,
          "start_time": "2018-11-09T00:00:00-08:00"
         },
         {
          "cost": 179.290468,
          "start_time": "2018-11-10T00:00:00-08:00"
         },
         {
          "cost": 165.391022,
          "start_time": "2018-11-11T00:00:00-08:00"
         },
         {
          "cost": 157.576163,
          "start_time": "2018-11-12T00:00:00-08:00"
         },
         {
          "cost": 163.672754,
          "start_time": "2018-11-13T00:00:00-08:00"
         },
         {
          "cost": 183.722065,
          "start_time": "2018-11-14T00:00:00-08:00"
         },
         {
          "cost": 195.25908099999998,
          "start_time": "2018-11-15T00:00:00-08:00"
         },
         {
          "cost": 188.49224700000002,
          "start_time": "2018-11-16T00:00:00-08:00"
         },
         {
          "cost": 180.42066499999999,
          "start_time": "2018-11-17T00:00:00-08:00"
         },
         {
          "cost": 170.58507500000002,
          "start_time": "2018-11-18T00:00:00-08:00"
         },
         {
          "cost": 169.096144,
          "start_time": "2018-11-19T00:00:00-08:00"
         },
         {
          "cost": 168.46590500000002,
          "start_time": "2018-11-20T00:00:00-08:00"
         },
         {
          "cost": 168.065076,
          "start_time": "2018-11-21T00:00:00-08:00"
         },
         {
          "cost": 167.400497,
          "start_time": "2018-11-22T00:00:00-08:00"
         },
         {
          "cost": 168.123972,
          "start_time": "2018-11-23T00:00:00-08:00"
         },
         {
          "cost": 167.694091,
          "start_time": "2018-11-24T00:00:00-08:00"
         },
         {
          "cost": 168.44466,
          "start_time": "2018-11-25T00:00:00-08:00"
         },
         {
          "cost": 172.00177,
          "start_time": "2018-11-26T00:00:00-08:00"
         },
         {
          "cost": 171.23877900000002,
          "start_time": "2018-11-27T00:00:00-08:00"
         },
         {
          "cost": 170.16072100000002,
          "start_time": "2018-11-28T00:00:00-08:00"
         },
         {
          "cost": 171.209544,
          "start_time": "2018-11-29T00:00:00-08:00"
         },
         {
          "cost": 170.10651,
          "start_time": "2018-11-30T00:00:00-08:00"
         },
         {
          "cost": 162.890289,
          "start_time": "2018-12-01T00:00:00-08:00"
         },
         {
          "cost": 164.59242200000003,
          "start_time": "2018-12-02T00:00:00-08:00"
         },
         {
          "cost": 164.49821300000002,
          "start_time": "2018-12-03T00:00:00-08:00"
         },
         {
          "cost": 164.51144,
          "start_time": "2018-12-04T00:00:00-08:00"
         },
         {
          "cost": 165.150755,
          "start_time": "2018-12-05T00:00:00-08:00"
         },
         {
          "cost": 165.040173,
          "start_time": "2018-12-06T00:00:00-08:00"
         },
         {
          "cost": 164.40057099999999,
          "start_time": "2018-12-07T00:00:00-08:00"
         },
         {
          "cost": 164.55875,
          "start_time": "2018-12-08T00:00:00-08:00"
         },
         {
          "cost": 164.60581200000001,
          "start_time": "2018-12-09T00:00:00-08:00"
         },
         {
          "cost": 164.520137,
          "start_time": "2018-12-10T00:00:00-08:00"
         },
         {
          "cost": 164.85765,
          "start_time": "2018-12-11T00:00:00-08:00"
         },
         {
          "cost": 164.251543,
          "start_time": "2018-12-12T00:00:00-08:00"
         },
         {
          "cost": 164.572575,
          "start_time": "2018-12-13T00:00:00-08:00"
         },
         {
          "cost": 162.11756,
          "start_time": "2018-12-14T00:00:00-08:00"
         },
         {
          "cost": null,
          "start_time": "2018-08-15T00:00:00-07:00"
         },
         {
          "cost": null,
          "start_time": "2018-08-16T00:00:00-07:00"
         },
         {
          "cost": null,
          "start_time": "2018-08-17T00:00:00-07:00"
         },
         {
          "cost": null,
          "start_time": "2018-08-18T00:00:00-07:00"
         },
         {
          "cost": null,
          "start_time": "2018-08-19T00:00:00-07:00"
         },
         {
          "cost": null,
          "start_time": "2018-08-20T00:00:00-07:00"
         },
         {
          "cost": null,
          "start_time": "2018-08-21T00:00:00-07:00"
         },
         {
          "cost": null,
          "start_time": "2018-08-22T00:00:00-07:00"
         },
         {
          "cost": null,
          "start_time": "2018-08-23T00:00:00-07:00"
         },
         {
          "cost": null,
          "start_time": "2018-08-24T00:00:00-07:00"
         },
         {
          "cost": null,
          "start_time": "2018-08-25T00:00:00-07:00"
         },
         {
          "cost": null,
          "start_time": "2018-08-26T00:00:00-07:00"
         },
         {
          "cost": null,
          "start_time": "2018-08-27T00:00:00-07:00"
         },
         {
          "cost": null,
          "start_time": "2018-08-28T00:00:00-07:00"
         },
         {
          "cost": null,
          "start_time": "2018-08-29T00:00:00-07:00"
         },
         {
          "cost": null,
          "start_time": "2018-08-30T00:00:00-07:00"
         },
         {
          "cost": null,
          "start_time": "2018-08-31T00:00:00-07:00"
         },
         {
          "cost": null,
          "start_time": "2018-09-01T00:00:00-07:00"
         },
         {
          "cost": null,
          "start_time": "2018-09-02T00:00:00-07:00"
         },
         {
          "cost": null,
          "start_time": "2018-09-03T00:00:00-07:00"
         },
         {
          "cost": null,
          "start_time": "2018-09-04T00:00:00-07:00"
         },
         {
          "cost": null,
          "start_time": "2018-09-05T00:00:00-07:00"
         },
         {
          "cost": null,
          "start_time": "2018-09-06T00:00:00-07:00"
         },
         {
          "cost": null,
          "start_time": "2018-09-07T00:00:00-07:00"
         },
         {
          "cost": null,
          "start_time": "2018-09-08T00:00:00-07:00"
         },
         {
          "cost": null,
          "start_time": "2018-09-09T00:00:00-07:00"
         },
         {
          "cost": null,
          "start_time": "2018-09-10T00:00:00-07:00"
         },
         {
          "cost": null,
          "start_time": "2018-09-11T00:00:00-07:00"
         },
         {
          "cost": null,
          "start_time": "2018-09-12T00:00:00-07:00"
         }
        ]
       },
       "encoding": {
        "x": {
         "field": "start_time",
         "type": "temporal"
        },
        "y": {
         "field": "cost",
         "type": "quantitative"
        }
       },
       "mark": "line",
       "width": 900
      },
      "image/png": "[encoded data removed]",
      "text/plain": [
       "<VegaLite 2 object>\n",
       "\n",
       "If you see this message, it means the renderer has not been properly enabled\n",
       "for the frontend that you are using. For more information, see\n",
       "https://altair-viz.github.io/user_guide/troubleshooting.html\n"
      ]
     },
     "execution_count": 200,
     "metadata": {},
     "output_type": "execute_result"
    }
   ],
   "source": [
    "alt.Chart(cost, width=900).mark_line().encode(\n",
    "    x='start_time',\n",
    "    y='cost'\n",
    ")"
   ]
  },
  {
   "cell_type": "code",
   "execution_count": 204,
   "metadata": {},
   "outputs": [
    {
     "data": {
      "text/html": [
       "<h3>Mean daily cloud cost: <b>$192.90710482978722</b></h3>"
      ],
      "text/plain": [
       "<IPython.core.display.HTML object>"
      ]
     },
     "execution_count": 204,
     "metadata": {},
     "output_type": "execute_result"
    }
   ],
   "source": [
    "# Mean daily active users\n",
    "mean_cost = cost['cost'].mean()\n",
    "display.HTML(f'<h3>Mean daily cloud cost: <b>${mean_cost}</b></h3>')"
   ]
  },
  {
   "cell_type": "markdown",
   "metadata": {},
   "source": [
    "## Daily cloud costs per **active** user\n",
    "\n",
    "This is cost per day for *active* users - those who used the cluster. This is only a fraction of your total users, so be careful using this for estimates."
   ]
  },
  {
   "cell_type": "code",
   "execution_count": 205,
   "metadata": {},
   "outputs": [],
   "source": [
    "# Combine into a single dataframe based on day\n",
    "total = pd.merge(daily_active_users, cost, how='outer', left_on='timestamp', right_on='start_time').drop(columns=['start_time'])\n",
    "\n",
    "# Calculate daily cost per user\n",
    "total['cost_per_active_user'] = total['cost'] / total['user']"
   ]
  },
  {
   "cell_type": "code",
   "execution_count": 206,
   "metadata": {},
   "outputs": [
    {
     "data": {
      "application/vnd.vegalite.v2+json": {
       "$schema": "https://vega.github.io/schema/vega-lite/v2.6.0.json",
       "config": {
        "view": {
         "height": 300,
         "width": 400
        }
       },
       "data": {
        "name": "data-90a64ad3b73aa028ed915e9944e92937"
       },
       "datasets": {
        "data-90a64ad3b73aa028ed915e9944e92937": [
         {
          "cost": null,
          "cost_per_user": null,
          "timestamp": "2018-08-17T00:00:00-07:00",
          "user": 19
         },
         {
          "cost": null,
          "cost_per_user": null,
          "timestamp": "2018-08-18T00:00:00-07:00",
          "user": 46
         },
         {
          "cost": null,
          "cost_per_user": null,
          "timestamp": "2018-08-19T00:00:00-07:00",
          "user": 33
         },
         {
          "cost": null,
          "cost_per_user": null,
          "timestamp": "2018-08-20T00:00:00-07:00",
          "user": 61
         },
         {
          "cost": null,
          "cost_per_user": null,
          "timestamp": "2018-08-21T00:00:00-07:00",
          "user": 149
         },
         {
          "cost": null,
          "cost_per_user": null,
          "timestamp": "2018-08-22T00:00:00-07:00",
          "user": 1194
         },
         {
          "cost": null,
          "cost_per_user": null,
          "timestamp": "2018-08-23T00:00:00-07:00",
          "user": 1243
         },
         {
          "cost": null,
          "cost_per_user": null,
          "timestamp": "2018-08-24T00:00:00-07:00",
          "user": 1391
         },
         {
          "cost": null,
          "cost_per_user": null,
          "timestamp": "2018-08-25T00:00:00-07:00",
          "user": 988
         },
         {
          "cost": null,
          "cost_per_user": null,
          "timestamp": "2018-08-26T00:00:00-07:00",
          "user": 1174
         },
         {
          "cost": null,
          "cost_per_user": null,
          "timestamp": "2018-08-27T00:00:00-07:00",
          "user": 1508
         },
         {
          "cost": null,
          "cost_per_user": null,
          "timestamp": "2018-08-28T00:00:00-07:00",
          "user": 1351
         },
         {
          "cost": null,
          "cost_per_user": null,
          "timestamp": "2018-08-29T00:00:00-07:00",
          "user": 1598
         },
         {
          "cost": null,
          "cost_per_user": null,
          "timestamp": "2018-08-30T00:00:00-07:00",
          "user": 1322
         },
         {
          "cost": null,
          "cost_per_user": null,
          "timestamp": "2018-08-31T00:00:00-07:00",
          "user": 1194
         },
         {
          "cost": null,
          "cost_per_user": null,
          "timestamp": "2018-09-01T00:00:00-07:00",
          "user": 793
         },
         {
          "cost": null,
          "cost_per_user": null,
          "timestamp": "2018-09-02T00:00:00-07:00",
          "user": 964
         },
         {
          "cost": null,
          "cost_per_user": null,
          "timestamp": "2018-09-03T00:00:00-07:00",
          "user": 1259
         },
         {
          "cost": null,
          "cost_per_user": null,
          "timestamp": "2018-09-04T00:00:00-07:00",
          "user": 1495
         },
         {
          "cost": null,
          "cost_per_user": null,
          "timestamp": "2018-09-05T00:00:00-07:00",
          "user": 1675
         },
         {
          "cost": null,
          "cost_per_user": null,
          "timestamp": "2018-09-06T00:00:00-07:00",
          "user": 1429
         },
         {
          "cost": null,
          "cost_per_user": null,
          "timestamp": "2018-09-07T00:00:00-07:00",
          "user": 1120
         },
         {
          "cost": null,
          "cost_per_user": null,
          "timestamp": "2018-09-08T00:00:00-07:00",
          "user": 880
         },
         {
          "cost": null,
          "cost_per_user": null,
          "timestamp": "2018-09-09T00:00:00-07:00",
          "user": 1028
         },
         {
          "cost": null,
          "cost_per_user": null,
          "timestamp": "2018-09-10T00:00:00-07:00",
          "user": 1432
         },
         {
          "cost": null,
          "cost_per_user": null,
          "timestamp": "2018-09-11T00:00:00-07:00",
          "user": 1502
         },
         {
          "cost": 40.156909999999996,
          "cost_per_user": 0.02541576582278481,
          "timestamp": "2018-09-12T00:00:00-07:00",
          "user": 1580
         },
         {
          "cost": null,
          "cost_per_user": null,
          "timestamp": "2018-09-12T00:00:00-07:00",
          "user": 1580
         },
         {
          "cost": 263.958762,
          "cost_per_user": 0.19625186765799255,
          "timestamp": "2018-09-13T00:00:00-07:00",
          "user": 1345
         },
         {
          "cost": 233.378606,
          "cost_per_user": 0.23198668588469185,
          "timestamp": "2018-09-14T00:00:00-07:00",
          "user": 1006
         },
         {
          "cost": 220.49735600000002,
          "cost_per_user": 0.26187334441805227,
          "timestamp": "2018-09-15T00:00:00-07:00",
          "user": 842
         },
         {
          "cost": 221.476064,
          "cost_per_user": 0.20300280843263063,
          "timestamp": "2018-09-16T00:00:00-07:00",
          "user": 1091
         },
         {
          "cost": 254.118337,
          "cost_per_user": 0.17043483366867873,
          "timestamp": "2018-09-17T00:00:00-07:00",
          "user": 1491
         },
         {
          "cost": 268.713372,
          "cost_per_user": 0.1893681268498943,
          "timestamp": "2018-09-18T00:00:00-07:00",
          "user": 1419
         },
         {
          "cost": 277.049757,
          "cost_per_user": 0.17885717043253713,
          "timestamp": "2018-09-19T00:00:00-07:00",
          "user": 1549
         },
         {
          "cost": 291.302796,
          "cost_per_user": 0.1968262135135135,
          "timestamp": "2018-09-20T00:00:00-07:00",
          "user": 1480
         },
         {
          "cost": 268.42976,
          "cost_per_user": 0.2074418547140649,
          "timestamp": "2018-09-21T00:00:00-07:00",
          "user": 1294
         },
         {
          "cost": 246.082326,
          "cost_per_user": 0.2671903648208469,
          "timestamp": "2018-09-22T00:00:00-07:00",
          "user": 921
         },
         {
          "cost": 244.174214,
          "cost_per_user": 0.26511858197611293,
          "timestamp": "2018-09-23T00:00:00-07:00",
          "user": 921
         },
         {
          "cost": 245.52624400000002,
          "cost_per_user": 0.1959507134876297,
          "timestamp": "2018-09-24T00:00:00-07:00",
          "user": 1253
         },
         {
          "cost": 254.888743,
          "cost_per_user": 0.19121436084021007,
          "timestamp": "2018-09-25T00:00:00-07:00",
          "user": 1333
         },
         {
          "cost": 277.179144,
          "cost_per_user": 0.17998645714285716,
          "timestamp": "2018-09-26T00:00:00-07:00",
          "user": 1540
         },
         {
          "cost": 290.026115,
          "cost_per_user": 0.1920702748344371,
          "timestamp": "2018-09-27T00:00:00-07:00",
          "user": 1510
         },
         {
          "cost": 268.253716,
          "cost_per_user": 0.19695573861967694,
          "timestamp": "2018-09-28T00:00:00-07:00",
          "user": 1362
         },
         {
          "cost": 262.364679,
          "cost_per_user": 0.29281772209821433,
          "timestamp": "2018-09-29T00:00:00-07:00",
          "user": 896
         },
         {
          "cost": 244.44310099999998,
          "cost_per_user": 0.233024881792183,
          "timestamp": "2018-09-30T00:00:00-07:00",
          "user": 1049
         },
         {
          "cost": 248.97004299999998,
          "cost_per_user": 0.17885778951149423,
          "timestamp": "2018-10-01T00:00:00-07:00",
          "user": 1392
         },
         {
          "cost": 243.463813,
          "cost_per_user": 0.1814186385991058,
          "timestamp": "2018-10-02T00:00:00-07:00",
          "user": 1342
         },
         {
          "cost": 304.920198,
          "cost_per_user": 0.19458851180599873,
          "timestamp": "2018-10-03T00:00:00-07:00",
          "user": 1567
         },
         {
          "cost": 452.96205100000003,
          "cost_per_user": 0.3158731178521618,
          "timestamp": "2018-10-04T00:00:00-07:00",
          "user": 1434
         },
         {
          "cost": 275.03173200000003,
          "cost_per_user": 0.2592193515551367,
          "timestamp": "2018-10-05T00:00:00-07:00",
          "user": 1061
         },
         {
          "cost": 181.814937,
          "cost_per_user": 0.24241991599999999,
          "timestamp": "2018-10-06T00:00:00-07:00",
          "user": 750
         },
         {
          "cost": 173.638486,
          "cost_per_user": 0.18452548990435708,
          "timestamp": "2018-10-07T00:00:00-07:00",
          "user": 941
         },
         {
          "cost": 197.120381,
          "cost_per_user": 0.14688552980625932,
          "timestamp": "2018-10-08T00:00:00-07:00",
          "user": 1342
         },
         {
          "cost": 212.07737500000002,
          "cost_per_user": 0.156399244100295,
          "timestamp": "2018-10-09T00:00:00-07:00",
          "user": 1356
         },
         {
          "cost": 219.799082,
          "cost_per_user": 0.16378471087928465,
          "timestamp": "2018-10-10T00:00:00-07:00",
          "user": 1342
         },
         {
          "cost": 203.78078899999997,
          "cost_per_user": 0.20116563573543925,
          "timestamp": "2018-10-11T00:00:00-07:00",
          "user": 1013
         },
         {
          "cost": 206.12004299999998,
          "cost_per_user": 0.205708625748503,
          "timestamp": "2018-10-12T00:00:00-07:00",
          "user": 1002
         },
         {
          "cost": 202.40058399999998,
          "cost_per_user": 0.507269634085213,
          "timestamp": "2018-10-13T00:00:00-07:00",
          "user": 399
         },
         {
          "cost": 182.316341,
          "cost_per_user": 0.4134157392290249,
          "timestamp": "2018-10-14T00:00:00-07:00",
          "user": 441
         },
         {
          "cost": 183.284113,
          "cost_per_user": 0.20501578635346754,
          "timestamp": "2018-10-15T00:00:00-07:00",
          "user": 894
         },
         {
          "cost": 191.61486699999998,
          "cost_per_user": 0.23197925786924936,
          "timestamp": "2018-10-16T00:00:00-07:00",
          "user": 826
         },
         {
          "cost": 186.137944,
          "cost_per_user": 0.16356585588752198,
          "timestamp": "2018-10-17T00:00:00-07:00",
          "user": 1138
         },
         {
          "cost": 185.817201,
          "cost_per_user": 0.17901464450867052,
          "timestamp": "2018-10-18T00:00:00-07:00",
          "user": 1038
         },
         {
          "cost": 185.48708799999997,
          "cost_per_user": 0.28937143213728544,
          "timestamp": "2018-10-19T00:00:00-07:00",
          "user": 641
         },
         {
          "cost": 149.516785,
          "cost_per_user": 0.22517588102409639,
          "timestamp": "2018-10-20T00:00:00-07:00",
          "user": 664
         },
         {
          "cost": 121.764895,
          "cost_per_user": 0.14224870911214954,
          "timestamp": "2018-10-21T00:00:00-07:00",
          "user": 856
         },
         {
          "cost": 142.410472,
          "cost_per_user": 0.11818296431535269,
          "timestamp": "2018-10-22T00:00:00-07:00",
          "user": 1205
         },
         {
          "cost": 155.93802300000002,
          "cost_per_user": 0.13751148412698413,
          "timestamp": "2018-10-23T00:00:00-07:00",
          "user": 1134
         },
         {
          "cost": 156.858114,
          "cost_per_user": 0.1083274267955801,
          "timestamp": "2018-10-24T00:00:00-07:00",
          "user": 1448
         },
         {
          "cost": 156.38318199999998,
          "cost_per_user": 0.11170227285714283,
          "timestamp": "2018-10-25T00:00:00-07:00",
          "user": 1400
         },
         {
          "cost": 155.87109700000002,
          "cost_per_user": 0.13098411512605043,
          "timestamp": "2018-10-26T00:00:00-07:00",
          "user": 1190
         },
         {
          "cost": 145.873503,
          "cost_per_user": 0.1958033597315436,
          "timestamp": "2018-10-27T00:00:00-07:00",
          "user": 745
         },
         {
          "cost": 143.64437099999998,
          "cost_per_user": 0.16683434494773516,
          "timestamp": "2018-10-28T00:00:00-07:00",
          "user": 861
         },
         {
          "cost": 149.627417,
          "cost_per_user": 0.11456923200612558,
          "timestamp": "2018-10-29T00:00:00-07:00",
          "user": 1306
         },
         {
          "cost": 168.580365,
          "cost_per_user": 0.13274044488188977,
          "timestamp": "2018-10-30T00:00:00-07:00",
          "user": 1270
         },
         {
          "cost": 169.53366599999998,
          "cost_per_user": 0.1152506227056424,
          "timestamp": "2018-10-31T00:00:00-07:00",
          "user": 1471
         },
         {
          "cost": 165.6526,
          "cost_per_user": 0.11223075880758808,
          "timestamp": "2018-11-01T00:00:00-07:00",
          "user": 1476
         },
         {
          "cost": 174.670979,
          "cost_per_user": 0.13182715396226413,
          "timestamp": "2018-11-02T00:00:00-07:00",
          "user": 1325
         },
         {
          "cost": 154.460981,
          "cost_per_user": 0.19651524300254453,
          "timestamp": "2018-11-03T00:00:00-07:00",
          "user": 786
         },
         {
          "cost": 160.182685,
          "cost_per_user": 0.2144346519410977,
          "timestamp": "2018-11-04T00:00:00-07:00",
          "user": 747
         },
         {
          "cost": 154.16036599999998,
          "cost_per_user": 0.14766318582375476,
          "timestamp": "2018-11-05T00:00:00-08:00",
          "user": 1044
         },
         {
          "cost": 154.746287,
          "cost_per_user": 0.13658101235657547,
          "timestamp": "2018-11-06T00:00:00-08:00",
          "user": 1133
         },
         {
          "cost": 170.92835399999998,
          "cost_per_user": 0.11319758543046357,
          "timestamp": "2018-11-07T00:00:00-08:00",
          "user": 1510
         },
         {
          "cost": 177.70142,
          "cost_per_user": 0.13221831845238097,
          "timestamp": "2018-11-08T00:00:00-08:00",
          "user": 1344
         },
         {
          "cost": 179.00012300000003,
          "cost_per_user": 0.21488610204081637,
          "timestamp": "2018-11-09T00:00:00-08:00",
          "user": 833
         },
         {
          "cost": 179.290468,
          "cost_per_user": 0.27372590534351143,
          "timestamp": "2018-11-10T00:00:00-08:00",
          "user": 655
         },
         {
          "cost": 165.391022,
          "cost_per_user": 0.2262531080711354,
          "timestamp": "2018-11-11T00:00:00-08:00",
          "user": 731
         },
         {
          "cost": 157.576163,
          "cost_per_user": 0.1662195812236287,
          "timestamp": "2018-11-12T00:00:00-08:00",
          "user": 948
         },
         {
          "cost": 163.672754,
          "cost_per_user": 0.13537862200165426,
          "timestamp": "2018-11-13T00:00:00-08:00",
          "user": 1209
         },
         {
          "cost": 183.722065,
          "cost_per_user": 0.11792173620025673,
          "timestamp": "2018-11-14T00:00:00-08:00",
          "user": 1558
         },
         {
          "cost": 195.25908099999998,
          "cost_per_user": 0.13522097022160665,
          "timestamp": "2018-11-15T00:00:00-08:00",
          "user": 1444
         },
         {
          "cost": 188.49224700000002,
          "cost_per_user": 0.17866563696682466,
          "timestamp": "2018-11-16T00:00:00-08:00",
          "user": 1055
         },
         {
          "cost": 180.42066499999999,
          "cost_per_user": 0.22137504907975458,
          "timestamp": "2018-11-17T00:00:00-08:00",
          "user": 815
         },
         {
          "cost": 170.58507500000002,
          "cost_per_user": 0.21323134375000002,
          "timestamp": "2018-11-18T00:00:00-08:00",
          "user": 800
         },
         {
          "cost": 169.096144,
          "cost_per_user": 0.19347384897025172,
          "timestamp": "2018-11-19T00:00:00-08:00",
          "user": 874
         },
         {
          "cost": 168.46590500000002,
          "cost_per_user": 0.23236676551724142,
          "timestamp": "2018-11-20T00:00:00-08:00",
          "user": 725
         },
         {
          "cost": 168.065076,
          "cost_per_user": 0.2773351089108911,
          "timestamp": "2018-11-21T00:00:00-08:00",
          "user": 606
         },
         {
          "cost": 167.400497,
          "cost_per_user": 0.3487510354166667,
          "timestamp": "2018-11-22T00:00:00-08:00",
          "user": 480
         },
         {
          "cost": 168.123972,
          "cost_per_user": 0.31841661363636364,
          "timestamp": "2018-11-23T00:00:00-08:00",
          "user": 528
         },
         {
          "cost": 167.694091,
          "cost_per_user": 0.320026891221374,
          "timestamp": "2018-11-24T00:00:00-08:00",
          "user": 524
         },
         {
          "cost": 168.44466,
          "cost_per_user": 0.2521626646706587,
          "timestamp": "2018-11-25T00:00:00-08:00",
          "user": 668
         },
         {
          "cost": 172.00177,
          "cost_per_user": 0.15048273840769902,
          "timestamp": "2018-11-26T00:00:00-08:00",
          "user": 1143
         },
         {
          "cost": 171.23877900000002,
          "cost_per_user": 0.13754118795180725,
          "timestamp": "2018-11-27T00:00:00-08:00",
          "user": 1245
         },
         {
          "cost": 170.16072100000002,
          "cost_per_user": 0.11575559251700682,
          "timestamp": "2018-11-28T00:00:00-08:00",
          "user": 1470
         },
         {
          "cost": 171.209544,
          "cost_per_user": 0.12116740552016984,
          "timestamp": "2018-11-29T00:00:00-08:00",
          "user": 1413
         },
         {
          "cost": 170.10651,
          "cost_per_user": 0.1557751923076923,
          "timestamp": "2018-11-30T00:00:00-08:00",
          "user": 1092
         },
         {
          "cost": 162.890289,
          "cost_per_user": 0.2983338626373626,
          "timestamp": "2018-12-01T00:00:00-08:00",
          "user": 546
         },
         {
          "cost": 164.59242200000003,
          "cost_per_user": 0.3338588681541583,
          "timestamp": "2018-12-02T00:00:00-08:00",
          "user": 493
         },
         {
          "cost": 164.49821300000002,
          "cost_per_user": 0.2519115053598775,
          "timestamp": "2018-12-03T00:00:00-08:00",
          "user": 653
         },
         {
          "cost": 164.51144,
          "cost_per_user": 0.3336946044624746,
          "timestamp": "2018-12-04T00:00:00-08:00",
          "user": 493
         },
         {
          "cost": 165.150755,
          "cost_per_user": 0.3041450368324125,
          "timestamp": "2018-12-05T00:00:00-08:00",
          "user": 543
         },
         {
          "cost": 165.040173,
          "cost_per_user": 0.35416346137339055,
          "timestamp": "2018-12-06T00:00:00-08:00",
          "user": 466
         },
         {
          "cost": 164.40057099999999,
          "cost_per_user": 0.38232690930232555,
          "timestamp": "2018-12-07T00:00:00-08:00",
          "user": 430
         },
         {
          "cost": 164.55875,
          "cost_per_user": 0.4483889645776567,
          "timestamp": "2018-12-08T00:00:00-08:00",
          "user": 367
         },
         {
          "cost": 164.60581200000001,
          "cost_per_user": 0.5292791382636657,
          "timestamp": "2018-12-09T00:00:00-08:00",
          "user": 311
         },
         {
          "cost": 164.520137,
          "cost_per_user": 0.49703968882175226,
          "timestamp": "2018-12-10T00:00:00-08:00",
          "user": 331
         },
         {
          "cost": 164.85765,
          "cost_per_user": 0.44556121621621625,
          "timestamp": "2018-12-11T00:00:00-08:00",
          "user": 370
         },
         {
          "cost": 164.251543,
          "cost_per_user": 0.331821298989899,
          "timestamp": "2018-12-12T00:00:00-08:00",
          "user": 495
         },
         {
          "cost": 164.572575,
          "cost_per_user": 0.2711245057660626,
          "timestamp": "2018-12-13T00:00:00-08:00",
          "user": 607
         },
         {
          "cost": 162.11756,
          "cost_per_user": 0.6563463967611336,
          "timestamp": "2018-12-14T00:00:00-08:00",
          "user": 247
         },
         {
          "cost": null,
          "cost_per_user": null,
          "timestamp": "",
          "user": null
         },
         {
          "cost": null,
          "cost_per_user": null,
          "timestamp": "",
          "user": null
         }
        ]
       },
       "encoding": {
        "x": {
         "field": "timestamp",
         "type": "temporal"
        },
        "y": {
         "field": "cost_per_user",
         "type": "quantitative"
        }
       },
       "mark": "line",
       "width": 900
      },
      "image/png": "[encoded data removed]",
      "text/plain": [
       "<VegaLite 2 object>\n",
       "\n",
       "If you see this message, it means the renderer has not been properly enabled\n",
       "for the frontend that you are using. For more information, see\n",
       "https://altair-viz.github.io/user_guide/troubleshooting.html\n"
      ]
     },
     "execution_count": 206,
     "metadata": {},
     "output_type": "execute_result"
    }
   ],
   "source": [
    "alt.Chart(total, width=900).mark_line().encode(\n",
    "    x='timestamp',\n",
    "    y='cost_per_active_user'\n",
    ")"
   ]
  },
  {
   "cell_type": "markdown",
   "metadata": {},
   "source": [
    "## Total Users\n",
    "\n",
    "One way to count the 'number of users on the JupyterHub' is to look at everyone who has ever started a notebook. Since anyone with a Berkeley.edu account can log in, this is not the most accurate count of people who *use* the hub - but it's useful nonetheless."
   ]
  },
  {
   "cell_type": "code",
   "execution_count": 277,
   "metadata": {},
   "outputs": [
    {
     "data": {
      "text/html": [
       "<h4>Users who used JupyterHub at least once: <b>4860</b></h4>"
      ],
      "text/plain": [
       "<IPython.core.display.HTML object>"
      ]
     },
     "execution_count": 277,
     "metadata": {},
     "output_type": "execute_result"
    }
   ],
   "source": [
    "user_starts_count = datahub[datahub.action == 'start'].groupby(['user']).count()\n",
    "display.HTML(f'<h4>Users who used JupyterHub at least once: <b>{user_starts_count.count()[\"action\"]}</b></h4>')"
   ]
  },
  {
   "cell_type": "markdown",
   "metadata": {},
   "source": [
    "Some basic stats about number of times users started their servers"
   ]
  },
  {
   "cell_type": "code",
   "execution_count": 278,
   "metadata": {},
   "outputs": [
    {
     "data": {
      "text/html": [
       "<div>\n",
       "<style scoped>\n",
       "    .dataframe tbody tr th:only-of-type {\n",
       "        vertical-align: middle;\n",
       "    }\n",
       "\n",
       "    .dataframe tbody tr th {\n",
       "        vertical-align: top;\n",
       "    }\n",
       "\n",
       "    .dataframe thead th {\n",
       "        text-align: right;\n",
       "    }\n",
       "</style>\n",
       "<table border=\"1\" class=\"dataframe\">\n",
       "  <thead>\n",
       "    <tr style=\"text-align: right;\">\n",
       "      <th></th>\n",
       "      <th>action</th>\n",
       "    </tr>\n",
       "  </thead>\n",
       "  <tbody>\n",
       "    <tr>\n",
       "      <th>count</th>\n",
       "      <td>4860.000000</td>\n",
       "    </tr>\n",
       "    <tr>\n",
       "      <th>mean</th>\n",
       "      <td>46.464609</td>\n",
       "    </tr>\n",
       "    <tr>\n",
       "      <th>std</th>\n",
       "      <td>59.677874</td>\n",
       "    </tr>\n",
       "    <tr>\n",
       "      <th>min</th>\n",
       "      <td>1.000000</td>\n",
       "    </tr>\n",
       "    <tr>\n",
       "      <th>25%</th>\n",
       "      <td>2.000000</td>\n",
       "    </tr>\n",
       "    <tr>\n",
       "      <th>50%</th>\n",
       "      <td>15.000000</td>\n",
       "    </tr>\n",
       "    <tr>\n",
       "      <th>75%</th>\n",
       "      <td>79.000000</td>\n",
       "    </tr>\n",
       "    <tr>\n",
       "      <th>max</th>\n",
       "      <td>425.000000</td>\n",
       "    </tr>\n",
       "  </tbody>\n",
       "</table>\n",
       "</div>"
      ],
      "text/plain": [
       "            action\n",
       "count  4860.000000\n",
       "mean     46.464609\n",
       "std      59.677874\n",
       "min       1.000000\n",
       "25%       2.000000\n",
       "50%      15.000000\n",
       "75%      79.000000\n",
       "max     425.000000"
      ]
     },
     "execution_count": 278,
     "metadata": {},
     "output_type": "execute_result"
    }
   ],
   "source": [
    "user_starts_count.describe()"
   ]
  },
  {
   "cell_type": "markdown",
   "metadata": {},
   "source": [
    "We can calculate cost per day per user from this user count"
   ]
  },
  {
   "cell_type": "code",
   "execution_count": 279,
   "metadata": {},
   "outputs": [
    {
     "data": {
      "application/vnd.vegalite.v2+json": {
       "$schema": "https://vega.github.io/schema/vega-lite/v2.6.0.json",
       "config": {
        "view": {
         "height": 300,
         "width": 400
        }
       },
       "data": {
        "name": "data-38b71838c584a87ad2e16e05cd50c68f"
       },
       "datasets": {
        "data-38b71838c584a87ad2e16e05cd50c68f": [
         {
          "cost": null,
          "cost_per_user": null,
          "timestamp": "2018-08-17T00:00:00-07:00",
          "user": 19
         },
         {
          "cost": null,
          "cost_per_user": null,
          "timestamp": "2018-08-18T00:00:00-07:00",
          "user": 46
         },
         {
          "cost": null,
          "cost_per_user": null,
          "timestamp": "2018-08-19T00:00:00-07:00",
          "user": 33
         },
         {
          "cost": null,
          "cost_per_user": null,
          "timestamp": "2018-08-20T00:00:00-07:00",
          "user": 61
         },
         {
          "cost": null,
          "cost_per_user": null,
          "timestamp": "2018-08-21T00:00:00-07:00",
          "user": 149
         },
         {
          "cost": null,
          "cost_per_user": null,
          "timestamp": "2018-08-22T00:00:00-07:00",
          "user": 1194
         },
         {
          "cost": null,
          "cost_per_user": null,
          "timestamp": "2018-08-23T00:00:00-07:00",
          "user": 1243
         },
         {
          "cost": null,
          "cost_per_user": null,
          "timestamp": "2018-08-24T00:00:00-07:00",
          "user": 1391
         },
         {
          "cost": null,
          "cost_per_user": null,
          "timestamp": "2018-08-25T00:00:00-07:00",
          "user": 988
         },
         {
          "cost": null,
          "cost_per_user": null,
          "timestamp": "2018-08-26T00:00:00-07:00",
          "user": 1174
         },
         {
          "cost": null,
          "cost_per_user": null,
          "timestamp": "2018-08-27T00:00:00-07:00",
          "user": 1508
         },
         {
          "cost": null,
          "cost_per_user": null,
          "timestamp": "2018-08-28T00:00:00-07:00",
          "user": 1351
         },
         {
          "cost": null,
          "cost_per_user": null,
          "timestamp": "2018-08-29T00:00:00-07:00",
          "user": 1598
         },
         {
          "cost": null,
          "cost_per_user": null,
          "timestamp": "2018-08-30T00:00:00-07:00",
          "user": 1322
         },
         {
          "cost": null,
          "cost_per_user": null,
          "timestamp": "2018-08-31T00:00:00-07:00",
          "user": 1194
         },
         {
          "cost": null,
          "cost_per_user": null,
          "timestamp": "2018-09-01T00:00:00-07:00",
          "user": 793
         },
         {
          "cost": null,
          "cost_per_user": null,
          "timestamp": "2018-09-02T00:00:00-07:00",
          "user": 964
         },
         {
          "cost": null,
          "cost_per_user": null,
          "timestamp": "2018-09-03T00:00:00-07:00",
          "user": 1259
         },
         {
          "cost": null,
          "cost_per_user": null,
          "timestamp": "2018-09-04T00:00:00-07:00",
          "user": 1495
         },
         {
          "cost": null,
          "cost_per_user": null,
          "timestamp": "2018-09-05T00:00:00-07:00",
          "user": 1675
         },
         {
          "cost": null,
          "cost_per_user": null,
          "timestamp": "2018-09-06T00:00:00-07:00",
          "user": 1429
         },
         {
          "cost": null,
          "cost_per_user": null,
          "timestamp": "2018-09-07T00:00:00-07:00",
          "user": 1120
         },
         {
          "cost": null,
          "cost_per_user": null,
          "timestamp": "2018-09-08T00:00:00-07:00",
          "user": 880
         },
         {
          "cost": null,
          "cost_per_user": null,
          "timestamp": "2018-09-09T00:00:00-07:00",
          "user": 1028
         },
         {
          "cost": null,
          "cost_per_user": null,
          "timestamp": "2018-09-10T00:00:00-07:00",
          "user": 1432
         },
         {
          "cost": null,
          "cost_per_user": null,
          "timestamp": "2018-09-11T00:00:00-07:00",
          "user": 1502
         },
         {
          "cost": 40.156909999999996,
          "cost_per_user": 0.00826273868312757,
          "timestamp": "2018-09-12T00:00:00-07:00",
          "user": 1580
         },
         {
          "cost": null,
          "cost_per_user": null,
          "timestamp": "2018-09-12T00:00:00-07:00",
          "user": 1580
         },
         {
          "cost": 263.958762,
          "cost_per_user": 0.0543125024691358,
          "timestamp": "2018-09-13T00:00:00-07:00",
          "user": 1345
         },
         {
          "cost": 233.378606,
          "cost_per_user": 0.04802028930041152,
          "timestamp": "2018-09-14T00:00:00-07:00",
          "user": 1006
         },
         {
          "cost": 220.49735600000002,
          "cost_per_user": 0.045369826337448564,
          "timestamp": "2018-09-15T00:00:00-07:00",
          "user": 842
         },
         {
          "cost": 221.476064,
          "cost_per_user": 0.045571206584362145,
          "timestamp": "2018-09-16T00:00:00-07:00",
          "user": 1091
         },
         {
          "cost": 254.118337,
          "cost_per_user": 0.05228772366255144,
          "timestamp": "2018-09-17T00:00:00-07:00",
          "user": 1491
         },
         {
          "cost": 268.713372,
          "cost_per_user": 0.05529081728395062,
          "timestamp": "2018-09-18T00:00:00-07:00",
          "user": 1419
         },
         {
          "cost": 277.049757,
          "cost_per_user": 0.05700612283950617,
          "timestamp": "2018-09-19T00:00:00-07:00",
          "user": 1549
         },
         {
          "cost": 291.302796,
          "cost_per_user": 0.05993884691358025,
          "timestamp": "2018-09-20T00:00:00-07:00",
          "user": 1480
         },
         {
          "cost": 268.42976,
          "cost_per_user": 0.05523246090534979,
          "timestamp": "2018-09-21T00:00:00-07:00",
          "user": 1294
         },
         {
          "cost": 246.082326,
          "cost_per_user": 0.050634223456790126,
          "timestamp": "2018-09-22T00:00:00-07:00",
          "user": 921
         },
         {
          "cost": 244.174214,
          "cost_per_user": 0.05024160781893004,
          "timestamp": "2018-09-23T00:00:00-07:00",
          "user": 921
         },
         {
          "cost": 245.52624400000002,
          "cost_per_user": 0.05051980329218107,
          "timestamp": "2018-09-24T00:00:00-07:00",
          "user": 1253
         },
         {
          "cost": 254.888743,
          "cost_per_user": 0.05244624341563786,
          "timestamp": "2018-09-25T00:00:00-07:00",
          "user": 1333
         },
         {
          "cost": 277.179144,
          "cost_per_user": 0.05703274567901235,
          "timestamp": "2018-09-26T00:00:00-07:00",
          "user": 1540
         },
         {
          "cost": 290.026115,
          "cost_per_user": 0.05967615534979424,
          "timestamp": "2018-09-27T00:00:00-07:00",
          "user": 1510
         },
         {
          "cost": 268.253716,
          "cost_per_user": 0.055196237860082306,
          "timestamp": "2018-09-28T00:00:00-07:00",
          "user": 1362
         },
         {
          "cost": 262.364679,
          "cost_per_user": 0.05398450185185186,
          "timestamp": "2018-09-29T00:00:00-07:00",
          "user": 896
         },
         {
          "cost": 244.44310099999998,
          "cost_per_user": 0.05029693436213992,
          "timestamp": "2018-09-30T00:00:00-07:00",
          "user": 1049
         },
         {
          "cost": 248.97004299999998,
          "cost_per_user": 0.051228403909465016,
          "timestamp": "2018-10-01T00:00:00-07:00",
          "user": 1392
         },
         {
          "cost": 243.463813,
          "cost_per_user": 0.05009543477366255,
          "timestamp": "2018-10-02T00:00:00-07:00",
          "user": 1342
         },
         {
          "cost": 304.920198,
          "cost_per_user": 0.06274078148148149,
          "timestamp": "2018-10-03T00:00:00-07:00",
          "user": 1567
         },
         {
          "cost": 452.96205100000003,
          "cost_per_user": 0.0932020681069959,
          "timestamp": "2018-10-04T00:00:00-07:00",
          "user": 1434
         },
         {
          "cost": 275.03173200000003,
          "cost_per_user": 0.0565908913580247,
          "timestamp": "2018-10-05T00:00:00-07:00",
          "user": 1061
         },
         {
          "cost": 181.814937,
          "cost_per_user": 0.03741048086419753,
          "timestamp": "2018-10-06T00:00:00-07:00",
          "user": 750
         },
         {
          "cost": 173.638486,
          "cost_per_user": 0.03572808353909465,
          "timestamp": "2018-10-07T00:00:00-07:00",
          "user": 941
         },
         {
          "cost": 197.120381,
          "cost_per_user": 0.040559749176954735,
          "timestamp": "2018-10-08T00:00:00-07:00",
          "user": 1342
         },
         {
          "cost": 212.07737500000002,
          "cost_per_user": 0.04363731995884774,
          "timestamp": "2018-10-09T00:00:00-07:00",
          "user": 1356
         },
         {
          "cost": 219.799082,
          "cost_per_user": 0.04522614855967078,
          "timestamp": "2018-10-10T00:00:00-07:00",
          "user": 1342
         },
         {
          "cost": 203.78078899999997,
          "cost_per_user": 0.04193020349794238,
          "timestamp": "2018-10-11T00:00:00-07:00",
          "user": 1013
         },
         {
          "cost": 206.12004299999998,
          "cost_per_user": 0.042411531481481475,
          "timestamp": "2018-10-12T00:00:00-07:00",
          "user": 1002
         },
         {
          "cost": 202.40058399999998,
          "cost_per_user": 0.04164621069958847,
          "timestamp": "2018-10-13T00:00:00-07:00",
          "user": 399
         },
         {
          "cost": 182.316341,
          "cost_per_user": 0.03751365041152263,
          "timestamp": "2018-10-14T00:00:00-07:00",
          "user": 441
         },
         {
          "cost": 183.284113,
          "cost_per_user": 0.03771278045267489,
          "timestamp": "2018-10-15T00:00:00-07:00",
          "user": 894
         },
         {
          "cost": 191.61486699999998,
          "cost_per_user": 0.03942692736625514,
          "timestamp": "2018-10-16T00:00:00-07:00",
          "user": 826
         },
         {
          "cost": 186.137944,
          "cost_per_user": 0.03829998847736626,
          "timestamp": "2018-10-17T00:00:00-07:00",
          "user": 1138
         },
         {
          "cost": 185.817201,
          "cost_per_user": 0.03823399197530864,
          "timestamp": "2018-10-18T00:00:00-07:00",
          "user": 1038
         },
         {
          "cost": 185.48708799999997,
          "cost_per_user": 0.03816606748971193,
          "timestamp": "2018-10-19T00:00:00-07:00",
          "user": 641
         },
         {
          "cost": 149.516785,
          "cost_per_user": 0.030764770576131688,
          "timestamp": "2018-10-20T00:00:00-07:00",
          "user": 664
         },
         {
          "cost": 121.764895,
          "cost_per_user": 0.025054505144032922,
          "timestamp": "2018-10-21T00:00:00-07:00",
          "user": 856
         },
         {
          "cost": 142.410472,
          "cost_per_user": 0.029302566255144033,
          "timestamp": "2018-10-22T00:00:00-07:00",
          "user": 1205
         },
         {
          "cost": 155.93802300000002,
          "cost_per_user": 0.03208601296296296,
          "timestamp": "2018-10-23T00:00:00-07:00",
          "user": 1134
         },
         {
          "cost": 156.858114,
          "cost_per_user": 0.03227533209876543,
          "timestamp": "2018-10-24T00:00:00-07:00",
          "user": 1448
         },
         {
          "cost": 156.38318199999998,
          "cost_per_user": 0.032177609465020574,
          "timestamp": "2018-10-25T00:00:00-07:00",
          "user": 1400
         },
         {
          "cost": 155.87109700000002,
          "cost_per_user": 0.032072242181069965,
          "timestamp": "2018-10-26T00:00:00-07:00",
          "user": 1190
         },
         {
          "cost": 145.873503,
          "cost_per_user": 0.030015124074074074,
          "timestamp": "2018-10-27T00:00:00-07:00",
          "user": 745
         },
         {
          "cost": 143.64437099999998,
          "cost_per_user": 0.029556454938271602,
          "timestamp": "2018-10-28T00:00:00-07:00",
          "user": 861
         },
         {
          "cost": 149.627417,
          "cost_per_user": 0.03078753436213992,
          "timestamp": "2018-10-29T00:00:00-07:00",
          "user": 1306
         },
         {
          "cost": 168.580365,
          "cost_per_user": 0.03468731790123457,
          "timestamp": "2018-10-30T00:00:00-07:00",
          "user": 1270
         },
         {
          "cost": 169.53366599999998,
          "cost_per_user": 0.034883470370370366,
          "timestamp": "2018-10-31T00:00:00-07:00",
          "user": 1471
         },
         {
          "cost": 165.6526,
          "cost_per_user": 0.03408489711934157,
          "timestamp": "2018-11-01T00:00:00-07:00",
          "user": 1476
         },
         {
          "cost": 174.670979,
          "cost_per_user": 0.035940530658436214,
          "timestamp": "2018-11-02T00:00:00-07:00",
          "user": 1325
         },
         {
          "cost": 154.460981,
          "cost_per_user": 0.03178209485596708,
          "timestamp": "2018-11-03T00:00:00-07:00",
          "user": 786
         },
         {
          "cost": 160.182685,
          "cost_per_user": 0.03295940020576132,
          "timestamp": "2018-11-04T00:00:00-07:00",
          "user": 747
         },
         {
          "cost": 154.16036599999998,
          "cost_per_user": 0.03172023991769547,
          "timestamp": "2018-11-05T00:00:00-08:00",
          "user": 1044
         },
         {
          "cost": 154.746287,
          "cost_per_user": 0.031840799794238685,
          "timestamp": "2018-11-06T00:00:00-08:00",
          "user": 1133
         },
         {
          "cost": 170.92835399999998,
          "cost_per_user": 0.03517044320987654,
          "timestamp": "2018-11-07T00:00:00-08:00",
          "user": 1510
         },
         {
          "cost": 177.70142,
          "cost_per_user": 0.036564078189300415,
          "timestamp": "2018-11-08T00:00:00-08:00",
          "user": 1344
         },
         {
          "cost": 179.00012300000003,
          "cost_per_user": 0.03683130102880659,
          "timestamp": "2018-11-09T00:00:00-08:00",
          "user": 833
         },
         {
          "cost": 179.290468,
          "cost_per_user": 0.03689104279835391,
          "timestamp": "2018-11-10T00:00:00-08:00",
          "user": 655
         },
         {
          "cost": 165.391022,
          "cost_per_user": 0.0340310744855967,
          "timestamp": "2018-11-11T00:00:00-08:00",
          "user": 731
         },
         {
          "cost": 157.576163,
          "cost_per_user": 0.03242307880658436,
          "timestamp": "2018-11-12T00:00:00-08:00",
          "user": 948
         },
         {
          "cost": 163.672754,
          "cost_per_user": 0.03367752139917696,
          "timestamp": "2018-11-13T00:00:00-08:00",
          "user": 1209
         },
         {
          "cost": 183.722065,
          "cost_per_user": 0.03780289403292181,
          "timestamp": "2018-11-14T00:00:00-08:00",
          "user": 1558
         },
         {
          "cost": 195.25908099999998,
          "cost_per_user": 0.04017676563786008,
          "timestamp": "2018-11-15T00:00:00-08:00",
          "user": 1444
         },
         {
          "cost": 188.49224700000002,
          "cost_per_user": 0.03878441296296297,
          "timestamp": "2018-11-16T00:00:00-08:00",
          "user": 1055
         },
         {
          "cost": 180.42066499999999,
          "cost_per_user": 0.03712359362139917,
          "timestamp": "2018-11-17T00:00:00-08:00",
          "user": 815
         },
         {
          "cost": 170.58507500000002,
          "cost_per_user": 0.0350998096707819,
          "timestamp": "2018-11-18T00:00:00-08:00",
          "user": 800
         },
         {
          "cost": 169.096144,
          "cost_per_user": 0.03479344526748972,
          "timestamp": "2018-11-19T00:00:00-08:00",
          "user": 874
         },
         {
          "cost": 168.46590500000002,
          "cost_per_user": 0.034663766460905354,
          "timestamp": "2018-11-20T00:00:00-08:00",
          "user": 725
         },
         {
          "cost": 168.065076,
          "cost_per_user": 0.03458129135802469,
          "timestamp": "2018-11-21T00:00:00-08:00",
          "user": 606
         },
         {
          "cost": 167.400497,
          "cost_per_user": 0.03444454670781893,
          "timestamp": "2018-11-22T00:00:00-08:00",
          "user": 480
         },
         {
          "cost": 168.123972,
          "cost_per_user": 0.03459340987654321,
          "timestamp": "2018-11-23T00:00:00-08:00",
          "user": 528
         },
         {
          "cost": 167.694091,
          "cost_per_user": 0.034504956995884774,
          "timestamp": "2018-11-24T00:00:00-08:00",
          "user": 524
         },
         {
          "cost": 168.44466,
          "cost_per_user": 0.034659395061728396,
          "timestamp": "2018-11-25T00:00:00-08:00",
          "user": 668
         },
         {
          "cost": 172.00177,
          "cost_per_user": 0.03539131069958847,
          "timestamp": "2018-11-26T00:00:00-08:00",
          "user": 1143
         },
         {
          "cost": 171.23877900000002,
          "cost_per_user": 0.03523431666666667,
          "timestamp": "2018-11-27T00:00:00-08:00",
          "user": 1245
         },
         {
          "cost": 170.16072100000002,
          "cost_per_user": 0.035012494032921816,
          "timestamp": "2018-11-28T00:00:00-08:00",
          "user": 1470
         },
         {
          "cost": 171.209544,
          "cost_per_user": 0.0352283012345679,
          "timestamp": "2018-11-29T00:00:00-08:00",
          "user": 1413
         },
         {
          "cost": 170.10651,
          "cost_per_user": 0.03500133950617284,
          "timestamp": "2018-11-30T00:00:00-08:00",
          "user": 1092
         },
         {
          "cost": 162.890289,
          "cost_per_user": 0.03351652037037037,
          "timestamp": "2018-12-01T00:00:00-08:00",
          "user": 546
         },
         {
          "cost": 164.59242200000003,
          "cost_per_user": 0.033866753497942395,
          "timestamp": "2018-12-02T00:00:00-08:00",
          "user": 493
         },
         {
          "cost": 164.49821300000002,
          "cost_per_user": 0.03384736893004116,
          "timestamp": "2018-12-03T00:00:00-08:00",
          "user": 653
         },
         {
          "cost": 164.51144,
          "cost_per_user": 0.03385009053497942,
          "timestamp": "2018-12-04T00:00:00-08:00",
          "user": 493
         },
         {
          "cost": 165.150755,
          "cost_per_user": 0.03398163683127572,
          "timestamp": "2018-12-05T00:00:00-08:00",
          "user": 543
         },
         {
          "cost": 165.040173,
          "cost_per_user": 0.033958883333333335,
          "timestamp": "2018-12-06T00:00:00-08:00",
          "user": 466
         },
         {
          "cost": 164.40057099999999,
          "cost_per_user": 0.03382727798353909,
          "timestamp": "2018-12-07T00:00:00-08:00",
          "user": 430
         },
         {
          "cost": 164.55875,
          "cost_per_user": 0.03385982510288066,
          "timestamp": "2018-12-08T00:00:00-08:00",
          "user": 367
         },
         {
          "cost": 164.60581200000001,
          "cost_per_user": 0.03386950864197531,
          "timestamp": "2018-12-09T00:00:00-08:00",
          "user": 311
         },
         {
          "cost": 164.520137,
          "cost_per_user": 0.03385188004115226,
          "timestamp": "2018-12-10T00:00:00-08:00",
          "user": 331
         },
         {
          "cost": 164.85765,
          "cost_per_user": 0.03392132716049383,
          "timestamp": "2018-12-11T00:00:00-08:00",
          "user": 370
         },
         {
          "cost": 164.251543,
          "cost_per_user": 0.03379661378600823,
          "timestamp": "2018-12-12T00:00:00-08:00",
          "user": 495
         },
         {
          "cost": 164.572575,
          "cost_per_user": 0.03386266975308642,
          "timestamp": "2018-12-13T00:00:00-08:00",
          "user": 607
         },
         {
          "cost": 162.11756,
          "cost_per_user": 0.033357522633744856,
          "timestamp": "2018-12-14T00:00:00-08:00",
          "user": 247
         },
         {
          "cost": null,
          "cost_per_user": null,
          "timestamp": "",
          "user": null
         },
         {
          "cost": null,
          "cost_per_user": null,
          "timestamp": "",
          "user": null
         }
        ]
       },
       "encoding": {
        "x": {
         "field": "timestamp",
         "type": "temporal"
        },
        "y": {
         "field": "cost_per_user",
         "type": "quantitative"
        }
       },
       "mark": "line",
       "title": "Daily cost per user",
       "width": 900
      },
      "image/png": "[encoded data removed]",
      "text/plain": [
       "<VegaLite 2 object>\n",
       "\n",
       "If you see this message, it means the renderer has not been properly enabled\n",
       "for the frontend that you are using. For more information, see\n",
       "https://altair-viz.github.io/user_guide/troubleshooting.html\n"
      ]
     },
     "execution_count": 279,
     "metadata": {},
     "output_type": "execute_result"
    }
   ],
   "source": [
    "total['cost_per_user'] = total['cost'] / user_starts_count.count()['action']\n",
    "\n",
    "alt.Chart(total, width=900, title='Daily cost per user').mark_line().encode(\n",
    "    x='timestamp',\n",
    "    y='cost_per_user'\n",
    ")"
   ]
  },
  {
   "cell_type": "markdown",
   "metadata": {},
   "source": [
    "We can also figure out how much they cost per month."
   ]
  },
  {
   "cell_type": "code",
   "execution_count": 280,
   "metadata": {},
   "outputs": [
    {
     "data": {
      "application/vnd.vegalite.v2+json": {
       "$schema": "https://vega.github.io/schema/vega-lite/v2.6.0.json",
       "config": {
        "view": {
         "height": 300,
         "width": 400
        }
       },
       "data": {
        "name": "data-73a77f68028ca06b894f75adae38393f"
       },
       "datasets": {
        "data-73a77f68028ca06b894f75adae38393f": [
         {
          "cost": 0,
          "cost_per_user": 0,
          "start_time": "2018-08-31T00:00:00-07:00"
         },
         {
          "cost": 4672.020002,
          "cost_per_user": 0.9613209880658437,
          "start_time": "2018-09-30T00:00:00-07:00"
         },
         {
          "cost": 6052.7589579999985,
          "cost_per_user": 1.2454236539094647,
          "start_time": "2018-10-31T00:00:00-07:00"
         },
         {
          "cost": 5107.921004,
          "cost_per_user": 1.0510125522633744,
          "start_time": "2018-11-30T00:00:00-08:00"
         },
         {
          "cost": 2300.56789,
          "cost_per_user": 0.473367878600823,
          "start_time": "2018-12-31T00:00:00-08:00"
         }
        ]
       },
       "encoding": {
        "x": {
         "field": "start_time",
         "timeUnit": "month",
         "type": "ordinal"
        },
        "y": {
         "field": "cost_per_user",
         "type": "quantitative"
        }
       },
       "mark": "bar",
       "title": "Monthly cost per user",
       "width": 900
      },
      "image/png": "[encoded data removed]",
      "text/plain": [
       "<VegaLite 2 object>\n",
       "\n",
       "If you see this message, it means the renderer has not been properly enabled\n",
       "for the frontend that you are using. For more information, see\n",
       "https://altair-viz.github.io/user_guide/troubleshooting.html\n"
      ]
     },
     "execution_count": 280,
     "metadata": {},
     "output_type": "execute_result"
    }
   ],
   "source": [
    "monthly = cost.copy().set_index('start_time').resample('M').sum()\n",
    "monthly['cost_per_user'] = monthly['cost'] / user_starts_count.count()['action']\n",
    "monthly = monthly.reset_index()\n",
    "\n",
    "alt.Chart(monthly, width=900, title='Monthly cost per user').mark_bar().encode(\n",
    "    x='month(start_time):O',\n",
    "    y='cost_per_user'\n",
    ")"
   ]
  },
  {
   "cell_type": "markdown",
   "metadata": {},
   "source": [
    "## Realistic user count\n",
    "\n",
    "A lot of people might log in a few times to the JupyterHub to check it out, and then never really come back. We should avoid counting those as 'users' when doing our cost analysis. \n",
    "\n",
    "We can cut off outliers at the 99th percentile and plot a histogram to see how most people use the hub"
   ]
  },
  {
   "cell_type": "code",
   "execution_count": 281,
   "metadata": {},
   "outputs": [
    {
     "data": {
      "application/vnd.vegalite.v2+json": {
       "$schema": "https://vega.github.io/schema/vega-lite/v2.6.0.json",
       "config": {
        "view": {
         "height": 300,
         "width": 400
        }
       },
       "data": {
        "name": "data-1df76442c5a47f883d3e836027fe0cfe"
       },
       "datasets": {
        "data-1df76442c5a47f883d3e836027fe0cfe": [
         {
          "action": 41
         },
         {
          "action": 46
         },
         {
          "action": 140
         },
         {
          "action": 3
         },
         {
          "action": 1
         },
         {
          "action": 1
         },
         {
          "action": 1
         },
         {
          "action": 5
         },
         {
          "action": 107
         },
         {
          "action": 1
         },
         {
          "action": 17
         },
         {
          "action": 107
         },
         {
          "action": 2
         },
         {
          "action": 1
         },
         {
          "action": 6
         },
         {
          "action": 1
         },
         {
          "action": 1
         },
         {
          "action": 3
         },
         {
          "action": 5
         },
         {
          "action": 2
         },
         {
          "action": 7
         },
         {
          "action": 2
         },
         {
          "action": 47
         },
         {
          "action": 6
         },
         {
          "action": 3
         },
         {
          "action": 1
         },
         {
          "action": 18
         },
         {
          "action": 173
         },
         {
          "action": 90
         },
         {
          "action": 112
         },
         {
          "action": 66
         },
         {
          "action": 1
         },
         {
          "action": 11
         },
         {
          "action": 61
         },
         {
          "action": 74
         },
         {
          "action": 1
         },
         {
          "action": 10
         },
         {
          "action": 150
         },
         {
          "action": 6
         },
         {
          "action": 113
         },
         {
          "action": 1
         },
         {
          "action": 2
         },
         {
          "action": 1
         },
         {
          "action": 106
         },
         {
          "action": 63
         },
         {
          "action": 94
         },
         {
          "action": 68
         },
         {
          "action": 1
         },
         {
          "action": 1
         },
         {
          "action": 208
         },
         {
          "action": 4
         },
         {
          "action": 95
         },
         {
          "action": 1
         },
         {
          "action": 47
         },
         {
          "action": 1
         },
         {
          "action": 126
         },
         {
          "action": 78
         },
         {
          "action": 1
         },
         {
          "action": 137
         },
         {
          "action": 62
         },
         {
          "action": 123
         },
         {
          "action": 2
         },
         {
          "action": 1
         },
         {
          "action": 196
         },
         {
          "action": 2
         },
         {
          "action": 1
         },
         {
          "action": 108
         },
         {
          "action": 5
         },
         {
          "action": 3
         },
         {
          "action": 3
         },
         {
          "action": 3
         },
         {
          "action": 102
         },
         {
          "action": 1
         },
         {
          "action": 3
         },
         {
          "action": 111
         },
         {
          "action": 30
         },
         {
          "action": 4
         },
         {
          "action": 12
         },
         {
          "action": 79
         },
         {
          "action": 88
         },
         {
          "action": 131
         },
         {
          "action": 197
         },
         {
          "action": 1
         },
         {
          "action": 138
         },
         {
          "action": 40
         },
         {
          "action": 32
         },
         {
          "action": 6
         },
         {
          "action": 1
         },
         {
          "action": 1
         },
         {
          "action": 148
         },
         {
          "action": 15
         },
         {
          "action": 7
         },
         {
          "action": 84
         },
         {
          "action": 1
         },
         {
          "action": 40
         },
         {
          "action": 1
         },
         {
          "action": 37
         },
         {
          "action": 6
         },
         {
          "action": 3
         },
         {
          "action": 17
         },
         {
          "action": 1
         },
         {
          "action": 1
         },
         {
          "action": 75
         },
         {
          "action": 139
         },
         {
          "action": 84
         },
         {
          "action": 45
         },
         {
          "action": 4
         },
         {
          "action": 77
         },
         {
          "action": 1
         },
         {
          "action": 80
         },
         {
          "action": 5
         },
         {
          "action": 41
         },
         {
          "action": 99
         },
         {
          "action": 1
         },
         {
          "action": 1
         },
         {
          "action": 88
         },
         {
          "action": 169
         },
         {
          "action": 2
         },
         {
          "action": 7
         },
         {
          "action": 1
         },
         {
          "action": 61
         },
         {
          "action": 139
         },
         {
          "action": 29
         },
         {
          "action": 75
         },
         {
          "action": 1
         },
         {
          "action": 19
         },
         {
          "action": 1
         },
         {
          "action": 150
         },
         {
          "action": 166
         },
         {
          "action": 81
         },
         {
          "action": 4
         },
         {
          "action": 4
         },
         {
          "action": 164
         },
         {
          "action": 1
         },
         {
          "action": 2
         },
         {
          "action": 241
         },
         {
          "action": 31
         },
         {
          "action": 1
         },
         {
          "action": 62
         },
         {
          "action": 153
         },
         {
          "action": 61
         },
         {
          "action": 27
         },
         {
          "action": 40
         },
         {
          "action": 1
         },
         {
          "action": 31
         },
         {
          "action": 1
         },
         {
          "action": 20
         },
         {
          "action": 9
         },
         {
          "action": 76
         },
         {
          "action": 11
         },
         {
          "action": 1
         },
         {
          "action": 12
         },
         {
          "action": 226
         },
         {
          "action": 2
         },
         {
          "action": 121
         },
         {
          "action": 65
         },
         {
          "action": 139
         },
         {
          "action": 2
         },
         {
          "action": 109
         },
         {
          "action": 71
         },
         {
          "action": 1
         },
         {
          "action": 3
         },
         {
          "action": 2
         },
         {
          "action": 82
         },
         {
          "action": 81
         },
         {
          "action": 62
         },
         {
          "action": 3
         },
         {
          "action": 20
         },
         {
          "action": 1
         },
         {
          "action": 2
         },
         {
          "action": 3
         },
         {
          "action": 109
         },
         {
          "action": 8
         },
         {
          "action": 78
         },
         {
          "action": 117
         },
         {
          "action": 10
         },
         {
          "action": 98
         },
         {
          "action": 1
         },
         {
          "action": 145
         },
         {
          "action": 5
         },
         {
          "action": 105
         },
         {
          "action": 1
         },
         {
          "action": 3
         },
         {
          "action": 15
         },
         {
          "action": 2
         },
         {
          "action": 10
         },
         {
          "action": 79
         },
         {
          "action": 2
         },
         {
          "action": 107
         },
         {
          "action": 1
         },
         {
          "action": 61
         },
         {
          "action": 1
         },
         {
          "action": 97
         },
         {
          "action": 11
         },
         {
          "action": 100
         },
         {
          "action": 1
         },
         {
          "action": 2
         },
         {
          "action": 1
         },
         {
          "action": 7
         },
         {
          "action": 89
         },
         {
          "action": 1
         },
         {
          "action": 1
         },
         {
          "action": 90
         },
         {
          "action": 73
         },
         {
          "action": 107
         },
         {
          "action": 18
         },
         {
          "action": 1
         },
         {
          "action": 22
         },
         {
          "action": 15
         },
         {
          "action": 1
         },
         {
          "action": 1
         },
         {
          "action": 41
         },
         {
          "action": 1
         },
         {
          "action": 30
         },
         {
          "action": 1
         },
         {
          "action": 114
         },
         {
          "action": 81
         },
         {
          "action": 216
         },
         {
          "action": 133
         },
         {
          "action": 74
         },
         {
          "action": 5
         },
         {
          "action": 80
         },
         {
          "action": 171
         },
         {
          "action": 189
         },
         {
          "action": 2
         },
         {
          "action": 104
         },
         {
          "action": 8
         },
         {
          "action": 3
         },
         {
          "action": 188
         },
         {
          "action": 3
         },
         {
          "action": 43
         },
         {
          "action": 157
         },
         {
          "action": 15
         },
         {
          "action": 154
         },
         {
          "action": 1
         },
         {
          "action": 6
         },
         {
          "action": 197
         },
         {
          "action": 8
         },
         {
          "action": 20
         },
         {
          "action": 91
         },
         {
          "action": 140
         },
         {
          "action": 187
         },
         {
          "action": 66
         },
         {
          "action": 2
         },
         {
          "action": 175
         },
         {
          "action": 196
         },
         {
          "action": 1
         },
         {
          "action": 2
         },
         {
          "action": 13
         },
         {
          "action": 79
         },
         {
          "action": 1
         },
         {
          "action": 1
         },
         {
          "action": 164
         },
         {
          "action": 2
         },
         {
          "action": 12
         },
         {
          "action": 2
         },
         {
          "action": 7
         },
         {
          "action": 11
         },
         {
          "action": 1
         },
         {
          "action": 2
         },
         {
          "action": 1
         },
         {
          "action": 90
         },
         {
          "action": 37
         },
         {
          "action": 1
         },
         {
          "action": 23
         },
         {
          "action": 126
         },
         {
          "action": 155
         },
         {
          "action": 1
         },
         {
          "action": 11
         },
         {
          "action": 65
         },
         {
          "action": 203
         },
         {
          "action": 1
         },
         {
          "action": 7
         },
         {
          "action": 121
         },
         {
          "action": 4
         },
         {
          "action": 11
         },
         {
          "action": 5
         },
         {
          "action": 1
         },
         {
          "action": 1
         },
         {
          "action": 55
         },
         {
          "action": 94
         },
         {
          "action": 43
         },
         {
          "action": 78
         },
         {
          "action": 4
         },
         {
          "action": 127
         },
         {
          "action": 4
         },
         {
          "action": 1
         },
         {
          "action": 120
         },
         {
          "action": 87
         },
         {
          "action": 58
         },
         {
          "action": 92
         },
         {
          "action": 2
         },
         {
          "action": 4
         },
         {
          "action": 54
         },
         {
          "action": 1
         },
         {
          "action": 43
         },
         {
          "action": 24
         },
         {
          "action": 1
         },
         {
          "action": 9
         },
         {
          "action": 62
         },
         {
          "action": 81
         },
         {
          "action": 139
         },
         {
          "action": 1
         },
         {
          "action": 2
         },
         {
          "action": 121
         },
         {
          "action": 1
         },
         {
          "action": 3
         },
         {
          "action": 2
         },
         {
          "action": 1
         },
         {
          "action": 2
         },
         {
          "action": 16
         },
         {
          "action": 2
         },
         {
          "action": 8
         },
         {
          "action": 24
         },
         {
          "action": 1
         },
         {
          "action": 169
         },
         {
          "action": 1
         },
         {
          "action": 69
         },
         {
          "action": 6
         },
         {
          "action": 40
         },
         {
          "action": 1
         },
         {
          "action": 1
         },
         {
          "action": 1
         },
         {
          "action": 1
         },
         {
          "action": 65
         },
         {
          "action": 1
         },
         {
          "action": 1
         },
         {
          "action": 126
         },
         {
          "action": 56
         },
         {
          "action": 11
         },
         {
          "action": 19
         },
         {
          "action": 1
         },
         {
          "action": 1
         },
         {
          "action": 121
         },
         {
          "action": 3
         },
         {
          "action": 44
         },
         {
          "action": 3
         },
         {
          "action": 63
         },
         {
          "action": 2
         },
         {
          "action": 1
         },
         {
          "action": 1
         },
         {
          "action": 165
         },
         {
          "action": 168
         },
         {
          "action": 2
         },
         {
          "action": 32
         },
         {
          "action": 23
         },
         {
          "action": 2
         },
         {
          "action": 79
         },
         {
          "action": 99
         },
         {
          "action": 140
         },
         {
          "action": 47
         },
         {
          "action": 39
         },
         {
          "action": 38
         },
         {
          "action": 1
         },
         {
          "action": 3
         },
         {
          "action": 4
         },
         {
          "action": 164
         },
         {
          "action": 6
         },
         {
          "action": 2
         },
         {
          "action": 1
         },
         {
          "action": 1
         },
         {
          "action": 104
         },
         {
          "action": 1
         },
         {
          "action": 14
         },
         {
          "action": 3
         },
         {
          "action": 123
         },
         {
          "action": 45
         },
         {
          "action": 4
         },
         {
          "action": 83
         },
         {
          "action": 4
         },
         {
          "action": 1
         },
         {
          "action": 25
         },
         {
          "action": 1
         },
         {
          "action": 6
         },
         {
          "action": 1
         },
         {
          "action": 4
         },
         {
          "action": 91
         },
         {
          "action": 55
         },
         {
          "action": 2
         },
         {
          "action": 20
         },
         {
          "action": 72
         },
         {
          "action": 10
         },
         {
          "action": 10
         },
         {
          "action": 131
         },
         {
          "action": 2
         },
         {
          "action": 12
         },
         {
          "action": 2
         },
         {
          "action": 1
         },
         {
          "action": 2
         },
         {
          "action": 1
         },
         {
          "action": 97
         },
         {
          "action": 10
         },
         {
          "action": 134
         },
         {
          "action": 22
         },
         {
          "action": 24
         },
         {
          "action": 3
         },
         {
          "action": 157
         },
         {
          "action": 12
         },
         {
          "action": 90
         },
         {
          "action": 149
         },
         {
          "action": 75
         },
         {
          "action": 2
         },
         {
          "action": 2
         },
         {
          "action": 1
         },
         {
          "action": 22
         },
         {
          "action": 2
         },
         {
          "action": 41
         },
         {
          "action": 75
         },
         {
          "action": 50
         },
         {
          "action": 6
         },
         {
          "action": 1
         },
         {
          "action": 1
         },
         {
          "action": 4
         },
         {
          "action": 1
         },
         {
          "action": 14
         },
         {
          "action": 121
         },
         {
          "action": 1
         },
         {
          "action": 54
         },
         {
          "action": 9
         },
         {
          "action": 2
         },
         {
          "action": 66
         },
         {
          "action": 202
         },
         {
          "action": 9
         },
         {
          "action": 121
         },
         {
          "action": 56
         },
         {
          "action": 18
         },
         {
          "action": 1
         },
         {
          "action": 1
         },
         {
          "action": 68
         },
         {
          "action": 87
         },
         {
          "action": 11
         },
         {
          "action": 9
         },
         {
          "action": 133
         },
         {
          "action": 235
         },
         {
          "action": 126
         },
         {
          "action": 116
         },
         {
          "action": 3
         },
         {
          "action": 27
         },
         {
          "action": 76
         },
         {
          "action": 190
         },
         {
          "action": 1
         },
         {
          "action": 28
         },
         {
          "action": 165
         },
         {
          "action": 114
         },
         {
          "action": 1
         },
         {
          "action": 49
         },
         {
          "action": 11
         },
         {
          "action": 3
         },
         {
          "action": 150
         },
         {
          "action": 3
         },
         {
          "action": 100
         },
         {
          "action": 1
         },
         {
          "action": 58
         },
         {
          "action": 114
         },
         {
          "action": 16
         },
         {
          "action": 2
         },
         {
          "action": 16
         },
         {
          "action": 62
         },
         {
          "action": 57
         },
         {
          "action": 61
         },
         {
          "action": 59
         },
         {
          "action": 1
         },
         {
          "action": 1
         },
         {
          "action": 129
         },
         {
          "action": 221
         },
         {
          "action": 7
         },
         {
          "action": 6
         },
         {
          "action": 11
         },
         {
          "action": 150
         },
         {
          "action": 122
         },
         {
          "action": 102
         },
         {
          "action": 2
         },
         {
          "action": 89
         },
         {
          "action": 14
         },
         {
          "action": 17
         },
         {
          "action": 44
         },
         {
          "action": 77
         },
         {
          "action": 23
         },
         {
          "action": 1
         },
         {
          "action": 32
         },
         {
          "action": 16
         },
         {
          "action": 1
         },
         {
          "action": 31
         },
         {
          "action": 2
         },
         {
          "action": 3
         },
         {
          "action": 10
         },
         {
          "action": 15
         },
         {
          "action": 13
         },
         {
          "action": 1
         },
         {
          "action": 1
         },
         {
          "action": 1
         },
         {
          "action": 139
         },
         {
          "action": 8
         },
         {
          "action": 1
         },
         {
          "action": 20
         },
         {
          "action": 94
         },
         {
          "action": 1
         },
         {
          "action": 79
         },
         {
          "action": 2
         },
         {
          "action": 63
         },
         {
          "action": 2
         },
         {
          "action": 95
         },
         {
          "action": 1
         },
         {
          "action": 30
         },
         {
          "action": 33
         },
         {
          "action": 56
         },
         {
          "action": 2
         },
         {
          "action": 7
         },
         {
          "action": 1
         },
         {
          "action": 1
         },
         {
          "action": 50
         },
         {
          "action": 6
         },
         {
          "action": 18
         },
         {
          "action": 2
         },
         {
          "action": 2
         },
         {
          "action": 10
         },
         {
          "action": 89
         },
         {
          "action": 5
         },
         {
          "action": 5
         },
         {
          "action": 59
         },
         {
          "action": 1
         },
         {
          "action": 139
         },
         {
          "action": 1
         },
         {
          "action": 50
         },
         {
          "action": 8
         },
         {
          "action": 116
         },
         {
          "action": 27
         },
         {
          "action": 40
         },
         {
          "action": 217
         },
         {
          "action": 104
         },
         {
          "action": 3
         },
         {
          "action": 11
         },
         {
          "action": 21
         },
         {
          "action": 3
         },
         {
          "action": 117
         },
         {
          "action": 1
         },
         {
          "action": 202
         },
         {
          "action": 103
         },
         {
          "action": 89
         },
         {
          "action": 1
         },
         {
          "action": 32
         },
         {
          "action": 1
         },
         {
          "action": 110
         },
         {
          "action": 32
         },
         {
          "action": 40
         },
         {
          "action": 9
         },
         {
          "action": 1
         },
         {
          "action": 35
         },
         {
          "action": 196
         },
         {
          "action": 1
         },
         {
          "action": 63
         },
         {
          "action": 13
         },
         {
          "action": 1
         },
         {
          "action": 1
         },
         {
          "action": 82
         },
         {
          "action": 217
         },
         {
          "action": 5
         },
         {
          "action": 59
         },
         {
          "action": 1
         },
         {
          "action": 1
         },
         {
          "action": 1
         },
         {
          "action": 16
         },
         {
          "action": 164
         },
         {
          "action": 97
         },
         {
          "action": 117
         },
         {
          "action": 148
         },
         {
          "action": 11
         },
         {
          "action": 185
         },
         {
          "action": 35
         },
         {
          "action": 2
         },
         {
          "action": 12
         },
         {
          "action": 110
         },
         {
          "action": 11
         },
         {
          "action": 8
         },
         {
          "action": 3
         },
         {
          "action": 10
         },
         {
          "action": 28
         },
         {
          "action": 27
         },
         {
          "action": 2
         },
         {
          "action": 10
         },
         {
          "action": 1
         },
         {
          "action": 70
         },
         {
          "action": 1
         },
         {
          "action": 109
         },
         {
          "action": 1
         },
         {
          "action": 1
         },
         {
          "action": 155
         },
         {
          "action": 6
         },
         {
          "action": 2
         },
         {
          "action": 2
         },
         {
          "action": 39
         },
         {
          "action": 4
         },
         {
          "action": 43
         },
         {
          "action": 2
         },
         {
          "action": 28
         },
         {
          "action": 1
         },
         {
          "action": 109
         },
         {
          "action": 3
         },
         {
          "action": 9
         },
         {
          "action": 10
         },
         {
          "action": 3
         },
         {
          "action": 133
         },
         {
          "action": 219
         },
         {
          "action": 140
         },
         {
          "action": 42
         },
         {
          "action": 162
         },
         {
          "action": 1
         },
         {
          "action": 97
         },
         {
          "action": 1
         },
         {
          "action": 179
         },
         {
          "action": 141
         },
         {
          "action": 1
         },
         {
          "action": 17
         },
         {
          "action": 84
         },
         {
          "action": 18
         },
         {
          "action": 137
         },
         {
          "action": 100
         },
         {
          "action": 153
         },
         {
          "action": 73
         },
         {
          "action": 2
         },
         {
          "action": 120
         },
         {
          "action": 2
         },
         {
          "action": 149
         },
         {
          "action": 1
         },
         {
          "action": 3
         },
         {
          "action": 2
         },
         {
          "action": 3
         },
         {
          "action": 15
         },
         {
          "action": 1
         },
         {
          "action": 155
         },
         {
          "action": 116
         },
         {
          "action": 12
         },
         {
          "action": 18
         },
         {
          "action": 38
         },
         {
          "action": 115
         },
         {
          "action": 1
         },
         {
          "action": 2
         },
         {
          "action": 30
         },
         {
          "action": 6
         },
         {
          "action": 100
         },
         {
          "action": 138
         },
         {
          "action": 72
         },
         {
          "action": 152
         },
         {
          "action": 6
         },
         {
          "action": 3
         },
         {
          "action": 75
         },
         {
          "action": 132
         },
         {
          "action": 1
         },
         {
          "action": 124
         },
         {
          "action": 21
         },
         {
          "action": 1
         },
         {
          "action": 2
         },
         {
          "action": 2
         },
         {
          "action": 30
         },
         {
          "action": 70
         },
         {
          "action": 19
         },
         {
          "action": 24
         },
         {
          "action": 166
         },
         {
          "action": 3
         },
         {
          "action": 152
         },
         {
          "action": 75
         },
         {
          "action": 6
         },
         {
          "action": 1
         },
         {
          "action": 143
         },
         {
          "action": 1
         },
         {
          "action": 2
         },
         {
          "action": 16
         },
         {
          "action": 1
         },
         {
          "action": 4
         },
         {
          "action": 49
         },
         {
          "action": 15
         },
         {
          "action": 8
         },
         {
          "action": 7
         },
         {
          "action": 2
         },
         {
          "action": 1
         },
         {
          "action": 13
         },
         {
          "action": 171
         },
         {
          "action": 58
         },
         {
          "action": 4
         },
         {
          "action": 105
         },
         {
          "action": 109
         },
         {
          "action": 149
         },
         {
          "action": 44
         },
         {
          "action": 1
         },
         {
          "action": 1
         },
         {
          "action": 43
         },
         {
          "action": 76
         },
         {
          "action": 4
         },
         {
          "action": 6
         },
         {
          "action": 123
         },
         {
          "action": 46
         },
         {
          "action": 129
         },
         {
          "action": 1
         },
         {
          "action": 1
         },
         {
          "action": 93
         },
         {
          "action": 1
         },
         {
          "action": 147
         },
         {
          "action": 1
         },
         {
          "action": 48
         },
         {
          "action": 1
         },
         {
          "action": 1
         },
         {
          "action": 83
         },
         {
          "action": 56
         },
         {
          "action": 110
         },
         {
          "action": 5
         },
         {
          "action": 96
         },
         {
          "action": 1
         },
         {
          "action": 170
         },
         {
          "action": 128
         },
         {
          "action": 124
         },
         {
          "action": 79
         },
         {
          "action": 130
         },
         {
          "action": 17
         },
         {
          "action": 5
         },
         {
          "action": 1
         },
         {
          "action": 4
         },
         {
          "action": 11
         },
         {
          "action": 117
         },
         {
          "action": 16
         },
         {
          "action": 178
         },
         {
          "action": 54
         },
         {
          "action": 63
         },
         {
          "action": 4
         },
         {
          "action": 35
         },
         {
          "action": 1
         },
         {
          "action": 139
         },
         {
          "action": 6
         },
         {
          "action": 92
         },
         {
          "action": 81
         },
         {
          "action": 66
         },
         {
          "action": 2
         },
         {
          "action": 1
         },
         {
          "action": 29
         },
         {
          "action": 8
         },
         {
          "action": 49
         },
         {
          "action": 142
         },
         {
          "action": 112
         },
         {
          "action": 106
         },
         {
          "action": 4
         },
         {
          "action": 1
         },
         {
          "action": 8
         },
         {
          "action": 63
         },
         {
          "action": 49
         },
         {
          "action": 132
         },
         {
          "action": 142
         },
         {
          "action": 202
         },
         {
          "action": 1
         },
         {
          "action": 26
         },
         {
          "action": 1
         },
         {
          "action": 173
         },
         {
          "action": 131
         },
         {
          "action": 16
         },
         {
          "action": 5
         },
         {
          "action": 28
         },
         {
          "action": 7
         },
         {
          "action": 96
         },
         {
          "action": 25
         },
         {
          "action": 35
         },
         {
          "action": 1
         },
         {
          "action": 1
         },
         {
          "action": 34
         },
         {
          "action": 106
         },
         {
          "action": 10
         },
         {
          "action": 1
         },
         {
          "action": 150
         },
         {
          "action": 55
         },
         {
          "action": 1
         },
         {
          "action": 13
         },
         {
          "action": 2
         },
         {
          "action": 102
         },
         {
          "action": 1
         },
         {
          "action": 40
         },
         {
          "action": 1
         },
         {
          "action": 25
         },
         {
          "action": 52
         },
         {
          "action": 2
         },
         {
          "action": 1
         },
         {
          "action": 1
         },
         {
          "action": 21
         },
         {
          "action": 31
         },
         {
          "action": 1
         },
         {
          "action": 61
         },
         {
          "action": 8
         },
         {
          "action": 159
         },
         {
          "action": 62
         },
         {
          "action": 28
         },
         {
          "action": 1
         },
         {
          "action": 102
         },
         {
          "action": 38
         },
         {
          "action": 67
         },
         {
          "action": 129
         },
         {
          "action": 1
         },
         {
          "action": 1
         },
         {
          "action": 30
         },
         {
          "action": 26
         },
         {
          "action": 1
         },
         {
          "action": 12
         },
         {
          "action": 1
         },
         {
          "action": 4
         },
         {
          "action": 49
         },
         {
          "action": 7
         },
         {
          "action": 3
         },
         {
          "action": 1
         },
         {
          "action": 151
         },
         {
          "action": 124
         },
         {
          "action": 15
         },
         {
          "action": 127
         },
         {
          "action": 105
         },
         {
          "action": 107
         },
         {
          "action": 1
         },
         {
          "action": 3
         },
         {
          "action": 26
         },
         {
          "action": 6
         },
         {
          "action": 58
         },
         {
          "action": 112
         },
         {
          "action": 221
         },
         {
          "action": 2
         },
         {
          "action": 50
         },
         {
          "action": 1
         },
         {
          "action": 209
         },
         {
          "action": 6
         },
         {
          "action": 79
         },
         {
          "action": 13
         },
         {
          "action": 2
         },
         {
          "action": 1
         },
         {
          "action": 232
         },
         {
          "action": 33
         },
         {
          "action": 222
         },
         {
          "action": 1
         },
         {
          "action": 13
         },
         {
          "action": 25
         },
         {
          "action": 81
         },
         {
          "action": 1
         },
         {
          "action": 174
         },
         {
          "action": 121
         },
         {
          "action": 1
         },
         {
          "action": 5
         },
         {
          "action": 140
         },
         {
          "action": 86
         },
         {
          "action": 47
         },
         {
          "action": 3
         },
         {
          "action": 29
         },
         {
          "action": 1
         },
         {
          "action": 15
         },
         {
          "action": 1
         },
         {
          "action": 76
         },
         {
          "action": 2
         },
         {
          "action": 166
         },
         {
          "action": 1
         },
         {
          "action": 223
         },
         {
          "action": 1
         },
         {
          "action": 1
         },
         {
          "action": 128
         },
         {
          "action": 43
         },
         {
          "action": 177
         },
         {
          "action": 113
         },
         {
          "action": 50
         },
         {
          "action": 85
         },
         {
          "action": 1
         },
         {
          "action": 1
         },
         {
          "action": 1
         },
         {
          "action": 4
         },
         {
          "action": 48
         },
         {
          "action": 1
         },
         {
          "action": 236
         },
         {
          "action": 9
         },
         {
          "action": 7
         },
         {
          "action": 1
         },
         {
          "action": 19
         },
         {
          "action": 154
         },
         {
          "action": 3
         },
         {
          "action": 115
         },
         {
          "action": 34
         },
         {
          "action": 50
         },
         {
          "action": 74
         },
         {
          "action": 4
         },
         {
          "action": 85
         },
         {
          "action": 83
         },
         {
          "action": 61
         },
         {
          "action": 211
         },
         {
          "action": 123
         },
         {
          "action": 1
         },
         {
          "action": 115
         },
         {
          "action": 21
         },
         {
          "action": 105
         },
         {
          "action": 51
         },
         {
          "action": 1
         },
         {
          "action": 85
         },
         {
          "action": 158
         },
         {
          "action": 4
         },
         {
          "action": 2
         },
         {
          "action": 2
         },
         {
          "action": 1
         },
         {
          "action": 104
         },
         {
          "action": 2
         },
         {
          "action": 2
         },
         {
          "action": 1
         },
         {
          "action": 33
         },
         {
          "action": 1
         },
         {
          "action": 1
         },
         {
          "action": 98
         },
         {
          "action": 3
         },
         {
          "action": 28
         },
         {
          "action": 82
         },
         {
          "action": 76
         },
         {
          "action": 97
         },
         {
          "action": 7
         },
         {
          "action": 12
         },
         {
          "action": 5
         },
         {
          "action": 1
         },
         {
          "action": 236
         },
         {
          "action": 1
         },
         {
          "action": 120
         },
         {
          "action": 9
         },
         {
          "action": 190
         },
         {
          "action": 68
         },
         {
          "action": 1
         },
         {
          "action": 5
         },
         {
          "action": 20
         },
         {
          "action": 2
         },
         {
          "action": 27
         },
         {
          "action": 5
         },
         {
          "action": 1
         },
         {
          "action": 26
         },
         {
          "action": 75
         },
         {
          "action": 109
         },
         {
          "action": 1
         },
         {
          "action": 182
         },
         {
          "action": 83
         },
         {
          "action": 1
         },
         {
          "action": 8
         },
         {
          "action": 58
         },
         {
          "action": 43
         },
         {
          "action": 22
         },
         {
          "action": 79
         },
         {
          "action": 7
         },
         {
          "action": 86
         },
         {
          "action": 9
         },
         {
          "action": 23
         },
         {
          "action": 125
         },
         {
          "action": 155
         },
         {
          "action": 51
         },
         {
          "action": 44
         },
         {
          "action": 63
         },
         {
          "action": 3
         },
         {
          "action": 25
         },
         {
          "action": 192
         },
         {
          "action": 112
         },
         {
          "action": 1
         },
         {
          "action": 147
         },
         {
          "action": 16
         },
         {
          "action": 70
         },
         {
          "action": 1
         },
         {
          "action": 53
         },
         {
          "action": 34
         },
         {
          "action": 2
         },
         {
          "action": 85
         },
         {
          "action": 3
         },
         {
          "action": 209
         },
         {
          "action": 15
         },
         {
          "action": 114
         },
         {
          "action": 9
         },
         {
          "action": 20
         },
         {
          "action": 105
         },
         {
          "action": 45
         },
         {
          "action": 8
         },
         {
          "action": 1
         },
         {
          "action": 11
         },
         {
          "action": 91
         },
         {
          "action": 1
         },
         {
          "action": 113
         },
         {
          "action": 7
         },
         {
          "action": 2
         },
         {
          "action": 1
         },
         {
          "action": 39
         },
         {
          "action": 2
         },
         {
          "action": 100
         },
         {
          "action": 24
         },
         {
          "action": 4
         },
         {
          "action": 42
         },
         {
          "action": 42
         },
         {
          "action": 1
         },
         {
          "action": 14
         },
         {
          "action": 42
         },
         {
          "action": 162
         },
         {
          "action": 4
         },
         {
          "action": 1
         },
         {
          "action": 1
         },
         {
          "action": 107
         },
         {
          "action": 16
         },
         {
          "action": 19
         },
         {
          "action": 1
         },
         {
          "action": 117
         },
         {
          "action": 53
         },
         {
          "action": 6
         },
         {
          "action": 111
         },
         {
          "action": 1
         },
         {
          "action": 71
         },
         {
          "action": 21
         },
         {
          "action": 68
         },
         {
          "action": 158
         },
         {
          "action": 106
         },
         {
          "action": 7
         },
         {
          "action": 109
         },
         {
          "action": 1
         },
         {
          "action": 32
         },
         {
          "action": 1
         },
         {
          "action": 2
         },
         {
          "action": 84
         },
         {
          "action": 7
         },
         {
          "action": 19
         },
         {
          "action": 72
         },
         {
          "action": 1
         },
         {
          "action": 190
         },
         {
          "action": 2
         },
         {
          "action": 159
         },
         {
          "action": 5
         },
         {
          "action": 53
         },
         {
          "action": 1
         },
         {
          "action": 10
         },
         {
          "action": 98
         },
         {
          "action": 1
         },
         {
          "action": 113
         },
         {
          "action": 98
         },
         {
          "action": 58
         },
         {
          "action": 2
         },
         {
          "action": 8
         },
         {
          "action": 151
         },
         {
          "action": 20
         },
         {
          "action": 1
         },
         {
          "action": 166
         },
         {
          "action": 8
         },
         {
          "action": 16
         },
         {
          "action": 9
         },
         {
          "action": 14
         },
         {
          "action": 51
         },
         {
          "action": 93
         },
         {
          "action": 77
         },
         {
          "action": 86
         },
         {
          "action": 201
         },
         {
          "action": 1
         },
         {
          "action": 100
         },
         {
          "action": 3
         },
         {
          "action": 68
         },
         {
          "action": 2
         },
         {
          "action": 44
         },
         {
          "action": 16
         },
         {
          "action": 1
         },
         {
          "action": 128
         },
         {
          "action": 1
         },
         {
          "action": 94
         },
         {
          "action": 26
         },
         {
          "action": 10
         },
         {
          "action": 1
         },
         {
          "action": 1
         },
         {
          "action": 3
         },
         {
          "action": 9
         },
         {
          "action": 7
         },
         {
          "action": 88
         },
         {
          "action": 2
         },
         {
          "action": 1
         },
         {
          "action": 13
         },
         {
          "action": 1
         },
         {
          "action": 1
         },
         {
          "action": 1
         },
         {
          "action": 65
         },
         {
          "action": 1
         },
         {
          "action": 9
         },
         {
          "action": 1
         },
         {
          "action": 41
         },
         {
          "action": 17
         },
         {
          "action": 22
         },
         {
          "action": 73
         },
         {
          "action": 155
         },
         {
          "action": 87
         },
         {
          "action": 1
         },
         {
          "action": 19
         },
         {
          "action": 11
         },
         {
          "action": 18
         },
         {
          "action": 1
         },
         {
          "action": 71
         },
         {
          "action": 185
         },
         {
          "action": 223
         },
         {
          "action": 2
         },
         {
          "action": 15
         },
         {
          "action": 47
         },
         {
          "action": 54
         },
         {
          "action": 1
         },
         {
          "action": 48
         },
         {
          "action": 10
         },
         {
          "action": 3
         },
         {
          "action": 3
         },
         {
          "action": 143
         },
         {
          "action": 13
         },
         {
          "action": 115
         },
         {
          "action": 11
         },
         {
          "action": 2
         },
         {
          "action": 1
         },
         {
          "action": 45
         },
         {
          "action": 1
         },
         {
          "action": 3
         },
         {
          "action": 19
         },
         {
          "action": 7
         },
         {
          "action": 80
         },
         {
          "action": 2
         },
         {
          "action": 42
         },
         {
          "action": 163
         },
         {
          "action": 1
         },
         {
          "action": 121
         },
         {
          "action": 1
         },
         {
          "action": 204
         },
         {
          "action": 100
         },
         {
          "action": 14
         },
         {
          "action": 62
         },
         {
          "action": 93
         },
         {
          "action": 2
         },
         {
          "action": 26
         },
         {
          "action": 28
         },
         {
          "action": 186
         },
         {
          "action": 14
         },
         {
          "action": 4
         },
         {
          "action": 1
         },
         {
          "action": 40
         },
         {
          "action": 1
         },
         {
          "action": 2
         },
         {
          "action": 3
         },
         {
          "action": 200
         },
         {
          "action": 3
         },
         {
          "action": 1
         },
         {
          "action": 19
         },
         {
          "action": 1
         },
         {
          "action": 31
         },
         {
          "action": 1
         },
         {
          "action": 44
         },
         {
          "action": 148
         },
         {
          "action": 9
         },
         {
          "action": 2
         },
         {
          "action": 108
         },
         {
          "action": 2
         },
         {
          "action": 21
         },
         {
          "action": 56
         },
         {
          "action": 42
         },
         {
          "action": 44
         },
         {
          "action": 5
         },
         {
          "action": 48
         },
         {
          "action": 25
         },
         {
          "action": 101
         },
         {
          "action": 1
         },
         {
          "action": 2
         },
         {
          "action": 200
         },
         {
          "action": 57
         },
         {
          "action": 105
         },
         {
          "action": 15
         },
         {
          "action": 2
         },
         {
          "action": 91
         },
         {
          "action": 51
         },
         {
          "action": 123
         },
         {
          "action": 45
         },
         {
          "action": 6
         },
         {
          "action": 127
         },
         {
          "action": 2
         },
         {
          "action": 3
         },
         {
          "action": 4
         },
         {
          "action": 17
         },
         {
          "action": 93
         },
         {
          "action": 2
         },
         {
          "action": 62
         },
         {
          "action": 1
         },
         {
          "action": 33
         },
         {
          "action": 9
         },
         {
          "action": 4
         },
         {
          "action": 6
         },
         {
          "action": 3
         },
         {
          "action": 1
         },
         {
          "action": 15
         },
         {
          "action": 1
         },
         {
          "action": 110
         },
         {
          "action": 37
         },
         {
          "action": 4
         },
         {
          "action": 10
         },
         {
          "action": 131
         },
         {
          "action": 6
         },
         {
          "action": 1
         },
         {
          "action": 6
         },
         {
          "action": 49
         },
         {
          "action": 19
         },
         {
          "action": 15
         },
         {
          "action": 6
         },
         {
          "action": 86
         },
         {
          "action": 133
         },
         {
          "action": 78
         },
         {
          "action": 95
         },
         {
          "action": 2
         },
         {
          "action": 14
         },
         {
          "action": 98
         },
         {
          "action": 14
         },
         {
          "action": 6
         },
         {
          "action": 2
         },
         {
          "action": 3
         },
         {
          "action": 118
         },
         {
          "action": 42
         },
         {
          "action": 27
         },
         {
          "action": 121
         },
         {
          "action": 47
         },
         {
          "action": 1
         },
         {
          "action": 22
         },
         {
          "action": 3
         },
         {
          "action": 126
         },
         {
          "action": 25
         },
         {
          "action": 57
         },
         {
          "action": 1
         },
         {
          "action": 30
         },
         {
          "action": 4
         },
         {
          "action": 9
         },
         {
          "action": 168
         },
         {
          "action": 16
         },
         {
          "action": 85
         },
         {
          "action": 11
         },
         {
          "action": 19
         },
         {
          "action": 4
         },
         {
          "action": 10
         },
         {
          "action": 15
         },
         {
          "action": 12
         },
         {
          "action": 38
         },
         {
          "action": 1
         },
         {
          "action": 1
         },
         {
          "action": 3
         },
         {
          "action": 227
         },
         {
          "action": 1
         },
         {
          "action": 10
         },
         {
          "action": 3
         },
         {
          "action": 4
         },
         {
          "action": 1
         },
         {
          "action": 1
         },
         {
          "action": 2
         },
         {
          "action": 187
         },
         {
          "action": 3
         },
         {
          "action": 1
         },
         {
          "action": 33
         },
         {
          "action": 2
         },
         {
          "action": 28
         },
         {
          "action": 4
         },
         {
          "action": 2
         },
         {
          "action": 27
         },
         {
          "action": 80
         },
         {
          "action": 3
         },
         {
          "action": 203
         },
         {
          "action": 78
         },
         {
          "action": 51
         },
         {
          "action": 156
         },
         {
          "action": 97
         },
         {
          "action": 40
         },
         {
          "action": 1
         },
         {
          "action": 32
         },
         {
          "action": 1
         },
         {
          "action": 193
         },
         {
          "action": 1
         },
         {
          "action": 81
         },
         {
          "action": 9
         },
         {
          "action": 1
         },
         {
          "action": 40
         },
         {
          "action": 19
         },
         {
          "action": 7
         },
         {
          "action": 109
         },
         {
          "action": 1
         },
         {
          "action": 1
         },
         {
          "action": 2
         },
         {
          "action": 136
         },
         {
          "action": 9
         },
         {
          "action": 12
         },
         {
          "action": 2
         },
         {
          "action": 1
         },
         {
          "action": 61
         },
         {
          "action": 2
         },
         {
          "action": 3
         },
         {
          "action": 1
         },
         {
          "action": 124
         },
         {
          "action": 132
         },
         {
          "action": 83
         },
         {
          "action": 111
         },
         {
          "action": 21
         },
         {
          "action": 55
         },
         {
          "action": 1
         },
         {
          "action": 73
         },
         {
          "action": 1
         },
         {
          "action": 2
         },
         {
          "action": 76
         },
         {
          "action": 46
         },
         {
          "action": 183
         },
         {
          "action": 7
         },
         {
          "action": 2
         },
         {
          "action": 90
         },
         {
          "action": 6
         },
         {
          "action": 5
         },
         {
          "action": 12
         },
         {
          "action": 72
         },
         {
          "action": 4
         },
         {
          "action": 1
         },
         {
          "action": 1
         },
         {
          "action": 1
         },
         {
          "action": 5
         },
         {
          "action": 3
         },
         {
          "action": 141
         },
         {
          "action": 1
         },
         {
          "action": 12
         },
         {
          "action": 213
         },
         {
          "action": 1
         },
         {
          "action": 20
         },
         {
          "action": 3
         },
         {
          "action": 170
         },
         {
          "action": 83
         },
         {
          "action": 1
         },
         {
          "action": 1
         },
         {
          "action": 1
         },
         {
          "action": 86
         },
         {
          "action": 2
         },
         {
          "action": 17
         },
         {
          "action": 2
         },
         {
          "action": 101
         },
         {
          "action": 1
         },
         {
          "action": 2
         },
         {
          "action": 10
         },
         {
          "action": 25
         },
         {
          "action": 157
         },
         {
          "action": 50
         },
         {
          "action": 88
         },
         {
          "action": 26
         },
         {
          "action": 152
         },
         {
          "action": 84
         },
         {
          "action": 92
         },
         {
          "action": 2
         },
         {
          "action": 5
         },
         {
          "action": 4
         },
         {
          "action": 1
         },
         {
          "action": 130
         },
         {
          "action": 70
         },
         {
          "action": 14
         },
         {
          "action": 6
         },
         {
          "action": 139
         },
         {
          "action": 1
         },
         {
          "action": 77
         },
         {
          "action": 2
         },
         {
          "action": 2
         },
         {
          "action": 26
         },
         {
          "action": 1
         },
         {
          "action": 3
         },
         {
          "action": 1
         },
         {
          "action": 45
         },
         {
          "action": 1
         },
         {
          "action": 79
         },
         {
          "action": 96
         },
         {
          "action": 118
         },
         {
          "action": 16
         },
         {
          "action": 106
         },
         {
          "action": 3
         },
         {
          "action": 1
         },
         {
          "action": 69
         },
         {
          "action": 1
         },
         {
          "action": 70
         },
         {
          "action": 7
         },
         {
          "action": 4
         },
         {
          "action": 125
         },
         {
          "action": 7
         },
         {
          "action": 1
         },
         {
          "action": 156
         },
         {
          "action": 195
         },
         {
          "action": 9
         },
         {
          "action": 1
         },
         {
          "action": 90
         },
         {
          "action": 1
         },
         {
          "action": 24
         },
         {
          "action": 60
         },
         {
          "action": 48
         },
         {
          "action": 97
         },
         {
          "action": 98
         },
         {
          "action": 51
         },
         {
          "action": 3
         },
         {
          "action": 139
         },
         {
          "action": 3
         },
         {
          "action": 26
         },
         {
          "action": 29
         },
         {
          "action": 56
         },
         {
          "action": 65
         },
         {
          "action": 1
         },
         {
          "action": 1
         },
         {
          "action": 58
         },
         {
          "action": 223
         },
         {
          "action": 69
         },
         {
          "action": 113
         },
         {
          "action": 11
         },
         {
          "action": 1
         },
         {
          "action": 10
         },
         {
          "action": 2
         },
         {
          "action": 3
         },
         {
          "action": 191
         },
         {
          "action": 6
         },
         {
          "action": 9
         },
         {
          "action": 24
         },
         {
          "action": 1
         },
         {
          "action": 7
         },
         {
          "action": 22
         },
         {
          "action": 102
         },
         {
          "action": 1
         },
         {
          "action": 109
         },
         {
          "action": 149
         },
         {
          "action": 1
         },
         {
          "action": 2
         },
         {
          "action": 1
         },
         {
          "action": 4
         },
         {
          "action": 57
         },
         {
          "action": 4
         },
         {
          "action": 171
         },
         {
          "action": 7
         },
         {
          "action": 6
         },
         {
          "action": 231
         },
         {
          "action": 76
         },
         {
          "action": 90
         },
         {
          "action": 3
         },
         {
          "action": 91
         },
         {
          "action": 1
         },
         {
          "action": 109
         },
         {
          "action": 127
         },
         {
          "action": 9
         },
         {
          "action": 1
         },
         {
          "action": 1
         },
         {
          "action": 154
         },
         {
          "action": 2
         },
         {
          "action": 46
         },
         {
          "action": 1
         },
         {
          "action": 157
         },
         {
          "action": 7
         },
         {
          "action": 11
         },
         {
          "action": 3
         },
         {
          "action": 30
         },
         {
          "action": 20
         },
         {
          "action": 10
         },
         {
          "action": 91
         },
         {
          "action": 112
         },
         {
          "action": 4
         },
         {
          "action": 82
         },
         {
          "action": 1
         },
         {
          "action": 45
         },
         {
          "action": 38
         },
         {
          "action": 3
         },
         {
          "action": 13
         },
         {
          "action": 25
         },
         {
          "action": 1
         },
         {
          "action": 117
         },
         {
          "action": 7
         },
         {
          "action": 42
         },
         {
          "action": 3
         },
         {
          "action": 1
         },
         {
          "action": 117
         },
         {
          "action": 39
         },
         {
          "action": 2
         },
         {
          "action": 22
         },
         {
          "action": 1
         },
         {
          "action": 106
         },
         {
          "action": 84
         },
         {
          "action": 12
         },
         {
          "action": 16
         },
         {
          "action": 35
         },
         {
          "action": 107
         },
         {
          "action": 67
         },
         {
          "action": 1
         },
         {
          "action": 1
         },
         {
          "action": 61
         },
         {
          "action": 1
         },
         {
          "action": 55
         },
         {
          "action": 5
         },
         {
          "action": 109
         },
         {
          "action": 52
         },
         {
          "action": 119
         },
         {
          "action": 2
         },
         {
          "action": 44
         },
         {
          "action": 6
         },
         {
          "action": 140
         },
         {
          "action": 107
         },
         {
          "action": 65
         },
         {
          "action": 69
         },
         {
          "action": 2
         },
         {
          "action": 4
         },
         {
          "action": 115
         },
         {
          "action": 74
         },
         {
          "action": 122
         },
         {
          "action": 1
         },
         {
          "action": 153
         },
         {
          "action": 1
         },
         {
          "action": 1
         },
         {
          "action": 1
         },
         {
          "action": 1
         },
         {
          "action": 31
         },
         {
          "action": 4
         },
         {
          "action": 101
         },
         {
          "action": 79
         },
         {
          "action": 2
         },
         {
          "action": 1
         },
         {
          "action": 74
         },
         {
          "action": 2
         },
         {
          "action": 26
         },
         {
          "action": 104
         },
         {
          "action": 1
         },
         {
          "action": 2
         },
         {
          "action": 43
         },
         {
          "action": 120
         },
         {
          "action": 15
         },
         {
          "action": 1
         },
         {
          "action": 1
         },
         {
          "action": 1
         },
         {
          "action": 237
         },
         {
          "action": 4
         },
         {
          "action": 74
         },
         {
          "action": 1
         },
         {
          "action": 9
         },
         {
          "action": 1
         },
         {
          "action": 72
         },
         {
          "action": 1
         },
         {
          "action": 12
         },
         {
          "action": 6
         },
         {
          "action": 80
         },
         {
          "action": 1
         },
         {
          "action": 8
         },
         {
          "action": 34
         },
         {
          "action": 1
         },
         {
          "action": 1
         },
         {
          "action": 1
         },
         {
          "action": 9
         },
         {
          "action": 47
         },
         {
          "action": 32
         },
         {
          "action": 1
         },
         {
          "action": 16
         },
         {
          "action": 1
         },
         {
          "action": 51
         },
         {
          "action": 56
         },
         {
          "action": 94
         },
         {
          "action": 6
         },
         {
          "action": 19
         },
         {
          "action": 1
         },
         {
          "action": 1
         },
         {
          "action": 24
         },
         {
          "action": 1
         },
         {
          "action": 1
         },
         {
          "action": 105
         },
         {
          "action": 13
         },
         {
          "action": 6
         },
         {
          "action": 95
         },
         {
          "action": 9
         },
         {
          "action": 12
         },
         {
          "action": 5
         },
         {
          "action": 2
         },
         {
          "action": 4
         },
         {
          "action": 1
         },
         {
          "action": 84
         },
         {
          "action": 6
         },
         {
          "action": 48
         },
         {
          "action": 53
         },
         {
          "action": 1
         },
         {
          "action": 55
         },
         {
          "action": 26
         },
         {
          "action": 86
         },
         {
          "action": 1
         },
         {
          "action": 7
         },
         {
          "action": 83
         },
         {
          "action": 72
         },
         {
          "action": 1
         },
         {
          "action": 1
         },
         {
          "action": 135
         },
         {
          "action": 143
         },
         {
          "action": 3
         },
         {
          "action": 1
         },
         {
          "action": 3
         },
         {
          "action": 8
         },
         {
          "action": 8
         },
         {
          "action": 11
         },
         {
          "action": 1
         },
         {
          "action": 97
         },
         {
          "action": 1
         },
         {
          "action": 105
         },
         {
          "action": 51
         },
         {
          "action": 2
         },
         {
          "action": 1
         },
         {
          "action": 2
         },
         {
          "action": 33
         },
         {
          "action": 3
         },
         {
          "action": 13
         },
         {
          "action": 129
         },
         {
          "action": 9
         },
         {
          "action": 3
         },
         {
          "action": 3
         },
         {
          "action": 52
         },
         {
          "action": 69
         },
         {
          "action": 71
         },
         {
          "action": 2
         },
         {
          "action": 1
         },
         {
          "action": 1
         },
         {
          "action": 9
         },
         {
          "action": 17
         },
         {
          "action": 4
         },
         {
          "action": 1
         },
         {
          "action": 3
         },
         {
          "action": 36
         },
         {
          "action": 60
         },
         {
          "action": 15
         },
         {
          "action": 1
         },
         {
          "action": 104
         },
         {
          "action": 243
         },
         {
          "action": 1
         },
         {
          "action": 1
         },
         {
          "action": 6
         },
         {
          "action": 29
         },
         {
          "action": 76
         },
         {
          "action": 125
         },
         {
          "action": 55
         },
         {
          "action": 168
         },
         {
          "action": 114
         },
         {
          "action": 11
         },
         {
          "action": 29
         },
         {
          "action": 1
         },
         {
          "action": 147
         },
         {
          "action": 2
         },
         {
          "action": 98
         },
         {
          "action": 101
         },
         {
          "action": 107
         },
         {
          "action": 1
         },
         {
          "action": 29
         },
         {
          "action": 1
         },
         {
          "action": 71
         },
         {
          "action": 1
         },
         {
          "action": 68
         },
         {
          "action": 180
         },
         {
          "action": 12
         },
         {
          "action": 1
         },
         {
          "action": 5
         },
         {
          "action": 105
         },
         {
          "action": 99
         },
         {
          "action": 8
         },
         {
          "action": 127
         },
         {
          "action": 94
         },
         {
          "action": 3
         },
         {
          "action": 1
         },
         {
          "action": 1
         },
         {
          "action": 129
         },
         {
          "action": 1
         },
         {
          "action": 139
         },
         {
          "action": 10
         },
         {
          "action": 60
         },
         {
          "action": 9
         },
         {
          "action": 1
         },
         {
          "action": 1
         },
         {
          "action": 1
         },
         {
          "action": 1
         },
         {
          "action": 11
         },
         {
          "action": 1
         },
         {
          "action": 1
         },
         {
          "action": 164
         },
         {
          "action": 184
         },
         {
          "action": 6
         },
         {
          "action": 2
         },
         {
          "action": 27
         },
         {
          "action": 4
         },
         {
          "action": 80
         },
         {
          "action": 68
         },
         {
          "action": 1
         },
         {
          "action": 1
         },
         {
          "action": 81
         },
         {
          "action": 88
         },
         {
          "action": 12
         },
         {
          "action": 1
         },
         {
          "action": 16
         },
         {
          "action": 13
         },
         {
          "action": 64
         },
         {
          "action": 2
         },
         {
          "action": 16
         },
         {
          "action": 10
         },
         {
          "action": 1
         },
         {
          "action": 57
         },
         {
          "action": 71
         },
         {
          "action": 2
         },
         {
          "action": 48
         },
         {
          "action": 28
         },
         {
          "action": 5
         },
         {
          "action": 1
         },
         {
          "action": 1
         },
         {
          "action": 41
         },
         {
          "action": 99
         },
         {
          "action": 1
         },
         {
          "action": 194
         },
         {
          "action": 124
         },
         {
          "action": 1
         },
         {
          "action": 1
         },
         {
          "action": 1
         },
         {
          "action": 155
         },
         {
          "action": 73
         },
         {
          "action": 1
         },
         {
          "action": 26
         },
         {
          "action": 88
         },
         {
          "action": 1
         },
         {
          "action": 1
         },
         {
          "action": 1
         },
         {
          "action": 19
         },
         {
          "action": 2
         },
         {
          "action": 1
         },
         {
          "action": 2
         },
         {
          "action": 108
         },
         {
          "action": 18
         },
         {
          "action": 2
         },
         {
          "action": 1
         },
         {
          "action": 9
         },
         {
          "action": 11
         },
         {
          "action": 9
         },
         {
          "action": 2
         },
         {
          "action": 26
         },
         {
          "action": 1
         },
         {
          "action": 4
         },
         {
          "action": 1
         },
         {
          "action": 13
         },
         {
          "action": 14
         },
         {
          "action": 27
         },
         {
          "action": 2
         },
         {
          "action": 25
         },
         {
          "action": 29
         },
         {
          "action": 1
         },
         {
          "action": 38
         },
         {
          "action": 49
         },
         {
          "action": 164
         },
         {
          "action": 109
         },
         {
          "action": 32
         },
         {
          "action": 1
         },
         {
          "action": 1
         },
         {
          "action": 130
         },
         {
          "action": 3
         },
         {
          "action": 166
         },
         {
          "action": 3
         },
         {
          "action": 32
         },
         {
          "action": 139
         },
         {
          "action": 22
         },
         {
          "action": 96
         },
         {
          "action": 21
         },
         {
          "action": 72
         },
         {
          "action": 118
         },
         {
          "action": 10
         },
         {
          "action": 66
         },
         {
          "action": 1
         },
         {
          "action": 223
         },
         {
          "action": 6
         },
         {
          "action": 1
         },
         {
          "action": 100
         },
         {
          "action": 1
         },
         {
          "action": 20
         },
         {
          "action": 3
         },
         {
          "action": 17
         },
         {
          "action": 7
         },
         {
          "action": 12
         },
         {
          "action": 3
         },
         {
          "action": 84
         },
         {
          "action": 1
         },
         {
          "action": 1
         },
         {
          "action": 78
         },
         {
          "action": 179
         },
         {
          "action": 95
         },
         {
          "action": 94
         },
         {
          "action": 4
         },
         {
          "action": 178
         },
         {
          "action": 1
         },
         {
          "action": 28
         },
         {
          "action": 1
         },
         {
          "action": 5
         },
         {
          "action": 2
         },
         {
          "action": 11
         },
         {
          "action": 13
         },
         {
          "action": 21
         },
         {
          "action": 46
         },
         {
          "action": 68
         },
         {
          "action": 31
         },
         {
          "action": 94
         },
         {
          "action": 1
         },
         {
          "action": 26
         },
         {
          "action": 1
         },
         {
          "action": 1
         },
         {
          "action": 21
         },
         {
          "action": 2
         },
         {
          "action": 2
         },
         {
          "action": 49
         },
         {
          "action": 6
         },
         {
          "action": 123
         },
         {
          "action": 10
         },
         {
          "action": 3
         },
         {
          "action": 6
         },
         {
          "action": 1
         },
         {
          "action": 130
         },
         {
          "action": 1
         },
         {
          "action": 129
         },
         {
          "action": 3
         },
         {
          "action": 84
         },
         {
          "action": 1
         },
         {
          "action": 1
         },
         {
          "action": 125
         },
         {
          "action": 23
         },
         {
          "action": 28
         },
         {
          "action": 236
         },
         {
          "action": 92
         },
         {
          "action": 53
         },
         {
          "action": 18
         },
         {
          "action": 61
         },
         {
          "action": 51
         },
         {
          "action": 134
         },
         {
          "action": 152
         },
         {
          "action": 4
         },
         {
          "action": 19
         },
         {
          "action": 16
         },
         {
          "action": 1
         },
         {
          "action": 1
         },
         {
          "action": 74
         },
         {
          "action": 2
         },
         {
          "action": 1
         },
         {
          "action": 154
         },
         {
          "action": 53
         },
         {
          "action": 4
         },
         {
          "action": 148
         },
         {
          "action": 4
         },
         {
          "action": 3
         },
         {
          "action": 96
         },
         {
          "action": 82
         },
         {
          "action": 61
         },
         {
          "action": 5
         },
         {
          "action": 1
         },
         {
          "action": 13
         },
         {
          "action": 7
         },
         {
          "action": 163
         },
         {
          "action": 3
         },
         {
          "action": 2
         },
         {
          "action": 8
         },
         {
          "action": 10
         },
         {
          "action": 1
         },
         {
          "action": 17
         },
         {
          "action": 148
         },
         {
          "action": 2
         },
         {
          "action": 83
         },
         {
          "action": 2
         },
         {
          "action": 29
         },
         {
          "action": 7
         },
         {
          "action": 93
         },
         {
          "action": 30
         },
         {
          "action": 1
         },
         {
          "action": 2
         },
         {
          "action": 92
         },
         {
          "action": 98
         },
         {
          "action": 9
         },
         {
          "action": 10
         },
         {
          "action": 55
         },
         {
          "action": 1
         },
         {
          "action": 1
         },
         {
          "action": 120
         },
         {
          "action": 2
         },
         {
          "action": 21
         },
         {
          "action": 75
         },
         {
          "action": 122
         },
         {
          "action": 165
         },
         {
          "action": 106
         },
         {
          "action": 55
         },
         {
          "action": 1
         },
         {
          "action": 128
         },
         {
          "action": 4
         },
         {
          "action": 4
         },
         {
          "action": 122
         },
         {
          "action": 32
         },
         {
          "action": 20
         },
         {
          "action": 2
         },
         {
          "action": 1
         },
         {
          "action": 96
         },
         {
          "action": 2
         },
         {
          "action": 3
         },
         {
          "action": 48
         },
         {
          "action": 1
         },
         {
          "action": 4
         },
         {
          "action": 2
         },
         {
          "action": 13
         },
         {
          "action": 237
         },
         {
          "action": 64
         },
         {
          "action": 17
         },
         {
          "action": 43
         },
         {
          "action": 146
         },
         {
          "action": 1
         },
         {
          "action": 110
         },
         {
          "action": 19
         },
         {
          "action": 2
         },
         {
          "action": 6
         },
         {
          "action": 1
         },
         {
          "action": 19
         },
         {
          "action": 2
         },
         {
          "action": 121
         },
         {
          "action": 5
         },
         {
          "action": 17
         },
         {
          "action": 85
         },
         {
          "action": 205
         },
         {
          "action": 56
         },
         {
          "action": 3
         },
         {
          "action": 143
         },
         {
          "action": 1
         },
         {
          "action": 1
         },
         {
          "action": 170
         },
         {
          "action": 169
         },
         {
          "action": 14
         },
         {
          "action": 2
         },
         {
          "action": 20
         },
         {
          "action": 75
         },
         {
          "action": 73
         },
         {
          "action": 44
         },
         {
          "action": 1
         },
         {
          "action": 3
         },
         {
          "action": 162
         },
         {
          "action": 9
         },
         {
          "action": 2
         },
         {
          "action": 78
         },
         {
          "action": 1
         },
         {
          "action": 3
         },
         {
          "action": 108
         },
         {
          "action": 7
         },
         {
          "action": 5
         },
         {
          "action": 22
         },
         {
          "action": 5
         },
         {
          "action": 47
         },
         {
          "action": 1
         },
         {
          "action": 70
         },
         {
          "action": 1
         },
         {
          "action": 99
         },
         {
          "action": 5
         },
         {
          "action": 11
         },
         {
          "action": 1
         },
         {
          "action": 130
         },
         {
          "action": 154
         },
         {
          "action": 1
         },
         {
          "action": 7
         },
         {
          "action": 8
         },
         {
          "action": 10
         },
         {
          "action": 1
         },
         {
          "action": 1
         },
         {
          "action": 74
         },
         {
          "action": 12
         },
         {
          "action": 14
         },
         {
          "action": 94
         },
         {
          "action": 2
         },
         {
          "action": 236
         },
         {
          "action": 1
         },
         {
          "action": 3
         },
         {
          "action": 68
         },
         {
          "action": 1
         },
         {
          "action": 3
         },
         {
          "action": 3
         },
         {
          "action": 41
         },
         {
          "action": 89
         },
         {
          "action": 1
         },
         {
          "action": 11
         },
         {
          "action": 3
         },
         {
          "action": 1
         },
         {
          "action": 1
         },
         {
          "action": 114
         },
         {
          "action": 49
         },
         {
          "action": 5
         },
         {
          "action": 3
         },
         {
          "action": 40
         },
         {
          "action": 52
         },
         {
          "action": 1
         },
         {
          "action": 3
         },
         {
          "action": 2
         },
         {
          "action": 1
         },
         {
          "action": 96
         },
         {
          "action": 1
         },
         {
          "action": 1
         },
         {
          "action": 1
         },
         {
          "action": 2
         },
         {
          "action": 58
         },
         {
          "action": 24
         },
         {
          "action": 120
         },
         {
          "action": 91
         },
         {
          "action": 1
         },
         {
          "action": 4
         },
         {
          "action": 132
         },
         {
          "action": 1
         },
         {
          "action": 33
         },
         {
          "action": 1
         },
         {
          "action": 146
         },
         {
          "action": 55
         },
         {
          "action": 102
         },
         {
          "action": 201
         },
         {
          "action": 1
         },
         {
          "action": 14
         },
         {
          "action": 69
         },
         {
          "action": 35
         },
         {
          "action": 125
         },
         {
          "action": 2
         },
         {
          "action": 28
         },
         {
          "action": 1
         },
         {
          "action": 2
         },
         {
          "action": 115
         },
         {
          "action": 133
         },
         {
          "action": 24
         },
         {
          "action": 1
         },
         {
          "action": 2
         },
         {
          "action": 44
         },
         {
          "action": 2
         },
         {
          "action": 7
         },
         {
          "action": 1
         },
         {
          "action": 1
         },
         {
          "action": 2
         },
         {
          "action": 2
         },
         {
          "action": 1
         },
         {
          "action": 115
         },
         {
          "action": 72
         },
         {
          "action": 99
         },
         {
          "action": 90
         },
         {
          "action": 3
         },
         {
          "action": 12
         },
         {
          "action": 2
         },
         {
          "action": 1
         },
         {
          "action": 36
         },
         {
          "action": 139
         },
         {
          "action": 1
         },
         {
          "action": 2
         },
         {
          "action": 28
         },
         {
          "action": 21
         },
         {
          "action": 65
         },
         {
          "action": 41
         },
         {
          "action": 138
         },
         {
          "action": 167
         },
         {
          "action": 23
         },
         {
          "action": 104
         },
         {
          "action": 20
         },
         {
          "action": 29
         },
         {
          "action": 9
         },
         {
          "action": 99
         },
         {
          "action": 4
         },
         {
          "action": 3
         },
         {
          "action": 1
         },
         {
          "action": 26
         },
         {
          "action": 64
         },
         {
          "action": 20
         },
         {
          "action": 1
         },
         {
          "action": 2
         },
         {
          "action": 105
         },
         {
          "action": 133
         },
         {
          "action": 49
         },
         {
          "action": 7
         },
         {
          "action": 19
         },
         {
          "action": 68
         },
         {
          "action": 1
         },
         {
          "action": 138
         },
         {
          "action": 25
         },
         {
          "action": 14
         },
         {
          "action": 68
         },
         {
          "action": 1
         },
         {
          "action": 3
         },
         {
          "action": 10
         },
         {
          "action": 112
         },
         {
          "action": 1
         },
         {
          "action": 132
         },
         {
          "action": 118
         },
         {
          "action": 88
         },
         {
          "action": 127
         },
         {
          "action": 59
         },
         {
          "action": 76
         },
         {
          "action": 84
         },
         {
          "action": 64
         },
         {
          "action": 5
         },
         {
          "action": 8
         },
         {
          "action": 45
         },
         {
          "action": 11
         },
         {
          "action": 2
         },
         {
          "action": 5
         },
         {
          "action": 184
         },
         {
          "action": 85
         },
         {
          "action": 27
         },
         {
          "action": 72
         },
         {
          "action": 1
         },
         {
          "action": 24
         },
         {
          "action": 1
         },
         {
          "action": 4
         },
         {
          "action": 73
         },
         {
          "action": 11
         },
         {
          "action": 1
         },
         {
          "action": 4
         },
         {
          "action": 8
         },
         {
          "action": 20
         },
         {
          "action": 28
         },
         {
          "action": 4
         },
         {
          "action": 120
         },
         {
          "action": 13
         },
         {
          "action": 3
         },
         {
          "action": 69
         },
         {
          "action": 37
         },
         {
          "action": 119
         },
         {
          "action": 79
         },
         {
          "action": 93
         },
         {
          "action": 9
         },
         {
          "action": 99
         },
         {
          "action": 4
         },
         {
          "action": 83
         },
         {
          "action": 31
         },
         {
          "action": 29
         },
         {
          "action": 17
         },
         {
          "action": 2
         },
         {
          "action": 19
         },
         {
          "action": 86
         },
         {
          "action": 36
         },
         {
          "action": 42
         },
         {
          "action": 1
         },
         {
          "action": 2
         },
         {
          "action": 29
         },
         {
          "action": 99
         },
         {
          "action": 1
         },
         {
          "action": 128
         },
         {
          "action": 103
         },
         {
          "action": 2
         },
         {
          "action": 1
         },
         {
          "action": 66
         },
         {
          "action": 1
         },
         {
          "action": 9
         },
         {
          "action": 222
         },
         {
          "action": 1
         },
         {
          "action": 153
         },
         {
          "action": 34
         },
         {
          "action": 9
         },
         {
          "action": 2
         },
         {
          "action": 34
         },
         {
          "action": 89
         },
         {
          "action": 84
         },
         {
          "action": 2
         },
         {
          "action": 87
         },
         {
          "action": 16
         },
         {
          "action": 2
         },
         {
          "action": 13
         },
         {
          "action": 110
         },
         {
          "action": 1
         },
         {
          "action": 107
         },
         {
          "action": 28
         },
         {
          "action": 9
         },
         {
          "action": 22
         },
         {
          "action": 156
         },
         {
          "action": 123
         },
         {
          "action": 17
         },
         {
          "action": 1
         },
         {
          "action": 1
         },
         {
          "action": 1
         },
         {
          "action": 1
         },
         {
          "action": 54
         },
         {
          "action": 3
         },
         {
          "action": 1
         },
         {
          "action": 7
         },
         {
          "action": 8
         },
         {
          "action": 10
         },
         {
          "action": 74
         },
         {
          "action": 128
         },
         {
          "action": 1
         },
         {
          "action": 10
         },
         {
          "action": 52
         },
         {
          "action": 8
         },
         {
          "action": 17
         },
         {
          "action": 1
         },
         {
          "action": 65
         },
         {
          "action": 1
         },
         {
          "action": 1
         },
         {
          "action": 135
         },
         {
          "action": 1
         },
         {
          "action": 2
         },
         {
          "action": 17
         },
         {
          "action": 124
         },
         {
          "action": 3
         },
         {
          "action": 21
         },
         {
          "action": 43
         },
         {
          "action": 1
         },
         {
          "action": 26
         },
         {
          "action": 1
         },
         {
          "action": 1
         },
         {
          "action": 33
         },
         {
          "action": 1
         },
         {
          "action": 100
         },
         {
          "action": 6
         },
         {
          "action": 36
         },
         {
          "action": 1
         },
         {
          "action": 49
         },
         {
          "action": 1
         },
         {
          "action": 9
         },
         {
          "action": 6
         },
         {
          "action": 15
         },
         {
          "action": 72
         },
         {
          "action": 1
         },
         {
          "action": 4
         },
         {
          "action": 146
         },
         {
          "action": 1
         },
         {
          "action": 1
         },
         {
          "action": 1
         },
         {
          "action": 110
         },
         {
          "action": 1
         },
         {
          "action": 87
         },
         {
          "action": 4
         },
         {
          "action": 173
         },
         {
          "action": 1
         },
         {
          "action": 13
         },
         {
          "action": 12
         },
         {
          "action": 145
         },
         {
          "action": 1
         },
         {
          "action": 23
         },
         {
          "action": 2
         },
         {
          "action": 10
         },
         {
          "action": 1
         },
         {
          "action": 67
         },
         {
          "action": 28
         },
         {
          "action": 1
         },
         {
          "action": 74
         },
         {
          "action": 1
         },
         {
          "action": 1
         },
         {
          "action": 183
         },
         {
          "action": 167
         },
         {
          "action": 3
         },
         {
          "action": 7
         },
         {
          "action": 4
         },
         {
          "action": 110
         },
         {
          "action": 160
         },
         {
          "action": 1
         },
         {
          "action": 144
         },
         {
          "action": 105
         },
         {
          "action": 1
         },
         {
          "action": 34
         },
         {
          "action": 1
         },
         {
          "action": 1
         },
         {
          "action": 1
         },
         {
          "action": 20
         },
         {
          "action": 6
         },
         {
          "action": 72
         },
         {
          "action": 1
         },
         {
          "action": 29
         },
         {
          "action": 23
         },
         {
          "action": 72
         },
         {
          "action": 51
         },
         {
          "action": 3
         },
         {
          "action": 85
         },
         {
          "action": 47
         },
         {
          "action": 53
         },
         {
          "action": 29
         },
         {
          "action": 4
         },
         {
          "action": 16
         },
         {
          "action": 3
         },
         {
          "action": 51
         },
         {
          "action": 14
         },
         {
          "action": 22
         },
         {
          "action": 1
         },
         {
          "action": 4
         },
         {
          "action": 25
         },
         {
          "action": 198
         },
         {
          "action": 4
         },
         {
          "action": 59
         },
         {
          "action": 96
         },
         {
          "action": 1
         },
         {
          "action": 3
         },
         {
          "action": 40
         },
         {
          "action": 1
         },
         {
          "action": 138
         },
         {
          "action": 1
         },
         {
          "action": 33
         },
         {
          "action": 13
         },
         {
          "action": 135
         },
         {
          "action": 1
         },
         {
          "action": 3
         },
         {
          "action": 1
         },
         {
          "action": 94
         },
         {
          "action": 162
         },
         {
          "action": 122
         },
         {
          "action": 1
         },
         {
          "action": 3
         },
         {
          "action": 118
         },
         {
          "action": 130
         },
         {
          "action": 6
         },
         {
          "action": 1
         },
         {
          "action": 183
         },
         {
          "action": 131
         },
         {
          "action": 3
         },
         {
          "action": 6
         },
         {
          "action": 3
         },
         {
          "action": 26
         },
         {
          "action": 2
         },
         {
          "action": 222
         },
         {
          "action": 87
         },
         {
          "action": 1
         },
         {
          "action": 8
         },
         {
          "action": 1
         },
         {
          "action": 1
         },
         {
          "action": 1
         },
         {
          "action": 4
         },
         {
          "action": 75
         },
         {
          "action": 60
         },
         {
          "action": 48
         },
         {
          "action": 126
         },
         {
          "action": 23
         },
         {
          "action": 9
         },
         {
          "action": 53
         },
         {
          "action": 10
         },
         {
          "action": 6
         },
         {
          "action": 4
         },
         {
          "action": 8
         },
         {
          "action": 19
         },
         {
          "action": 2
         },
         {
          "action": 103
         },
         {
          "action": 3
         },
         {
          "action": 1
         },
         {
          "action": 77
         },
         {
          "action": 51
         },
         {
          "action": 1
         },
         {
          "action": 1
         },
         {
          "action": 4
         },
         {
          "action": 1
         },
         {
          "action": 35
         },
         {
          "action": 7
         },
         {
          "action": 2
         },
         {
          "action": 1
         },
         {
          "action": 65
         },
         {
          "action": 5
         },
         {
          "action": 85
         },
         {
          "action": 1
         },
         {
          "action": 3
         },
         {
          "action": 93
         },
         {
          "action": 1
         },
         {
          "action": 75
         },
         {
          "action": 1
         },
         {
          "action": 1
         },
         {
          "action": 58
         },
         {
          "action": 110
         },
         {
          "action": 2
         },
         {
          "action": 1
         },
         {
          "action": 13
         },
         {
          "action": 102
         },
         {
          "action": 1
         },
         {
          "action": 149
         },
         {
          "action": 154
         },
         {
          "action": 117
         },
         {
          "action": 16
         },
         {
          "action": 3
         },
         {
          "action": 7
         },
         {
          "action": 180
         },
         {
          "action": 2
         },
         {
          "action": 131
         },
         {
          "action": 92
         },
         {
          "action": 1
         },
         {
          "action": 23
         },
         {
          "action": 62
         },
         {
          "action": 6
         },
         {
          "action": 2
         },
         {
          "action": 1
         },
         {
          "action": 100
         },
         {
          "action": 7
         },
         {
          "action": 3
         },
         {
          "action": 7
         },
         {
          "action": 6
         },
         {
          "action": 122
         },
         {
          "action": 19
         },
         {
          "action": 15
         },
         {
          "action": 8
         },
         {
          "action": 2
         },
         {
          "action": 1
         },
         {
          "action": 65
         },
         {
          "action": 35
         },
         {
          "action": 9
         },
         {
          "action": 109
         },
         {
          "action": 29
         },
         {
          "action": 1
         },
         {
          "action": 1
         },
         {
          "action": 5
         },
         {
          "action": 1
         },
         {
          "action": 235
         },
         {
          "action": 1
         },
         {
          "action": 47
         },
         {
          "action": 4
         },
         {
          "action": 123
         },
         {
          "action": 24
         },
         {
          "action": 96
         },
         {
          "action": 176
         },
         {
          "action": 1
         },
         {
          "action": 4
         },
         {
          "action": 132
         },
         {
          "action": 5
         },
         {
          "action": 1
         },
         {
          "action": 3
         },
         {
          "action": 1
         },
         {
          "action": 102
         },
         {
          "action": 6
         },
         {
          "action": 2
         },
         {
          "action": 116
         },
         {
          "action": 13
         },
         {
          "action": 12
         },
         {
          "action": 1
         },
         {
          "action": 107
         },
         {
          "action": 5
         },
         {
          "action": 13
         },
         {
          "action": 24
         },
         {
          "action": 2
         },
         {
          "action": 2
         },
         {
          "action": 1
         },
         {
          "action": 61
         },
         {
          "action": 171
         },
         {
          "action": 1
         },
         {
          "action": 1
         },
         {
          "action": 13
         },
         {
          "action": 19
         },
         {
          "action": 11
         },
         {
          "action": 3
         },
         {
          "action": 7
         },
         {
          "action": 5
         },
         {
          "action": 183
         },
         {
          "action": 188
         },
         {
          "action": 147
         },
         {
          "action": 1
         },
         {
          "action": 37
         },
         {
          "action": 1
         },
         {
          "action": 60
         },
         {
          "action": 125
         },
         {
          "action": 31
         },
         {
          "action": 3
         },
         {
          "action": 2
         },
         {
          "action": 60
         },
         {
          "action": 80
         },
         {
          "action": 15
         },
         {
          "action": 1
         },
         {
          "action": 26
         },
         {
          "action": 1
         },
         {
          "action": 167
         },
         {
          "action": 3
         },
         {
          "action": 1
         },
         {
          "action": 2
         },
         {
          "action": 165
         },
         {
          "action": 204
         },
         {
          "action": 1
         },
         {
          "action": 100
         },
         {
          "action": 109
         },
         {
          "action": 12
         },
         {
          "action": 119
         },
         {
          "action": 16
         },
         {
          "action": 18
         },
         {
          "action": 58
         },
         {
          "action": 78
         },
         {
          "action": 89
         },
         {
          "action": 56
         },
         {
          "action": 158
         },
         {
          "action": 2
         },
         {
          "action": 3
         },
         {
          "action": 1
         },
         {
          "action": 11
         },
         {
          "action": 3
         },
         {
          "action": 46
         },
         {
          "action": 144
         },
         {
          "action": 3
         },
         {
          "action": 10
         },
         {
          "action": 72
         },
         {
          "action": 2
         },
         {
          "action": 1
         },
         {
          "action": 5
         },
         {
          "action": 4
         },
         {
          "action": 147
         },
         {
          "action": 52
         },
         {
          "action": 20
         },
         {
          "action": 3
         },
         {
          "action": 5
         },
         {
          "action": 2
         },
         {
          "action": 108
         },
         {
          "action": 1
         },
         {
          "action": 7
         },
         {
          "action": 1
         },
         {
          "action": 72
         },
         {
          "action": 79
         },
         {
          "action": 77
         },
         {
          "action": 2
         },
         {
          "action": 24
         },
         {
          "action": 1
         },
         {
          "action": 2
         },
         {
          "action": 1
         },
         {
          "action": 66
         },
         {
          "action": 7
         },
         {
          "action": 1
         },
         {
          "action": 1
         },
         {
          "action": 71
         },
         {
          "action": 88
         },
         {
          "action": 8
         },
         {
          "action": 176
         },
         {
          "action": 1
         },
         {
          "action": 13
         },
         {
          "action": 1
         },
         {
          "action": 89
         },
         {
          "action": 10
         },
         {
          "action": 3
         },
         {
          "action": 27
         },
         {
          "action": 1
         },
         {
          "action": 73
         },
         {
          "action": 1
         },
         {
          "action": 3
         },
         {
          "action": 1
         },
         {
          "action": 23
         },
         {
          "action": 1
         },
         {
          "action": 2
         },
         {
          "action": 39
         },
         {
          "action": 21
         },
         {
          "action": 84
         },
         {
          "action": 120
         },
         {
          "action": 188
         },
         {
          "action": 23
         },
         {
          "action": 73
         },
         {
          "action": 6
         },
         {
          "action": 2
         },
         {
          "action": 35
         },
         {
          "action": 58
         },
         {
          "action": 4
         },
         {
          "action": 94
         },
         {
          "action": 67
         },
         {
          "action": 1
         },
         {
          "action": 8
         },
         {
          "action": 36
         },
         {
          "action": 77
         },
         {
          "action": 2
         },
         {
          "action": 33
         },
         {
          "action": 108
         },
         {
          "action": 2
         },
         {
          "action": 1
         },
         {
          "action": 2
         },
         {
          "action": 4
         },
         {
          "action": 1
         },
         {
          "action": 1
         },
         {
          "action": 5
         },
         {
          "action": 90
         },
         {
          "action": 4
         },
         {
          "action": 11
         },
         {
          "action": 129
         },
         {
          "action": 80
         },
         {
          "action": 1
         },
         {
          "action": 2
         },
         {
          "action": 138
         },
         {
          "action": 1
         },
         {
          "action": 1
         },
         {
          "action": 20
         },
         {
          "action": 108
         },
         {
          "action": 106
         },
         {
          "action": 81
         },
         {
          "action": 90
         },
         {
          "action": 48
         },
         {
          "action": 2
         },
         {
          "action": 1
         },
         {
          "action": 1
         },
         {
          "action": 143
         },
         {
          "action": 26
         },
         {
          "action": 2
         },
         {
          "action": 6
         },
         {
          "action": 15
         },
         {
          "action": 8
         },
         {
          "action": 54
         },
         {
          "action": 3
         },
         {
          "action": 4
         },
         {
          "action": 3
         },
         {
          "action": 2
         },
         {
          "action": 3
         },
         {
          "action": 169
         },
         {
          "action": 70
         },
         {
          "action": 1
         },
         {
          "action": 10
         },
         {
          "action": 39
         },
         {
          "action": 2
         },
         {
          "action": 1
         },
         {
          "action": 1
         },
         {
          "action": 22
         },
         {
          "action": 2
         },
         {
          "action": 2
         },
         {
          "action": 4
         },
         {
          "action": 41
         },
         {
          "action": 2
         },
         {
          "action": 5
         },
         {
          "action": 154
         },
         {
          "action": 1
         },
         {
          "action": 45
         },
         {
          "action": 99
         },
         {
          "action": 5
         },
         {
          "action": 5
         },
         {
          "action": 1
         },
         {
          "action": 7
         },
         {
          "action": 48
         },
         {
          "action": 214
         },
         {
          "action": 1
         },
         {
          "action": 2
         },
         {
          "action": 2
         },
         {
          "action": 116
         },
         {
          "action": 2
         },
         {
          "action": 4
         },
         {
          "action": 226
         },
         {
          "action": 55
         },
         {
          "action": 40
         },
         {
          "action": 1
         },
         {
          "action": 85
         },
         {
          "action": 92
         },
         {
          "action": 2
         },
         {
          "action": 29
         },
         {
          "action": 2
         },
         {
          "action": 20
         },
         {
          "action": 16
         },
         {
          "action": 8
         },
         {
          "action": 192
         },
         {
          "action": 17
         },
         {
          "action": 2
         },
         {
          "action": 12
         },
         {
          "action": 2
         },
         {
          "action": 1
         },
         {
          "action": 15
         },
         {
          "action": 44
         },
         {
          "action": 109
         },
         {
          "action": 115
         },
         {
          "action": 97
         },
         {
          "action": 103
         },
         {
          "action": 64
         },
         {
          "action": 14
         },
         {
          "action": 1
         },
         {
          "action": 27
         },
         {
          "action": 61
         },
         {
          "action": 1
         },
         {
          "action": 1
         },
         {
          "action": 114
         },
         {
          "action": 37
         },
         {
          "action": 7
         },
         {
          "action": 89
         },
         {
          "action": 71
         },
         {
          "action": 1
         },
         {
          "action": 231
         },
         {
          "action": 155
         },
         {
          "action": 189
         },
         {
          "action": 1
         },
         {
          "action": 19
         },
         {
          "action": 42
         },
         {
          "action": 7
         },
         {
          "action": 9
         },
         {
          "action": 3
         },
         {
          "action": 33
         },
         {
          "action": 8
         },
         {
          "action": 1
         },
         {
          "action": 57
         },
         {
          "action": 31
         },
         {
          "action": 7
         },
         {
          "action": 32
         },
         {
          "action": 6
         },
         {
          "action": 133
         },
         {
          "action": 12
         },
         {
          "action": 5
         },
         {
          "action": 80
         },
         {
          "action": 69
         },
         {
          "action": 19
         },
         {
          "action": 51
         },
         {
          "action": 160
         },
         {
          "action": 71
         },
         {
          "action": 5
         },
         {
          "action": 7
         },
         {
          "action": 74
         },
         {
          "action": 63
         },
         {
          "action": 165
         },
         {
          "action": 82
         },
         {
          "action": 207
         },
         {
          "action": 17
         },
         {
          "action": 1
         },
         {
          "action": 4
         },
         {
          "action": 3
         },
         {
          "action": 7
         },
         {
          "action": 3
         },
         {
          "action": 71
         },
         {
          "action": 23
         },
         {
          "action": 6
         },
         {
          "action": 109
         },
         {
          "action": 5
         },
         {
          "action": 178
         },
         {
          "action": 9
         },
         {
          "action": 1
         },
         {
          "action": 65
         },
         {
          "action": 64
         },
         {
          "action": 16
         },
         {
          "action": 1
         },
         {
          "action": 3
         },
         {
          "action": 55
         },
         {
          "action": 208
         },
         {
          "action": 4
         },
         {
          "action": 17
         },
         {
          "action": 1
         },
         {
          "action": 82
         },
         {
          "action": 2
         },
         {
          "action": 1
         },
         {
          "action": 55
         },
         {
          "action": 15
         },
         {
          "action": 61
         },
         {
          "action": 1
         },
         {
          "action": 1
         },
         {
          "action": 1
         },
         {
          "action": 199
         },
         {
          "action": 65
         },
         {
          "action": 23
         },
         {
          "action": 1
         },
         {
          "action": 22
         },
         {
          "action": 1
         },
         {
          "action": 95
         },
         {
          "action": 9
         },
         {
          "action": 1
         },
         {
          "action": 54
         },
         {
          "action": 1
         },
         {
          "action": 2
         },
         {
          "action": 4
         },
         {
          "action": 118
         },
         {
          "action": 21
         },
         {
          "action": 1
         },
         {
          "action": 121
         },
         {
          "action": 53
         },
         {
          "action": 169
         },
         {
          "action": 2
         },
         {
          "action": 1
         },
         {
          "action": 3
         },
         {
          "action": 4
         },
         {
          "action": 24
         },
         {
          "action": 16
         },
         {
          "action": 5
         },
         {
          "action": 74
         },
         {
          "action": 9
         },
         {
          "action": 4
         },
         {
          "action": 64
         },
         {
          "action": 2
         },
         {
          "action": 52
         },
         {
          "action": 65
         },
         {
          "action": 123
         },
         {
          "action": 3
         },
         {
          "action": 176
         },
         {
          "action": 23
         },
         {
          "action": 3
         },
         {
          "action": 128
         },
         {
          "action": 1
         },
         {
          "action": 2
         },
         {
          "action": 32
         },
         {
          "action": 79
         },
         {
          "action": 114
         },
         {
          "action": 190
         },
         {
          "action": 92
         },
         {
          "action": 19
         },
         {
          "action": 1
         },
         {
          "action": 110
         },
         {
          "action": 77
         },
         {
          "action": 63
         },
         {
          "action": 1
         },
         {
          "action": 1
         },
         {
          "action": 5
         },
         {
          "action": 1
         },
         {
          "action": 1
         },
         {
          "action": 65
         },
         {
          "action": 3
         },
         {
          "action": 3
         },
         {
          "action": 1
         },
         {
          "action": 3
         },
         {
          "action": 1
         },
         {
          "action": 1
         },
         {
          "action": 2
         },
         {
          "action": 24
         },
         {
          "action": 52
         },
         {
          "action": 1
         },
         {
          "action": 3
         },
         {
          "action": 3
         },
         {
          "action": 1
         },
         {
          "action": 3
         },
         {
          "action": 98
         },
         {
          "action": 171
         },
         {
          "action": 30
         },
         {
          "action": 2
         },
         {
          "action": 75
         },
         {
          "action": 1
         },
         {
          "action": 96
         },
         {
          "action": 2
         },
         {
          "action": 1
         },
         {
          "action": 1
         },
         {
          "action": 1
         },
         {
          "action": 1
         },
         {
          "action": 3
         },
         {
          "action": 3
         },
         {
          "action": 2
         },
         {
          "action": 210
         },
         {
          "action": 153
         },
         {
          "action": 83
         },
         {
          "action": 67
         },
         {
          "action": 2
         },
         {
          "action": 81
         },
         {
          "action": 62
         },
         {
          "action": 171
         },
         {
          "action": 133
         },
         {
          "action": 32
         },
         {
          "action": 1
         },
         {
          "action": 36
         },
         {
          "action": 119
         },
         {
          "action": 88
         },
         {
          "action": 4
         },
         {
          "action": 52
         },
         {
          "action": 167
         },
         {
          "action": 120
         },
         {
          "action": 127
         },
         {
          "action": 91
         },
         {
          "action": 112
         },
         {
          "action": 1
         },
         {
          "action": 26
         },
         {
          "action": 11
         },
         {
          "action": 16
         },
         {
          "action": 3
         },
         {
          "action": 20
         },
         {
          "action": 2
         },
         {
          "action": 130
         },
         {
          "action": 14
         },
         {
          "action": 60
         },
         {
          "action": 84
         },
         {
          "action": 6
         },
         {
          "action": 71
         },
         {
          "action": 74
         },
         {
          "action": 1
         },
         {
          "action": 1
         },
         {
          "action": 2
         },
         {
          "action": 11
         },
         {
          "action": 1
         },
         {
          "action": 138
         },
         {
          "action": 2
         },
         {
          "action": 178
         },
         {
          "action": 1
         },
         {
          "action": 7
         },
         {
          "action": 2
         },
         {
          "action": 113
         },
         {
          "action": 7
         },
         {
          "action": 109
         },
         {
          "action": 11
         },
         {
          "action": 171
         },
         {
          "action": 1
         },
         {
          "action": 70
         },
         {
          "action": 101
         },
         {
          "action": 1
         },
         {
          "action": 24
         },
         {
          "action": 18
         },
         {
          "action": 1
         },
         {
          "action": 31
         },
         {
          "action": 81
         },
         {
          "action": 5
         },
         {
          "action": 3
         },
         {
          "action": 88
         },
         {
          "action": 1
         },
         {
          "action": 94
         },
         {
          "action": 105
         },
         {
          "action": 1
         },
         {
          "action": 19
         },
         {
          "action": 53
         },
         {
          "action": 1
         },
         {
          "action": 2
         },
         {
          "action": 57
         },
         {
          "action": 97
         },
         {
          "action": 15
         },
         {
          "action": 90
         },
         {
          "action": 1
         },
         {
          "action": 81
         },
         {
          "action": 140
         },
         {
          "action": 1
         },
         {
          "action": 40
         },
         {
          "action": 1
         },
         {
          "action": 7
         },
         {
          "action": 118
         },
         {
          "action": 84
         },
         {
          "action": 124
         },
         {
          "action": 2
         },
         {
          "action": 13
         },
         {
          "action": 11
         },
         {
          "action": 15
         },
         {
          "action": 106
         },
         {
          "action": 37
         },
         {
          "action": 1
         },
         {
          "action": 32
         },
         {
          "action": 1
         },
         {
          "action": 112
         },
         {
          "action": 10
         },
         {
          "action": 1
         },
         {
          "action": 1
         },
         {
          "action": 1
         },
         {
          "action": 1
         },
         {
          "action": 10
         },
         {
          "action": 14
         },
         {
          "action": 7
         },
         {
          "action": 1
         },
         {
          "action": 47
         },
         {
          "action": 67
         },
         {
          "action": 24
         },
         {
          "action": 1
         },
         {
          "action": 14
         },
         {
          "action": 1
         },
         {
          "action": 99
         },
         {
          "action": 11
         },
         {
          "action": 163
         },
         {
          "action": 104
         },
         {
          "action": 144
         },
         {
          "action": 4
         },
         {
          "action": 23
         },
         {
          "action": 32
         },
         {
          "action": 14
         },
         {
          "action": 3
         },
         {
          "action": 116
         },
         {
          "action": 48
         },
         {
          "action": 6
         },
         {
          "action": 130
         },
         {
          "action": 116
         },
         {
          "action": 1
         },
         {
          "action": 15
         },
         {
          "action": 1
         },
         {
          "action": 1
         },
         {
          "action": 4
         },
         {
          "action": 38
         },
         {
          "action": 1
         },
         {
          "action": 161
         },
         {
          "action": 16
         },
         {
          "action": 1
         },
         {
          "action": 6
         },
         {
          "action": 108
         },
         {
          "action": 12
         },
         {
          "action": 2
         },
         {
          "action": 73
         },
         {
          "action": 36
         },
         {
          "action": 10
         },
         {
          "action": 12
         },
         {
          "action": 179
         },
         {
          "action": 96
         },
         {
          "action": 181
         },
         {
          "action": 3
         },
         {
          "action": 156
         },
         {
          "action": 2
         },
         {
          "action": 10
         },
         {
          "action": 22
         },
         {
          "action": 2
         },
         {
          "action": 163
         },
         {
          "action": 67
         },
         {
          "action": 108
         },
         {
          "action": 2
         },
         {
          "action": 2
         },
         {
          "action": 2
         },
         {
          "action": 133
         },
         {
          "action": 68
         },
         {
          "action": 1
         },
         {
          "action": 1
         },
         {
          "action": 1
         },
         {
          "action": 1
         },
         {
          "action": 167
         },
         {
          "action": 4
         },
         {
          "action": 32
         },
         {
          "action": 1
         },
         {
          "action": 202
         },
         {
          "action": 5
         },
         {
          "action": 1
         },
         {
          "action": 3
         },
         {
          "action": 87
         },
         {
          "action": 3
         },
         {
          "action": 55
         },
         {
          "action": 33
         },
         {
          "action": 1
         },
         {
          "action": 25
         },
         {
          "action": 39
         },
         {
          "action": 42
         },
         {
          "action": 69
         },
         {
          "action": 55
         },
         {
          "action": 4
         },
         {
          "action": 2
         },
         {
          "action": 13
         },
         {
          "action": 17
         },
         {
          "action": 2
         },
         {
          "action": 29
         },
         {
          "action": 1
         },
         {
          "action": 5
         },
         {
          "action": 14
         },
         {
          "action": 1
         },
         {
          "action": 70
         },
         {
          "action": 6
         },
         {
          "action": 1
         },
         {
          "action": 1
         },
         {
          "action": 5
         },
         {
          "action": 16
         },
         {
          "action": 1
         },
         {
          "action": 117
         },
         {
          "action": 184
         },
         {
          "action": 2
         },
         {
          "action": 21
         },
         {
          "action": 123
         },
         {
          "action": 19
         },
         {
          "action": 1
         },
         {
          "action": 107
         },
         {
          "action": 3
         },
         {
          "action": 1
         },
         {
          "action": 1
         },
         {
          "action": 2
         },
         {
          "action": 5
         },
         {
          "action": 89
         },
         {
          "action": 25
         },
         {
          "action": 2
         },
         {
          "action": 1
         },
         {
          "action": 12
         },
         {
          "action": 1
         },
         {
          "action": 78
         },
         {
          "action": 197
         },
         {
          "action": 15
         },
         {
          "action": 121
         },
         {
          "action": 65
         },
         {
          "action": 130
         },
         {
          "action": 2
         },
         {
          "action": 32
         },
         {
          "action": 1
         },
         {
          "action": 27
         },
         {
          "action": 1
         },
         {
          "action": 58
         },
         {
          "action": 1
         },
         {
          "action": 166
         },
         {
          "action": 40
         },
         {
          "action": 9
         },
         {
          "action": 28
         },
         {
          "action": 112
         },
         {
          "action": 6
         },
         {
          "action": 3
         },
         {
          "action": 152
         },
         {
          "action": 7
         },
         {
          "action": 4
         },
         {
          "action": 146
         },
         {
          "action": 1
         },
         {
          "action": 129
         },
         {
          "action": 3
         },
         {
          "action": 23
         },
         {
          "action": 233
         },
         {
          "action": 1
         },
         {
          "action": 99
         },
         {
          "action": 92
         },
         {
          "action": 55
         },
         {
          "action": 7
         },
         {
          "action": 32
         },
         {
          "action": 87
         },
         {
          "action": 154
         },
         {
          "action": 1
         },
         {
          "action": 85
         },
         {
          "action": 141
         },
         {
          "action": 91
         },
         {
          "action": 6
         },
         {
          "action": 106
         },
         {
          "action": 1
         },
         {
          "action": 121
         },
         {
          "action": 3
         },
         {
          "action": 2
         },
         {
          "action": 1
         },
         {
          "action": 5
         },
         {
          "action": 21
         },
         {
          "action": 86
         },
         {
          "action": 92
         },
         {
          "action": 131
         },
         {
          "action": 1
         },
         {
          "action": 8
         },
         {
          "action": 5
         },
         {
          "action": 96
         },
         {
          "action": 1
         },
         {
          "action": 2
         },
         {
          "action": 61
         },
         {
          "action": 207
         },
         {
          "action": 8
         },
         {
          "action": 118
         },
         {
          "action": 1
         },
         {
          "action": 1
         },
         {
          "action": 32
         },
         {
          "action": 44
         },
         {
          "action": 1
         },
         {
          "action": 1
         },
         {
          "action": 91
         },
         {
          "action": 14
         },
         {
          "action": 7
         },
         {
          "action": 106
         },
         {
          "action": 5
         },
         {
          "action": 16
         },
         {
          "action": 118
         },
         {
          "action": 63
         },
         {
          "action": 1
         },
         {
          "action": 95
         },
         {
          "action": 121
         },
         {
          "action": 42
         },
         {
          "action": 40
         },
         {
          "action": 17
         },
         {
          "action": 12
         },
         {
          "action": 84
         },
         {
          "action": 4
         },
         {
          "action": 2
         },
         {
          "action": 96
         },
         {
          "action": 14
         },
         {
          "action": 1
         },
         {
          "action": 63
         },
         {
          "action": 97
         },
         {
          "action": 227
         },
         {
          "action": 14
         },
         {
          "action": 7
         },
         {
          "action": 41
         },
         {
          "action": 5
         },
         {
          "action": 5
         },
         {
          "action": 3
         },
         {
          "action": 7
         },
         {
          "action": 4
         },
         {
          "action": 97
         },
         {
          "action": 2
         },
         {
          "action": 8
         },
         {
          "action": 4
         },
         {
          "action": 83
         },
         {
          "action": 6
         },
         {
          "action": 5
         },
         {
          "action": 1
         },
         {
          "action": 7
         },
         {
          "action": 4
         },
         {
          "action": 1
         },
         {
          "action": 83
         },
         {
          "action": 2
         },
         {
          "action": 2
         },
         {
          "action": 65
         },
         {
          "action": 116
         },
         {
          "action": 44
         },
         {
          "action": 6
         },
         {
          "action": 4
         },
         {
          "action": 7
         },
         {
          "action": 1
         },
         {
          "action": 1
         },
         {
          "action": 76
         },
         {
          "action": 10
         },
         {
          "action": 1
         },
         {
          "action": 154
         },
         {
          "action": 94
         },
         {
          "action": 3
         },
         {
          "action": 35
         },
         {
          "action": 83
         },
         {
          "action": 13
         },
         {
          "action": 1
         },
         {
          "action": 120
         },
         {
          "action": 102
         },
         {
          "action": 128
         },
         {
          "action": 1
         },
         {
          "action": 24
         },
         {
          "action": 134
         },
         {
          "action": 1
         },
         {
          "action": 197
         },
         {
          "action": 15
         },
         {
          "action": 2
         },
         {
          "action": 92
         },
         {
          "action": 1
         },
         {
          "action": 44
         },
         {
          "action": 187
         },
         {
          "action": 3
         },
         {
          "action": 1
         },
         {
          "action": 1
         },
         {
          "action": 2
         },
         {
          "action": 6
         },
         {
          "action": 58
         },
         {
          "action": 1
         },
         {
          "action": 5
         },
         {
          "action": 92
         },
         {
          "action": 23
         },
         {
          "action": 121
         },
         {
          "action": 6
         },
         {
          "action": 1
         },
         {
          "action": 7
         },
         {
          "action": 24
         },
         {
          "action": 84
         },
         {
          "action": 2
         },
         {
          "action": 1
         },
         {
          "action": 1
         },
         {
          "action": 51
         },
         {
          "action": 110
         },
         {
          "action": 2
         },
         {
          "action": 3
         },
         {
          "action": 55
         },
         {
          "action": 121
         },
         {
          "action": 5
         },
         {
          "action": 2
         },
         {
          "action": 125
         },
         {
          "action": 82
         },
         {
          "action": 74
         },
         {
          "action": 3
         },
         {
          "action": 123
         },
         {
          "action": 2
         },
         {
          "action": 3
         },
         {
          "action": 78
         },
         {
          "action": 1
         },
         {
          "action": 1
         },
         {
          "action": 1
         },
         {
          "action": 24
         },
         {
          "action": 88
         },
         {
          "action": 21
         },
         {
          "action": 1
         },
         {
          "action": 2
         },
         {
          "action": 15
         },
         {
          "action": 193
         },
         {
          "action": 1
         },
         {
          "action": 5
         },
         {
          "action": 59
         },
         {
          "action": 49
         },
         {
          "action": 30
         },
         {
          "action": 7
         },
         {
          "action": 62
         },
         {
          "action": 73
         },
         {
          "action": 1
         },
         {
          "action": 105
         },
         {
          "action": 120
         },
         {
          "action": 89
         },
         {
          "action": 77
         },
         {
          "action": 1
         },
         {
          "action": 5
         },
         {
          "action": 126
         },
         {
          "action": 6
         },
         {
          "action": 1
         },
         {
          "action": 2
         },
         {
          "action": 1
         },
         {
          "action": 18
         },
         {
          "action": 128
         },
         {
          "action": 3
         },
         {
          "action": 22
         },
         {
          "action": 5
         },
         {
          "action": 1
         },
         {
          "action": 1
         },
         {
          "action": 1
         },
         {
          "action": 1
         },
         {
          "action": 3
         },
         {
          "action": 3
         },
         {
          "action": 6
         },
         {
          "action": 6
         },
         {
          "action": 53
         },
         {
          "action": 1
         },
         {
          "action": 207
         },
         {
          "action": 1
         },
         {
          "action": 7
         },
         {
          "action": 138
         },
         {
          "action": 155
         },
         {
          "action": 140
         },
         {
          "action": 140
         },
         {
          "action": 64
         },
         {
          "action": 51
         },
         {
          "action": 57
         },
         {
          "action": 94
         },
         {
          "action": 136
         },
         {
          "action": 1
         },
         {
          "action": 1
         },
         {
          "action": 2
         },
         {
          "action": 198
         },
         {
          "action": 1
         },
         {
          "action": 157
         },
         {
          "action": 5
         },
         {
          "action": 3
         },
         {
          "action": 208
         },
         {
          "action": 57
         },
         {
          "action": 82
         },
         {
          "action": 4
         },
         {
          "action": 6
         },
         {
          "action": 50
         },
         {
          "action": 91
         },
         {
          "action": 2
         },
         {
          "action": 88
         },
         {
          "action": 35
         },
         {
          "action": 57
         },
         {
          "action": 1
         },
         {
          "action": 90
         },
         {
          "action": 1
         },
         {
          "action": 113
         },
         {
          "action": 1
         },
         {
          "action": 10
         },
         {
          "action": 1
         },
         {
          "action": 23
         },
         {
          "action": 1
         },
         {
          "action": 76
         },
         {
          "action": 95
         },
         {
          "action": 103
         },
         {
          "action": 112
         },
         {
          "action": 111
         },
         {
          "action": 29
         },
         {
          "action": 140
         },
         {
          "action": 38
         },
         {
          "action": 1
         },
         {
          "action": 28
         },
         {
          "action": 3
         },
         {
          "action": 133
         },
         {
          "action": 1
         },
         {
          "action": 2
         },
         {
          "action": 1
         },
         {
          "action": 3
         },
         {
          "action": 78
         },
         {
          "action": 87
         },
         {
          "action": 2
         },
         {
          "action": 2
         },
         {
          "action": 159
         },
         {
          "action": 43
         },
         {
          "action": 159
         },
         {
          "action": 89
         },
         {
          "action": 110
         },
         {
          "action": 1
         },
         {
          "action": 3
         },
         {
          "action": 1
         },
         {
          "action": 27
         },
         {
          "action": 11
         },
         {
          "action": 87
         },
         {
          "action": 9
         },
         {
          "action": 75
         },
         {
          "action": 1
         },
         {
          "action": 7
         },
         {
          "action": 4
         },
         {
          "action": 45
         },
         {
          "action": 10
         },
         {
          "action": 19
         },
         {
          "action": 2
         },
         {
          "action": 109
         },
         {
          "action": 14
         },
         {
          "action": 2
         },
         {
          "action": 2
         },
         {
          "action": 63
         },
         {
          "action": 1
         },
         {
          "action": 2
         },
         {
          "action": 40
         },
         {
          "action": 1
         },
         {
          "action": 18
         },
         {
          "action": 3
         },
         {
          "action": 95
         },
         {
          "action": 62
         },
         {
          "action": 115
         },
         {
          "action": 7
         },
         {
          "action": 1
         },
         {
          "action": 11
         },
         {
          "action": 1
         },
         {
          "action": 51
         },
         {
          "action": 135
         },
         {
          "action": 10
         },
         {
          "action": 117
         },
         {
          "action": 3
         },
         {
          "action": 1
         },
         {
          "action": 17
         },
         {
          "action": 49
         },
         {
          "action": 100
         },
         {
          "action": 1
         },
         {
          "action": 41
         },
         {
          "action": 5
         },
         {
          "action": 19
         },
         {
          "action": 9
         },
         {
          "action": 1
         },
         {
          "action": 157
         },
         {
          "action": 146
         },
         {
          "action": 5
         },
         {
          "action": 4
         },
         {
          "action": 101
         },
         {
          "action": 1
         },
         {
          "action": 1
         },
         {
          "action": 41
         },
         {
          "action": 29
         },
         {
          "action": 1
         },
         {
          "action": 131
         },
         {
          "action": 28
         },
         {
          "action": 10
         },
         {
          "action": 1
         },
         {
          "action": 1
         },
         {
          "action": 6
         },
         {
          "action": 1
         },
         {
          "action": 21
         },
         {
          "action": 39
         },
         {
          "action": 12
         },
         {
          "action": 13
         },
         {
          "action": 23
         },
         {
          "action": 1
         },
         {
          "action": 80
         },
         {
          "action": 81
         },
         {
          "action": 1
         },
         {
          "action": 125
         },
         {
          "action": 81
         },
         {
          "action": 4
         },
         {
          "action": 13
         },
         {
          "action": 42
         },
         {
          "action": 126
         },
         {
          "action": 3
         },
         {
          "action": 1
         },
         {
          "action": 4
         },
         {
          "action": 1
         },
         {
          "action": 94
         },
         {
          "action": 122
         },
         {
          "action": 74
         },
         {
          "action": 68
         },
         {
          "action": 1
         },
         {
          "action": 24
         },
         {
          "action": 1
         },
         {
          "action": 3
         },
         {
          "action": 12
         },
         {
          "action": 80
         },
         {
          "action": 2
         },
         {
          "action": 30
         },
         {
          "action": 29
         },
         {
          "action": 77
         },
         {
          "action": 1
         },
         {
          "action": 92
         },
         {
          "action": 1
         },
         {
          "action": 89
         },
         {
          "action": 95
         },
         {
          "action": 2
         },
         {
          "action": 59
         },
         {
          "action": 2
         },
         {
          "action": 68
         },
         {
          "action": 80
         },
         {
          "action": 6
         },
         {
          "action": 62
         },
         {
          "action": 64
         },
         {
          "action": 2
         },
         {
          "action": 1
         },
         {
          "action": 19
         },
         {
          "action": 168
         },
         {
          "action": 1
         },
         {
          "action": 97
         },
         {
          "action": 1
         },
         {
          "action": 2
         },
         {
          "action": 109
         },
         {
          "action": 1
         },
         {
          "action": 197
         },
         {
          "action": 4
         },
         {
          "action": 52
         },
         {
          "action": 36
         },
         {
          "action": 48
         },
         {
          "action": 1
         },
         {
          "action": 1
         },
         {
          "action": 10
         },
         {
          "action": 139
         },
         {
          "action": 20
         },
         {
          "action": 7
         },
         {
          "action": 56
         },
         {
          "action": 29
         },
         {
          "action": 1
         },
         {
          "action": 80
         },
         {
          "action": 26
         },
         {
          "action": 3
         },
         {
          "action": 1
         },
         {
          "action": 6
         },
         {
          "action": 69
         },
         {
          "action": 47
         },
         {
          "action": 1
         },
         {
          "action": 4
         },
         {
          "action": 96
         },
         {
          "action": 49
         },
         {
          "action": 32
         },
         {
          "action": 10
         },
         {
          "action": 1
         },
         {
          "action": 4
         },
         {
          "action": 1
         },
         {
          "action": 6
         },
         {
          "action": 66
         },
         {
          "action": 57
         },
         {
          "action": 3
         },
         {
          "action": 1
         },
         {
          "action": 89
         },
         {
          "action": 45
         },
         {
          "action": 6
         },
         {
          "action": 4
         },
         {
          "action": 1
         },
         {
          "action": 158
         },
         {
          "action": 125
         },
         {
          "action": 3
         },
         {
          "action": 80
         },
         {
          "action": 15
         },
         {
          "action": 5
         },
         {
          "action": 1
         },
         {
          "action": 77
         },
         {
          "action": 1
         },
         {
          "action": 113
         },
         {
          "action": 227
         },
         {
          "action": 2
         },
         {
          "action": 27
         },
         {
          "action": 69
         },
         {
          "action": 105
         },
         {
          "action": 79
         },
         {
          "action": 8
         },
         {
          "action": 36
         },
         {
          "action": 39
         },
         {
          "action": 87
         },
         {
          "action": 1
         },
         {
          "action": 1
         },
         {
          "action": 1
         },
         {
          "action": 38
         },
         {
          "action": 46
         },
         {
          "action": 234
         },
         {
          "action": 13
         },
         {
          "action": 1
         },
         {
          "action": 7
         },
         {
          "action": 107
         },
         {
          "action": 13
         },
         {
          "action": 84
         },
         {
          "action": 1
         },
         {
          "action": 77
         },
         {
          "action": 2
         },
         {
          "action": 66
         },
         {
          "action": 5
         },
         {
          "action": 94
         },
         {
          "action": 6
         },
         {
          "action": 25
         },
         {
          "action": 1
         },
         {
          "action": 14
         },
         {
          "action": 1
         },
         {
          "action": 2
         },
         {
          "action": 41
         },
         {
          "action": 68
         },
         {
          "action": 212
         },
         {
          "action": 31
         },
         {
          "action": 1
         },
         {
          "action": 6
         },
         {
          "action": 21
         },
         {
          "action": 3
         },
         {
          "action": 1
         },
         {
          "action": 1
         },
         {
          "action": 4
         },
         {
          "action": 39
         },
         {
          "action": 32
         },
         {
          "action": 139
         },
         {
          "action": 1
         },
         {
          "action": 2
         },
         {
          "action": 57
         },
         {
          "action": 78
         },
         {
          "action": 12
         },
         {
          "action": 98
         },
         {
          "action": 13
         },
         {
          "action": 52
         },
         {
          "action": 20
         },
         {
          "action": 4
         },
         {
          "action": 1
         },
         {
          "action": 177
         },
         {
          "action": 12
         },
         {
          "action": 82
         },
         {
          "action": 5
         },
         {
          "action": 129
         },
         {
          "action": 20
         },
         {
          "action": 205
         },
         {
          "action": 21
         },
         {
          "action": 20
         },
         {
          "action": 4
         },
         {
          "action": 2
         },
         {
          "action": 77
         },
         {
          "action": 87
         },
         {
          "action": 1
         },
         {
          "action": 158
         },
         {
          "action": 9
         },
         {
          "action": 13
         },
         {
          "action": 207
         },
         {
          "action": 1
         },
         {
          "action": 124
         },
         {
          "action": 98
         },
         {
          "action": 17
         },
         {
          "action": 2
         },
         {
          "action": 1
         },
         {
          "action": 1
         },
         {
          "action": 2
         },
         {
          "action": 66
         },
         {
          "action": 30
         },
         {
          "action": 3
         },
         {
          "action": 13
         },
         {
          "action": 2
         },
         {
          "action": 3
         },
         {
          "action": 2
         },
         {
          "action": 22
         },
         {
          "action": 45
         },
         {
          "action": 20
         },
         {
          "action": 5
         },
         {
          "action": 72
         },
         {
          "action": 1
         },
         {
          "action": 13
         },
         {
          "action": 1
         },
         {
          "action": 5
         },
         {
          "action": 136
         },
         {
          "action": 1
         },
         {
          "action": 1
         },
         {
          "action": 2
         },
         {
          "action": 6
         },
         {
          "action": 2
         },
         {
          "action": 1
         },
         {
          "action": 125
         },
         {
          "action": 68
         },
         {
          "action": 236
         },
         {
          "action": 35
         },
         {
          "action": 1
         },
         {
          "action": 14
         },
         {
          "action": 143
         },
         {
          "action": 1
         },
         {
          "action": 49
         },
         {
          "action": 2
         },
         {
          "action": 1
         },
         {
          "action": 1
         },
         {
          "action": 1
         },
         {
          "action": 49
         },
         {
          "action": 85
         },
         {
          "action": 5
         },
         {
          "action": 2
         },
         {
          "action": 83
         },
         {
          "action": 57
         },
         {
          "action": 8
         },
         {
          "action": 109
         },
         {
          "action": 11
         },
         {
          "action": 1
         },
         {
          "action": 119
         },
         {
          "action": 138
         },
         {
          "action": 177
         },
         {
          "action": 15
         },
         {
          "action": 34
         },
         {
          "action": 23
         },
         {
          "action": 166
         },
         {
          "action": 15
         },
         {
          "action": 1
         },
         {
          "action": 52
         },
         {
          "action": 4
         },
         {
          "action": 69
         },
         {
          "action": 3
         },
         {
          "action": 1
         },
         {
          "action": 1
         },
         {
          "action": 2
         },
         {
          "action": 1
         },
         {
          "action": 2
         },
         {
          "action": 24
         },
         {
          "action": 109
         },
         {
          "action": 91
         },
         {
          "action": 1
         },
         {
          "action": 1
         },
         {
          "action": 2
         },
         {
          "action": 54
         },
         {
          "action": 8
         },
         {
          "action": 8
         },
         {
          "action": 68
         },
         {
          "action": 1
         },
         {
          "action": 56
         },
         {
          "action": 5
         },
         {
          "action": 99
         },
         {
          "action": 4
         },
         {
          "action": 91
         },
         {
          "action": 1
         },
         {
          "action": 2
         },
         {
          "action": 12
         },
         {
          "action": 6
         },
         {
          "action": 13
         },
         {
          "action": 13
         },
         {
          "action": 3
         },
         {
          "action": 1
         },
         {
          "action": 63
         },
         {
          "action": 57
         },
         {
          "action": 89
         },
         {
          "action": 65
         },
         {
          "action": 1
         },
         {
          "action": 16
         },
         {
          "action": 34
         },
         {
          "action": 24
         },
         {
          "action": 119
         },
         {
          "action": 118
         },
         {
          "action": 162
         },
         {
          "action": 16
         },
         {
          "action": 67
         },
         {
          "action": 20
         },
         {
          "action": 2
         },
         {
          "action": 1
         },
         {
          "action": 110
         },
         {
          "action": 65
         },
         {
          "action": 1
         },
         {
          "action": 2
         },
         {
          "action": 5
         },
         {
          "action": 6
         },
         {
          "action": 2
         },
         {
          "action": 1
         },
         {
          "action": 2
         },
         {
          "action": 1
         },
         {
          "action": 92
         },
         {
          "action": 36
         },
         {
          "action": 145
         },
         {
          "action": 11
         },
         {
          "action": 19
         },
         {
          "action": 125
         },
         {
          "action": 9
         },
         {
          "action": 1
         },
         {
          "action": 14
         },
         {
          "action": 86
         },
         {
          "action": 3
         },
         {
          "action": 2
         },
         {
          "action": 1
         },
         {
          "action": 6
         },
         {
          "action": 2
         },
         {
          "action": 57
         },
         {
          "action": 22
         },
         {
          "action": 80
         },
         {
          "action": 153
         },
         {
          "action": 11
         },
         {
          "action": 69
         },
         {
          "action": 78
         },
         {
          "action": 73
         },
         {
          "action": 225
         },
         {
          "action": 1
         },
         {
          "action": 190
         },
         {
          "action": 113
         },
         {
          "action": 1
         },
         {
          "action": 63
         },
         {
          "action": 3
         },
         {
          "action": 31
         },
         {
          "action": 14
         },
         {
          "action": 44
         },
         {
          "action": 85
         },
         {
          "action": 72
         },
         {
          "action": 1
         },
         {
          "action": 20
         },
         {
          "action": 1
         },
         {
          "action": 9
         },
         {
          "action": 5
         },
         {
          "action": 2
         },
         {
          "action": 36
         },
         {
          "action": 54
         },
         {
          "action": 9
         },
         {
          "action": 1
         },
         {
          "action": 3
         },
         {
          "action": 100
         },
         {
          "action": 22
         },
         {
          "action": 4
         },
         {
          "action": 37
         },
         {
          "action": 37
         },
         {
          "action": 145
         },
         {
          "action": 5
         },
         {
          "action": 13
         },
         {
          "action": 10
         },
         {
          "action": 13
         },
         {
          "action": 108
         },
         {
          "action": 23
         },
         {
          "action": 39
         },
         {
          "action": 5
         },
         {
          "action": 106
         },
         {
          "action": 19
         },
         {
          "action": 70
         },
         {
          "action": 1
         },
         {
          "action": 2
         },
         {
          "action": 95
         },
         {
          "action": 233
         },
         {
          "action": 39
         },
         {
          "action": 107
         },
         {
          "action": 100
         },
         {
          "action": 1
         },
         {
          "action": 1
         },
         {
          "action": 56
         },
         {
          "action": 2
         },
         {
          "action": 1
         },
         {
          "action": 20
         },
         {
          "action": 7
         },
         {
          "action": 1
         },
         {
          "action": 7
         },
         {
          "action": 1
         },
         {
          "action": 1
         },
         {
          "action": 1
         },
         {
          "action": 1
         },
         {
          "action": 1
         },
         {
          "action": 1
         },
         {
          "action": 10
         },
         {
          "action": 1
         },
         {
          "action": 3
         },
         {
          "action": 44
         },
         {
          "action": 61
         },
         {
          "action": 1
         },
         {
          "action": 3
         },
         {
          "action": 3
         },
         {
          "action": 1
         },
         {
          "action": 1
         },
         {
          "action": 8
         },
         {
          "action": 2
         },
         {
          "action": 103
         },
         {
          "action": 37
         },
         {
          "action": 2
         },
         {
          "action": 15
         },
         {
          "action": 4
         },
         {
          "action": 2
         },
         {
          "action": 110
         },
         {
          "action": 74
         },
         {
          "action": 11
         },
         {
          "action": 129
         },
         {
          "action": 131
         },
         {
          "action": 13
         },
         {
          "action": 8
         },
         {
          "action": 31
         },
         {
          "action": 187
         },
         {
          "action": 1
         },
         {
          "action": 115
         },
         {
          "action": 1
         },
         {
          "action": 1
         },
         {
          "action": 23
         },
         {
          "action": 1
         },
         {
          "action": 207
         },
         {
          "action": 5
         },
         {
          "action": 14
         },
         {
          "action": 31
         },
         {
          "action": 24
         },
         {
          "action": 42
         },
         {
          "action": 79
         },
         {
          "action": 1
         },
         {
          "action": 3
         },
         {
          "action": 4
         },
         {
          "action": 100
         },
         {
          "action": 118
         },
         {
          "action": 1
         },
         {
          "action": 1
         },
         {
          "action": 105
         },
         {
          "action": 2
         },
         {
          "action": 64
         },
         {
          "action": 1
         },
         {
          "action": 51
         },
         {
          "action": 2
         },
         {
          "action": 40
         },
         {
          "action": 167
         },
         {
          "action": 131
         },
         {
          "action": 77
         },
         {
          "action": 2
         },
         {
          "action": 1
         },
         {
          "action": 121
         },
         {
          "action": 161
         },
         {
          "action": 2
         },
         {
          "action": 162
         },
         {
          "action": 1
         },
         {
          "action": 81
         },
         {
          "action": 112
         },
         {
          "action": 13
         },
         {
          "action": 1
         },
         {
          "action": 2
         },
         {
          "action": 22
         },
         {
          "action": 121
         },
         {
          "action": 1
         },
         {
          "action": 6
         },
         {
          "action": 111
         },
         {
          "action": 8
         },
         {
          "action": 95
         },
         {
          "action": 1
         },
         {
          "action": 1
         },
         {
          "action": 1
         },
         {
          "action": 76
         },
         {
          "action": 1
         },
         {
          "action": 2
         },
         {
          "action": 2
         },
         {
          "action": 89
         },
         {
          "action": 1
         },
         {
          "action": 7
         },
         {
          "action": 112
         },
         {
          "action": 3
         },
         {
          "action": 111
         },
         {
          "action": 8
         },
         {
          "action": 38
         },
         {
          "action": 126
         },
         {
          "action": 16
         },
         {
          "action": 72
         },
         {
          "action": 23
         },
         {
          "action": 6
         },
         {
          "action": 7
         },
         {
          "action": 1
         },
         {
          "action": 81
         },
         {
          "action": 1
         },
         {
          "action": 141
         },
         {
          "action": 1
         },
         {
          "action": 16
         },
         {
          "action": 118
         },
         {
          "action": 2
         },
         {
          "action": 1
         },
         {
          "action": 37
         },
         {
          "action": 98
         },
         {
          "action": 4
         },
         {
          "action": 1
         },
         {
          "action": 78
         },
         {
          "action": 54
         },
         {
          "action": 2
         },
         {
          "action": 1
         },
         {
          "action": 37
         },
         {
          "action": 127
         },
         {
          "action": 28
         },
         {
          "action": 99
         },
         {
          "action": 133
         },
         {
          "action": 142
         },
         {
          "action": 72
         },
         {
          "action": 4
         },
         {
          "action": 129
         },
         {
          "action": 4
         },
         {
          "action": 7
         },
         {
          "action": 1
         },
         {
          "action": 122
         },
         {
          "action": 1
         },
         {
          "action": 242
         },
         {
          "action": 2
         },
         {
          "action": 37
         },
         {
          "action": 61
         },
         {
          "action": 8
         },
         {
          "action": 102
         },
         {
          "action": 22
         },
         {
          "action": 1
         },
         {
          "action": 33
         },
         {
          "action": 81
         },
         {
          "action": 123
         },
         {
          "action": 19
         },
         {
          "action": 2
         },
         {
          "action": 135
         },
         {
          "action": 3
         },
         {
          "action": 1
         },
         {
          "action": 1
         },
         {
          "action": 30
         },
         {
          "action": 10
         },
         {
          "action": 70
         },
         {
          "action": 119
         },
         {
          "action": 1
         },
         {
          "action": 1
         },
         {
          "action": 52
         },
         {
          "action": 151
         },
         {
          "action": 90
         },
         {
          "action": 2
         },
         {
          "action": 6
         },
         {
          "action": 2
         },
         {
          "action": 4
         },
         {
          "action": 2
         },
         {
          "action": 51
         },
         {
          "action": 79
         },
         {
          "action": 10
         },
         {
          "action": 34
         },
         {
          "action": 1
         },
         {
          "action": 2
         },
         {
          "action": 154
         },
         {
          "action": 11
         },
         {
          "action": 190
         },
         {
          "action": 111
         },
         {
          "action": 12
         },
         {
          "action": 2
         },
         {
          "action": 30
         },
         {
          "action": 131
         },
         {
          "action": 136
         },
         {
          "action": 4
         },
         {
          "action": 4
         },
         {
          "action": 186
         },
         {
          "action": 2
         },
         {
          "action": 3
         },
         {
          "action": 14
         },
         {
          "action": 1
         },
         {
          "action": 15
         },
         {
          "action": 1
         },
         {
          "action": 2
         },
         {
          "action": 41
         },
         {
          "action": 151
         },
         {
          "action": 88
         },
         {
          "action": 163
         },
         {
          "action": 120
         },
         {
          "action": 1
         },
         {
          "action": 131
         },
         {
          "action": 4
         },
         {
          "action": 3
         },
         {
          "action": 31
         },
         {
          "action": 1
         },
         {
          "action": 3
         },
         {
          "action": 12
         },
         {
          "action": 1
         },
         {
          "action": 68
         },
         {
          "action": 1
         },
         {
          "action": 12
         },
         {
          "action": 25
         },
         {
          "action": 1
         },
         {
          "action": 3
         },
         {
          "action": 1
         },
         {
          "action": 135
         },
         {
          "action": 1
         },
         {
          "action": 1
         },
         {
          "action": 41
         },
         {
          "action": 1
         },
         {
          "action": 3
         },
         {
          "action": 1
         },
         {
          "action": 2
         },
         {
          "action": 2
         },
         {
          "action": 53
         },
         {
          "action": 153
         },
         {
          "action": 9
         },
         {
          "action": 105
         },
         {
          "action": 5
         },
         {
          "action": 11
         },
         {
          "action": 62
         },
         {
          "action": 1
         },
         {
          "action": 185
         },
         {
          "action": 4
         },
         {
          "action": 34
         },
         {
          "action": 1
         },
         {
          "action": 56
         },
         {
          "action": 39
         },
         {
          "action": 26
         },
         {
          "action": 50
         },
         {
          "action": 93
         },
         {
          "action": 207
         },
         {
          "action": 18
         },
         {
          "action": 1
         },
         {
          "action": 1
         },
         {
          "action": 93
         },
         {
          "action": 43
         },
         {
          "action": 2
         },
         {
          "action": 16
         },
         {
          "action": 22
         },
         {
          "action": 34
         },
         {
          "action": 22
         },
         {
          "action": 131
         },
         {
          "action": 234
         },
         {
          "action": 39
         },
         {
          "action": 42
         },
         {
          "action": 120
         },
         {
          "action": 100
         },
         {
          "action": 1
         },
         {
          "action": 90
         },
         {
          "action": 20
         },
         {
          "action": 1
         },
         {
          "action": 1
         },
         {
          "action": 1
         },
         {
          "action": 99
         },
         {
          "action": 4
         },
         {
          "action": 1
         },
         {
          "action": 74
         },
         {
          "action": 132
         },
         {
          "action": 2
         },
         {
          "action": 1
         },
         {
          "action": 31
         },
         {
          "action": 59
         },
         {
          "action": 1
         },
         {
          "action": 29
         },
         {
          "action": 26
         },
         {
          "action": 27
         },
         {
          "action": 1
         },
         {
          "action": 2
         },
         {
          "action": 2
         },
         {
          "action": 105
         },
         {
          "action": 94
         },
         {
          "action": 2
         },
         {
          "action": 27
         },
         {
          "action": 82
         },
         {
          "action": 1
         },
         {
          "action": 1
         },
         {
          "action": 3
         },
         {
          "action": 219
         },
         {
          "action": 62
         },
         {
          "action": 5
         },
         {
          "action": 1
         },
         {
          "action": 2
         },
         {
          "action": 160
         },
         {
          "action": 4
         },
         {
          "action": 53
         },
         {
          "action": 8
         },
         {
          "action": 4
         },
         {
          "action": 1
         },
         {
          "action": 4
         },
         {
          "action": 149
         },
         {
          "action": 2
         },
         {
          "action": 2
         },
         {
          "action": 2
         },
         {
          "action": 1
         },
         {
          "action": 24
         },
         {
          "action": 1
         },
         {
          "action": 4
         },
         {
          "action": 11
         },
         {
          "action": 48
         },
         {
          "action": 190
         },
         {
          "action": 1
         },
         {
          "action": 4
         },
         {
          "action": 69
         },
         {
          "action": 1
         },
         {
          "action": 190
         },
         {
          "action": 106
         },
         {
          "action": 145
         },
         {
          "action": 1
         },
         {
          "action": 1
         },
         {
          "action": 92
         },
         {
          "action": 41
         },
         {
          "action": 15
         },
         {
          "action": 118
         },
         {
          "action": 1
         },
         {
          "action": 123
         },
         {
          "action": 16
         },
         {
          "action": 86
         },
         {
          "action": 99
         },
         {
          "action": 1
         },
         {
          "action": 60
         },
         {
          "action": 50
         },
         {
          "action": 7
         },
         {
          "action": 1
         },
         {
          "action": 123
         },
         {
          "action": 2
         },
         {
          "action": 28
         },
         {
          "action": 80
         },
         {
          "action": 7
         },
         {
          "action": 10
         },
         {
          "action": 39
         },
         {
          "action": 77
         },
         {
          "action": 213
         },
         {
          "action": 9
         },
         {
          "action": 2
         },
         {
          "action": 112
         },
         {
          "action": 135
         },
         {
          "action": 34
         },
         {
          "action": 84
         },
         {
          "action": 149
         },
         {
          "action": 1
         },
         {
          "action": 51
         },
         {
          "action": 2
         },
         {
          "action": 48
         },
         {
          "action": 37
         },
         {
          "action": 190
         },
         {
          "action": 89
         },
         {
          "action": 101
         },
         {
          "action": 122
         },
         {
          "action": 12
         },
         {
          "action": 3
         },
         {
          "action": 131
         },
         {
          "action": 82
         },
         {
          "action": 1
         },
         {
          "action": 1
         },
         {
          "action": 209
         },
         {
          "action": 27
         },
         {
          "action": 3
         },
         {
          "action": 22
         },
         {
          "action": 19
         },
         {
          "action": 101
         },
         {
          "action": 23
         },
         {
          "action": 14
         },
         {
          "action": 7
         },
         {
          "action": 2
         },
         {
          "action": 24
         },
         {
          "action": 112
         },
         {
          "action": 4
         },
         {
          "action": 2
         },
         {
          "action": 70
         },
         {
          "action": 3
         },
         {
          "action": 1
         },
         {
          "action": 19
         },
         {
          "action": 47
         },
         {
          "action": 103
         },
         {
          "action": 120
         },
         {
          "action": 8
         },
         {
          "action": 3
         },
         {
          "action": 1
         },
         {
          "action": 115
         },
         {
          "action": 199
         },
         {
          "action": 126
         },
         {
          "action": 64
         },
         {
          "action": 90
         },
         {
          "action": 18
         },
         {
          "action": 30
         },
         {
          "action": 87
         },
         {
          "action": 1
         },
         {
          "action": 2
         },
         {
          "action": 4
         },
         {
          "action": 138
         },
         {
          "action": 182
         },
         {
          "action": 55
         },
         {
          "action": 2
         },
         {
          "action": 1
         },
         {
          "action": 27
         },
         {
          "action": 20
         },
         {
          "action": 181
         },
         {
          "action": 65
         },
         {
          "action": 189
         },
         {
          "action": 60
         },
         {
          "action": 1
         },
         {
          "action": 2
         },
         {
          "action": 92
         },
         {
          "action": 154
         },
         {
          "action": 70
         },
         {
          "action": 2
         },
         {
          "action": 129
         },
         {
          "action": 141
         },
         {
          "action": 15
         },
         {
          "action": 149
         },
         {
          "action": 2
         },
         {
          "action": 95
         },
         {
          "action": 1
         },
         {
          "action": 91
         },
         {
          "action": 3
         },
         {
          "action": 89
         },
         {
          "action": 1
         },
         {
          "action": 92
         },
         {
          "action": 40
         },
         {
          "action": 1
         },
         {
          "action": 169
         },
         {
          "action": 137
         },
         {
          "action": 9
         },
         {
          "action": 11
         },
         {
          "action": 10
         },
         {
          "action": 1
         },
         {
          "action": 123
         },
         {
          "action": 1
         },
         {
          "action": 5
         },
         {
          "action": 3
         },
         {
          "action": 13
         },
         {
          "action": 3
         },
         {
          "action": 15
         },
         {
          "action": 78
         },
         {
          "action": 116
         },
         {
          "action": 1
         },
         {
          "action": 3
         },
         {
          "action": 6
         },
         {
          "action": 109
         },
         {
          "action": 98
         },
         {
          "action": 5
         },
         {
          "action": 12
         },
         {
          "action": 107
         },
         {
          "action": 80
         },
         {
          "action": 8
         },
         {
          "action": 68
         },
         {
          "action": 1
         },
         {
          "action": 1
         },
         {
          "action": 6
         },
         {
          "action": 1
         },
         {
          "action": 124
         },
         {
          "action": 100
         },
         {
          "action": 1
         },
         {
          "action": 23
         },
         {
          "action": 61
         },
         {
          "action": 27
         },
         {
          "action": 59
         },
         {
          "action": 2
         },
         {
          "action": 17
         },
         {
          "action": 76
         },
         {
          "action": 59
         },
         {
          "action": 1
         },
         {
          "action": 114
         },
         {
          "action": 55
         },
         {
          "action": 8
         },
         {
          "action": 3
         },
         {
          "action": 76
         },
         {
          "action": 12
         },
         {
          "action": 25
         },
         {
          "action": 1
         },
         {
          "action": 3
         },
         {
          "action": 149
         },
         {
          "action": 3
         },
         {
          "action": 1
         },
         {
          "action": 34
         },
         {
          "action": 10
         },
         {
          "action": 3
         },
         {
          "action": 26
         },
         {
          "action": 2
         },
         {
          "action": 1
         },
         {
          "action": 1
         },
         {
          "action": 1
         },
         {
          "action": 124
         },
         {
          "action": 2
         },
         {
          "action": 13
         },
         {
          "action": 56
         },
         {
          "action": 3
         },
         {
          "action": 23
         },
         {
          "action": 67
         },
         {
          "action": 1
         },
         {
          "action": 109
         },
         {
          "action": 17
         },
         {
          "action": 36
         },
         {
          "action": 1
         },
         {
          "action": 20
         },
         {
          "action": 1
         },
         {
          "action": 11
         },
         {
          "action": 71
         },
         {
          "action": 46
         },
         {
          "action": 109
         },
         {
          "action": 1
         },
         {
          "action": 69
         },
         {
          "action": 173
         },
         {
          "action": 1
         },
         {
          "action": 218
         },
         {
          "action": 64
         },
         {
          "action": 67
         },
         {
          "action": 1
         },
         {
          "action": 1
         },
         {
          "action": 120
         },
         {
          "action": 53
         },
         {
          "action": 1
         },
         {
          "action": 1
         },
         {
          "action": 113
         },
         {
          "action": 1
         },
         {
          "action": 45
         },
         {
          "action": 14
         },
         {
          "action": 2
         },
         {
          "action": 5
         },
         {
          "action": 7
         },
         {
          "action": 6
         },
         {
          "action": 58
         },
         {
          "action": 26
         },
         {
          "action": 83
         },
         {
          "action": 5
         },
         {
          "action": 64
         },
         {
          "action": 2
         },
         {
          "action": 199
         },
         {
          "action": 27
         },
         {
          "action": 1
         },
         {
          "action": 1
         },
         {
          "action": 31
         },
         {
          "action": 1
         },
         {
          "action": 1
         },
         {
          "action": 40
         },
         {
          "action": 90
         },
         {
          "action": 3
         },
         {
          "action": 86
         },
         {
          "action": 131
         },
         {
          "action": 52
         },
         {
          "action": 1
         },
         {
          "action": 107
         },
         {
          "action": 1
         },
         {
          "action": 34
         },
         {
          "action": 76
         },
         {
          "action": 1
         },
         {
          "action": 1
         },
         {
          "action": 76
         },
         {
          "action": 1
         },
         {
          "action": 73
         },
         {
          "action": 29
         },
         {
          "action": 163
         },
         {
          "action": 1
         },
         {
          "action": 1
         },
         {
          "action": 37
         },
         {
          "action": 6
         },
         {
          "action": 32
         },
         {
          "action": 46
         },
         {
          "action": 1
         },
         {
          "action": 3
         },
         {
          "action": 23
         },
         {
          "action": 21
         },
         {
          "action": 23
         },
         {
          "action": 9
         },
         {
          "action": 55
         },
         {
          "action": 12
         },
         {
          "action": 2
         },
         {
          "action": 1
         },
         {
          "action": 24
         },
         {
          "action": 1
         },
         {
          "action": 115
         },
         {
          "action": 18
         },
         {
          "action": 128
         },
         {
          "action": 4
         },
         {
          "action": 3
         },
         {
          "action": 4
         },
         {
          "action": 11
         },
         {
          "action": 104
         },
         {
          "action": 8
         },
         {
          "action": 27
         },
         {
          "action": 59
         },
         {
          "action": 111
         },
         {
          "action": 8
         },
         {
          "action": 2
         },
         {
          "action": 104
         },
         {
          "action": 1
         },
         {
          "action": 134
         },
         {
          "action": 72
         },
         {
          "action": 116
         },
         {
          "action": 1
         },
         {
          "action": 1
         },
         {
          "action": 5
         },
         {
          "action": 2
         },
         {
          "action": 2
         },
         {
          "action": 51
         },
         {
          "action": 78
         },
         {
          "action": 174
         },
         {
          "action": 29
         },
         {
          "action": 75
         },
         {
          "action": 57
         },
         {
          "action": 40
         },
         {
          "action": 1
         },
         {
          "action": 1
         },
         {
          "action": 90
         },
         {
          "action": 1
         },
         {
          "action": 1
         },
         {
          "action": 79
         },
         {
          "action": 1
         },
         {
          "action": 105
         },
         {
          "action": 1
         },
         {
          "action": 1
         },
         {
          "action": 186
         },
         {
          "action": 5
         },
         {
          "action": 5
         },
         {
          "action": 40
         },
         {
          "action": 1
         },
         {
          "action": 23
         },
         {
          "action": 72
         },
         {
          "action": 1
         },
         {
          "action": 83
         },
         {
          "action": 40
         },
         {
          "action": 34
         },
         {
          "action": 2
         },
         {
          "action": 4
         },
         {
          "action": 1
         },
         {
          "action": 51
         },
         {
          "action": 40
         },
         {
          "action": 89
         },
         {
          "action": 103
         },
         {
          "action": 46
         },
         {
          "action": 1
         },
         {
          "action": 94
         },
         {
          "action": 102
         },
         {
          "action": 1
         },
         {
          "action": 10
         },
         {
          "action": 40
         },
         {
          "action": 2
         },
         {
          "action": 66
         },
         {
          "action": 1
         },
         {
          "action": 54
         },
         {
          "action": 1
         },
         {
          "action": 16
         },
         {
          "action": 42
         },
         {
          "action": 75
         },
         {
          "action": 169
         },
         {
          "action": 12
         },
         {
          "action": 39
         },
         {
          "action": 7
         },
         {
          "action": 59
         },
         {
          "action": 2
         },
         {
          "action": 174
         },
         {
          "action": 5
         },
         {
          "action": 1
         },
         {
          "action": 1
         },
         {
          "action": 74
         },
         {
          "action": 5
         },
         {
          "action": 1
         },
         {
          "action": 2
         },
         {
          "action": 27
         },
         {
          "action": 4
         },
         {
          "action": 3
         },
         {
          "action": 80
         },
         {
          "action": 10
         },
         {
          "action": 15
         },
         {
          "action": 44
         },
         {
          "action": 3
         },
         {
          "action": 143
         },
         {
          "action": 34
         },
         {
          "action": 2
         },
         {
          "action": 1
         },
         {
          "action": 15
         },
         {
          "action": 160
         },
         {
          "action": 33
         },
         {
          "action": 83
         },
         {
          "action": 93
         },
         {
          "action": 129
         },
         {
          "action": 9
         },
         {
          "action": 10
         },
         {
          "action": 1
         },
         {
          "action": 5
         },
         {
          "action": 173
         },
         {
          "action": 3
         },
         {
          "action": 3
         },
         {
          "action": 38
         },
         {
          "action": 1
         },
         {
          "action": 1
         },
         {
          "action": 1
         },
         {
          "action": 17
         },
         {
          "action": 75
         },
         {
          "action": 6
         },
         {
          "action": 1
         },
         {
          "action": 41
         },
         {
          "action": 89
         },
         {
          "action": 188
         },
         {
          "action": 124
         },
         {
          "action": 1
         },
         {
          "action": 192
         },
         {
          "action": 108
         },
         {
          "action": 1
         },
         {
          "action": 22
         },
         {
          "action": 25
         },
         {
          "action": 7
         },
         {
          "action": 70
         },
         {
          "action": 164
         },
         {
          "action": 29
         },
         {
          "action": 1
         },
         {
          "action": 20
         },
         {
          "action": 87
         },
         {
          "action": 1
         },
         {
          "action": 69
         },
         {
          "action": 52
         },
         {
          "action": 243
         },
         {
          "action": 114
         },
         {
          "action": 40
         },
         {
          "action": 76
         },
         {
          "action": 1
         },
         {
          "action": 1
         },
         {
          "action": 108
         },
         {
          "action": 2
         },
         {
          "action": 1
         },
         {
          "action": 49
         },
         {
          "action": 6
         },
         {
          "action": 2
         },
         {
          "action": 1
         },
         {
          "action": 20
         },
         {
          "action": 70
         },
         {
          "action": 105
         },
         {
          "action": 120
         },
         {
          "action": 40
         },
         {
          "action": 29
         },
         {
          "action": 3
         },
         {
          "action": 1
         },
         {
          "action": 67
         },
         {
          "action": 1
         },
         {
          "action": 52
         },
         {
          "action": 107
         },
         {
          "action": 110
         },
         {
          "action": 92
         },
         {
          "action": 128
         },
         {
          "action": 74
         },
         {
          "action": 2
         },
         {
          "action": 141
         },
         {
          "action": 7
         },
         {
          "action": 10
         },
         {
          "action": 1
         },
         {
          "action": 36
         },
         {
          "action": 212
         },
         {
          "action": 9
         },
         {
          "action": 150
         },
         {
          "action": 91
         },
         {
          "action": 2
         },
         {
          "action": 14
         },
         {
          "action": 216
         },
         {
          "action": 15
         },
         {
          "action": 56
         },
         {
          "action": 8
         },
         {
          "action": 2
         },
         {
          "action": 1
         },
         {
          "action": 46
         },
         {
          "action": 1
         },
         {
          "action": 2
         },
         {
          "action": 79
         },
         {
          "action": 10
         },
         {
          "action": 99
         },
         {
          "action": 1
         },
         {
          "action": 115
         },
         {
          "action": 69
         },
         {
          "action": 1
         },
         {
          "action": 7
         },
         {
          "action": 9
         },
         {
          "action": 1
         },
         {
          "action": 29
         },
         {
          "action": 2
         },
         {
          "action": 75
         },
         {
          "action": 158
         },
         {
          "action": 6
         },
         {
          "action": 40
         },
         {
          "action": 1
         },
         {
          "action": 6
         },
         {
          "action": 2
         },
         {
          "action": 28
         },
         {
          "action": 23
         },
         {
          "action": 1
         },
         {
          "action": 2
         },
         {
          "action": 37
         },
         {
          "action": 1
         },
         {
          "action": 2
         },
         {
          "action": 3
         },
         {
          "action": 101
         },
         {
          "action": 1
         },
         {
          "action": 40
         },
         {
          "action": 89
         },
         {
          "action": 1
         },
         {
          "action": 109
         },
         {
          "action": 2
         },
         {
          "action": 150
         },
         {
          "action": 15
         },
         {
          "action": 38
         },
         {
          "action": 5
         },
         {
          "action": 2
         },
         {
          "action": 51
         },
         {
          "action": 1
         },
         {
          "action": 1
         },
         {
          "action": 43
         },
         {
          "action": 138
         },
         {
          "action": 151
         },
         {
          "action": 1
         },
         {
          "action": 46
         },
         {
          "action": 9
         },
         {
          "action": 13
         },
         {
          "action": 2
         },
         {
          "action": 122
         },
         {
          "action": 10
         },
         {
          "action": 41
         },
         {
          "action": 1
         },
         {
          "action": 8
         },
         {
          "action": 1
         },
         {
          "action": 4
         },
         {
          "action": 127
         },
         {
          "action": 10
         },
         {
          "action": 1
         },
         {
          "action": 37
         },
         {
          "action": 10
         },
         {
          "action": 1
         },
         {
          "action": 8
         },
         {
          "action": 35
         },
         {
          "action": 66
         },
         {
          "action": 1
         },
         {
          "action": 5
         },
         {
          "action": 20
         },
         {
          "action": 53
         },
         {
          "action": 11
         },
         {
          "action": 71
         },
         {
          "action": 238
         },
         {
          "action": 1
         },
         {
          "action": 121
         },
         {
          "action": 13
         },
         {
          "action": 1
         },
         {
          "action": 7
         },
         {
          "action": 8
         },
         {
          "action": 2
         },
         {
          "action": 1
         },
         {
          "action": 88
         },
         {
          "action": 15
         },
         {
          "action": 6
         },
         {
          "action": 1
         },
         {
          "action": 164
         },
         {
          "action": 71
         },
         {
          "action": 1
         },
         {
          "action": 131
         },
         {
          "action": 20
         },
         {
          "action": 109
         },
         {
          "action": 22
         },
         {
          "action": 1
         },
         {
          "action": 3
         },
         {
          "action": 165
         },
         {
          "action": 15
         },
         {
          "action": 12
         },
         {
          "action": 52
         },
         {
          "action": 5
         },
         {
          "action": 55
         },
         {
          "action": 13
         },
         {
          "action": 79
         },
         {
          "action": 1
         },
         {
          "action": 71
         },
         {
          "action": 2
         },
         {
          "action": 191
         },
         {
          "action": 112
         },
         {
          "action": 166
         },
         {
          "action": 2
         },
         {
          "action": 11
         },
         {
          "action": 3
         },
         {
          "action": 2
         },
         {
          "action": 58
         },
         {
          "action": 2
         },
         {
          "action": 1
         },
         {
          "action": 9
         },
         {
          "action": 8
         },
         {
          "action": 1
         },
         {
          "action": 17
         },
         {
          "action": 5
         },
         {
          "action": 8
         },
         {
          "action": 2
         },
         {
          "action": 47
         },
         {
          "action": 42
         },
         {
          "action": 1
         },
         {
          "action": 4
         },
         {
          "action": 20
         },
         {
          "action": 80
         },
         {
          "action": 5
         },
         {
          "action": 1
         },
         {
          "action": 118
         },
         {
          "action": 2
         },
         {
          "action": 163
         },
         {
          "action": 70
         },
         {
          "action": 156
         },
         {
          "action": 5
         },
         {
          "action": 118
         },
         {
          "action": 3
         },
         {
          "action": 92
         },
         {
          "action": 16
         },
         {
          "action": 44
         },
         {
          "action": 94
         },
         {
          "action": 72
         },
         {
          "action": 11
         },
         {
          "action": 95
         },
         {
          "action": 1
         },
         {
          "action": 162
         },
         {
          "action": 77
         },
         {
          "action": 8
         },
         {
          "action": 58
         },
         {
          "action": 110
         },
         {
          "action": 153
         },
         {
          "action": 63
         },
         {
          "action": 57
         },
         {
          "action": 127
         },
         {
          "action": 172
         },
         {
          "action": 3
         },
         {
          "action": 3
         },
         {
          "action": 117
         },
         {
          "action": 203
         },
         {
          "action": 211
         },
         {
          "action": 45
         },
         {
          "action": 1
         },
         {
          "action": 29
         },
         {
          "action": 11
         },
         {
          "action": 2
         },
         {
          "action": 13
         },
         {
          "action": 161
         },
         {
          "action": 10
         },
         {
          "action": 101
         },
         {
          "action": 121
         },
         {
          "action": 130
         },
         {
          "action": 66
         },
         {
          "action": 1
         },
         {
          "action": 43
         },
         {
          "action": 30
         },
         {
          "action": 103
         },
         {
          "action": 1
         },
         {
          "action": 21
         },
         {
          "action": 1
         },
         {
          "action": 1
         },
         {
          "action": 2
         },
         {
          "action": 1
         },
         {
          "action": 1
         },
         {
          "action": 50
         },
         {
          "action": 9
         },
         {
          "action": 1
         },
         {
          "action": 17
         },
         {
          "action": 57
         },
         {
          "action": 4
         },
         {
          "action": 131
         },
         {
          "action": 27
         },
         {
          "action": 2
         },
         {
          "action": 1
         },
         {
          "action": 61
         },
         {
          "action": 4
         },
         {
          "action": 18
         },
         {
          "action": 45
         },
         {
          "action": 6
         },
         {
          "action": 99
         },
         {
          "action": 1
         },
         {
          "action": 212
         },
         {
          "action": 5
         },
         {
          "action": 27
         },
         {
          "action": 101
         },
         {
          "action": 1
         },
         {
          "action": 38
         },
         {
          "action": 1
         },
         {
          "action": 87
         },
         {
          "action": 1
         },
         {
          "action": 6
         },
         {
          "action": 7
         },
         {
          "action": 74
         },
         {
          "action": 1
         },
         {
          "action": 122
         },
         {
          "action": 5
         },
         {
          "action": 97
         },
         {
          "action": 1
         },
         {
          "action": 6
         },
         {
          "action": 7
         },
         {
          "action": 4
         },
         {
          "action": 1
         },
         {
          "action": 62
         },
         {
          "action": 73
         },
         {
          "action": 6
         },
         {
          "action": 1
         },
         {
          "action": 1
         },
         {
          "action": 1
         },
         {
          "action": 157
         },
         {
          "action": 11
         },
         {
          "action": 106
         },
         {
          "action": 1
         },
         {
          "action": 3
         },
         {
          "action": 94
         },
         {
          "action": 3
         },
         {
          "action": 121
         },
         {
          "action": 2
         },
         {
          "action": 1
         },
         {
          "action": 84
         },
         {
          "action": 3
         },
         {
          "action": 1
         },
         {
          "action": 117
         },
         {
          "action": 230
         },
         {
          "action": 50
         },
         {
          "action": 213
         },
         {
          "action": 2
         },
         {
          "action": 169
         },
         {
          "action": 9
         },
         {
          "action": 6
         },
         {
          "action": 29
         },
         {
          "action": 126
         },
         {
          "action": 1
         },
         {
          "action": 11
         },
         {
          "action": 1
         },
         {
          "action": 13
         },
         {
          "action": 1
         },
         {
          "action": 60
         },
         {
          "action": 116
         },
         {
          "action": 111
         },
         {
          "action": 6
         },
         {
          "action": 3
         },
         {
          "action": 116
         },
         {
          "action": 6
         },
         {
          "action": 19
         },
         {
          "action": 6
         },
         {
          "action": 105
         },
         {
          "action": 69
         },
         {
          "action": 5
         },
         {
          "action": 129
         },
         {
          "action": 5
         },
         {
          "action": 1
         },
         {
          "action": 1
         },
         {
          "action": 23
         },
         {
          "action": 16
         },
         {
          "action": 1
         },
         {
          "action": 75
         },
         {
          "action": 1
         },
         {
          "action": 8
         },
         {
          "action": 164
         },
         {
          "action": 1
         },
         {
          "action": 1
         },
         {
          "action": 129
         },
         {
          "action": 93
         },
         {
          "action": 42
         },
         {
          "action": 156
         },
         {
          "action": 146
         },
         {
          "action": 1
         },
         {
          "action": 3
         },
         {
          "action": 1
         },
         {
          "action": 1
         },
         {
          "action": 29
         },
         {
          "action": 151
         },
         {
          "action": 5
         },
         {
          "action": 1
         },
         {
          "action": 1
         },
         {
          "action": 2
         },
         {
          "action": 125
         },
         {
          "action": 11
         },
         {
          "action": 91
         },
         {
          "action": 1
         },
         {
          "action": 1
         },
         {
          "action": 42
         },
         {
          "action": 15
         },
         {
          "action": 4
         },
         {
          "action": 7
         },
         {
          "action": 1
         },
         {
          "action": 1
         },
         {
          "action": 1
         },
         {
          "action": 3
         }
        ]
       },
       "encoding": {
        "x": {
         "bin": {
          "maxbins": 100
         },
         "field": "action",
         "type": "quantitative"
        },
        "y": {
         "aggregate": "count",
         "type": "quantitative"
        }
       },
       "mark": "bar",
       "width": 900
      },
      "image/png": "[encoded data removed]",
      "text/plain": [
       "<VegaLite 2 object>\n",
       "\n",
       "If you see this message, it means the renderer has not been properly enabled\n",
       "for the frontend that you are using. For more information, see\n",
       "https://altair-viz.github.io/user_guide/troubleshooting.html\n"
      ]
     },
     "execution_count": 281,
     "metadata": {},
     "output_type": "execute_result"
    }
   ],
   "source": [
    "outlier_cutoff = user_starts_count.quantile(0.99)\n",
    "alt.Chart(user_starts_count[user_starts_count.action < outlier_cutoff['action']], width=900).mark_bar().encode(\n",
    "    alt.X('action', bin=alt.BinParams(maxbins=100)),\n",
    "    y='count()'\n",
    ")"
   ]
  },
  {
   "cell_type": "markdown",
   "metadata": {},
   "source": [
    "There's a lot of users who use the hub <5 times, and many who use it 5-10 times. We pick an arbitrary cut off of 'ten notebook server starts' to count as a 'real' user and not someone just trying out the hub."
   ]
  },
  {
   "cell_type": "code",
   "execution_count": 271,
   "metadata": {},
   "outputs": [
    {
     "data": {
      "text/html": [
       "<h4>Users who used the hub more than 10 times: <b>2646"
      ],
      "text/plain": [
       "<IPython.core.display.HTML object>"
      ]
     },
     "execution_count": 271,
     "metadata": {},
     "output_type": "execute_result"
    }
   ],
   "source": [
    "users_with_more_than_ten_starts = user_starts_count[user_starts_count.action > 10]\n",
    "display.HTML(f'<h4>Users who used the hub more than 10 times: <b>{users_with_more_than_ten_starts.count()[\"action\"]}')"
   ]
  },
  {
   "cell_type": "markdown",
   "metadata": {},
   "source": [
    "We can use this to plot a daily and monthly cost per user"
   ]
  },
  {
   "cell_type": "code",
   "execution_count": 284,
   "metadata": {},
   "outputs": [
    {
     "data": {
      "application/vnd.vegalite.v2+json": {
       "$schema": "https://vega.github.io/schema/vega-lite/v2.6.0.json",
       "config": {
        "view": {
         "height": 300,
         "width": 400
        }
       },
       "data": {
        "name": "data-dee88e513c85829554e0160e268cde1e"
       },
       "datasets": {
        "data-dee88e513c85829554e0160e268cde1e": [
         {
          "cost": null,
          "cost_per_realistic_user": null,
          "cost_per_user": null,
          "timestamp": "2018-08-17T00:00:00-07:00",
          "user": 19
         },
         {
          "cost": null,
          "cost_per_realistic_user": null,
          "cost_per_user": null,
          "timestamp": "2018-08-18T00:00:00-07:00",
          "user": 46
         },
         {
          "cost": null,
          "cost_per_realistic_user": null,
          "cost_per_user": null,
          "timestamp": "2018-08-19T00:00:00-07:00",
          "user": 33
         },
         {
          "cost": null,
          "cost_per_realistic_user": null,
          "cost_per_user": null,
          "timestamp": "2018-08-20T00:00:00-07:00",
          "user": 61
         },
         {
          "cost": null,
          "cost_per_realistic_user": null,
          "cost_per_user": null,
          "timestamp": "2018-08-21T00:00:00-07:00",
          "user": 149
         },
         {
          "cost": null,
          "cost_per_realistic_user": null,
          "cost_per_user": null,
          "timestamp": "2018-08-22T00:00:00-07:00",
          "user": 1194
         },
         {
          "cost": null,
          "cost_per_realistic_user": null,
          "cost_per_user": null,
          "timestamp": "2018-08-23T00:00:00-07:00",
          "user": 1243
         },
         {
          "cost": null,
          "cost_per_realistic_user": null,
          "cost_per_user": null,
          "timestamp": "2018-08-24T00:00:00-07:00",
          "user": 1391
         },
         {
          "cost": null,
          "cost_per_realistic_user": null,
          "cost_per_user": null,
          "timestamp": "2018-08-25T00:00:00-07:00",
          "user": 988
         },
         {
          "cost": null,
          "cost_per_realistic_user": null,
          "cost_per_user": null,
          "timestamp": "2018-08-26T00:00:00-07:00",
          "user": 1174
         },
         {
          "cost": null,
          "cost_per_realistic_user": null,
          "cost_per_user": null,
          "timestamp": "2018-08-27T00:00:00-07:00",
          "user": 1508
         },
         {
          "cost": null,
          "cost_per_realistic_user": null,
          "cost_per_user": null,
          "timestamp": "2018-08-28T00:00:00-07:00",
          "user": 1351
         },
         {
          "cost": null,
          "cost_per_realistic_user": null,
          "cost_per_user": null,
          "timestamp": "2018-08-29T00:00:00-07:00",
          "user": 1598
         },
         {
          "cost": null,
          "cost_per_realistic_user": null,
          "cost_per_user": null,
          "timestamp": "2018-08-30T00:00:00-07:00",
          "user": 1322
         },
         {
          "cost": null,
          "cost_per_realistic_user": null,
          "cost_per_user": null,
          "timestamp": "2018-08-31T00:00:00-07:00",
          "user": 1194
         },
         {
          "cost": null,
          "cost_per_realistic_user": null,
          "cost_per_user": null,
          "timestamp": "2018-09-01T00:00:00-07:00",
          "user": 793
         },
         {
          "cost": null,
          "cost_per_realistic_user": null,
          "cost_per_user": null,
          "timestamp": "2018-09-02T00:00:00-07:00",
          "user": 964
         },
         {
          "cost": null,
          "cost_per_realistic_user": null,
          "cost_per_user": null,
          "timestamp": "2018-09-03T00:00:00-07:00",
          "user": 1259
         },
         {
          "cost": null,
          "cost_per_realistic_user": null,
          "cost_per_user": null,
          "timestamp": "2018-09-04T00:00:00-07:00",
          "user": 1495
         },
         {
          "cost": null,
          "cost_per_realistic_user": null,
          "cost_per_user": null,
          "timestamp": "2018-09-05T00:00:00-07:00",
          "user": 1675
         },
         {
          "cost": null,
          "cost_per_realistic_user": null,
          "cost_per_user": null,
          "timestamp": "2018-09-06T00:00:00-07:00",
          "user": 1429
         },
         {
          "cost": null,
          "cost_per_realistic_user": null,
          "cost_per_user": null,
          "timestamp": "2018-09-07T00:00:00-07:00",
          "user": 1120
         },
         {
          "cost": null,
          "cost_per_realistic_user": null,
          "cost_per_user": null,
          "timestamp": "2018-09-08T00:00:00-07:00",
          "user": 880
         },
         {
          "cost": null,
          "cost_per_realistic_user": null,
          "cost_per_user": null,
          "timestamp": "2018-09-09T00:00:00-07:00",
          "user": 1028
         },
         {
          "cost": null,
          "cost_per_realistic_user": null,
          "cost_per_user": null,
          "timestamp": "2018-09-10T00:00:00-07:00",
          "user": 1432
         },
         {
          "cost": null,
          "cost_per_realistic_user": null,
          "cost_per_user": null,
          "timestamp": "2018-09-11T00:00:00-07:00",
          "user": 1502
         },
         {
          "cost": 40.156909999999996,
          "cost_per_realistic_user": 0.015176458805744518,
          "cost_per_user": 0.00826273868312757,
          "timestamp": "2018-09-12T00:00:00-07:00",
          "user": 1580
         },
         {
          "cost": null,
          "cost_per_realistic_user": null,
          "cost_per_user": null,
          "timestamp": "2018-09-12T00:00:00-07:00",
          "user": 1580
         },
         {
          "cost": 263.958762,
          "cost_per_realistic_user": 0.09975765759637187,
          "cost_per_user": 0.0543125024691358,
          "timestamp": "2018-09-13T00:00:00-07:00",
          "user": 1345
         },
         {
          "cost": 233.378606,
          "cost_per_realistic_user": 0.0882005313681028,
          "cost_per_user": 0.04802028930041152,
          "timestamp": "2018-09-14T00:00:00-07:00",
          "user": 1006
         },
         {
          "cost": 220.49735600000002,
          "cost_per_realistic_user": 0.08333233408919125,
          "cost_per_user": 0.045369826337448564,
          "timestamp": "2018-09-15T00:00:00-07:00",
          "user": 842
         },
         {
          "cost": 221.476064,
          "cost_per_realistic_user": 0.08370221617535903,
          "cost_per_user": 0.045571206584362145,
          "timestamp": "2018-09-16T00:00:00-07:00",
          "user": 1091
         },
         {
          "cost": 254.118337,
          "cost_per_realistic_user": 0.0960386761148904,
          "cost_per_user": 0.05228772366255144,
          "timestamp": "2018-09-17T00:00:00-07:00",
          "user": 1491
         },
         {
          "cost": 268.713372,
          "cost_per_realistic_user": 0.10155456235827665,
          "cost_per_user": 0.05529081728395062,
          "timestamp": "2018-09-18T00:00:00-07:00",
          "user": 1419
         },
         {
          "cost": 277.049757,
          "cost_per_realistic_user": 0.10470512358276644,
          "cost_per_user": 0.05700612283950617,
          "timestamp": "2018-09-19T00:00:00-07:00",
          "user": 1549
         },
         {
          "cost": 291.302796,
          "cost_per_realistic_user": 0.1100917596371882,
          "cost_per_user": 0.05993884691358025,
          "timestamp": "2018-09-20T00:00:00-07:00",
          "user": 1480
         },
         {
          "cost": 268.42976,
          "cost_per_realistic_user": 0.10144737717309145,
          "cost_per_user": 0.05523246090534979,
          "timestamp": "2018-09-21T00:00:00-07:00",
          "user": 1294
         },
         {
          "cost": 246.082326,
          "cost_per_realistic_user": 0.09300163492063492,
          "cost_per_user": 0.050634223456790126,
          "timestamp": "2018-09-22T00:00:00-07:00",
          "user": 921
         },
         {
          "cost": 244.174214,
          "cost_per_realistic_user": 0.09228050415721845,
          "cost_per_user": 0.05024160781893004,
          "timestamp": "2018-09-23T00:00:00-07:00",
          "user": 921
         },
         {
          "cost": 245.52624400000002,
          "cost_per_realistic_user": 0.0927914754346183,
          "cost_per_user": 0.05051980329218107,
          "timestamp": "2018-09-24T00:00:00-07:00",
          "user": 1253
         },
         {
          "cost": 254.888743,
          "cost_per_realistic_user": 0.09632983484504913,
          "cost_per_user": 0.05244624341563786,
          "timestamp": "2018-09-25T00:00:00-07:00",
          "user": 1333
         },
         {
          "cost": 277.179144,
          "cost_per_realistic_user": 0.10475402267573697,
          "cost_per_user": 0.05703274567901235,
          "timestamp": "2018-09-26T00:00:00-07:00",
          "user": 1540
         },
         {
          "cost": 290.026115,
          "cost_per_realistic_user": 0.1096092649281935,
          "cost_per_user": 0.05967615534979424,
          "timestamp": "2018-09-27T00:00:00-07:00",
          "user": 1510
         },
         {
          "cost": 268.253716,
          "cost_per_realistic_user": 0.10138084504913077,
          "cost_per_user": 0.055196237860082306,
          "timestamp": "2018-09-28T00:00:00-07:00",
          "user": 1362
         },
         {
          "cost": 262.364679,
          "cost_per_realistic_user": 0.09915520748299321,
          "cost_per_user": 0.05398450185185186,
          "timestamp": "2018-09-29T00:00:00-07:00",
          "user": 896
         },
         {
          "cost": 244.44310099999998,
          "cost_per_realistic_user": 0.09238212433862433,
          "cost_per_user": 0.05029693436213992,
          "timestamp": "2018-09-30T00:00:00-07:00",
          "user": 1049
         },
         {
          "cost": 248.97004299999998,
          "cost_per_realistic_user": 0.09409298677248676,
          "cost_per_user": 0.051228403909465016,
          "timestamp": "2018-10-01T00:00:00-07:00",
          "user": 1392
         },
         {
          "cost": 243.463813,
          "cost_per_realistic_user": 0.0920120230536659,
          "cost_per_user": 0.05009543477366255,
          "timestamp": "2018-10-02T00:00:00-07:00",
          "user": 1342
         },
         {
          "cost": 304.920198,
          "cost_per_realistic_user": 0.11523817006802722,
          "cost_per_user": 0.06274078148148149,
          "timestamp": "2018-10-03T00:00:00-07:00",
          "user": 1567
         },
         {
          "cost": 452.96205100000003,
          "cost_per_realistic_user": 0.17118747203325776,
          "cost_per_user": 0.0932020681069959,
          "timestamp": "2018-10-04T00:00:00-07:00",
          "user": 1434
         },
         {
          "cost": 275.03173200000003,
          "cost_per_realistic_user": 0.10394245351473924,
          "cost_per_user": 0.0565908913580247,
          "timestamp": "2018-10-05T00:00:00-07:00",
          "user": 1061
         },
         {
          "cost": 181.814937,
          "cost_per_realistic_user": 0.06871312811791383,
          "cost_per_user": 0.03741048086419753,
          "timestamp": "2018-10-06T00:00:00-07:00",
          "user": 750
         },
         {
          "cost": 173.638486,
          "cost_per_realistic_user": 0.06562301058201059,
          "cost_per_user": 0.03572808353909465,
          "timestamp": "2018-10-07T00:00:00-07:00",
          "user": 941
         },
         {
          "cost": 197.120381,
          "cost_per_realistic_user": 0.0744974984882842,
          "cost_per_user": 0.040559749176954735,
          "timestamp": "2018-10-08T00:00:00-07:00",
          "user": 1342
         },
         {
          "cost": 212.07737500000002,
          "cost_per_realistic_user": 0.08015017951625095,
          "cost_per_user": 0.04363731995884774,
          "timestamp": "2018-10-09T00:00:00-07:00",
          "user": 1356
         },
         {
          "cost": 219.799082,
          "cost_per_realistic_user": 0.08306843613000756,
          "cost_per_user": 0.04522614855967078,
          "timestamp": "2018-10-10T00:00:00-07:00",
          "user": 1342
         },
         {
          "cost": 203.78078899999997,
          "cost_per_realistic_user": 0.07701465948601662,
          "cost_per_user": 0.04193020349794238,
          "timestamp": "2018-10-11T00:00:00-07:00",
          "user": 1013
         },
         {
          "cost": 206.12004299999998,
          "cost_per_realistic_user": 0.077898731292517,
          "cost_per_user": 0.042411531481481475,
          "timestamp": "2018-10-12T00:00:00-07:00",
          "user": 1002
         },
         {
          "cost": 202.40058399999998,
          "cost_per_realistic_user": 0.07649304006046863,
          "cost_per_user": 0.04164621069958847,
          "timestamp": "2018-10-13T00:00:00-07:00",
          "user": 399
         },
         {
          "cost": 182.316341,
          "cost_per_realistic_user": 0.06890262320483749,
          "cost_per_user": 0.03751365041152263,
          "timestamp": "2018-10-14T00:00:00-07:00",
          "user": 441
         },
         {
          "cost": 183.284113,
          "cost_per_realistic_user": 0.06926837226001512,
          "cost_per_user": 0.03771278045267489,
          "timestamp": "2018-10-15T00:00:00-07:00",
          "user": 894
         },
         {
          "cost": 191.61486699999998,
          "cost_per_realistic_user": 0.07241680536659108,
          "cost_per_user": 0.03942692736625514,
          "timestamp": "2018-10-16T00:00:00-07:00",
          "user": 826
         },
         {
          "cost": 186.137944,
          "cost_per_realistic_user": 0.07034691761148903,
          "cost_per_user": 0.03829998847736626,
          "timestamp": "2018-10-17T00:00:00-07:00",
          "user": 1138
         },
         {
          "cost": 185.817201,
          "cost_per_realistic_user": 0.07022569954648526,
          "cost_per_user": 0.03823399197530864,
          "timestamp": "2018-10-18T00:00:00-07:00",
          "user": 1038
         },
         {
          "cost": 185.48708799999997,
          "cost_per_realistic_user": 0.070100940287226,
          "cost_per_user": 0.03816606748971193,
          "timestamp": "2018-10-19T00:00:00-07:00",
          "user": 641
         },
         {
          "cost": 149.516785,
          "cost_per_realistic_user": 0.056506721466364325,
          "cost_per_user": 0.030764770576131688,
          "timestamp": "2018-10-20T00:00:00-07:00",
          "user": 664
         },
         {
          "cost": 121.764895,
          "cost_per_realistic_user": 0.046018478835978836,
          "cost_per_user": 0.025054505144032922,
          "timestamp": "2018-10-21T00:00:00-07:00",
          "user": 856
         },
         {
          "cost": 142.410472,
          "cost_per_realistic_user": 0.05382104006046863,
          "cost_per_user": 0.029302566255144033,
          "timestamp": "2018-10-22T00:00:00-07:00",
          "user": 1205
         },
         {
          "cost": 155.93802300000002,
          "cost_per_realistic_user": 0.05893349319727892,
          "cost_per_user": 0.03208601296296296,
          "timestamp": "2018-10-23T00:00:00-07:00",
          "user": 1134
         },
         {
          "cost": 156.858114,
          "cost_per_realistic_user": 0.05928122222222222,
          "cost_per_user": 0.03227533209876543,
          "timestamp": "2018-10-24T00:00:00-07:00",
          "user": 1448
         },
         {
          "cost": 156.38318199999998,
          "cost_per_realistic_user": 0.059101731670445946,
          "cost_per_user": 0.032177609465020574,
          "timestamp": "2018-10-25T00:00:00-07:00",
          "user": 1400
         },
         {
          "cost": 155.87109700000002,
          "cost_per_realistic_user": 0.05890819992441422,
          "cost_per_user": 0.032072242181069965,
          "timestamp": "2018-10-26T00:00:00-07:00",
          "user": 1190
         },
         {
          "cost": 145.873503,
          "cost_per_realistic_user": 0.055129819727891154,
          "cost_per_user": 0.030015124074074074,
          "timestamp": "2018-10-27T00:00:00-07:00",
          "user": 745
         },
         {
          "cost": 143.64437099999998,
          "cost_per_realistic_user": 0.054287366213151916,
          "cost_per_user": 0.029556454938271602,
          "timestamp": "2018-10-28T00:00:00-07:00",
          "user": 861
         },
         {
          "cost": 149.627417,
          "cost_per_realistic_user": 0.056548532501889646,
          "cost_per_user": 0.03078753436213992,
          "timestamp": "2018-10-29T00:00:00-07:00",
          "user": 1306
         },
         {
          "cost": 168.580365,
          "cost_per_realistic_user": 0.06371140022675736,
          "cost_per_user": 0.03468731790123457,
          "timestamp": "2018-10-30T00:00:00-07:00",
          "user": 1270
         },
         {
          "cost": 169.53366599999998,
          "cost_per_realistic_user": 0.06407168027210884,
          "cost_per_user": 0.034883470370370366,
          "timestamp": "2018-10-31T00:00:00-07:00",
          "user": 1471
         },
         {
          "cost": 165.6526,
          "cost_per_realistic_user": 0.06260491307634165,
          "cost_per_user": 0.03408489711934157,
          "timestamp": "2018-11-01T00:00:00-07:00",
          "user": 1476
         },
         {
          "cost": 174.670979,
          "cost_per_realistic_user": 0.06601321957671957,
          "cost_per_user": 0.035940530658436214,
          "timestamp": "2018-11-02T00:00:00-07:00",
          "user": 1325
         },
         {
          "cost": 154.460981,
          "cost_per_realistic_user": 0.05837527626606198,
          "cost_per_user": 0.03178209485596708,
          "timestamp": "2018-11-03T00:00:00-07:00",
          "user": 786
         },
         {
          "cost": 160.182685,
          "cost_per_realistic_user": 0.0605376738473167,
          "cost_per_user": 0.03295940020576132,
          "timestamp": "2018-11-04T00:00:00-07:00",
          "user": 747
         },
         {
          "cost": 154.16036599999998,
          "cost_per_realistic_user": 0.05826166515495086,
          "cost_per_user": 0.03172023991769547,
          "timestamp": "2018-11-05T00:00:00-08:00",
          "user": 1044
         },
         {
          "cost": 154.746287,
          "cost_per_realistic_user": 0.05848310166288737,
          "cost_per_user": 0.031840799794238685,
          "timestamp": "2018-11-06T00:00:00-08:00",
          "user": 1133
         },
         {
          "cost": 170.92835399999998,
          "cost_per_realistic_user": 0.06459877324263039,
          "cost_per_user": 0.03517044320987654,
          "timestamp": "2018-11-07T00:00:00-08:00",
          "user": 1510
         },
         {
          "cost": 177.70142,
          "cost_per_realistic_user": 0.06715851095993954,
          "cost_per_user": 0.036564078189300415,
          "timestamp": "2018-11-08T00:00:00-08:00",
          "user": 1344
         },
         {
          "cost": 179.00012300000003,
          "cost_per_realistic_user": 0.067649328420257,
          "cost_per_user": 0.03683130102880659,
          "timestamp": "2018-11-09T00:00:00-08:00",
          "user": 833
         },
         {
          "cost": 179.290468,
          "cost_per_realistic_user": 0.06775905820105821,
          "cost_per_user": 0.03689104279835391,
          "timestamp": "2018-11-10T00:00:00-08:00",
          "user": 655
         },
         {
          "cost": 165.391022,
          "cost_per_realistic_user": 0.0625060551776266,
          "cost_per_user": 0.0340310744855967,
          "timestamp": "2018-11-11T00:00:00-08:00",
          "user": 731
         },
         {
          "cost": 157.576163,
          "cost_per_realistic_user": 0.059552593726379444,
          "cost_per_user": 0.03242307880658436,
          "timestamp": "2018-11-12T00:00:00-08:00",
          "user": 948
         },
         {
          "cost": 163.672754,
          "cost_per_realistic_user": 0.06185667195767196,
          "cost_per_user": 0.03367752139917696,
          "timestamp": "2018-11-13T00:00:00-08:00",
          "user": 1209
         },
         {
          "cost": 183.722065,
          "cost_per_realistic_user": 0.06943388699924413,
          "cost_per_user": 0.03780289403292181,
          "timestamp": "2018-11-14T00:00:00-08:00",
          "user": 1558
         },
         {
          "cost": 195.25908099999998,
          "cost_per_realistic_user": 0.07379405933484504,
          "cost_per_user": 0.04017676563786008,
          "timestamp": "2018-11-15T00:00:00-08:00",
          "user": 1444
         },
         {
          "cost": 188.49224700000002,
          "cost_per_realistic_user": 0.0712366768707483,
          "cost_per_user": 0.03878441296296297,
          "timestamp": "2018-11-16T00:00:00-08:00",
          "user": 1055
         },
         {
          "cost": 180.42066499999999,
          "cost_per_realistic_user": 0.06818619236583522,
          "cost_per_user": 0.03712359362139917,
          "timestamp": "2018-11-17T00:00:00-08:00",
          "user": 815
         },
         {
          "cost": 170.58507500000002,
          "cost_per_realistic_user": 0.06446903817082389,
          "cost_per_user": 0.0350998096707819,
          "timestamp": "2018-11-18T00:00:00-08:00",
          "user": 800
         },
         {
          "cost": 169.096144,
          "cost_per_realistic_user": 0.06390632804232804,
          "cost_per_user": 0.03479344526748972,
          "timestamp": "2018-11-19T00:00:00-08:00",
          "user": 874
         },
         {
          "cost": 168.46590500000002,
          "cost_per_realistic_user": 0.06366814247921392,
          "cost_per_user": 0.034663766460905354,
          "timestamp": "2018-11-20T00:00:00-08:00",
          "user": 725
         },
         {
          "cost": 168.065076,
          "cost_per_realistic_user": 0.06351665759637189,
          "cost_per_user": 0.03458129135802469,
          "timestamp": "2018-11-21T00:00:00-08:00",
          "user": 606
         },
         {
          "cost": 167.400497,
          "cost_per_realistic_user": 0.06326549395313681,
          "cost_per_user": 0.03444454670781893,
          "timestamp": "2018-11-22T00:00:00-08:00",
          "user": 480
         },
         {
          "cost": 168.123972,
          "cost_per_realistic_user": 0.06353891609977325,
          "cost_per_user": 0.03459340987654321,
          "timestamp": "2018-11-23T00:00:00-08:00",
          "user": 528
         },
         {
          "cost": 167.694091,
          "cost_per_realistic_user": 0.06337645162509448,
          "cost_per_user": 0.034504956995884774,
          "timestamp": "2018-11-24T00:00:00-08:00",
          "user": 524
         },
         {
          "cost": 168.44466,
          "cost_per_realistic_user": 0.06366011337868481,
          "cost_per_user": 0.034659395061728396,
          "timestamp": "2018-11-25T00:00:00-08:00",
          "user": 668
         },
         {
          "cost": 172.00177,
          "cost_per_realistic_user": 0.06500444822373394,
          "cost_per_user": 0.03539131069958847,
          "timestamp": "2018-11-26T00:00:00-08:00",
          "user": 1143
         },
         {
          "cost": 171.23877900000002,
          "cost_per_realistic_user": 0.0647160918367347,
          "cost_per_user": 0.03523431666666667,
          "timestamp": "2018-11-27T00:00:00-08:00",
          "user": 1245
         },
         {
          "cost": 170.16072100000002,
          "cost_per_realistic_user": 0.06430866250944824,
          "cost_per_user": 0.035012494032921816,
          "timestamp": "2018-11-28T00:00:00-08:00",
          "user": 1470
         },
         {
          "cost": 171.209544,
          "cost_per_realistic_user": 0.06470504308390022,
          "cost_per_user": 0.0352283012345679,
          "timestamp": "2018-11-29T00:00:00-08:00",
          "user": 1413
         },
         {
          "cost": 170.10651,
          "cost_per_realistic_user": 0.0642881746031746,
          "cost_per_user": 0.03500133950617284,
          "timestamp": "2018-11-30T00:00:00-08:00",
          "user": 1092
         },
         {
          "cost": 162.890289,
          "cost_per_realistic_user": 0.06156095578231292,
          "cost_per_user": 0.03351652037037037,
          "timestamp": "2018-12-01T00:00:00-08:00",
          "user": 546
         },
         {
          "cost": 164.59242200000003,
          "cost_per_realistic_user": 0.0622042411186697,
          "cost_per_user": 0.033866753497942395,
          "timestamp": "2018-12-02T00:00:00-08:00",
          "user": 493
         },
         {
          "cost": 164.49821300000002,
          "cost_per_realistic_user": 0.062168636810279676,
          "cost_per_user": 0.03384736893004116,
          "timestamp": "2018-12-03T00:00:00-08:00",
          "user": 653
         },
         {
          "cost": 164.51144,
          "cost_per_realistic_user": 0.06217363567649282,
          "cost_per_user": 0.03385009053497942,
          "timestamp": "2018-12-04T00:00:00-08:00",
          "user": 493
         },
         {
          "cost": 165.150755,
          "cost_per_realistic_user": 0.062415251322751324,
          "cost_per_user": 0.03398163683127572,
          "timestamp": "2018-12-05T00:00:00-08:00",
          "user": 543
         },
         {
          "cost": 165.040173,
          "cost_per_realistic_user": 0.06237345918367347,
          "cost_per_user": 0.033958883333333335,
          "timestamp": "2018-12-06T00:00:00-08:00",
          "user": 466
         },
         {
          "cost": 164.40057099999999,
          "cost_per_realistic_user": 0.06213173507180649,
          "cost_per_user": 0.03382727798353909,
          "timestamp": "2018-12-07T00:00:00-08:00",
          "user": 430
         },
         {
          "cost": 164.55875,
          "cost_per_realistic_user": 0.062191515495086926,
          "cost_per_user": 0.03385982510288066,
          "timestamp": "2018-12-08T00:00:00-08:00",
          "user": 367
         },
         {
          "cost": 164.60581200000001,
          "cost_per_realistic_user": 0.06220930158730159,
          "cost_per_user": 0.03386950864197531,
          "timestamp": "2018-12-09T00:00:00-08:00",
          "user": 311
         },
         {
          "cost": 164.520137,
          "cost_per_realistic_user": 0.06217692252456539,
          "cost_per_user": 0.03385188004115226,
          "timestamp": "2018-12-10T00:00:00-08:00",
          "user": 331
         },
         {
          "cost": 164.85765,
          "cost_per_realistic_user": 0.062304478458049886,
          "cost_per_user": 0.03392132716049383,
          "timestamp": "2018-12-11T00:00:00-08:00",
          "user": 370
         },
         {
          "cost": 164.251543,
          "cost_per_realistic_user": 0.062075413076341644,
          "cost_per_user": 0.03379661378600823,
          "timestamp": "2018-12-12T00:00:00-08:00",
          "user": 495
         },
         {
          "cost": 164.572575,
          "cost_per_realistic_user": 0.062196740362811795,
          "cost_per_user": 0.03386266975308642,
          "timestamp": "2018-12-13T00:00:00-08:00",
          "user": 607
         },
         {
          "cost": 162.11756,
          "cost_per_realistic_user": 0.06126891912320483,
          "cost_per_user": 0.033357522633744856,
          "timestamp": "2018-12-14T00:00:00-08:00",
          "user": 247
         },
         {
          "cost": null,
          "cost_per_realistic_user": null,
          "cost_per_user": null,
          "timestamp": "",
          "user": null
         },
         {
          "cost": null,
          "cost_per_realistic_user": null,
          "cost_per_user": null,
          "timestamp": "",
          "user": null
         }
        ]
       },
       "encoding": {
        "x": {
         "field": "timestamp",
         "type": "temporal"
        },
        "y": {
         "field": "cost_per_realistic_user",
         "type": "quantitative"
        }
       },
       "mark": "line",
       "title": "Daily cost per user (with >10 server starts)",
       "width": 900
      },
      "image/png": "[encoded data removed]",
      "text/plain": [
       "<VegaLite 2 object>\n",
       "\n",
       "If you see this message, it means the renderer has not been properly enabled\n",
       "for the frontend that you are using. For more information, see\n",
       "https://altair-viz.github.io/user_guide/troubleshooting.html\n"
      ]
     },
     "execution_count": 284,
     "metadata": {},
     "output_type": "execute_result"
    }
   ],
   "source": [
    "total['cost_per_realistic_user'] = total['cost'] / users_with_more_than_ten_starts.count()['action']\n",
    "\n",
    "alt.Chart(total, width=900, title='Daily cost per user (with >10 server starts)').mark_line().encode(\n",
    "    x='timestamp',\n",
    "    y='cost_per_realistic_user'\n",
    ")"
   ]
  },
  {
   "cell_type": "code",
   "execution_count": 286,
   "metadata": {},
   "outputs": [
    {
     "data": {
      "application/vnd.vegalite.v2+json": {
       "$schema": "https://vega.github.io/schema/vega-lite/v2.6.0.json",
       "config": {
        "view": {
         "height": 300,
         "width": 400
        }
       },
       "data": {
        "name": "data-b4391edabb13fc8e281fb4b61ca7fee3"
       },
       "datasets": {
        "data-b4391edabb13fc8e281fb4b61ca7fee3": [
         {
          "cost": 0,
          "cost_per_realistic_user": 0,
          "start_time": "2018-08-31T00:00:00-07:00"
         },
         {
          "cost": 4672.020002,
          "cost_per_realistic_user": 1.7656916107331821,
          "start_time": "2018-09-30T00:00:00-07:00"
         },
         {
          "cost": 6052.7589579999985,
          "cost_per_realistic_user": 2.287512833711262,
          "start_time": "2018-10-31T00:00:00-07:00"
         },
         {
          "cost": 5107.921004,
          "cost_per_realistic_user": 1.9304312184429326,
          "start_time": "2018-11-30T00:00:00-08:00"
         },
         {
          "cost": 2300.56789,
          "cost_per_realistic_user": 0.8694512055933484,
          "start_time": "2018-12-31T00:00:00-08:00"
         }
        ]
       },
       "encoding": {
        "x": {
         "field": "start_time",
         "timeUnit": "month",
         "type": "ordinal"
        },
        "y": {
         "field": "cost_per_realistic_user",
         "type": "quantitative"
        }
       },
       "mark": "bar",
       "title": "Monthly cost per user (with >10 starts)",
       "width": 900
      },
      "image/png": "[encoded data removed]",
      "text/plain": [
       "<VegaLite 2 object>\n",
       "\n",
       "If you see this message, it means the renderer has not been properly enabled\n",
       "for the frontend that you are using. For more information, see\n",
       "https://altair-viz.github.io/user_guide/troubleshooting.html\n"
      ]
     },
     "execution_count": 286,
     "metadata": {},
     "output_type": "execute_result"
    }
   ],
   "source": [
    "realistic_monthly = cost.copy().set_index('start_time').resample('M').sum()\n",
    "realistic_monthly['cost_per_realistic_user'] = realistic_monthly['cost'] / users_with_more_than_ten_starts.count()['action']\n",
    "realistic_monthly = realistic_monthly.reset_index()\n",
    "\n",
    "alt.Chart(realistic_monthly, width=900, title='Monthly cost per user (with >10 starts)').mark_bar().encode(\n",
    "    x='month(start_time):O',\n",
    "    y='cost_per_realistic_user'\n",
    ")"
   ]
  },
  {
   "cell_type": "markdown",
   "metadata": {},
   "source": [
    "# Summary\n",
    "\n",
    "Mean number of daily active users per day: **1006**\n",
    "\n",
    "Monthly cost per 'realistic' user: **~2$**"
   ]
  }
 ],
 "metadata": {
  "kernelspec": {
   "display_name": "Python 3",
   "language": "python",
   "name": "python3"
  },
  "language_info": {
   "codemirror_mode": {
    "name": "ipython",
    "version": 3
   },
   "file_extension": ".py",
   "mimetype": "text/x-python",
   "name": "python",
   "nbconvert_exporter": "python",
   "pygments_lexer": "ipython3",
   "version": "3.6.3"
  }
 },
 "nbformat": 4,
 "nbformat_minor": 2
}
