{
 "cells": [
  {
   "cell_type": "markdown",
   "metadata": {},
   "source": [
    "1. session length - general stats on how long sessions are. means,\n",
    "percentiles, etc.\n",
    "2. User 'profile' - how many 'kinds' of users do we have? Some who\n",
    "just pop in once? Some who pop in a few times a week for a fixed\n",
    "amount of time? some who are there all the time? what kinda user\n",
    "clusters do we have?\n",
    "3. Who are those people using it 400 times in a semester?\n",
    "4. are there user corelations? Can we spot 'groups' of users with\n",
    "similar behavior? What kinda behavior is it? etc"
   ]
  },
  {
   "cell_type": "code",
   "execution_count": 1,
   "metadata": {},
   "outputs": [],
   "source": [
    "import pandas as pd\n",
    "import numpy as np\n",
    "from datetime import datetime\n",
    "import altair as alt\n",
    "from IPython import display"
   ]
  },
  {
   "cell_type": "code",
   "execution_count": 2,
   "metadata": {},
   "outputs": [
    {
     "data": {
      "text/plain": [
       "ThemeRegistry.enable('my-chart')"
      ]
     },
     "execution_count": 2,
     "metadata": {},
     "output_type": "execute_result"
    }
   ],
   "source": [
    "# Set the altair theme\n",
    "def my_theme(*args, **kwargs):\n",
    "    return {'config': {'axis': {'labelFontSize': 20, 'titleFontSize': 20}}}\n",
    "alt.themes.register('my-chart', my_theme)\n",
    "alt.themes.enable('my-chart')"
   ]
  },
  {
   "cell_type": "markdown",
   "metadata": {},
   "source": [
    "# Params and functions"
   ]
  },
  {
   "cell_type": "code",
   "execution_count": 3,
   "metadata": {},
   "outputs": [],
   "source": [
    "semester_start = pd.Timestamp('2018-08-15').tz_localize('US/Pacific')\n",
    "semester_end = pd.Timestamp('2018-12-15').tz_localize('US/Pacific')"
   ]
  },
  {
   "cell_type": "code",
   "execution_count": 4,
   "metadata": {},
   "outputs": [],
   "source": [
    "def convert_tz(series):\n",
    "    series = series.dt.tz_localize('UTC')\n",
    "    return series.dt.tz_convert('US/Pacific')"
   ]
  },
  {
   "cell_type": "markdown",
   "metadata": {},
   "source": [
    "# Load data"
   ]
  },
  {
   "cell_type": "markdown",
   "metadata": {},
   "source": [
    "## User session data"
   ]
  },
  {
   "cell_type": "code",
   "execution_count": 5,
   "metadata": {},
   "outputs": [],
   "source": [
    "# Log data for user activity\n",
    "path_sessions = '../data/features/fall-2018/user-sessions.jsonl'\n",
    "sessions = pd.read_json(path_sessions, convert_dates=['start', 'stop'])\n",
    "\n",
    "for col in ['start', 'stop']:\n",
    "    sessions[col] = convert_tz(sessions[col])"
   ]
  },
  {
   "cell_type": "code",
   "execution_count": 6,
   "metadata": {},
   "outputs": [],
   "source": [
    "# Only between start and end of semester\n",
    "sessions = sessions[sessions['start'] > semester_start][sessions['start'] < semester_end]"
   ]
  },
  {
   "cell_type": "markdown",
   "metadata": {},
   "source": [
    "## Cost per day"
   ]
  },
  {
   "cell_type": "code",
   "execution_count": 7,
   "metadata": {},
   "outputs": [],
   "source": [
    "cost = pd.read_json('../data/processed/fall-2018/cloud-costs.jsonl', lines=True)\n",
    "cost['start_time'] = convert_tz(cost['start_time'])\n",
    "cost = cost.drop(columns=['end_time']).set_index('start_time')"
   ]
  },
  {
   "cell_type": "code",
   "execution_count": 8,
   "metadata": {},
   "outputs": [
    {
     "name": "stderr",
     "output_type": "stream",
     "text": [
      "/home/choldgraf/anaconda/envs/dev/lib/python3.6/site-packages/pandas/core/frame.py:6201: FutureWarning: Sorting because non-concatenation axis is not aligned. A future version\n",
      "of pandas will change to not sort by default.\n",
      "\n",
      "To accept the future behavior, pass 'sort=True'.\n",
      "\n",
      "To retain the current behavior and silence the warning, pass sort=False\n",
      "\n",
      "  sort=sort)\n"
     ]
    }
   ],
   "source": [
    "# Only between start and end of semester\n",
    "cost = cost[cost.index > semester_start][cost.index < semester_end]\n",
    "# We only use indexing timestamps to make the tz_localize easier.\n",
    "# after that, we drop it to make everything else easier\n",
    "cost = cost.reset_index()\n",
    "\n",
    "# Fill in any missing data before beginning of date\n",
    "missing_dates = pd.date_range(semester_start, cost.start_time.min(), name='start_time')\n",
    "missing_dates_cost = pd.DataFrame(missing_dates, np.full(len(missing_dates), np.nan), columns={'start_time', 'cost'})\n",
    "cost = cost.append(missing_dates_cost)"
   ]
  },
  {
   "cell_type": "markdown",
   "metadata": {
    "toc-hr-collapsed": false
   },
   "source": [
    "# Viz and analysis"
   ]
  },
  {
   "cell_type": "markdown",
   "metadata": {
    "toc-hr-collapsed": false
   },
   "source": [
    "## Daily Active user\n",
    "\n",
    "We count someone as a 'daily active user' if they start / stop their notebook server\n",
    "at least once. Due to anonimization techniques applied earlier, this might slightly\n",
    "under count users"
   ]
  },
  {
   "cell_type": "code",
   "execution_count": 9,
   "metadata": {},
   "outputs": [],
   "source": [
    "# Unique daily users - we count anyone who has logged in at least once a day\n",
    "# We want a dataframe with no index so we can use it easily with Altair\n",
    "daily_active_users = pd.DataFrame(sessions.set_index('start')['user'].resample('D').nunique()).reset_index()"
   ]
  },
  {
   "cell_type": "code",
   "execution_count": 10,
   "metadata": {},
   "outputs": [
    {
     "data": {
      "application/vnd.vegalite.v2+json": {
       "$schema": "https://vega.github.io/schema/vega-lite/v2.6.0.json",
       "config": {
        "axis": {
         "labelFontSize": 20,
         "titleFontSize": 20
        }
       },
       "data": {
        "name": "data-0806545c1ab3bb43595fd2f3de319834"
       },
       "datasets": {
        "data-0806545c1ab3bb43595fd2f3de319834": [
         {
          "start": "2018-08-17T00:00:00-07:00",
          "user": 13
         },
         {
          "start": "2018-08-18T00:00:00-07:00",
          "user": 38
         },
         {
          "start": "2018-08-19T00:00:00-07:00",
          "user": 24
         },
         {
          "start": "2018-08-20T00:00:00-07:00",
          "user": 53
         },
         {
          "start": "2018-08-21T00:00:00-07:00",
          "user": 135
         },
         {
          "start": "2018-08-22T00:00:00-07:00",
          "user": 1176
         },
         {
          "start": "2018-08-23T00:00:00-07:00",
          "user": 1184
         },
         {
          "start": "2018-08-24T00:00:00-07:00",
          "user": 1332
         },
         {
          "start": "2018-08-25T00:00:00-07:00",
          "user": 918
         },
         {
          "start": "2018-08-26T00:00:00-07:00",
          "user": 1133
         },
         {
          "start": "2018-08-27T00:00:00-07:00",
          "user": 1447
         },
         {
          "start": "2018-08-28T00:00:00-07:00",
          "user": 1276
         },
         {
          "start": "2018-08-29T00:00:00-07:00",
          "user": 1519
         },
         {
          "start": "2018-08-30T00:00:00-07:00",
          "user": 1236
         },
         {
          "start": "2018-08-31T00:00:00-07:00",
          "user": 1143
         },
         {
          "start": "2018-09-01T00:00:00-07:00",
          "user": 728
         },
         {
          "start": "2018-09-02T00:00:00-07:00",
          "user": 914
         },
         {
          "start": "2018-09-03T00:00:00-07:00",
          "user": 1202
         },
         {
          "start": "2018-09-04T00:00:00-07:00",
          "user": 1409
         },
         {
          "start": "2018-09-05T00:00:00-07:00",
          "user": 1586
         },
         {
          "start": "2018-09-06T00:00:00-07:00",
          "user": 1278
         },
         {
          "start": "2018-09-07T00:00:00-07:00",
          "user": 1011
         },
         {
          "start": "2018-09-08T00:00:00-07:00",
          "user": 815
         },
         {
          "start": "2018-09-09T00:00:00-07:00",
          "user": 971
         },
         {
          "start": "2018-09-10T00:00:00-07:00",
          "user": 1369
         },
         {
          "start": "2018-09-11T00:00:00-07:00",
          "user": 1417
         },
         {
          "start": "2018-09-12T00:00:00-07:00",
          "user": 1493
         },
         {
          "start": "2018-09-13T00:00:00-07:00",
          "user": 1209
         },
         {
          "start": "2018-09-14T00:00:00-07:00",
          "user": 898
         },
         {
          "start": "2018-09-15T00:00:00-07:00",
          "user": 778
         },
         {
          "start": "2018-09-16T00:00:00-07:00",
          "user": 1053
         },
         {
          "start": "2018-09-17T00:00:00-07:00",
          "user": 1431
         },
         {
          "start": "2018-09-18T00:00:00-07:00",
          "user": 1346
         },
         {
          "start": "2018-09-19T00:00:00-07:00",
          "user": 1485
         },
         {
          "start": "2018-09-20T00:00:00-07:00",
          "user": 1382
         },
         {
          "start": "2018-09-21T00:00:00-07:00",
          "user": 1210
         },
         {
          "start": "2018-09-22T00:00:00-07:00",
          "user": 833
         },
         {
          "start": "2018-09-23T00:00:00-07:00",
          "user": 867
         },
         {
          "start": "2018-09-24T00:00:00-07:00",
          "user": 1187
         },
         {
          "start": "2018-09-25T00:00:00-07:00",
          "user": 1271
         },
         {
          "start": "2018-09-26T00:00:00-07:00",
          "user": 1477
         },
         {
          "start": "2018-09-27T00:00:00-07:00",
          "user": 1456
         },
         {
          "start": "2018-09-28T00:00:00-07:00",
          "user": 1194
         },
         {
          "start": "2018-09-29T00:00:00-07:00",
          "user": 767
         },
         {
          "start": "2018-09-30T00:00:00-07:00",
          "user": 996
         },
         {
          "start": "2018-10-01T00:00:00-07:00",
          "user": 1329
         },
         {
          "start": "2018-10-02T00:00:00-07:00",
          "user": 1256
         },
         {
          "start": "2018-10-03T00:00:00-07:00",
          "user": 1493
         },
         {
          "start": "2018-10-04T00:00:00-07:00",
          "user": 1278
         },
         {
          "start": "2018-10-05T00:00:00-07:00",
          "user": 883
         },
         {
          "start": "2018-10-06T00:00:00-07:00",
          "user": 697
         },
         {
          "start": "2018-10-07T00:00:00-07:00",
          "user": 896
         },
         {
          "start": "2018-10-08T00:00:00-07:00",
          "user": 1280
         },
         {
          "start": "2018-10-09T00:00:00-07:00",
          "user": 1296
         },
         {
          "start": "2018-10-10T00:00:00-07:00",
          "user": 1171
         },
         {
          "start": "2018-10-11T00:00:00-07:00",
          "user": 887
         },
         {
          "start": "2018-10-12T00:00:00-07:00",
          "user": 940
         },
         {
          "start": "2018-10-13T00:00:00-07:00",
          "user": 350
         },
         {
          "start": "2018-10-14T00:00:00-07:00",
          "user": 420
         },
         {
          "start": "2018-10-15T00:00:00-07:00",
          "user": 848
         },
         {
          "start": "2018-10-16T00:00:00-07:00",
          "user": 769
         },
         {
          "start": "2018-10-17T00:00:00-07:00",
          "user": 1039
         },
         {
          "start": "2018-10-18T00:00:00-07:00",
          "user": 982
         },
         {
          "start": "2018-10-19T00:00:00-07:00",
          "user": 601
         },
         {
          "start": "2018-10-20T00:00:00-07:00",
          "user": 626
         },
         {
          "start": "2018-10-21T00:00:00-07:00",
          "user": 813
         },
         {
          "start": "2018-10-22T00:00:00-07:00",
          "user": 1159
         },
         {
          "start": "2018-10-23T00:00:00-07:00",
          "user": 1061
         },
         {
          "start": "2018-10-24T00:00:00-07:00",
          "user": 1391
         },
         {
          "start": "2018-10-25T00:00:00-07:00",
          "user": 1310
         },
         {
          "start": "2018-10-26T00:00:00-07:00",
          "user": 1106
         },
         {
          "start": "2018-10-27T00:00:00-07:00",
          "user": 655
         },
         {
          "start": "2018-10-28T00:00:00-07:00",
          "user": 826
         },
         {
          "start": "2018-10-29T00:00:00-07:00",
          "user": 1255
         },
         {
          "start": "2018-10-30T00:00:00-07:00",
          "user": 1199
         },
         {
          "start": "2018-10-31T00:00:00-07:00",
          "user": 1409
         },
         {
          "start": "2018-11-01T00:00:00-07:00",
          "user": 1428
         },
         {
          "start": "2018-11-02T00:00:00-07:00",
          "user": 1157
         },
         {
          "start": "2018-11-03T00:00:00-07:00",
          "user": 615
         },
         {
          "start": "2018-11-04T00:00:00-07:00",
          "user": 697
         },
         {
          "start": "2018-11-05T00:00:00-08:00",
          "user": 1003
         },
         {
          "start": "2018-11-06T00:00:00-08:00",
          "user": 1071
         },
         {
          "start": "2018-11-07T00:00:00-08:00",
          "user": 1458
         },
         {
          "start": "2018-11-08T00:00:00-08:00",
          "user": 1233
         },
         {
          "start": "2018-11-09T00:00:00-08:00",
          "user": 682
         },
         {
          "start": "2018-11-10T00:00:00-08:00",
          "user": 613
         },
         {
          "start": "2018-11-11T00:00:00-08:00",
          "user": 683
         },
         {
          "start": "2018-11-12T00:00:00-08:00",
          "user": 890
         },
         {
          "start": "2018-11-13T00:00:00-08:00",
          "user": 1151
         },
         {
          "start": "2018-11-14T00:00:00-08:00",
          "user": 1505
         },
         {
          "start": "2018-11-15T00:00:00-08:00",
          "user": 1307
         },
         {
          "start": "2018-11-16T00:00:00-08:00",
          "user": 890
         },
         {
          "start": "2018-11-17T00:00:00-08:00",
          "user": 759
         },
         {
          "start": "2018-11-18T00:00:00-08:00",
          "user": 732
         },
         {
          "start": "2018-11-19T00:00:00-08:00",
          "user": 821
         },
         {
          "start": "2018-11-20T00:00:00-08:00",
          "user": 651
         },
         {
          "start": "2018-11-21T00:00:00-08:00",
          "user": 537
         },
         {
          "start": "2018-11-22T00:00:00-08:00",
          "user": 426
         },
         {
          "start": "2018-11-23T00:00:00-08:00",
          "user": 496
         },
         {
          "start": "2018-11-24T00:00:00-08:00",
          "user": 476
         },
         {
          "start": "2018-11-25T00:00:00-08:00",
          "user": 625
         },
         {
          "start": "2018-11-26T00:00:00-08:00",
          "user": 1103
         },
         {
          "start": "2018-11-27T00:00:00-08:00",
          "user": 1173
         },
         {
          "start": "2018-11-28T00:00:00-08:00",
          "user": 1419
         },
         {
          "start": "2018-11-29T00:00:00-08:00",
          "user": 1341
         },
         {
          "start": "2018-11-30T00:00:00-08:00",
          "user": 925
         },
         {
          "start": "2018-12-01T00:00:00-08:00",
          "user": 433
         },
         {
          "start": "2018-12-02T00:00:00-08:00",
          "user": 469
         },
         {
          "start": "2018-12-03T00:00:00-08:00",
          "user": 614
         },
         {
          "start": "2018-12-04T00:00:00-08:00",
          "user": 453
         },
         {
          "start": "2018-12-05T00:00:00-08:00",
          "user": 501
         },
         {
          "start": "2018-12-06T00:00:00-08:00",
          "user": 433
         },
         {
          "start": "2018-12-07T00:00:00-08:00",
          "user": 396
         },
         {
          "start": "2018-12-08T00:00:00-08:00",
          "user": 332
         },
         {
          "start": "2018-12-09T00:00:00-08:00",
          "user": 288
         },
         {
          "start": "2018-12-10T00:00:00-08:00",
          "user": 306
         },
         {
          "start": "2018-12-11T00:00:00-08:00",
          "user": 324
         },
         {
          "start": "2018-12-12T00:00:00-08:00",
          "user": 467
         },
         {
          "start": "2018-12-13T00:00:00-08:00",
          "user": 556
         },
         {
          "start": "2018-12-14T00:00:00-08:00",
          "user": 197
         }
        ]
       },
       "encoding": {
        "x": {
         "field": "start",
         "type": "temporal"
        },
        "y": {
         "field": "user",
         "type": "quantitative"
        }
       },
       "mark": "line",
       "width": 900
      },
      "image/png": "[encoded data removed]",
      "text/plain": [
       "<VegaLite 2 object>\n",
       "\n",
       "If you see this message, it means the renderer has not been properly enabled\n",
       "for the frontend that you are using. For more information, see\n",
       "https://altair-viz.github.io/user_guide/troubleshooting.html\n"
      ]
     },
     "execution_count": 10,
     "metadata": {},
     "output_type": "execute_result"
    }
   ],
   "source": [
    "alt.Chart(daily_active_users, width=900).mark_line().encode(\n",
    "    x='start',\n",
    "    y='user'\n",
    ")"
   ]
  },
  {
   "cell_type": "code",
   "execution_count": 11,
   "metadata": {},
   "outputs": [
    {
     "data": {
      "text/html": [
       "<h3>Mean daily active users: <b> 937.67</b></h3>"
      ],
      "text/plain": [
       "<IPython.core.display.HTML object>"
      ]
     },
     "execution_count": 11,
     "metadata": {},
     "output_type": "execute_result"
    }
   ],
   "source": [
    "# Mean daily active users\n",
    "mean_daily_active_users = daily_active_users['user'].mean()\n",
    "display.HTML(f'<h3>Mean daily active users: <b>{mean_daily_active_users: .2f}</b></h3>')"
   ]
  },
  {
   "cell_type": "markdown",
   "metadata": {
    "toc-hr-collapsed": true
   },
   "source": [
    "## Daily cloud costs"
   ]
  },
  {
   "cell_type": "code",
   "execution_count": 12,
   "metadata": {},
   "outputs": [
    {
     "data": {
      "application/vnd.vegalite.v2+json": {
       "$schema": "https://vega.github.io/schema/vega-lite/v2.6.0.json",
       "config": {
        "axis": {
         "labelFontSize": 20,
         "titleFontSize": 20
        }
       },
       "data": {
        "name": "data-e1a6ecb613e6b4b772489f2dc1fc7a71"
       },
       "datasets": {
        "data-e1a6ecb613e6b4b772489f2dc1fc7a71": [
         {
          "cost": 40.156909999999996,
          "start_time": "2018-09-12T00:00:00-07:00"
         },
         {
          "cost": 263.958762,
          "start_time": "2018-09-13T00:00:00-07:00"
         },
         {
          "cost": 233.378606,
          "start_time": "2018-09-14T00:00:00-07:00"
         },
         {
          "cost": 220.49735600000002,
          "start_time": "2018-09-15T00:00:00-07:00"
         },
         {
          "cost": 221.476064,
          "start_time": "2018-09-16T00:00:00-07:00"
         },
         {
          "cost": 254.118337,
          "start_time": "2018-09-17T00:00:00-07:00"
         },
         {
          "cost": 268.713372,
          "start_time": "2018-09-18T00:00:00-07:00"
         },
         {
          "cost": 277.049757,
          "start_time": "2018-09-19T00:00:00-07:00"
         },
         {
          "cost": 291.302796,
          "start_time": "2018-09-20T00:00:00-07:00"
         },
         {
          "cost": 268.42976,
          "start_time": "2018-09-21T00:00:00-07:00"
         },
         {
          "cost": 246.082326,
          "start_time": "2018-09-22T00:00:00-07:00"
         },
         {
          "cost": 244.174214,
          "start_time": "2018-09-23T00:00:00-07:00"
         },
         {
          "cost": 245.52624400000002,
          "start_time": "2018-09-24T00:00:00-07:00"
         },
         {
          "cost": 254.888743,
          "start_time": "2018-09-25T00:00:00-07:00"
         },
         {
          "cost": 277.179144,
          "start_time": "2018-09-26T00:00:00-07:00"
         },
         {
          "cost": 290.026115,
          "start_time": "2018-09-27T00:00:00-07:00"
         },
         {
          "cost": 268.253716,
          "start_time": "2018-09-28T00:00:00-07:00"
         },
         {
          "cost": 262.364679,
          "start_time": "2018-09-29T00:00:00-07:00"
         },
         {
          "cost": 244.44310099999998,
          "start_time": "2018-09-30T00:00:00-07:00"
         },
         {
          "cost": 248.97004299999998,
          "start_time": "2018-10-01T00:00:00-07:00"
         },
         {
          "cost": 243.463813,
          "start_time": "2018-10-02T00:00:00-07:00"
         },
         {
          "cost": 304.920198,
          "start_time": "2018-10-03T00:00:00-07:00"
         },
         {
          "cost": 452.96205100000003,
          "start_time": "2018-10-04T00:00:00-07:00"
         },
         {
          "cost": 275.03173200000003,
          "start_time": "2018-10-05T00:00:00-07:00"
         },
         {
          "cost": 181.814937,
          "start_time": "2018-10-06T00:00:00-07:00"
         },
         {
          "cost": 173.638486,
          "start_time": "2018-10-07T00:00:00-07:00"
         },
         {
          "cost": 197.120381,
          "start_time": "2018-10-08T00:00:00-07:00"
         },
         {
          "cost": 212.07737500000002,
          "start_time": "2018-10-09T00:00:00-07:00"
         },
         {
          "cost": 219.799082,
          "start_time": "2018-10-10T00:00:00-07:00"
         },
         {
          "cost": 203.78078899999997,
          "start_time": "2018-10-11T00:00:00-07:00"
         },
         {
          "cost": 206.12004299999998,
          "start_time": "2018-10-12T00:00:00-07:00"
         },
         {
          "cost": 202.40058399999998,
          "start_time": "2018-10-13T00:00:00-07:00"
         },
         {
          "cost": 182.316341,
          "start_time": "2018-10-14T00:00:00-07:00"
         },
         {
          "cost": 183.284113,
          "start_time": "2018-10-15T00:00:00-07:00"
         },
         {
          "cost": 191.61486699999998,
          "start_time": "2018-10-16T00:00:00-07:00"
         },
         {
          "cost": 186.137944,
          "start_time": "2018-10-17T00:00:00-07:00"
         },
         {
          "cost": 185.817201,
          "start_time": "2018-10-18T00:00:00-07:00"
         },
         {
          "cost": 185.48708799999997,
          "start_time": "2018-10-19T00:00:00-07:00"
         },
         {
          "cost": 149.516785,
          "start_time": "2018-10-20T00:00:00-07:00"
         },
         {
          "cost": 121.764895,
          "start_time": "2018-10-21T00:00:00-07:00"
         },
         {
          "cost": 142.410472,
          "start_time": "2018-10-22T00:00:00-07:00"
         },
         {
          "cost": 155.93802300000002,
          "start_time": "2018-10-23T00:00:00-07:00"
         },
         {
          "cost": 156.858114,
          "start_time": "2018-10-24T00:00:00-07:00"
         },
         {
          "cost": 156.38318199999998,
          "start_time": "2018-10-25T00:00:00-07:00"
         },
         {
          "cost": 155.87109700000002,
          "start_time": "2018-10-26T00:00:00-07:00"
         },
         {
          "cost": 145.873503,
          "start_time": "2018-10-27T00:00:00-07:00"
         },
         {
          "cost": 143.64437099999998,
          "start_time": "2018-10-28T00:00:00-07:00"
         },
         {
          "cost": 149.627417,
          "start_time": "2018-10-29T00:00:00-07:00"
         },
         {
          "cost": 168.580365,
          "start_time": "2018-10-30T00:00:00-07:00"
         },
         {
          "cost": 169.53366599999998,
          "start_time": "2018-10-31T00:00:00-07:00"
         },
         {
          "cost": 165.6526,
          "start_time": "2018-11-01T00:00:00-07:00"
         },
         {
          "cost": 174.670979,
          "start_time": "2018-11-02T00:00:00-07:00"
         },
         {
          "cost": 154.460981,
          "start_time": "2018-11-03T00:00:00-07:00"
         },
         {
          "cost": 160.182685,
          "start_time": "2018-11-04T00:00:00-07:00"
         },
         {
          "cost": 154.16036599999998,
          "start_time": "2018-11-05T00:00:00-08:00"
         },
         {
          "cost": 154.746287,
          "start_time": "2018-11-06T00:00:00-08:00"
         },
         {
          "cost": 170.92835399999998,
          "start_time": "2018-11-07T00:00:00-08:00"
         },
         {
          "cost": 177.70142,
          "start_time": "2018-11-08T00:00:00-08:00"
         },
         {
          "cost": 179.00012300000003,
          "start_time": "2018-11-09T00:00:00-08:00"
         },
         {
          "cost": 179.290468,
          "start_time": "2018-11-10T00:00:00-08:00"
         },
         {
          "cost": 165.391022,
          "start_time": "2018-11-11T00:00:00-08:00"
         },
         {
          "cost": 157.576163,
          "start_time": "2018-11-12T00:00:00-08:00"
         },
         {
          "cost": 163.672754,
          "start_time": "2018-11-13T00:00:00-08:00"
         },
         {
          "cost": 183.722065,
          "start_time": "2018-11-14T00:00:00-08:00"
         },
         {
          "cost": 195.25908099999998,
          "start_time": "2018-11-15T00:00:00-08:00"
         },
         {
          "cost": 188.49224700000002,
          "start_time": "2018-11-16T00:00:00-08:00"
         },
         {
          "cost": 180.42066499999999,
          "start_time": "2018-11-17T00:00:00-08:00"
         },
         {
          "cost": 170.58507500000002,
          "start_time": "2018-11-18T00:00:00-08:00"
         },
         {
          "cost": 169.096144,
          "start_time": "2018-11-19T00:00:00-08:00"
         },
         {
          "cost": 168.46590500000002,
          "start_time": "2018-11-20T00:00:00-08:00"
         },
         {
          "cost": 168.065076,
          "start_time": "2018-11-21T00:00:00-08:00"
         },
         {
          "cost": 167.400497,
          "start_time": "2018-11-22T00:00:00-08:00"
         },
         {
          "cost": 168.123972,
          "start_time": "2018-11-23T00:00:00-08:00"
         },
         {
          "cost": 167.694091,
          "start_time": "2018-11-24T00:00:00-08:00"
         },
         {
          "cost": 168.44466,
          "start_time": "2018-11-25T00:00:00-08:00"
         },
         {
          "cost": 172.00177,
          "start_time": "2018-11-26T00:00:00-08:00"
         },
         {
          "cost": 171.23877900000002,
          "start_time": "2018-11-27T00:00:00-08:00"
         },
         {
          "cost": 170.16072100000002,
          "start_time": "2018-11-28T00:00:00-08:00"
         },
         {
          "cost": 171.209544,
          "start_time": "2018-11-29T00:00:00-08:00"
         },
         {
          "cost": 170.10651,
          "start_time": "2018-11-30T00:00:00-08:00"
         },
         {
          "cost": 162.890289,
          "start_time": "2018-12-01T00:00:00-08:00"
         },
         {
          "cost": 164.59242200000003,
          "start_time": "2018-12-02T00:00:00-08:00"
         },
         {
          "cost": 164.49821300000002,
          "start_time": "2018-12-03T00:00:00-08:00"
         },
         {
          "cost": 164.51144,
          "start_time": "2018-12-04T00:00:00-08:00"
         },
         {
          "cost": 165.150755,
          "start_time": "2018-12-05T00:00:00-08:00"
         },
         {
          "cost": 165.040173,
          "start_time": "2018-12-06T00:00:00-08:00"
         },
         {
          "cost": 164.40057099999999,
          "start_time": "2018-12-07T00:00:00-08:00"
         },
         {
          "cost": 164.55875,
          "start_time": "2018-12-08T00:00:00-08:00"
         },
         {
          "cost": 164.60581200000001,
          "start_time": "2018-12-09T00:00:00-08:00"
         },
         {
          "cost": 164.520137,
          "start_time": "2018-12-10T00:00:00-08:00"
         },
         {
          "cost": 164.85765,
          "start_time": "2018-12-11T00:00:00-08:00"
         },
         {
          "cost": 164.251543,
          "start_time": "2018-12-12T00:00:00-08:00"
         },
         {
          "cost": 164.572575,
          "start_time": "2018-12-13T00:00:00-08:00"
         },
         {
          "cost": 162.11756,
          "start_time": "2018-12-14T00:00:00-08:00"
         },
         {
          "cost": null,
          "start_time": "2018-08-15T00:00:00-07:00"
         },
         {
          "cost": null,
          "start_time": "2018-08-16T00:00:00-07:00"
         },
         {
          "cost": null,
          "start_time": "2018-08-17T00:00:00-07:00"
         },
         {
          "cost": null,
          "start_time": "2018-08-18T00:00:00-07:00"
         },
         {
          "cost": null,
          "start_time": "2018-08-19T00:00:00-07:00"
         },
         {
          "cost": null,
          "start_time": "2018-08-20T00:00:00-07:00"
         },
         {
          "cost": null,
          "start_time": "2018-08-21T00:00:00-07:00"
         },
         {
          "cost": null,
          "start_time": "2018-08-22T00:00:00-07:00"
         },
         {
          "cost": null,
          "start_time": "2018-08-23T00:00:00-07:00"
         },
         {
          "cost": null,
          "start_time": "2018-08-24T00:00:00-07:00"
         },
         {
          "cost": null,
          "start_time": "2018-08-25T00:00:00-07:00"
         },
         {
          "cost": null,
          "start_time": "2018-08-26T00:00:00-07:00"
         },
         {
          "cost": null,
          "start_time": "2018-08-27T00:00:00-07:00"
         },
         {
          "cost": null,
          "start_time": "2018-08-28T00:00:00-07:00"
         },
         {
          "cost": null,
          "start_time": "2018-08-29T00:00:00-07:00"
         },
         {
          "cost": null,
          "start_time": "2018-08-30T00:00:00-07:00"
         },
         {
          "cost": null,
          "start_time": "2018-08-31T00:00:00-07:00"
         },
         {
          "cost": null,
          "start_time": "2018-09-01T00:00:00-07:00"
         },
         {
          "cost": null,
          "start_time": "2018-09-02T00:00:00-07:00"
         },
         {
          "cost": null,
          "start_time": "2018-09-03T00:00:00-07:00"
         },
         {
          "cost": null,
          "start_time": "2018-09-04T00:00:00-07:00"
         },
         {
          "cost": null,
          "start_time": "2018-09-05T00:00:00-07:00"
         },
         {
          "cost": null,
          "start_time": "2018-09-06T00:00:00-07:00"
         },
         {
          "cost": null,
          "start_time": "2018-09-07T00:00:00-07:00"
         },
         {
          "cost": null,
          "start_time": "2018-09-08T00:00:00-07:00"
         },
         {
          "cost": null,
          "start_time": "2018-09-09T00:00:00-07:00"
         },
         {
          "cost": null,
          "start_time": "2018-09-10T00:00:00-07:00"
         },
         {
          "cost": null,
          "start_time": "2018-09-11T00:00:00-07:00"
         },
         {
          "cost": null,
          "start_time": "2018-09-12T00:00:00-07:00"
         }
        ]
       },
       "encoding": {
        "x": {
         "field": "start_time",
         "type": "temporal"
        },
        "y": {
         "axis": {
          "format": "$.2f"
         },
         "field": "cost",
         "type": "quantitative"
        }
       },
       "mark": "line",
       "width": 900
      },
      "image/png": "[encoded data removed]",
      "text/plain": [
       "<VegaLite 2 object>\n",
       "\n",
       "If you see this message, it means the renderer has not been properly enabled\n",
       "for the frontend that you are using. For more information, see\n",
       "https://altair-viz.github.io/user_guide/troubleshooting.html\n"
      ]
     },
     "execution_count": 12,
     "metadata": {},
     "output_type": "execute_result"
    }
   ],
   "source": [
    "alt.Chart(cost, width=900).mark_line().encode(\n",
    "    x='start_time',\n",
    "    y=alt.Y('cost', axis=alt.Axis(format=\"$.2f\"))\n",
    ")"
   ]
  },
  {
   "cell_type": "code",
   "execution_count": 13,
   "metadata": {},
   "outputs": [
    {
     "data": {
      "text/html": [
       "<h3>Mean daily cloud cost: <b>$ 192.91</b></h3>"
      ],
      "text/plain": [
       "<IPython.core.display.HTML object>"
      ]
     },
     "execution_count": 13,
     "metadata": {},
     "output_type": "execute_result"
    }
   ],
   "source": [
    "# Mean daily active users\n",
    "mean_cost = cost['cost'].mean()\n",
    "display.HTML(f'<h3>Mean daily cloud cost: <b>${mean_cost: .2f}</b></h3>')"
   ]
  },
  {
   "cell_type": "markdown",
   "metadata": {},
   "source": [
    "## Daily cloud costs per **active** user\n",
    "\n",
    "This is cost per day for *active* users - those who used the cluster. This is only a fraction of your total users, so be careful using this for estimates."
   ]
  },
  {
   "cell_type": "code",
   "execution_count": 14,
   "metadata": {},
   "outputs": [],
   "source": [
    "# Combine into a single dataframe based on day\n",
    "total = pd.merge(daily_active_users, cost, how='outer', left_on='start', right_on='start_time').drop(columns=['start_time'])\n",
    "\n",
    "# Calculate daily cost per user\n",
    "total['cost_per_active_user'] = total['cost'] / total['user']"
   ]
  },
  {
   "cell_type": "code",
   "execution_count": 15,
   "metadata": {},
   "outputs": [
    {
     "data": {
      "application/vnd.vegalite.v2+json": {
       "$schema": "https://vega.github.io/schema/vega-lite/v2.6.0.json",
       "config": {
        "axis": {
         "labelFontSize": 20,
         "titleFontSize": 20
        }
       },
       "data": {
        "name": "data-34a11dd000fa2c8403902c3d108b6ac4"
       },
       "datasets": {
        "data-34a11dd000fa2c8403902c3d108b6ac4": [
         {
          "cost": null,
          "cost_per_active_user": null,
          "start": "2018-08-17T00:00:00-07:00",
          "user": 13
         },
         {
          "cost": null,
          "cost_per_active_user": null,
          "start": "2018-08-18T00:00:00-07:00",
          "user": 38
         },
         {
          "cost": null,
          "cost_per_active_user": null,
          "start": "2018-08-19T00:00:00-07:00",
          "user": 24
         },
         {
          "cost": null,
          "cost_per_active_user": null,
          "start": "2018-08-20T00:00:00-07:00",
          "user": 53
         },
         {
          "cost": null,
          "cost_per_active_user": null,
          "start": "2018-08-21T00:00:00-07:00",
          "user": 135
         },
         {
          "cost": null,
          "cost_per_active_user": null,
          "start": "2018-08-22T00:00:00-07:00",
          "user": 1176
         },
         {
          "cost": null,
          "cost_per_active_user": null,
          "start": "2018-08-23T00:00:00-07:00",
          "user": 1184
         },
         {
          "cost": null,
          "cost_per_active_user": null,
          "start": "2018-08-24T00:00:00-07:00",
          "user": 1332
         },
         {
          "cost": null,
          "cost_per_active_user": null,
          "start": "2018-08-25T00:00:00-07:00",
          "user": 918
         },
         {
          "cost": null,
          "cost_per_active_user": null,
          "start": "2018-08-26T00:00:00-07:00",
          "user": 1133
         },
         {
          "cost": null,
          "cost_per_active_user": null,
          "start": "2018-08-27T00:00:00-07:00",
          "user": 1447
         },
         {
          "cost": null,
          "cost_per_active_user": null,
          "start": "2018-08-28T00:00:00-07:00",
          "user": 1276
         },
         {
          "cost": null,
          "cost_per_active_user": null,
          "start": "2018-08-29T00:00:00-07:00",
          "user": 1519
         },
         {
          "cost": null,
          "cost_per_active_user": null,
          "start": "2018-08-30T00:00:00-07:00",
          "user": 1236
         },
         {
          "cost": null,
          "cost_per_active_user": null,
          "start": "2018-08-31T00:00:00-07:00",
          "user": 1143
         },
         {
          "cost": null,
          "cost_per_active_user": null,
          "start": "2018-09-01T00:00:00-07:00",
          "user": 728
         },
         {
          "cost": null,
          "cost_per_active_user": null,
          "start": "2018-09-02T00:00:00-07:00",
          "user": 914
         },
         {
          "cost": null,
          "cost_per_active_user": null,
          "start": "2018-09-03T00:00:00-07:00",
          "user": 1202
         },
         {
          "cost": null,
          "cost_per_active_user": null,
          "start": "2018-09-04T00:00:00-07:00",
          "user": 1409
         },
         {
          "cost": null,
          "cost_per_active_user": null,
          "start": "2018-09-05T00:00:00-07:00",
          "user": 1586
         },
         {
          "cost": null,
          "cost_per_active_user": null,
          "start": "2018-09-06T00:00:00-07:00",
          "user": 1278
         },
         {
          "cost": null,
          "cost_per_active_user": null,
          "start": "2018-09-07T00:00:00-07:00",
          "user": 1011
         },
         {
          "cost": null,
          "cost_per_active_user": null,
          "start": "2018-09-08T00:00:00-07:00",
          "user": 815
         },
         {
          "cost": null,
          "cost_per_active_user": null,
          "start": "2018-09-09T00:00:00-07:00",
          "user": 971
         },
         {
          "cost": null,
          "cost_per_active_user": null,
          "start": "2018-09-10T00:00:00-07:00",
          "user": 1369
         },
         {
          "cost": null,
          "cost_per_active_user": null,
          "start": "2018-09-11T00:00:00-07:00",
          "user": 1417
         },
         {
          "cost": 40.156909999999996,
          "cost_per_active_user": 0.02689679169457468,
          "start": "2018-09-12T00:00:00-07:00",
          "user": 1493
         },
         {
          "cost": null,
          "cost_per_active_user": null,
          "start": "2018-09-12T00:00:00-07:00",
          "user": 1493
         },
         {
          "cost": 263.958762,
          "cost_per_active_user": 0.21832817369727045,
          "start": "2018-09-13T00:00:00-07:00",
          "user": 1209
         },
         {
          "cost": 233.378606,
          "cost_per_active_user": 0.2598870890868597,
          "start": "2018-09-14T00:00:00-07:00",
          "user": 898
         },
         {
          "cost": 220.49735600000002,
          "cost_per_active_user": 0.28341562467866327,
          "start": "2018-09-15T00:00:00-07:00",
          "user": 778
         },
         {
          "cost": 221.476064,
          "cost_per_active_user": 0.2103286457739791,
          "start": "2018-09-16T00:00:00-07:00",
          "user": 1053
         },
         {
          "cost": 254.118337,
          "cost_per_active_user": 0.17758094828791054,
          "start": "2018-09-17T00:00:00-07:00",
          "user": 1431
         },
         {
          "cost": 268.713372,
          "cost_per_active_user": 0.19963846359583953,
          "start": "2018-09-18T00:00:00-07:00",
          "user": 1346
         },
         {
          "cost": 277.049757,
          "cost_per_active_user": 0.18656549292929292,
          "start": "2018-09-19T00:00:00-07:00",
          "user": 1485
         },
         {
          "cost": 291.302796,
          "cost_per_active_user": 0.210783499276411,
          "start": "2018-09-20T00:00:00-07:00",
          "user": 1382
         },
         {
          "cost": 268.42976,
          "cost_per_active_user": 0.22184277685950413,
          "start": "2018-09-21T00:00:00-07:00",
          "user": 1210
         },
         {
          "cost": 246.082326,
          "cost_per_active_user": 0.2954169579831933,
          "start": "2018-09-22T00:00:00-07:00",
          "user": 833
         },
         {
          "cost": 244.174214,
          "cost_per_active_user": 0.28163115801614763,
          "start": "2018-09-23T00:00:00-07:00",
          "user": 867
         },
         {
          "cost": 245.52624400000002,
          "cost_per_active_user": 0.2068460353833193,
          "start": "2018-09-24T00:00:00-07:00",
          "user": 1187
         },
         {
          "cost": 254.888743,
          "cost_per_active_user": 0.20054189063729347,
          "start": "2018-09-25T00:00:00-07:00",
          "user": 1271
         },
         {
          "cost": 277.179144,
          "cost_per_active_user": 0.1876636046039269,
          "start": "2018-09-26T00:00:00-07:00",
          "user": 1477
         },
         {
          "cost": 290.026115,
          "cost_per_active_user": 0.1991937603021978,
          "start": "2018-09-27T00:00:00-07:00",
          "user": 1456
         },
         {
          "cost": 268.253716,
          "cost_per_active_user": 0.2246681038525963,
          "start": "2018-09-28T00:00:00-07:00",
          "user": 1194
         },
         {
          "cost": 262.364679,
          "cost_per_active_user": 0.342066074315515,
          "start": "2018-09-29T00:00:00-07:00",
          "user": 767
         },
         {
          "cost": 244.44310099999998,
          "cost_per_active_user": 0.2454248002008032,
          "start": "2018-09-30T00:00:00-07:00",
          "user": 996
         },
         {
          "cost": 248.97004299999998,
          "cost_per_active_user": 0.1873363754702784,
          "start": "2018-10-01T00:00:00-07:00",
          "user": 1329
         },
         {
          "cost": 243.463813,
          "cost_per_active_user": 0.19384061544585987,
          "start": "2018-10-02T00:00:00-07:00",
          "user": 1256
         },
         {
          "cost": 304.920198,
          "cost_per_active_user": 0.2042332203616879,
          "start": "2018-10-03T00:00:00-07:00",
          "user": 1493
         },
         {
          "cost": 452.96205100000003,
          "cost_per_active_user": 0.3544303998435055,
          "start": "2018-10-04T00:00:00-07:00",
          "user": 1278
         },
         {
          "cost": 275.03173200000003,
          "cost_per_active_user": 0.31147421517553797,
          "start": "2018-10-05T00:00:00-07:00",
          "user": 883
         },
         {
          "cost": 181.814937,
          "cost_per_active_user": 0.2608535681492109,
          "start": "2018-10-06T00:00:00-07:00",
          "user": 697
         },
         {
          "cost": 173.638486,
          "cost_per_active_user": 0.193792953125,
          "start": "2018-10-07T00:00:00-07:00",
          "user": 896
         },
         {
          "cost": 197.120381,
          "cost_per_active_user": 0.15400029765625,
          "start": "2018-10-08T00:00:00-07:00",
          "user": 1280
         },
         {
          "cost": 212.07737500000002,
          "cost_per_active_user": 0.16363994984567903,
          "start": "2018-10-09T00:00:00-07:00",
          "user": 1296
         },
         {
          "cost": 219.799082,
          "cost_per_active_user": 0.1877020341588386,
          "start": "2018-10-10T00:00:00-07:00",
          "user": 1171
         },
         {
          "cost": 203.78078899999997,
          "cost_per_active_user": 0.22974158850056367,
          "start": "2018-10-11T00:00:00-07:00",
          "user": 887
         },
         {
          "cost": 206.12004299999998,
          "cost_per_active_user": 0.21927664148936168,
          "start": "2018-10-12T00:00:00-07:00",
          "user": 940
         },
         {
          "cost": 202.40058399999998,
          "cost_per_active_user": 0.5782873828571428,
          "start": "2018-10-13T00:00:00-07:00",
          "user": 350
         },
         {
          "cost": 182.316341,
          "cost_per_active_user": 0.43408652619047616,
          "start": "2018-10-14T00:00:00-07:00",
          "user": 420
         },
         {
          "cost": 183.284113,
          "cost_per_active_user": 0.21613692570754717,
          "start": "2018-10-15T00:00:00-07:00",
          "user": 848
         },
         {
          "cost": 191.61486699999998,
          "cost_per_active_user": 0.24917407932379712,
          "start": "2018-10-16T00:00:00-07:00",
          "user": 769
         },
         {
          "cost": 186.137944,
          "cost_per_active_user": 0.17915105293551492,
          "start": "2018-10-17T00:00:00-07:00",
          "user": 1039
         },
         {
          "cost": 185.817201,
          "cost_per_active_user": 0.18922321894093688,
          "start": "2018-10-18T00:00:00-07:00",
          "user": 982
         },
         {
          "cost": 185.48708799999997,
          "cost_per_active_user": 0.3086307620632279,
          "start": "2018-10-19T00:00:00-07:00",
          "user": 601
         },
         {
          "cost": 149.516785,
          "cost_per_active_user": 0.23884470447284345,
          "start": "2018-10-20T00:00:00-07:00",
          "user": 626
         },
         {
          "cost": 121.764895,
          "cost_per_active_user": 0.14977231857318574,
          "start": "2018-10-21T00:00:00-07:00",
          "user": 813
         },
         {
          "cost": 142.410472,
          "cost_per_active_user": 0.1228735737704918,
          "start": "2018-10-22T00:00:00-07:00",
          "user": 1159
         },
         {
          "cost": 155.93802300000002,
          "cost_per_active_user": 0.1469726889726673,
          "start": "2018-10-23T00:00:00-07:00",
          "user": 1061
         },
         {
          "cost": 156.858114,
          "cost_per_active_user": 0.11276643709561467,
          "start": "2018-10-24T00:00:00-07:00",
          "user": 1391
         },
         {
          "cost": 156.38318199999998,
          "cost_per_active_user": 0.11937647480916029,
          "start": "2018-10-25T00:00:00-07:00",
          "user": 1310
         },
         {
          "cost": 155.87109700000002,
          "cost_per_active_user": 0.1409322757685353,
          "start": "2018-10-26T00:00:00-07:00",
          "user": 1106
         },
         {
          "cost": 145.873503,
          "cost_per_active_user": 0.22270763816793893,
          "start": "2018-10-27T00:00:00-07:00",
          "user": 655
         },
         {
          "cost": 143.64437099999998,
          "cost_per_active_user": 0.17390359685230022,
          "start": "2018-10-28T00:00:00-07:00",
          "user": 826
         },
         {
          "cost": 149.627417,
          "cost_per_active_user": 0.11922503346613547,
          "start": "2018-10-29T00:00:00-07:00",
          "user": 1255
         },
         {
          "cost": 168.580365,
          "cost_per_active_user": 0.14060080483736448,
          "start": "2018-10-30T00:00:00-07:00",
          "user": 1199
         },
         {
          "cost": 169.53366599999998,
          "cost_per_active_user": 0.12032197728885734,
          "start": "2018-10-31T00:00:00-07:00",
          "user": 1409
         },
         {
          "cost": 165.6526,
          "cost_per_active_user": 0.11600322128851541,
          "start": "2018-11-01T00:00:00-07:00",
          "user": 1428
         },
         {
          "cost": 174.670979,
          "cost_per_active_user": 0.15096886689714778,
          "start": "2018-11-02T00:00:00-07:00",
          "user": 1157
         },
         {
          "cost": 154.460981,
          "cost_per_active_user": 0.2511560666666667,
          "start": "2018-11-03T00:00:00-07:00",
          "user": 615
         },
         {
          "cost": 160.182685,
          "cost_per_active_user": 0.22981733859397416,
          "start": "2018-11-04T00:00:00-07:00",
          "user": 697
         },
         {
          "cost": 154.16036599999998,
          "cost_per_active_user": 0.15369926819541374,
          "start": "2018-11-05T00:00:00-08:00",
          "user": 1003
         },
         {
          "cost": 154.746287,
          "cost_per_active_user": 0.1444876629318394,
          "start": "2018-11-06T00:00:00-08:00",
          "user": 1071
         },
         {
          "cost": 170.92835399999998,
          "cost_per_active_user": 0.11723481069958847,
          "start": "2018-11-07T00:00:00-08:00",
          "user": 1458
         },
         {
          "cost": 177.70142,
          "cost_per_active_user": 0.14412118410381186,
          "start": "2018-11-08T00:00:00-08:00",
          "user": 1233
         },
         {
          "cost": 179.00012300000003,
          "cost_per_active_user": 0.2624635234604106,
          "start": "2018-11-09T00:00:00-08:00",
          "user": 682
         },
         {
          "cost": 179.290468,
          "cost_per_active_user": 0.2924803719412724,
          "start": "2018-11-10T00:00:00-08:00",
          "user": 613
         },
         {
          "cost": 165.391022,
          "cost_per_active_user": 0.24215376573938505,
          "start": "2018-11-11T00:00:00-08:00",
          "user": 683
         },
         {
          "cost": 157.576163,
          "cost_per_active_user": 0.17705186853932586,
          "start": "2018-11-12T00:00:00-08:00",
          "user": 890
         },
         {
          "cost": 163.672754,
          "cost_per_active_user": 0.1422004813205908,
          "start": "2018-11-13T00:00:00-08:00",
          "user": 1151
         },
         {
          "cost": 183.722065,
          "cost_per_active_user": 0.12207446179401993,
          "start": "2018-11-14T00:00:00-08:00",
          "user": 1505
         },
         {
          "cost": 195.25908099999998,
          "cost_per_active_user": 0.1493948592195868,
          "start": "2018-11-15T00:00:00-08:00",
          "user": 1307
         },
         {
          "cost": 188.49224700000002,
          "cost_per_active_user": 0.21178904157303374,
          "start": "2018-11-16T00:00:00-08:00",
          "user": 890
         },
         {
          "cost": 180.42066499999999,
          "cost_per_active_user": 0.2377083860342556,
          "start": "2018-11-17T00:00:00-08:00",
          "user": 759
         },
         {
          "cost": 170.58507500000002,
          "cost_per_active_user": 0.23303971994535522,
          "start": "2018-11-18T00:00:00-08:00",
          "user": 732
         },
         {
          "cost": 169.096144,
          "cost_per_active_user": 0.20596363459196104,
          "start": "2018-11-19T00:00:00-08:00",
          "user": 821
         },
         {
          "cost": 168.46590500000002,
          "cost_per_active_user": 0.2587801920122888,
          "start": "2018-11-20T00:00:00-08:00",
          "user": 651
         },
         {
          "cost": 168.065076,
          "cost_per_active_user": 0.31297034636871507,
          "start": "2018-11-21T00:00:00-08:00",
          "user": 537
         },
         {
          "cost": 167.400497,
          "cost_per_active_user": 0.39295891314553993,
          "start": "2018-11-22T00:00:00-08:00",
          "user": 426
         },
         {
          "cost": 168.123972,
          "cost_per_active_user": 0.33895962096774196,
          "start": "2018-11-23T00:00:00-08:00",
          "user": 496
         },
         {
          "cost": 167.694091,
          "cost_per_active_user": 0.35229851050420163,
          "start": "2018-11-24T00:00:00-08:00",
          "user": 476
         },
         {
          "cost": 168.44466,
          "cost_per_active_user": 0.269511456,
          "start": "2018-11-25T00:00:00-08:00",
          "user": 625
         },
         {
          "cost": 172.00177,
          "cost_per_active_user": 0.1559399546690843,
          "start": "2018-11-26T00:00:00-08:00",
          "user": 1103
         },
         {
          "cost": 171.23877900000002,
          "cost_per_active_user": 0.1459836138107417,
          "start": "2018-11-27T00:00:00-08:00",
          "user": 1173
         },
         {
          "cost": 170.16072100000002,
          "cost_per_active_user": 0.11991594150810432,
          "start": "2018-11-28T00:00:00-08:00",
          "user": 1419
         },
         {
          "cost": 171.209544,
          "cost_per_active_user": 0.1276730380313199,
          "start": "2018-11-29T00:00:00-08:00",
          "user": 1341
         },
         {
          "cost": 170.10651,
          "cost_per_active_user": 0.1838989297297297,
          "start": "2018-11-30T00:00:00-08:00",
          "user": 925
         },
         {
          "cost": 162.890289,
          "cost_per_active_user": 0.3761900438799076,
          "start": "2018-12-01T00:00:00-08:00",
          "user": 433
         },
         {
          "cost": 164.59242200000003,
          "cost_per_active_user": 0.35094333049040516,
          "start": "2018-12-02T00:00:00-08:00",
          "user": 469
         },
         {
          "cost": 164.49821300000002,
          "cost_per_active_user": 0.26791239902280134,
          "start": "2018-12-03T00:00:00-08:00",
          "user": 614
         },
         {
          "cost": 164.51144,
          "cost_per_active_user": 0.36315991169977924,
          "start": "2018-12-04T00:00:00-08:00",
          "user": 453
         },
         {
          "cost": 165.150755,
          "cost_per_active_user": 0.3296422255489022,
          "start": "2018-12-05T00:00:00-08:00",
          "user": 501
         },
         {
          "cost": 165.040173,
          "cost_per_active_user": 0.3811551339491917,
          "start": "2018-12-06T00:00:00-08:00",
          "user": 433
         },
         {
          "cost": 164.40057099999999,
          "cost_per_active_user": 0.41515295707070704,
          "start": "2018-12-07T00:00:00-08:00",
          "user": 396
         },
         {
          "cost": 164.55875,
          "cost_per_active_user": 0.4956588855421687,
          "start": "2018-12-08T00:00:00-08:00",
          "user": 332
         },
         {
          "cost": 164.60581200000001,
          "cost_per_active_user": 0.5715479583333334,
          "start": "2018-12-09T00:00:00-08:00",
          "user": 288
         },
         {
          "cost": 164.520137,
          "cost_per_active_user": 0.5376475065359477,
          "start": "2018-12-10T00:00:00-08:00",
          "user": 306
         },
         {
          "cost": 164.85765,
          "cost_per_active_user": 0.5088199074074075,
          "start": "2018-12-11T00:00:00-08:00",
          "user": 324
         },
         {
          "cost": 164.251543,
          "cost_per_active_user": 0.35171636616702356,
          "start": "2018-12-12T00:00:00-08:00",
          "user": 467
         },
         {
          "cost": 164.572575,
          "cost_per_active_user": 0.29599383992805756,
          "start": "2018-12-13T00:00:00-08:00",
          "user": 556
         },
         {
          "cost": 162.11756,
          "cost_per_active_user": 0.8229317766497461,
          "start": "2018-12-14T00:00:00-08:00",
          "user": 197
         },
         {
          "cost": null,
          "cost_per_active_user": null,
          "start": "",
          "user": null
         },
         {
          "cost": null,
          "cost_per_active_user": null,
          "start": "",
          "user": null
         }
        ]
       },
       "encoding": {
        "x": {
         "field": "start",
         "type": "temporal"
        },
        "y": {
         "axis": {
          "format": "$.2f"
         },
         "field": "cost_per_active_user",
         "title": "Cost per active user",
         "type": "quantitative"
        }
       },
       "mark": "line",
       "width": 900
      },
      "image/png": "[encoded data removed]",
      "text/plain": [
       "<VegaLite 2 object>\n",
       "\n",
       "If you see this message, it means the renderer has not been properly enabled\n",
       "for the frontend that you are using. For more information, see\n",
       "https://altair-viz.github.io/user_guide/troubleshooting.html\n"
      ]
     },
     "execution_count": 15,
     "metadata": {},
     "output_type": "execute_result"
    }
   ],
   "source": [
    "alt.Chart(total, width=900).mark_line().encode(\n",
    "    x='start',\n",
    "    y=alt.Y('cost_per_active_user', axis=alt.Axis(format=\"$.2f\"), title=\"Cost per active user\")\n",
    ")"
   ]
  },
  {
   "cell_type": "markdown",
   "metadata": {
    "toc-hr-collapsed": true
   },
   "source": [
    "## Total Users\n",
    "\n",
    "One way to count the 'number of users on the JupyterHub' is to look at everyone who has ever started a notebook. Since anyone with a Berkeley.edu account can log in, this is not the most accurate count of people who *use* the hub - but it's useful nonetheless."
   ]
  },
  {
   "cell_type": "code",
   "execution_count": 16,
   "metadata": {},
   "outputs": [
    {
     "data": {
      "text/html": [
       "<h4>Users who used JupyterHub at least once: <b>4850</b></h4>"
      ],
      "text/plain": [
       "<IPython.core.display.HTML object>"
      ]
     },
     "execution_count": 16,
     "metadata": {},
     "output_type": "execute_result"
    }
   ],
   "source": [
    "user_starts_count = sessions.groupby('user').count()['start'].to_frame()\n",
    "display.HTML(f'<h4>Users who used JupyterHub at least once: <b>{user_starts_count.shape[0]}</b></h4>')"
   ]
  },
  {
   "cell_type": "markdown",
   "metadata": {},
   "source": [
    "Some basic stats about number of times users started their servers"
   ]
  },
  {
   "cell_type": "code",
   "execution_count": 17,
   "metadata": {},
   "outputs": [
    {
     "data": {
      "text/html": [
       "<div>\n",
       "<style scoped>\n",
       "    .dataframe tbody tr th:only-of-type {\n",
       "        vertical-align: middle;\n",
       "    }\n",
       "\n",
       "    .dataframe tbody tr th {\n",
       "        vertical-align: top;\n",
       "    }\n",
       "\n",
       "    .dataframe thead th {\n",
       "        text-align: right;\n",
       "    }\n",
       "</style>\n",
       "<table border=\"1\" class=\"dataframe\">\n",
       "  <thead>\n",
       "    <tr style=\"text-align: right;\">\n",
       "      <th></th>\n",
       "      <th>start</th>\n",
       "    </tr>\n",
       "  </thead>\n",
       "  <tbody>\n",
       "    <tr>\n",
       "      <th>count</th>\n",
       "      <td>4850.000000</td>\n",
       "    </tr>\n",
       "    <tr>\n",
       "      <th>mean</th>\n",
       "      <td>46.413814</td>\n",
       "    </tr>\n",
       "    <tr>\n",
       "      <th>std</th>\n",
       "      <td>59.517234</td>\n",
       "    </tr>\n",
       "    <tr>\n",
       "      <th>min</th>\n",
       "      <td>1.000000</td>\n",
       "    </tr>\n",
       "    <tr>\n",
       "      <th>25%</th>\n",
       "      <td>2.000000</td>\n",
       "    </tr>\n",
       "    <tr>\n",
       "      <th>50%</th>\n",
       "      <td>15.000000</td>\n",
       "    </tr>\n",
       "    <tr>\n",
       "      <th>75%</th>\n",
       "      <td>79.000000</td>\n",
       "    </tr>\n",
       "    <tr>\n",
       "      <th>max</th>\n",
       "      <td>424.000000</td>\n",
       "    </tr>\n",
       "  </tbody>\n",
       "</table>\n",
       "</div>"
      ],
      "text/plain": [
       "             start\n",
       "count  4850.000000\n",
       "mean     46.413814\n",
       "std      59.517234\n",
       "min       1.000000\n",
       "25%       2.000000\n",
       "50%      15.000000\n",
       "75%      79.000000\n",
       "max     424.000000"
      ]
     },
     "execution_count": 17,
     "metadata": {},
     "output_type": "execute_result"
    }
   ],
   "source": [
    "user_starts_count.describe()"
   ]
  },
  {
   "cell_type": "markdown",
   "metadata": {},
   "source": [
    "We can calculate cost per day per user from this user count"
   ]
  },
  {
   "cell_type": "code",
   "execution_count": 18,
   "metadata": {},
   "outputs": [
    {
     "data": {
      "application/vnd.vegalite.v2+json": {
       "$schema": "https://vega.github.io/schema/vega-lite/v2.6.0.json",
       "config": {
        "axis": {
         "labelFontSize": 20,
         "titleFontSize": 20
        }
       },
       "data": {
        "name": "data-94cdaa7ff7fc0dcb19ae69bad4be81f2"
       },
       "datasets": {
        "data-94cdaa7ff7fc0dcb19ae69bad4be81f2": [
         {
          "cost": null,
          "cost_per_active_user": null,
          "cost_per_user": null,
          "start": "2018-08-17T00:00:00-07:00",
          "user": 13
         },
         {
          "cost": null,
          "cost_per_active_user": null,
          "cost_per_user": null,
          "start": "2018-08-18T00:00:00-07:00",
          "user": 38
         },
         {
          "cost": null,
          "cost_per_active_user": null,
          "cost_per_user": null,
          "start": "2018-08-19T00:00:00-07:00",
          "user": 24
         },
         {
          "cost": null,
          "cost_per_active_user": null,
          "cost_per_user": null,
          "start": "2018-08-20T00:00:00-07:00",
          "user": 53
         },
         {
          "cost": null,
          "cost_per_active_user": null,
          "cost_per_user": null,
          "start": "2018-08-21T00:00:00-07:00",
          "user": 135
         },
         {
          "cost": null,
          "cost_per_active_user": null,
          "cost_per_user": null,
          "start": "2018-08-22T00:00:00-07:00",
          "user": 1176
         },
         {
          "cost": null,
          "cost_per_active_user": null,
          "cost_per_user": null,
          "start": "2018-08-23T00:00:00-07:00",
          "user": 1184
         },
         {
          "cost": null,
          "cost_per_active_user": null,
          "cost_per_user": null,
          "start": "2018-08-24T00:00:00-07:00",
          "user": 1332
         },
         {
          "cost": null,
          "cost_per_active_user": null,
          "cost_per_user": null,
          "start": "2018-08-25T00:00:00-07:00",
          "user": 918
         },
         {
          "cost": null,
          "cost_per_active_user": null,
          "cost_per_user": null,
          "start": "2018-08-26T00:00:00-07:00",
          "user": 1133
         },
         {
          "cost": null,
          "cost_per_active_user": null,
          "cost_per_user": null,
          "start": "2018-08-27T00:00:00-07:00",
          "user": 1447
         },
         {
          "cost": null,
          "cost_per_active_user": null,
          "cost_per_user": null,
          "start": "2018-08-28T00:00:00-07:00",
          "user": 1276
         },
         {
          "cost": null,
          "cost_per_active_user": null,
          "cost_per_user": null,
          "start": "2018-08-29T00:00:00-07:00",
          "user": 1519
         },
         {
          "cost": null,
          "cost_per_active_user": null,
          "cost_per_user": null,
          "start": "2018-08-30T00:00:00-07:00",
          "user": 1236
         },
         {
          "cost": null,
          "cost_per_active_user": null,
          "cost_per_user": null,
          "start": "2018-08-31T00:00:00-07:00",
          "user": 1143
         },
         {
          "cost": null,
          "cost_per_active_user": null,
          "cost_per_user": null,
          "start": "2018-09-01T00:00:00-07:00",
          "user": 728
         },
         {
          "cost": null,
          "cost_per_active_user": null,
          "cost_per_user": null,
          "start": "2018-09-02T00:00:00-07:00",
          "user": 914
         },
         {
          "cost": null,
          "cost_per_active_user": null,
          "cost_per_user": null,
          "start": "2018-09-03T00:00:00-07:00",
          "user": 1202
         },
         {
          "cost": null,
          "cost_per_active_user": null,
          "cost_per_user": null,
          "start": "2018-09-04T00:00:00-07:00",
          "user": 1409
         },
         {
          "cost": null,
          "cost_per_active_user": null,
          "cost_per_user": null,
          "start": "2018-09-05T00:00:00-07:00",
          "user": 1586
         },
         {
          "cost": null,
          "cost_per_active_user": null,
          "cost_per_user": null,
          "start": "2018-09-06T00:00:00-07:00",
          "user": 1278
         },
         {
          "cost": null,
          "cost_per_active_user": null,
          "cost_per_user": null,
          "start": "2018-09-07T00:00:00-07:00",
          "user": 1011
         },
         {
          "cost": null,
          "cost_per_active_user": null,
          "cost_per_user": null,
          "start": "2018-09-08T00:00:00-07:00",
          "user": 815
         },
         {
          "cost": null,
          "cost_per_active_user": null,
          "cost_per_user": null,
          "start": "2018-09-09T00:00:00-07:00",
          "user": 971
         },
         {
          "cost": null,
          "cost_per_active_user": null,
          "cost_per_user": null,
          "start": "2018-09-10T00:00:00-07:00",
          "user": 1369
         },
         {
          "cost": null,
          "cost_per_active_user": null,
          "cost_per_user": null,
          "start": "2018-09-11T00:00:00-07:00",
          "user": 1417
         },
         {
          "cost": 40.156909999999996,
          "cost_per_active_user": 0.02689679169457468,
          "cost_per_user": 0.008279775257731959,
          "start": "2018-09-12T00:00:00-07:00",
          "user": 1493
         },
         {
          "cost": null,
          "cost_per_active_user": null,
          "cost_per_user": null,
          "start": "2018-09-12T00:00:00-07:00",
          "user": 1493
         },
         {
          "cost": 263.958762,
          "cost_per_active_user": 0.21832817369727045,
          "cost_per_user": 0.054424487010309275,
          "start": "2018-09-13T00:00:00-07:00",
          "user": 1209
         },
         {
          "cost": 233.378606,
          "cost_per_active_user": 0.2598870890868597,
          "cost_per_user": 0.048119300206185565,
          "start": "2018-09-14T00:00:00-07:00",
          "user": 898
         },
         {
          "cost": 220.49735600000002,
          "cost_per_active_user": 0.28341562467866327,
          "cost_per_user": 0.04546337237113403,
          "start": "2018-09-15T00:00:00-07:00",
          "user": 778
         },
         {
          "cost": 221.476064,
          "cost_per_active_user": 0.2103286457739791,
          "cost_per_user": 0.04566516783505155,
          "start": "2018-09-16T00:00:00-07:00",
          "user": 1053
         },
         {
          "cost": 254.118337,
          "cost_per_active_user": 0.17758094828791054,
          "cost_per_user": 0.05239553340206186,
          "start": "2018-09-17T00:00:00-07:00",
          "user": 1431
         },
         {
          "cost": 268.713372,
          "cost_per_active_user": 0.19963846359583953,
          "cost_per_user": 0.055404818969072164,
          "start": "2018-09-18T00:00:00-07:00",
          "user": 1346
         },
         {
          "cost": 277.049757,
          "cost_per_active_user": 0.18656549292929292,
          "cost_per_user": 0.057123661237113404,
          "start": "2018-09-19T00:00:00-07:00",
          "user": 1485
         },
         {
          "cost": 291.302796,
          "cost_per_active_user": 0.210783499276411,
          "cost_per_user": 0.06006243216494846,
          "start": "2018-09-20T00:00:00-07:00",
          "user": 1382
         },
         {
          "cost": 268.42976,
          "cost_per_active_user": 0.22184277685950413,
          "cost_per_user": 0.055346342268041235,
          "start": "2018-09-21T00:00:00-07:00",
          "user": 1210
         },
         {
          "cost": 246.082326,
          "cost_per_active_user": 0.2954169579831933,
          "cost_per_user": 0.050738623917525774,
          "start": "2018-09-22T00:00:00-07:00",
          "user": 833
         },
         {
          "cost": 244.174214,
          "cost_per_active_user": 0.28163115801614763,
          "cost_per_user": 0.0503451987628866,
          "start": "2018-09-23T00:00:00-07:00",
          "user": 867
         },
         {
          "cost": 245.52624400000002,
          "cost_per_active_user": 0.2068460353833193,
          "cost_per_user": 0.05062396783505155,
          "start": "2018-09-24T00:00:00-07:00",
          "user": 1187
         },
         {
          "cost": 254.888743,
          "cost_per_active_user": 0.20054189063729347,
          "cost_per_user": 0.05255438,
          "start": "2018-09-25T00:00:00-07:00",
          "user": 1271
         },
         {
          "cost": 277.179144,
          "cost_per_active_user": 0.1876636046039269,
          "cost_per_user": 0.057150338969072165,
          "start": "2018-09-26T00:00:00-07:00",
          "user": 1477
         },
         {
          "cost": 290.026115,
          "cost_per_active_user": 0.1991937603021978,
          "cost_per_user": 0.05979919896907217,
          "start": "2018-09-27T00:00:00-07:00",
          "user": 1456
         },
         {
          "cost": 268.253716,
          "cost_per_active_user": 0.2246681038525963,
          "cost_per_user": 0.05531004453608247,
          "start": "2018-09-28T00:00:00-07:00",
          "user": 1194
         },
         {
          "cost": 262.364679,
          "cost_per_active_user": 0.342066074315515,
          "cost_per_user": 0.054095810103092785,
          "start": "2018-09-29T00:00:00-07:00",
          "user": 767
         },
         {
          "cost": 244.44310099999998,
          "cost_per_active_user": 0.2454248002008032,
          "cost_per_user": 0.0504006393814433,
          "start": "2018-09-30T00:00:00-07:00",
          "user": 996
         },
         {
          "cost": 248.97004299999998,
          "cost_per_active_user": 0.1873363754702784,
          "cost_per_user": 0.051334029484536074,
          "start": "2018-10-01T00:00:00-07:00",
          "user": 1329
         },
         {
          "cost": 243.463813,
          "cost_per_active_user": 0.19384061544585987,
          "cost_per_user": 0.0501987243298969,
          "start": "2018-10-02T00:00:00-07:00",
          "user": 1256
         },
         {
          "cost": 304.920198,
          "cost_per_active_user": 0.2042332203616879,
          "cost_per_user": 0.06287014391752578,
          "start": "2018-10-03T00:00:00-07:00",
          "user": 1493
         },
         {
          "cost": 452.96205100000003,
          "cost_per_active_user": 0.3544303998435055,
          "cost_per_user": 0.09339423731958764,
          "start": "2018-10-04T00:00:00-07:00",
          "user": 1278
         },
         {
          "cost": 275.03173200000003,
          "cost_per_active_user": 0.31147421517553797,
          "cost_per_user": 0.05670757360824743,
          "start": "2018-10-05T00:00:00-07:00",
          "user": 883
         },
         {
          "cost": 181.814937,
          "cost_per_active_user": 0.2608535681492109,
          "cost_per_user": 0.037487615876288655,
          "start": "2018-10-06T00:00:00-07:00",
          "user": 697
         },
         {
          "cost": 173.638486,
          "cost_per_active_user": 0.193792953125,
          "cost_per_user": 0.03580174969072165,
          "start": "2018-10-07T00:00:00-07:00",
          "user": 896
         },
         {
          "cost": 197.120381,
          "cost_per_active_user": 0.15400029765625,
          "cost_per_user": 0.0406433775257732,
          "start": "2018-10-08T00:00:00-07:00",
          "user": 1280
         },
         {
          "cost": 212.07737500000002,
          "cost_per_active_user": 0.16363994984567903,
          "cost_per_user": 0.043727293814432994,
          "start": "2018-10-09T00:00:00-07:00",
          "user": 1296
         },
         {
          "cost": 219.799082,
          "cost_per_active_user": 0.1877020341588386,
          "cost_per_user": 0.04531939835051546,
          "start": "2018-10-10T00:00:00-07:00",
          "user": 1171
         },
         {
          "cost": 203.78078899999997,
          "cost_per_active_user": 0.22974158850056367,
          "cost_per_user": 0.04201665752577319,
          "start": "2018-10-11T00:00:00-07:00",
          "user": 887
         },
         {
          "cost": 206.12004299999998,
          "cost_per_active_user": 0.21927664148936168,
          "cost_per_user": 0.042498977938144326,
          "start": "2018-10-12T00:00:00-07:00",
          "user": 940
         },
         {
          "cost": 202.40058399999998,
          "cost_per_active_user": 0.5782873828571428,
          "cost_per_user": 0.04173207917525773,
          "start": "2018-10-13T00:00:00-07:00",
          "user": 350
         },
         {
          "cost": 182.316341,
          "cost_per_active_user": 0.43408652619047616,
          "cost_per_user": 0.037590998144329896,
          "start": "2018-10-14T00:00:00-07:00",
          "user": 420
         },
         {
          "cost": 183.284113,
          "cost_per_active_user": 0.21613692570754717,
          "cost_per_user": 0.03779053876288659,
          "start": "2018-10-15T00:00:00-07:00",
          "user": 848
         },
         {
          "cost": 191.61486699999998,
          "cost_per_active_user": 0.24917407932379712,
          "cost_per_user": 0.03950822,
          "start": "2018-10-16T00:00:00-07:00",
          "user": 769
         },
         {
          "cost": 186.137944,
          "cost_per_active_user": 0.17915105293551492,
          "cost_per_user": 0.038378957525773194,
          "start": "2018-10-17T00:00:00-07:00",
          "user": 1039
         },
         {
          "cost": 185.817201,
          "cost_per_active_user": 0.18922321894093688,
          "cost_per_user": 0.03831282494845361,
          "start": "2018-10-18T00:00:00-07:00",
          "user": 982
         },
         {
          "cost": 185.48708799999997,
          "cost_per_active_user": 0.3086307620632279,
          "cost_per_user": 0.038244760412371126,
          "start": "2018-10-19T00:00:00-07:00",
          "user": 601
         },
         {
          "cost": 149.516785,
          "cost_per_active_user": 0.23884470447284345,
          "cost_per_user": 0.030828203092783505,
          "start": "2018-10-20T00:00:00-07:00",
          "user": 626
         },
         {
          "cost": 121.764895,
          "cost_per_active_user": 0.14977231857318574,
          "cost_per_user": 0.02510616391752577,
          "start": "2018-10-21T00:00:00-07:00",
          "user": 813
         },
         {
          "cost": 142.410472,
          "cost_per_active_user": 0.1228735737704918,
          "cost_per_user": 0.029362983917525773,
          "start": "2018-10-22T00:00:00-07:00",
          "user": 1159
         },
         {
          "cost": 155.93802300000002,
          "cost_per_active_user": 0.1469726889726673,
          "cost_per_user": 0.032152169690721655,
          "start": "2018-10-23T00:00:00-07:00",
          "user": 1061
         },
         {
          "cost": 156.858114,
          "cost_per_active_user": 0.11276643709561467,
          "cost_per_user": 0.03234187917525773,
          "start": "2018-10-24T00:00:00-07:00",
          "user": 1391
         },
         {
          "cost": 156.38318199999998,
          "cost_per_active_user": 0.11937647480916029,
          "cost_per_user": 0.03224395505154639,
          "start": "2018-10-25T00:00:00-07:00",
          "user": 1310
         },
         {
          "cost": 155.87109700000002,
          "cost_per_active_user": 0.1409322757685353,
          "cost_per_user": 0.03213837051546392,
          "start": "2018-10-26T00:00:00-07:00",
          "user": 1106
         },
         {
          "cost": 145.873503,
          "cost_per_active_user": 0.22270763816793893,
          "cost_per_user": 0.030077010927835053,
          "start": "2018-10-27T00:00:00-07:00",
          "user": 655
         },
         {
          "cost": 143.64437099999998,
          "cost_per_active_user": 0.17390359685230022,
          "cost_per_user": 0.029617396082474223,
          "start": "2018-10-28T00:00:00-07:00",
          "user": 826
         },
         {
          "cost": 149.627417,
          "cost_per_active_user": 0.11922503346613547,
          "cost_per_user": 0.03085101381443299,
          "start": "2018-10-29T00:00:00-07:00",
          "user": 1255
         },
         {
          "cost": 168.580365,
          "cost_per_active_user": 0.14060080483736448,
          "cost_per_user": 0.034758838144329895,
          "start": "2018-10-30T00:00:00-07:00",
          "user": 1199
         },
         {
          "cost": 169.53366599999998,
          "cost_per_active_user": 0.12032197728885734,
          "cost_per_user": 0.034955395051546385,
          "start": "2018-10-31T00:00:00-07:00",
          "user": 1409
         },
         {
          "cost": 165.6526,
          "cost_per_active_user": 0.11600322128851541,
          "cost_per_user": 0.03415517525773196,
          "start": "2018-11-01T00:00:00-07:00",
          "user": 1428
         },
         {
          "cost": 174.670979,
          "cost_per_active_user": 0.15096886689714778,
          "cost_per_user": 0.03601463484536082,
          "start": "2018-11-02T00:00:00-07:00",
          "user": 1157
         },
         {
          "cost": 154.460981,
          "cost_per_active_user": 0.2511560666666667,
          "cost_per_user": 0.03184762494845361,
          "start": "2018-11-03T00:00:00-07:00",
          "user": 615
         },
         {
          "cost": 160.182685,
          "cost_per_active_user": 0.22981733859397416,
          "cost_per_user": 0.033027357731958765,
          "start": "2018-11-04T00:00:00-07:00",
          "user": 697
         },
         {
          "cost": 154.16036599999998,
          "cost_per_active_user": 0.15369926819541374,
          "cost_per_user": 0.0317856424742268,
          "start": "2018-11-05T00:00:00-08:00",
          "user": 1003
         },
         {
          "cost": 154.746287,
          "cost_per_active_user": 0.1444876629318394,
          "cost_per_user": 0.03190645092783505,
          "start": "2018-11-06T00:00:00-08:00",
          "user": 1071
         },
         {
          "cost": 170.92835399999998,
          "cost_per_active_user": 0.11723481069958847,
          "cost_per_user": 0.03524295958762886,
          "start": "2018-11-07T00:00:00-08:00",
          "user": 1458
         },
         {
          "cost": 177.70142,
          "cost_per_active_user": 0.14412118410381186,
          "cost_per_user": 0.03663946804123712,
          "start": "2018-11-08T00:00:00-08:00",
          "user": 1233
         },
         {
          "cost": 179.00012300000003,
          "cost_per_active_user": 0.2624635234604106,
          "cost_per_user": 0.03690724185567011,
          "start": "2018-11-09T00:00:00-08:00",
          "user": 682
         },
         {
          "cost": 179.290468,
          "cost_per_active_user": 0.2924803719412724,
          "cost_per_user": 0.03696710680412371,
          "start": "2018-11-10T00:00:00-08:00",
          "user": 613
         },
         {
          "cost": 165.391022,
          "cost_per_active_user": 0.24215376573938505,
          "cost_per_user": 0.03410124164948453,
          "start": "2018-11-11T00:00:00-08:00",
          "user": 683
         },
         {
          "cost": 157.576163,
          "cost_per_active_user": 0.17705186853932586,
          "cost_per_user": 0.03248993051546392,
          "start": "2018-11-12T00:00:00-08:00",
          "user": 890
         },
         {
          "cost": 163.672754,
          "cost_per_active_user": 0.1422004813205908,
          "cost_per_user": 0.03374695958762886,
          "start": "2018-11-13T00:00:00-08:00",
          "user": 1151
         },
         {
          "cost": 183.722065,
          "cost_per_active_user": 0.12207446179401993,
          "cost_per_user": 0.037880838144329895,
          "start": "2018-11-14T00:00:00-08:00",
          "user": 1505
         },
         {
          "cost": 195.25908099999998,
          "cost_per_active_user": 0.1493948592195868,
          "cost_per_user": 0.040259604329896906,
          "start": "2018-11-15T00:00:00-08:00",
          "user": 1307
         },
         {
          "cost": 188.49224700000002,
          "cost_per_active_user": 0.21178904157303374,
          "cost_per_user": 0.03886438082474227,
          "start": "2018-11-16T00:00:00-08:00",
          "user": 890
         },
         {
          "cost": 180.42066499999999,
          "cost_per_active_user": 0.2377083860342556,
          "cost_per_user": 0.03720013711340206,
          "start": "2018-11-17T00:00:00-08:00",
          "user": 759
         },
         {
          "cost": 170.58507500000002,
          "cost_per_active_user": 0.23303971994535522,
          "cost_per_user": 0.035172180412371135,
          "start": "2018-11-18T00:00:00-08:00",
          "user": 732
         },
         {
          "cost": 169.096144,
          "cost_per_active_user": 0.20596363459196104,
          "cost_per_user": 0.03486518432989691,
          "start": "2018-11-19T00:00:00-08:00",
          "user": 821
         },
         {
          "cost": 168.46590500000002,
          "cost_per_active_user": 0.2587801920122888,
          "cost_per_user": 0.034735238144329904,
          "start": "2018-11-20T00:00:00-08:00",
          "user": 651
         },
         {
          "cost": 168.065076,
          "cost_per_active_user": 0.31297034636871507,
          "cost_per_user": 0.03465259298969072,
          "start": "2018-11-21T00:00:00-08:00",
          "user": 537
         },
         {
          "cost": 167.400497,
          "cost_per_active_user": 0.39295891314553993,
          "cost_per_user": 0.03451556639175258,
          "start": "2018-11-22T00:00:00-08:00",
          "user": 426
         },
         {
          "cost": 168.123972,
          "cost_per_active_user": 0.33895962096774196,
          "cost_per_user": 0.03466473649484536,
          "start": "2018-11-23T00:00:00-08:00",
          "user": 496
         },
         {
          "cost": 167.694091,
          "cost_per_active_user": 0.35229851050420163,
          "cost_per_user": 0.034576101237113396,
          "start": "2018-11-24T00:00:00-08:00",
          "user": 476
         },
         {
          "cost": 168.44466,
          "cost_per_active_user": 0.269511456,
          "cost_per_user": 0.03473085773195876,
          "start": "2018-11-25T00:00:00-08:00",
          "user": 625
         },
         {
          "cost": 172.00177,
          "cost_per_active_user": 0.1559399546690843,
          "cost_per_user": 0.0354642824742268,
          "start": "2018-11-26T00:00:00-08:00",
          "user": 1103
         },
         {
          "cost": 171.23877900000002,
          "cost_per_active_user": 0.1459836138107417,
          "cost_per_user": 0.03530696474226805,
          "start": "2018-11-27T00:00:00-08:00",
          "user": 1173
         },
         {
          "cost": 170.16072100000002,
          "cost_per_active_user": 0.11991594150810432,
          "cost_per_user": 0.035084684742268044,
          "start": "2018-11-28T00:00:00-08:00",
          "user": 1419
         },
         {
          "cost": 171.209544,
          "cost_per_active_user": 0.1276730380313199,
          "cost_per_user": 0.035300936907216494,
          "start": "2018-11-29T00:00:00-08:00",
          "user": 1341
         },
         {
          "cost": 170.10651,
          "cost_per_active_user": 0.1838989297297297,
          "cost_per_user": 0.03507350721649484,
          "start": "2018-11-30T00:00:00-08:00",
          "user": 925
         },
         {
          "cost": 162.890289,
          "cost_per_active_user": 0.3761900438799076,
          "cost_per_user": 0.033585626597938144,
          "start": "2018-12-01T00:00:00-08:00",
          "user": 433
         },
         {
          "cost": 164.59242200000003,
          "cost_per_active_user": 0.35094333049040516,
          "cost_per_user": 0.03393658185567011,
          "start": "2018-12-02T00:00:00-08:00",
          "user": 469
         },
         {
          "cost": 164.49821300000002,
          "cost_per_active_user": 0.26791239902280134,
          "cost_per_user": 0.03391715731958763,
          "start": "2018-12-03T00:00:00-08:00",
          "user": 614
         },
         {
          "cost": 164.51144,
          "cost_per_active_user": 0.36315991169977924,
          "cost_per_user": 0.033919884536082474,
          "start": "2018-12-04T00:00:00-08:00",
          "user": 453
         },
         {
          "cost": 165.150755,
          "cost_per_active_user": 0.3296422255489022,
          "cost_per_user": 0.03405170206185567,
          "start": "2018-12-05T00:00:00-08:00",
          "user": 501
         },
         {
          "cost": 165.040173,
          "cost_per_active_user": 0.3811551339491917,
          "cost_per_user": 0.034028901649484536,
          "start": "2018-12-06T00:00:00-08:00",
          "user": 433
         },
         {
          "cost": 164.40057099999999,
          "cost_per_active_user": 0.41515295707070704,
          "cost_per_user": 0.033897024948453605,
          "start": "2018-12-07T00:00:00-08:00",
          "user": 396
         },
         {
          "cost": 164.55875,
          "cost_per_active_user": 0.4956588855421687,
          "cost_per_user": 0.03392963917525773,
          "start": "2018-12-08T00:00:00-08:00",
          "user": 332
         },
         {
          "cost": 164.60581200000001,
          "cost_per_active_user": 0.5715479583333334,
          "cost_per_user": 0.03393934268041238,
          "start": "2018-12-09T00:00:00-08:00",
          "user": 288
         },
         {
          "cost": 164.520137,
          "cost_per_active_user": 0.5376475065359477,
          "cost_per_user": 0.03392167773195876,
          "start": "2018-12-10T00:00:00-08:00",
          "user": 306
         },
         {
          "cost": 164.85765,
          "cost_per_active_user": 0.5088199074074075,
          "cost_per_user": 0.033991268041237116,
          "start": "2018-12-11T00:00:00-08:00",
          "user": 324
         },
         {
          "cost": 164.251543,
          "cost_per_active_user": 0.35171636616702356,
          "cost_per_user": 0.03386629752577319,
          "start": "2018-12-12T00:00:00-08:00",
          "user": 467
         },
         {
          "cost": 164.572575,
          "cost_per_active_user": 0.29599383992805756,
          "cost_per_user": 0.03393248969072165,
          "start": "2018-12-13T00:00:00-08:00",
          "user": 556
         },
         {
          "cost": 162.11756,
          "cost_per_active_user": 0.8229317766497461,
          "cost_per_user": 0.033426301030927835,
          "start": "2018-12-14T00:00:00-08:00",
          "user": 197
         },
         {
          "cost": null,
          "cost_per_active_user": null,
          "cost_per_user": null,
          "start": "",
          "user": null
         },
         {
          "cost": null,
          "cost_per_active_user": null,
          "cost_per_user": null,
          "start": "",
          "user": null
         }
        ]
       },
       "encoding": {
        "x": {
         "field": "start",
         "type": "temporal"
        },
        "y": {
         "axis": {
          "format": "$.2f"
         },
         "field": "cost_per_user",
         "title": "Cost per user",
         "type": "quantitative"
        }
       },
       "mark": "line",
       "title": "Daily cost per user",
       "width": 900
      },
      "image/png": "[encoded data removed]",
      "text/plain": [
       "<VegaLite 2 object>\n",
       "\n",
       "If you see this message, it means the renderer has not been properly enabled\n",
       "for the frontend that you are using. For more information, see\n",
       "https://altair-viz.github.io/user_guide/troubleshooting.html\n"
      ]
     },
     "execution_count": 18,
     "metadata": {},
     "output_type": "execute_result"
    }
   ],
   "source": [
    "total['cost_per_user'] = total['cost'] / user_starts_count.count()['start']\n",
    "\n",
    "alt.Chart(total, width=900, title='Daily cost per user').mark_line().encode(\n",
    "    x='start',\n",
    "    y=alt.Y('cost_per_user', axis=alt.Axis(format=\"$.2f\"), title=\"Cost per user\")\n",
    ")"
   ]
  },
  {
   "cell_type": "markdown",
   "metadata": {},
   "source": [
    "We can also figure out how much they cost per month."
   ]
  },
  {
   "cell_type": "code",
   "execution_count": 19,
   "metadata": {},
   "outputs": [
    {
     "data": {
      "application/vnd.vegalite.v2+json": {
       "$schema": "https://vega.github.io/schema/vega-lite/v2.6.0.json",
       "config": {
        "axis": {
         "labelFontSize": 20,
         "titleFontSize": 20
        }
       },
       "data": {
        "name": "data-c2dad245f05cd5a2a7d7bf72b1de7e0d"
       },
       "datasets": {
        "data-c2dad245f05cd5a2a7d7bf72b1de7e0d": [
         {
          "cost": 0,
          "cost_per_user": 0,
          "start_time": "2018-08-31T00:00:00-07:00"
         },
         {
          "cost": 4672.020002,
          "cost_per_user": 0.9633030931958764,
          "start_time": "2018-09-30T00:00:00-07:00"
         },
         {
          "cost": 6052.7589579999985,
          "cost_per_user": 1.2479915377319584,
          "start_time": "2018-10-31T00:00:00-07:00"
         },
         {
          "cost": 5107.921004,
          "cost_per_user": 1.0531795884536082,
          "start_time": "2018-11-30T00:00:00-08:00"
         },
         {
          "cost": 2300.56789,
          "cost_per_user": 0.47434389484536077,
          "start_time": "2018-12-31T00:00:00-08:00"
         }
        ]
       },
       "encoding": {
        "x": {
         "field": "start_time",
         "timeUnit": "month",
         "type": "ordinal"
        },
        "y": {
         "axis": {
          "format": "$.2f"
         },
         "field": "cost_per_user",
         "title": "Cost per user",
         "type": "quantitative"
        }
       },
       "mark": "bar",
       "title": "Monthly cost per user",
       "width": 900
      },
      "image/png": "[encoded data removed]",
      "text/plain": [
       "<VegaLite 2 object>\n",
       "\n",
       "If you see this message, it means the renderer has not been properly enabled\n",
       "for the frontend that you are using. For more information, see\n",
       "https://altair-viz.github.io/user_guide/troubleshooting.html\n"
      ]
     },
     "execution_count": 19,
     "metadata": {},
     "output_type": "execute_result"
    }
   ],
   "source": [
    "monthly = cost.copy().set_index('start_time').resample('M').sum()\n",
    "monthly['cost_per_user'] = monthly['cost'] / user_starts_count.count()['start']\n",
    "monthly = monthly.reset_index()\n",
    "\n",
    "alt.Chart(monthly, width=900, title='Monthly cost per user').mark_bar().encode(\n",
    "    x='month(start_time):O',\n",
    "    y=alt.Y('cost_per_user', axis=alt.Axis(format=\"$.2f\"), title=\"Cost per user\")\n",
    ")"
   ]
  },
  {
   "cell_type": "markdown",
   "metadata": {
    "toc-hr-collapsed": true
   },
   "source": [
    "## Realistic user count\n",
    "\n",
    "A lot of people might log in a few times to the JupyterHub to check it out, and then never really come back. We should avoid counting those as 'users' when doing our cost analysis. \n",
    "\n",
    "We can cut off outliers at the 99th percentile and plot a histogram to see how most people use the hub"
   ]
  },
  {
   "cell_type": "code",
   "execution_count": 20,
   "metadata": {},
   "outputs": [
    {
     "data": {
      "application/vnd.vegalite.v2+json": {
       "$schema": "https://vega.github.io/schema/vega-lite/v2.6.0.json",
       "config": {
        "axis": {
         "labelFontSize": 20,
         "titleFontSize": 20
        }
       },
       "data": {
        "name": "data-36f81797ce587287228d0dbe0b847876"
       },
       "datasets": {
        "data-36f81797ce587287228d0dbe0b847876": [
         {
          "start": 41
         },
         {
          "start": 46
         },
         {
          "start": 140
         },
         {
          "start": 3
         },
         {
          "start": 1
         },
         {
          "start": 1
         },
         {
          "start": 1
         },
         {
          "start": 5
         },
         {
          "start": 107
         },
         {
          "start": 1
         },
         {
          "start": 17
         },
         {
          "start": 107
         },
         {
          "start": 2
         },
         {
          "start": 1
         },
         {
          "start": 6
         },
         {
          "start": 1
         },
         {
          "start": 1
         },
         {
          "start": 3
         },
         {
          "start": 5
         },
         {
          "start": 2
         },
         {
          "start": 7
         },
         {
          "start": 2
         },
         {
          "start": 47
         },
         {
          "start": 6
         },
         {
          "start": 3
         },
         {
          "start": 1
         },
         {
          "start": 18
         },
         {
          "start": 173
         },
         {
          "start": 89
         },
         {
          "start": 111
         },
         {
          "start": 65
         },
         {
          "start": 1
         },
         {
          "start": 11
         },
         {
          "start": 61
         },
         {
          "start": 74
         },
         {
          "start": 1
         },
         {
          "start": 10
         },
         {
          "start": 149
         },
         {
          "start": 6
         },
         {
          "start": 113
         },
         {
          "start": 1
         },
         {
          "start": 2
         },
         {
          "start": 1
         },
         {
          "start": 105
         },
         {
          "start": 63
         },
         {
          "start": 94
         },
         {
          "start": 68
         },
         {
          "start": 1
         },
         {
          "start": 1
         },
         {
          "start": 207
         },
         {
          "start": 4
         },
         {
          "start": 94
         },
         {
          "start": 1
         },
         {
          "start": 47
         },
         {
          "start": 1
         },
         {
          "start": 126
         },
         {
          "start": 78
         },
         {
          "start": 1
         },
         {
          "start": 136
         },
         {
          "start": 62
         },
         {
          "start": 123
         },
         {
          "start": 2
         },
         {
          "start": 1
         },
         {
          "start": 196
         },
         {
          "start": 2
         },
         {
          "start": 1
         },
         {
          "start": 108
         },
         {
          "start": 5
         },
         {
          "start": 3
         },
         {
          "start": 3
         },
         {
          "start": 3
         },
         {
          "start": 101
         },
         {
          "start": 1
         },
         {
          "start": 3
         },
         {
          "start": 109
         },
         {
          "start": 30
         },
         {
          "start": 4
         },
         {
          "start": 12
         },
         {
          "start": 79
         },
         {
          "start": 88
         },
         {
          "start": 130
         },
         {
          "start": 197
         },
         {
          "start": 1
         },
         {
          "start": 136
         },
         {
          "start": 40
         },
         {
          "start": 32
         },
         {
          "start": 6
         },
         {
          "start": 1
         },
         {
          "start": 1
         },
         {
          "start": 147
         },
         {
          "start": 15
         },
         {
          "start": 7
         },
         {
          "start": 84
         },
         {
          "start": 1
         },
         {
          "start": 40
         },
         {
          "start": 1
         },
         {
          "start": 37
         },
         {
          "start": 6
         },
         {
          "start": 3
         },
         {
          "start": 17
         },
         {
          "start": 1
         },
         {
          "start": 1
         },
         {
          "start": 75
         },
         {
          "start": 139
         },
         {
          "start": 83
         },
         {
          "start": 45
         },
         {
          "start": 4
         },
         {
          "start": 77
         },
         {
          "start": 1
         },
         {
          "start": 80
         },
         {
          "start": 5
         },
         {
          "start": 41
         },
         {
          "start": 99
         },
         {
          "start": 1
         },
         {
          "start": 1
         },
         {
          "start": 88
         },
         {
          "start": 167
         },
         {
          "start": 2
         },
         {
          "start": 7
         },
         {
          "start": 1
         },
         {
          "start": 61
         },
         {
          "start": 139
         },
         {
          "start": 29
         },
         {
          "start": 73
         },
         {
          "start": 1
         },
         {
          "start": 19
         },
         {
          "start": 1
         },
         {
          "start": 149
         },
         {
          "start": 166
         },
         {
          "start": 81
         },
         {
          "start": 4
         },
         {
          "start": 4
         },
         {
          "start": 164
         },
         {
          "start": 1
         },
         {
          "start": 2
         },
         {
          "start": 239
         },
         {
          "start": 31
         },
         {
          "start": 1
         },
         {
          "start": 62
         },
         {
          "start": 153
         },
         {
          "start": 60
         },
         {
          "start": 27
         },
         {
          "start": 40
         },
         {
          "start": 1
         },
         {
          "start": 31
         },
         {
          "start": 1
         },
         {
          "start": 20
         },
         {
          "start": 9
         },
         {
          "start": 76
         },
         {
          "start": 11
         },
         {
          "start": 1
         },
         {
          "start": 12
         },
         {
          "start": 224
         },
         {
          "start": 2
         },
         {
          "start": 121
         },
         {
          "start": 65
         },
         {
          "start": 138
         },
         {
          "start": 2
         },
         {
          "start": 107
         },
         {
          "start": 70
         },
         {
          "start": 1
         },
         {
          "start": 3
         },
         {
          "start": 2
         },
         {
          "start": 82
         },
         {
          "start": 81
         },
         {
          "start": 62
         },
         {
          "start": 3
         },
         {
          "start": 20
         },
         {
          "start": 1
         },
         {
          "start": 2
         },
         {
          "start": 3
         },
         {
          "start": 109
         },
         {
          "start": 8
         },
         {
          "start": 78
         },
         {
          "start": 117
         },
         {
          "start": 10
         },
         {
          "start": 98
         },
         {
          "start": 1
         },
         {
          "start": 144
         },
         {
          "start": 5
         },
         {
          "start": 105
         },
         {
          "start": 1
         },
         {
          "start": 3
         },
         {
          "start": 15
         },
         {
          "start": 2
         },
         {
          "start": 10
         },
         {
          "start": 79
         },
         {
          "start": 2
         },
         {
          "start": 107
         },
         {
          "start": 1
         },
         {
          "start": 58
         },
         {
          "start": 1
         },
         {
          "start": 97
         },
         {
          "start": 11
         },
         {
          "start": 100
         },
         {
          "start": 1
         },
         {
          "start": 2
         },
         {
          "start": 1
         },
         {
          "start": 7
         },
         {
          "start": 88
         },
         {
          "start": 1
         },
         {
          "start": 1
         },
         {
          "start": 90
         },
         {
          "start": 73
         },
         {
          "start": 107
         },
         {
          "start": 18
         },
         {
          "start": 22
         },
         {
          "start": 15
         },
         {
          "start": 1
         },
         {
          "start": 1
         },
         {
          "start": 41
         },
         {
          "start": 1
         },
         {
          "start": 30
         },
         {
          "start": 1
         },
         {
          "start": 114
         },
         {
          "start": 80
         },
         {
          "start": 214
         },
         {
          "start": 133
         },
         {
          "start": 74
         },
         {
          "start": 5
         },
         {
          "start": 80
         },
         {
          "start": 171
         },
         {
          "start": 187
         },
         {
          "start": 2
         },
         {
          "start": 103
         },
         {
          "start": 8
         },
         {
          "start": 3
         },
         {
          "start": 187
         },
         {
          "start": 3
         },
         {
          "start": 42
         },
         {
          "start": 156
         },
         {
          "start": 15
         },
         {
          "start": 154
         },
         {
          "start": 1
         },
         {
          "start": 6
         },
         {
          "start": 196
         },
         {
          "start": 8
         },
         {
          "start": 20
         },
         {
          "start": 91
         },
         {
          "start": 139
         },
         {
          "start": 186
         },
         {
          "start": 66
         },
         {
          "start": 2
         },
         {
          "start": 172
         },
         {
          "start": 196
         },
         {
          "start": 1
         },
         {
          "start": 2
         },
         {
          "start": 13
         },
         {
          "start": 79
         },
         {
          "start": 1
         },
         {
          "start": 1
         },
         {
          "start": 163
         },
         {
          "start": 2
         },
         {
          "start": 12
         },
         {
          "start": 2
         },
         {
          "start": 7
         },
         {
          "start": 11
         },
         {
          "start": 1
         },
         {
          "start": 2
         },
         {
          "start": 1
         },
         {
          "start": 89
         },
         {
          "start": 37
         },
         {
          "start": 1
         },
         {
          "start": 23
         },
         {
          "start": 126
         },
         {
          "start": 154
         },
         {
          "start": 1
         },
         {
          "start": 11
         },
         {
          "start": 65
         },
         {
          "start": 202
         },
         {
          "start": 1
         },
         {
          "start": 7
         },
         {
          "start": 120
         },
         {
          "start": 2
         },
         {
          "start": 11
         },
         {
          "start": 5
         },
         {
          "start": 1
         },
         {
          "start": 1
         },
         {
          "start": 55
         },
         {
          "start": 93
         },
         {
          "start": 43
         },
         {
          "start": 75
         },
         {
          "start": 4
         },
         {
          "start": 127
         },
         {
          "start": 4
         },
         {
          "start": 1
         },
         {
          "start": 120
         },
         {
          "start": 87
         },
         {
          "start": 58
         },
         {
          "start": 92
         },
         {
          "start": 2
         },
         {
          "start": 4
         },
         {
          "start": 54
         },
         {
          "start": 1
         },
         {
          "start": 43
         },
         {
          "start": 24
         },
         {
          "start": 1
         },
         {
          "start": 9
         },
         {
          "start": 62
         },
         {
          "start": 81
         },
         {
          "start": 138
         },
         {
          "start": 1
         },
         {
          "start": 2
         },
         {
          "start": 121
         },
         {
          "start": 1
         },
         {
          "start": 3
         },
         {
          "start": 2
         },
         {
          "start": 1
         },
         {
          "start": 2
         },
         {
          "start": 16
         },
         {
          "start": 2
         },
         {
          "start": 8
         },
         {
          "start": 24
         },
         {
          "start": 1
         },
         {
          "start": 166
         },
         {
          "start": 1
         },
         {
          "start": 69
         },
         {
          "start": 6
         },
         {
          "start": 40
         },
         {
          "start": 1
         },
         {
          "start": 1
         },
         {
          "start": 1
         },
         {
          "start": 65
         },
         {
          "start": 1
         },
         {
          "start": 1
         },
         {
          "start": 125
         },
         {
          "start": 56
         },
         {
          "start": 11
         },
         {
          "start": 18
         },
         {
          "start": 1
         },
         {
          "start": 1
         },
         {
          "start": 121
         },
         {
          "start": 3
         },
         {
          "start": 44
         },
         {
          "start": 3
         },
         {
          "start": 63
         },
         {
          "start": 2
         },
         {
          "start": 1
         },
         {
          "start": 1
         },
         {
          "start": 165
         },
         {
          "start": 168
         },
         {
          "start": 2
         },
         {
          "start": 32
         },
         {
          "start": 23
         },
         {
          "start": 2
         },
         {
          "start": 79
         },
         {
          "start": 99
         },
         {
          "start": 140
         },
         {
          "start": 47
         },
         {
          "start": 39
         },
         {
          "start": 38
         },
         {
          "start": 1
         },
         {
          "start": 3
         },
         {
          "start": 4
         },
         {
          "start": 164
         },
         {
          "start": 6
         },
         {
          "start": 2
         },
         {
          "start": 1
         },
         {
          "start": 1
         },
         {
          "start": 104
         },
         {
          "start": 1
         },
         {
          "start": 14
         },
         {
          "start": 3
         },
         {
          "start": 122
         },
         {
          "start": 45
         },
         {
          "start": 4
         },
         {
          "start": 83
         },
         {
          "start": 4
         },
         {
          "start": 1
         },
         {
          "start": 25
         },
         {
          "start": 1
         },
         {
          "start": 6
         },
         {
          "start": 1
         },
         {
          "start": 4
         },
         {
          "start": 91
         },
         {
          "start": 55
         },
         {
          "start": 2
         },
         {
          "start": 20
         },
         {
          "start": 72
         },
         {
          "start": 10
         },
         {
          "start": 10
         },
         {
          "start": 130
         },
         {
          "start": 2
         },
         {
          "start": 12
         },
         {
          "start": 2
         },
         {
          "start": 1
         },
         {
          "start": 2
         },
         {
          "start": 1
         },
         {
          "start": 97
         },
         {
          "start": 10
         },
         {
          "start": 134
         },
         {
          "start": 22
         },
         {
          "start": 24
         },
         {
          "start": 3
         },
         {
          "start": 157
         },
         {
          "start": 12
         },
         {
          "start": 90
         },
         {
          "start": 149
         },
         {
          "start": 75
         },
         {
          "start": 2
         },
         {
          "start": 2
         },
         {
          "start": 1
         },
         {
          "start": 21
         },
         {
          "start": 2
         },
         {
          "start": 41
         },
         {
          "start": 75
         },
         {
          "start": 50
         },
         {
          "start": 6
         },
         {
          "start": 1
         },
         {
          "start": 1
         },
         {
          "start": 4
         },
         {
          "start": 1
         },
         {
          "start": 13
         },
         {
          "start": 121
         },
         {
          "start": 1
         },
         {
          "start": 54
         },
         {
          "start": 9
         },
         {
          "start": 2
         },
         {
          "start": 66
         },
         {
          "start": 202
         },
         {
          "start": 9
         },
         {
          "start": 121
         },
         {
          "start": 56
         },
         {
          "start": 18
         },
         {
          "start": 1
         },
         {
          "start": 1
         },
         {
          "start": 68
         },
         {
          "start": 86
         },
         {
          "start": 11
         },
         {
          "start": 9
         },
         {
          "start": 132
         },
         {
          "start": 234
         },
         {
          "start": 126
         },
         {
          "start": 114
         },
         {
          "start": 3
         },
         {
          "start": 27
         },
         {
          "start": 76
         },
         {
          "start": 189
         },
         {
          "start": 1
         },
         {
          "start": 28
         },
         {
          "start": 164
         },
         {
          "start": 114
         },
         {
          "start": 1
         },
         {
          "start": 48
         },
         {
          "start": 11
         },
         {
          "start": 3
         },
         {
          "start": 150
         },
         {
          "start": 3
         },
         {
          "start": 100
         },
         {
          "start": 1
         },
         {
          "start": 58
         },
         {
          "start": 114
         },
         {
          "start": 16
         },
         {
          "start": 2
         },
         {
          "start": 16
         },
         {
          "start": 62
         },
         {
          "start": 57
         },
         {
          "start": 61
         },
         {
          "start": 59
         },
         {
          "start": 1
         },
         {
          "start": 1
         },
         {
          "start": 128
         },
         {
          "start": 220
         },
         {
          "start": 7
         },
         {
          "start": 6
         },
         {
          "start": 11
         },
         {
          "start": 150
         },
         {
          "start": 121
         },
         {
          "start": 101
         },
         {
          "start": 2
         },
         {
          "start": 89
         },
         {
          "start": 14
         },
         {
          "start": 17
         },
         {
          "start": 44
         },
         {
          "start": 77
         },
         {
          "start": 22
         },
         {
          "start": 1
         },
         {
          "start": 32
         },
         {
          "start": 16
         },
         {
          "start": 1
         },
         {
          "start": 30
         },
         {
          "start": 2
         },
         {
          "start": 3
         },
         {
          "start": 10
         },
         {
          "start": 15
         },
         {
          "start": 13
         },
         {
          "start": 1
         },
         {
          "start": 1
         },
         {
          "start": 1
         },
         {
          "start": 139
         },
         {
          "start": 8
         },
         {
          "start": 1
         },
         {
          "start": 20
         },
         {
          "start": 94
         },
         {
          "start": 1
         },
         {
          "start": 79
         },
         {
          "start": 2
         },
         {
          "start": 63
         },
         {
          "start": 2
         },
         {
          "start": 95
         },
         {
          "start": 1
         },
         {
          "start": 30
         },
         {
          "start": 32
         },
         {
          "start": 56
         },
         {
          "start": 2
         },
         {
          "start": 7
         },
         {
          "start": 1
         },
         {
          "start": 1
         },
         {
          "start": 50
         },
         {
          "start": 6
         },
         {
          "start": 18
         },
         {
          "start": 2
         },
         {
          "start": 2
         },
         {
          "start": 10
         },
         {
          "start": 89
         },
         {
          "start": 5
         },
         {
          "start": 5
         },
         {
          "start": 59
         },
         {
          "start": 1
         },
         {
          "start": 139
         },
         {
          "start": 1
         },
         {
          "start": 49
         },
         {
          "start": 8
         },
         {
          "start": 116
         },
         {
          "start": 27
         },
         {
          "start": 39
         },
         {
          "start": 216
         },
         {
          "start": 104
         },
         {
          "start": 3
         },
         {
          "start": 11
         },
         {
          "start": 21
         },
         {
          "start": 3
         },
         {
          "start": 117
         },
         {
          "start": 1
         },
         {
          "start": 201
         },
         {
          "start": 103
         },
         {
          "start": 88
         },
         {
          "start": 1
         },
         {
          "start": 32
         },
         {
          "start": 1
         },
         {
          "start": 110
         },
         {
          "start": 32
         },
         {
          "start": 40
         },
         {
          "start": 9
         },
         {
          "start": 1
         },
         {
          "start": 35
         },
         {
          "start": 195
         },
         {
          "start": 1
         },
         {
          "start": 63
         },
         {
          "start": 13
         },
         {
          "start": 1
         },
         {
          "start": 1
         },
         {
          "start": 82
         },
         {
          "start": 217
         },
         {
          "start": 5
         },
         {
          "start": 59
         },
         {
          "start": 1
         },
         {
          "start": 1
         },
         {
          "start": 1
         },
         {
          "start": 16
         },
         {
          "start": 164
         },
         {
          "start": 97
         },
         {
          "start": 117
         },
         {
          "start": 148
         },
         {
          "start": 11
         },
         {
          "start": 183
         },
         {
          "start": 35
         },
         {
          "start": 1
         },
         {
          "start": 12
         },
         {
          "start": 110
         },
         {
          "start": 11
         },
         {
          "start": 8
         },
         {
          "start": 3
         },
         {
          "start": 10
         },
         {
          "start": 28
         },
         {
          "start": 27
         },
         {
          "start": 2
         },
         {
          "start": 10
         },
         {
          "start": 1
         },
         {
          "start": 70
         },
         {
          "start": 1
         },
         {
          "start": 109
         },
         {
          "start": 1
         },
         {
          "start": 1
         },
         {
          "start": 151
         },
         {
          "start": 6
         },
         {
          "start": 2
         },
         {
          "start": 2
         },
         {
          "start": 39
         },
         {
          "start": 4
         },
         {
          "start": 42
         },
         {
          "start": 2
         },
         {
          "start": 28
         },
         {
          "start": 1
         },
         {
          "start": 109
         },
         {
          "start": 3
         },
         {
          "start": 9
         },
         {
          "start": 10
         },
         {
          "start": 3
         },
         {
          "start": 132
         },
         {
          "start": 218
         },
         {
          "start": 140
         },
         {
          "start": 42
         },
         {
          "start": 162
         },
         {
          "start": 1
         },
         {
          "start": 97
         },
         {
          "start": 1
         },
         {
          "start": 178
         },
         {
          "start": 140
         },
         {
          "start": 1
         },
         {
          "start": 17
         },
         {
          "start": 83
         },
         {
          "start": 18
         },
         {
          "start": 137
         },
         {
          "start": 99
         },
         {
          "start": 151
         },
         {
          "start": 73
         },
         {
          "start": 2
         },
         {
          "start": 120
         },
         {
          "start": 2
         },
         {
          "start": 149
         },
         {
          "start": 1
         },
         {
          "start": 3
         },
         {
          "start": 2
         },
         {
          "start": 3
         },
         {
          "start": 15
         },
         {
          "start": 1
         },
         {
          "start": 155
         },
         {
          "start": 115
         },
         {
          "start": 12
         },
         {
          "start": 18
         },
         {
          "start": 38
         },
         {
          "start": 115
         },
         {
          "start": 1
         },
         {
          "start": 2
         },
         {
          "start": 30
         },
         {
          "start": 6
         },
         {
          "start": 100
         },
         {
          "start": 137
         },
         {
          "start": 71
         },
         {
          "start": 152
         },
         {
          "start": 6
         },
         {
          "start": 3
         },
         {
          "start": 75
         },
         {
          "start": 131
         },
         {
          "start": 1
         },
         {
          "start": 124
         },
         {
          "start": 21
         },
         {
          "start": 1
         },
         {
          "start": 2
         },
         {
          "start": 2
         },
         {
          "start": 30
         },
         {
          "start": 70
         },
         {
          "start": 19
         },
         {
          "start": 24
         },
         {
          "start": 166
         },
         {
          "start": 3
         },
         {
          "start": 152
         },
         {
          "start": 74
         },
         {
          "start": 6
         },
         {
          "start": 1
         },
         {
          "start": 143
         },
         {
          "start": 1
         },
         {
          "start": 2
         },
         {
          "start": 16
         },
         {
          "start": 1
         },
         {
          "start": 4
         },
         {
          "start": 48
         },
         {
          "start": 15
         },
         {
          "start": 8
         },
         {
          "start": 7
         },
         {
          "start": 2
         },
         {
          "start": 1
         },
         {
          "start": 13
         },
         {
          "start": 171
         },
         {
          "start": 58
         },
         {
          "start": 3
         },
         {
          "start": 105
         },
         {
          "start": 109
         },
         {
          "start": 149
         },
         {
          "start": 44
         },
         {
          "start": 1
         },
         {
          "start": 1
         },
         {
          "start": 43
         },
         {
          "start": 76
         },
         {
          "start": 4
         },
         {
          "start": 6
         },
         {
          "start": 123
         },
         {
          "start": 46
         },
         {
          "start": 128
         },
         {
          "start": 1
         },
         {
          "start": 1
         },
         {
          "start": 92
         },
         {
          "start": 1
         },
         {
          "start": 146
         },
         {
          "start": 1
         },
         {
          "start": 48
         },
         {
          "start": 1
         },
         {
          "start": 1
         },
         {
          "start": 83
         },
         {
          "start": 55
         },
         {
          "start": 109
         },
         {
          "start": 5
         },
         {
          "start": 96
         },
         {
          "start": 1
         },
         {
          "start": 170
         },
         {
          "start": 128
         },
         {
          "start": 124
         },
         {
          "start": 79
         },
         {
          "start": 127
         },
         {
          "start": 16
         },
         {
          "start": 5
         },
         {
          "start": 1
         },
         {
          "start": 4
         },
         {
          "start": 11
         },
         {
          "start": 116
         },
         {
          "start": 16
         },
         {
          "start": 178
         },
         {
          "start": 54
         },
         {
          "start": 63
         },
         {
          "start": 4
         },
         {
          "start": 35
         },
         {
          "start": 1
         },
         {
          "start": 139
         },
         {
          "start": 6
         },
         {
          "start": 92
         },
         {
          "start": 81
         },
         {
          "start": 66
         },
         {
          "start": 2
         },
         {
          "start": 1
         },
         {
          "start": 29
         },
         {
          "start": 8
         },
         {
          "start": 49
         },
         {
          "start": 142
         },
         {
          "start": 112
         },
         {
          "start": 106
         },
         {
          "start": 4
         },
         {
          "start": 1
         },
         {
          "start": 8
         },
         {
          "start": 63
         },
         {
          "start": 49
         },
         {
          "start": 130
         },
         {
          "start": 142
         },
         {
          "start": 202
         },
         {
          "start": 1
         },
         {
          "start": 26
         },
         {
          "start": 1
         },
         {
          "start": 171
         },
         {
          "start": 131
         },
         {
          "start": 16
         },
         {
          "start": 5
         },
         {
          "start": 28
         },
         {
          "start": 7
         },
         {
          "start": 96
         },
         {
          "start": 25
         },
         {
          "start": 35
         },
         {
          "start": 1
         },
         {
          "start": 1
         },
         {
          "start": 34
         },
         {
          "start": 106
         },
         {
          "start": 10
         },
         {
          "start": 1
         },
         {
          "start": 150
         },
         {
          "start": 53
         },
         {
          "start": 1
         },
         {
          "start": 13
         },
         {
          "start": 2
         },
         {
          "start": 102
         },
         {
          "start": 1
         },
         {
          "start": 40
         },
         {
          "start": 1
         },
         {
          "start": 25
         },
         {
          "start": 52
         },
         {
          "start": 2
         },
         {
          "start": 1
         },
         {
          "start": 1
         },
         {
          "start": 21
         },
         {
          "start": 31
         },
         {
          "start": 1
         },
         {
          "start": 61
         },
         {
          "start": 8
         },
         {
          "start": 159
         },
         {
          "start": 62
         },
         {
          "start": 28
         },
         {
          "start": 1
         },
         {
          "start": 102
         },
         {
          "start": 37
         },
         {
          "start": 67
         },
         {
          "start": 128
         },
         {
          "start": 1
         },
         {
          "start": 1
         },
         {
          "start": 30
         },
         {
          "start": 26
         },
         {
          "start": 1
         },
         {
          "start": 12
         },
         {
          "start": 1
         },
         {
          "start": 4
         },
         {
          "start": 47
         },
         {
          "start": 7
         },
         {
          "start": 3
         },
         {
          "start": 1
         },
         {
          "start": 151
         },
         {
          "start": 124
         },
         {
          "start": 15
         },
         {
          "start": 127
         },
         {
          "start": 105
         },
         {
          "start": 107
         },
         {
          "start": 1
         },
         {
          "start": 3
         },
         {
          "start": 25
         },
         {
          "start": 6
         },
         {
          "start": 58
         },
         {
          "start": 112
         },
         {
          "start": 221
         },
         {
          "start": 2
         },
         {
          "start": 50
         },
         {
          "start": 1
         },
         {
          "start": 208
         },
         {
          "start": 6
         },
         {
          "start": 79
         },
         {
          "start": 13
         },
         {
          "start": 2
         },
         {
          "start": 1
         },
         {
          "start": 231
         },
         {
          "start": 33
         },
         {
          "start": 221
         },
         {
          "start": 1
         },
         {
          "start": 13
         },
         {
          "start": 24
         },
         {
          "start": 81
         },
         {
          "start": 1
         },
         {
          "start": 174
         },
         {
          "start": 120
         },
         {
          "start": 1
         },
         {
          "start": 5
         },
         {
          "start": 140
         },
         {
          "start": 85
         },
         {
          "start": 47
         },
         {
          "start": 3
         },
         {
          "start": 29
         },
         {
          "start": 1
         },
         {
          "start": 15
         },
         {
          "start": 1
         },
         {
          "start": 76
         },
         {
          "start": 2
         },
         {
          "start": 165
         },
         {
          "start": 1
         },
         {
          "start": 221
         },
         {
          "start": 1
         },
         {
          "start": 1
         },
         {
          "start": 127
         },
         {
          "start": 43
         },
         {
          "start": 176
         },
         {
          "start": 113
         },
         {
          "start": 50
         },
         {
          "start": 85
         },
         {
          "start": 1
         },
         {
          "start": 1
         },
         {
          "start": 1
         },
         {
          "start": 4
         },
         {
          "start": 47
         },
         {
          "start": 1
         },
         {
          "start": 236
         },
         {
          "start": 9
         },
         {
          "start": 7
         },
         {
          "start": 1
         },
         {
          "start": 19
         },
         {
          "start": 154
         },
         {
          "start": 3
         },
         {
          "start": 114
         },
         {
          "start": 33
         },
         {
          "start": 49
         },
         {
          "start": 74
         },
         {
          "start": 4
         },
         {
          "start": 85
         },
         {
          "start": 83
         },
         {
          "start": 61
         },
         {
          "start": 210
         },
         {
          "start": 123
         },
         {
          "start": 1
         },
         {
          "start": 115
         },
         {
          "start": 21
         },
         {
          "start": 105
         },
         {
          "start": 51
         },
         {
          "start": 1
         },
         {
          "start": 85
         },
         {
          "start": 158
         },
         {
          "start": 4
         },
         {
          "start": 2
         },
         {
          "start": 2
         },
         {
          "start": 1
         },
         {
          "start": 104
         },
         {
          "start": 2
         },
         {
          "start": 2
         },
         {
          "start": 1
         },
         {
          "start": 33
         },
         {
          "start": 1
         },
         {
          "start": 1
         },
         {
          "start": 98
         },
         {
          "start": 3
         },
         {
          "start": 28
         },
         {
          "start": 82
         },
         {
          "start": 76
         },
         {
          "start": 96
         },
         {
          "start": 7
         },
         {
          "start": 12
         },
         {
          "start": 5
         },
         {
          "start": 1
         },
         {
          "start": 235
         },
         {
          "start": 1
         },
         {
          "start": 118
         },
         {
          "start": 9
         },
         {
          "start": 188
         },
         {
          "start": 68
         },
         {
          "start": 1
         },
         {
          "start": 5
         },
         {
          "start": 20
         },
         {
          "start": 2
         },
         {
          "start": 27
         },
         {
          "start": 5
         },
         {
          "start": 1
         },
         {
          "start": 26
         },
         {
          "start": 75
         },
         {
          "start": 109
         },
         {
          "start": 1
         },
         {
          "start": 181
         },
         {
          "start": 83
         },
         {
          "start": 1
         },
         {
          "start": 8
         },
         {
          "start": 58
         },
         {
          "start": 43
         },
         {
          "start": 22
         },
         {
          "start": 78
         },
         {
          "start": 7
         },
         {
          "start": 86
         },
         {
          "start": 9
         },
         {
          "start": 23
         },
         {
          "start": 125
         },
         {
          "start": 155
         },
         {
          "start": 51
         },
         {
          "start": 44
         },
         {
          "start": 62
         },
         {
          "start": 3
         },
         {
          "start": 25
         },
         {
          "start": 191
         },
         {
          "start": 112
         },
         {
          "start": 1
         },
         {
          "start": 147
         },
         {
          "start": 16
         },
         {
          "start": 70
         },
         {
          "start": 1
         },
         {
          "start": 53
         },
         {
          "start": 34
         },
         {
          "start": 2
         },
         {
          "start": 85
         },
         {
          "start": 3
         },
         {
          "start": 208
         },
         {
          "start": 15
         },
         {
          "start": 114
         },
         {
          "start": 9
         },
         {
          "start": 20
         },
         {
          "start": 104
         },
         {
          "start": 45
         },
         {
          "start": 8
         },
         {
          "start": 1
         },
         {
          "start": 11
         },
         {
          "start": 91
         },
         {
          "start": 1
         },
         {
          "start": 113
         },
         {
          "start": 6
         },
         {
          "start": 2
         },
         {
          "start": 1
         },
         {
          "start": 39
         },
         {
          "start": 2
         },
         {
          "start": 99
         },
         {
          "start": 24
         },
         {
          "start": 4
         },
         {
          "start": 42
         },
         {
          "start": 42
         },
         {
          "start": 1
         },
         {
          "start": 14
         },
         {
          "start": 42
         },
         {
          "start": 162
         },
         {
          "start": 4
         },
         {
          "start": 1
         },
         {
          "start": 1
         },
         {
          "start": 107
         },
         {
          "start": 16
         },
         {
          "start": 18
         },
         {
          "start": 1
         },
         {
          "start": 116
         },
         {
          "start": 53
         },
         {
          "start": 6
         },
         {
          "start": 111
         },
         {
          "start": 1
         },
         {
          "start": 71
         },
         {
          "start": 21
         },
         {
          "start": 68
         },
         {
          "start": 157
         },
         {
          "start": 106
         },
         {
          "start": 7
         },
         {
          "start": 109
         },
         {
          "start": 1
         },
         {
          "start": 32
         },
         {
          "start": 1
         },
         {
          "start": 2
         },
         {
          "start": 84
         },
         {
          "start": 7
         },
         {
          "start": 19
         },
         {
          "start": 72
         },
         {
          "start": 1
         },
         {
          "start": 190
         },
         {
          "start": 2
         },
         {
          "start": 159
         },
         {
          "start": 4
         },
         {
          "start": 53
         },
         {
          "start": 1
         },
         {
          "start": 10
         },
         {
          "start": 98
         },
         {
          "start": 1
         },
         {
          "start": 113
         },
         {
          "start": 98
         },
         {
          "start": 58
         },
         {
          "start": 2
         },
         {
          "start": 8
         },
         {
          "start": 151
         },
         {
          "start": 20
         },
         {
          "start": 1
         },
         {
          "start": 166
         },
         {
          "start": 8
         },
         {
          "start": 16
         },
         {
          "start": 9
         },
         {
          "start": 14
         },
         {
          "start": 51
         },
         {
          "start": 93
         },
         {
          "start": 77
         },
         {
          "start": 85
         },
         {
          "start": 201
         },
         {
          "start": 1
         },
         {
          "start": 99
         },
         {
          "start": 3
         },
         {
          "start": 68
         },
         {
          "start": 2
         },
         {
          "start": 42
         },
         {
          "start": 16
         },
         {
          "start": 1
         },
         {
          "start": 128
         },
         {
          "start": 1
         },
         {
          "start": 93
         },
         {
          "start": 26
         },
         {
          "start": 10
         },
         {
          "start": 1
         },
         {
          "start": 1
         },
         {
          "start": 3
         },
         {
          "start": 9
         },
         {
          "start": 7
         },
         {
          "start": 88
         },
         {
          "start": 2
         },
         {
          "start": 1
         },
         {
          "start": 13
         },
         {
          "start": 1
         },
         {
          "start": 1
         },
         {
          "start": 1
         },
         {
          "start": 65
         },
         {
          "start": 1
         },
         {
          "start": 9
         },
         {
          "start": 1
         },
         {
          "start": 41
         },
         {
          "start": 17
         },
         {
          "start": 21
         },
         {
          "start": 73
         },
         {
          "start": 155
         },
         {
          "start": 87
         },
         {
          "start": 1
         },
         {
          "start": 19
         },
         {
          "start": 11
         },
         {
          "start": 18
         },
         {
          "start": 1
         },
         {
          "start": 71
         },
         {
          "start": 185
         },
         {
          "start": 220
         },
         {
          "start": 2
         },
         {
          "start": 15
         },
         {
          "start": 47
         },
         {
          "start": 54
         },
         {
          "start": 1
         },
         {
          "start": 48
         },
         {
          "start": 10
         },
         {
          "start": 3
         },
         {
          "start": 3
         },
         {
          "start": 143
         },
         {
          "start": 13
         },
         {
          "start": 115
         },
         {
          "start": 11
         },
         {
          "start": 2
         },
         {
          "start": 1
         },
         {
          "start": 43
         },
         {
          "start": 1
         },
         {
          "start": 3
         },
         {
          "start": 19
         },
         {
          "start": 7
         },
         {
          "start": 80
         },
         {
          "start": 2
         },
         {
          "start": 42
         },
         {
          "start": 162
         },
         {
          "start": 1
         },
         {
          "start": 120
         },
         {
          "start": 1
         },
         {
          "start": 204
         },
         {
          "start": 100
         },
         {
          "start": 13
         },
         {
          "start": 62
         },
         {
          "start": 93
         },
         {
          "start": 2
         },
         {
          "start": 26
         },
         {
          "start": 28
         },
         {
          "start": 185
         },
         {
          "start": 14
         },
         {
          "start": 4
         },
         {
          "start": 1
         },
         {
          "start": 40
         },
         {
          "start": 1
         },
         {
          "start": 2
         },
         {
          "start": 3
         },
         {
          "start": 199
         },
         {
          "start": 3
         },
         {
          "start": 1
         },
         {
          "start": 19
         },
         {
          "start": 1
         },
         {
          "start": 31
         },
         {
          "start": 1
         },
         {
          "start": 44
         },
         {
          "start": 148
         },
         {
          "start": 9
         },
         {
          "start": 2
         },
         {
          "start": 108
         },
         {
          "start": 2
         },
         {
          "start": 21
         },
         {
          "start": 56
         },
         {
          "start": 42
         },
         {
          "start": 44
         },
         {
          "start": 5
         },
         {
          "start": 48
         },
         {
          "start": 25
         },
         {
          "start": 101
         },
         {
          "start": 1
         },
         {
          "start": 2
         },
         {
          "start": 199
         },
         {
          "start": 57
         },
         {
          "start": 105
         },
         {
          "start": 15
         },
         {
          "start": 2
         },
         {
          "start": 91
         },
         {
          "start": 51
         },
         {
          "start": 121
         },
         {
          "start": 45
         },
         {
          "start": 6
         },
         {
          "start": 127
         },
         {
          "start": 2
         },
         {
          "start": 3
         },
         {
          "start": 4
         },
         {
          "start": 17
         },
         {
          "start": 93
         },
         {
          "start": 2
         },
         {
          "start": 62
         },
         {
          "start": 1
         },
         {
          "start": 33
         },
         {
          "start": 9
         },
         {
          "start": 4
         },
         {
          "start": 6
         },
         {
          "start": 3
         },
         {
          "start": 1
         },
         {
          "start": 14
         },
         {
          "start": 1
         },
         {
          "start": 110
         },
         {
          "start": 37
         },
         {
          "start": 3
         },
         {
          "start": 10
         },
         {
          "start": 131
         },
         {
          "start": 6
         },
         {
          "start": 1
         },
         {
          "start": 6
         },
         {
          "start": 49
         },
         {
          "start": 19
         },
         {
          "start": 14
         },
         {
          "start": 6
         },
         {
          "start": 85
         },
         {
          "start": 133
         },
         {
          "start": 77
         },
         {
          "start": 94
         },
         {
          "start": 2
         },
         {
          "start": 14
         },
         {
          "start": 98
         },
         {
          "start": 14
         },
         {
          "start": 5
         },
         {
          "start": 2
         },
         {
          "start": 3
         },
         {
          "start": 116
         },
         {
          "start": 42
         },
         {
          "start": 27
         },
         {
          "start": 121
         },
         {
          "start": 47
         },
         {
          "start": 1
         },
         {
          "start": 22
         },
         {
          "start": 3
         },
         {
          "start": 126
         },
         {
          "start": 25
         },
         {
          "start": 57
         },
         {
          "start": 1
         },
         {
          "start": 30
         },
         {
          "start": 4
         },
         {
          "start": 9
         },
         {
          "start": 168
         },
         {
          "start": 16
         },
         {
          "start": 85
         },
         {
          "start": 11
         },
         {
          "start": 19
         },
         {
          "start": 4
         },
         {
          "start": 10
         },
         {
          "start": 15
         },
         {
          "start": 12
         },
         {
          "start": 38
         },
         {
          "start": 1
         },
         {
          "start": 1
         },
         {
          "start": 3
         },
         {
          "start": 226
         },
         {
          "start": 9
         },
         {
          "start": 3
         },
         {
          "start": 4
         },
         {
          "start": 1
         },
         {
          "start": 1
         },
         {
          "start": 2
         },
         {
          "start": 186
         },
         {
          "start": 3
         },
         {
          "start": 1
         },
         {
          "start": 33
         },
         {
          "start": 2
         },
         {
          "start": 28
         },
         {
          "start": 4
         },
         {
          "start": 2
         },
         {
          "start": 27
         },
         {
          "start": 80
         },
         {
          "start": 3
         },
         {
          "start": 202
         },
         {
          "start": 78
         },
         {
          "start": 51
         },
         {
          "start": 156
         },
         {
          "start": 97
         },
         {
          "start": 40
         },
         {
          "start": 1
         },
         {
          "start": 32
         },
         {
          "start": 1
         },
         {
          "start": 193
         },
         {
          "start": 1
         },
         {
          "start": 80
         },
         {
          "start": 9
         },
         {
          "start": 1
         },
         {
          "start": 40
         },
         {
          "start": 19
         },
         {
          "start": 7
         },
         {
          "start": 109
         },
         {
          "start": 1
         },
         {
          "start": 1
         },
         {
          "start": 2
         },
         {
          "start": 135
         },
         {
          "start": 9
         },
         {
          "start": 12
         },
         {
          "start": 2
         },
         {
          "start": 1
         },
         {
          "start": 61
         },
         {
          "start": 2
         },
         {
          "start": 3
         },
         {
          "start": 1
         },
         {
          "start": 124
         },
         {
          "start": 132
         },
         {
          "start": 83
         },
         {
          "start": 111
         },
         {
          "start": 21
         },
         {
          "start": 55
         },
         {
          "start": 1
         },
         {
          "start": 73
         },
         {
          "start": 1
         },
         {
          "start": 2
         },
         {
          "start": 76
         },
         {
          "start": 46
         },
         {
          "start": 183
         },
         {
          "start": 4
         },
         {
          "start": 2
         },
         {
          "start": 89
         },
         {
          "start": 6
         },
         {
          "start": 5
         },
         {
          "start": 12
         },
         {
          "start": 72
         },
         {
          "start": 4
         },
         {
          "start": 1
         },
         {
          "start": 1
         },
         {
          "start": 5
         },
         {
          "start": 3
         },
         {
          "start": 141
         },
         {
          "start": 1
         },
         {
          "start": 12
         },
         {
          "start": 213
         },
         {
          "start": 1
         },
         {
          "start": 20
         },
         {
          "start": 3
         },
         {
          "start": 169
         },
         {
          "start": 81
         },
         {
          "start": 1
         },
         {
          "start": 1
         },
         {
          "start": 1
         },
         {
          "start": 86
         },
         {
          "start": 2
         },
         {
          "start": 17
         },
         {
          "start": 2
         },
         {
          "start": 101
         },
         {
          "start": 1
         },
         {
          "start": 2
         },
         {
          "start": 10
         },
         {
          "start": 25
         },
         {
          "start": 157
         },
         {
          "start": 50
         },
         {
          "start": 88
         },
         {
          "start": 26
         },
         {
          "start": 152
         },
         {
          "start": 84
         },
         {
          "start": 92
         },
         {
          "start": 2
         },
         {
          "start": 5
         },
         {
          "start": 4
         },
         {
          "start": 1
         },
         {
          "start": 130
         },
         {
          "start": 70
         },
         {
          "start": 14
         },
         {
          "start": 6
         },
         {
          "start": 139
         },
         {
          "start": 1
         },
         {
          "start": 75
         },
         {
          "start": 2
         },
         {
          "start": 2
         },
         {
          "start": 25
         },
         {
          "start": 1
         },
         {
          "start": 3
         },
         {
          "start": 1
         },
         {
          "start": 45
         },
         {
          "start": 1
         },
         {
          "start": 79
         },
         {
          "start": 95
         },
         {
          "start": 117
         },
         {
          "start": 16
         },
         {
          "start": 106
         },
         {
          "start": 3
         },
         {
          "start": 1
         },
         {
          "start": 69
         },
         {
          "start": 1
         },
         {
          "start": 70
         },
         {
          "start": 7
         },
         {
          "start": 4
         },
         {
          "start": 125
         },
         {
          "start": 7
         },
         {
          "start": 1
         },
         {
          "start": 156
         },
         {
          "start": 195
         },
         {
          "start": 9
         },
         {
          "start": 1
         },
         {
          "start": 90
         },
         {
          "start": 1
         },
         {
          "start": 24
         },
         {
          "start": 60
         },
         {
          "start": 48
         },
         {
          "start": 97
         },
         {
          "start": 98
         },
         {
          "start": 51
         },
         {
          "start": 2
         },
         {
          "start": 139
         },
         {
          "start": 3
         },
         {
          "start": 26
         },
         {
          "start": 28
         },
         {
          "start": 55
         },
         {
          "start": 65
         },
         {
          "start": 1
         },
         {
          "start": 1
         },
         {
          "start": 58
         },
         {
          "start": 222
         },
         {
          "start": 69
         },
         {
          "start": 113
         },
         {
          "start": 11
         },
         {
          "start": 1
         },
         {
          "start": 10
         },
         {
          "start": 2
         },
         {
          "start": 3
         },
         {
          "start": 191
         },
         {
          "start": 6
         },
         {
          "start": 9
         },
         {
          "start": 24
         },
         {
          "start": 1
         },
         {
          "start": 6
         },
         {
          "start": 22
         },
         {
          "start": 102
         },
         {
          "start": 1
         },
         {
          "start": 109
         },
         {
          "start": 149
         },
         {
          "start": 1
         },
         {
          "start": 2
         },
         {
          "start": 1
         },
         {
          "start": 4
         },
         {
          "start": 57
         },
         {
          "start": 4
         },
         {
          "start": 171
         },
         {
          "start": 7
         },
         {
          "start": 6
         },
         {
          "start": 229
         },
         {
          "start": 76
         },
         {
          "start": 90
         },
         {
          "start": 3
         },
         {
          "start": 91
         },
         {
          "start": 1
         },
         {
          "start": 109
         },
         {
          "start": 127
         },
         {
          "start": 9
         },
         {
          "start": 1
         },
         {
          "start": 153
         },
         {
          "start": 2
         },
         {
          "start": 46
         },
         {
          "start": 1
         },
         {
          "start": 157
         },
         {
          "start": 7
         },
         {
          "start": 11
         },
         {
          "start": 3
         },
         {
          "start": 30
         },
         {
          "start": 20
         },
         {
          "start": 10
         },
         {
          "start": 91
         },
         {
          "start": 112
         },
         {
          "start": 4
         },
         {
          "start": 82
         },
         {
          "start": 1
         },
         {
          "start": 45
         },
         {
          "start": 38
         },
         {
          "start": 3
         },
         {
          "start": 13
         },
         {
          "start": 25
         },
         {
          "start": 1
         },
         {
          "start": 117
         },
         {
          "start": 7
         },
         {
          "start": 42
         },
         {
          "start": 3
         },
         {
          "start": 1
         },
         {
          "start": 117
         },
         {
          "start": 39
         },
         {
          "start": 2
         },
         {
          "start": 22
         },
         {
          "start": 1
         },
         {
          "start": 106
         },
         {
          "start": 84
         },
         {
          "start": 12
         },
         {
          "start": 16
         },
         {
          "start": 35
         },
         {
          "start": 107
         },
         {
          "start": 66
         },
         {
          "start": 1
         },
         {
          "start": 1
         },
         {
          "start": 61
         },
         {
          "start": 1
         },
         {
          "start": 55
         },
         {
          "start": 5
         },
         {
          "start": 109
         },
         {
          "start": 52
         },
         {
          "start": 118
         },
         {
          "start": 2
         },
         {
          "start": 43
         },
         {
          "start": 6
         },
         {
          "start": 140
         },
         {
          "start": 107
         },
         {
          "start": 64
         },
         {
          "start": 69
         },
         {
          "start": 2
         },
         {
          "start": 4
         },
         {
          "start": 114
         },
         {
          "start": 74
         },
         {
          "start": 122
         },
         {
          "start": 1
         },
         {
          "start": 153
         },
         {
          "start": 1
         },
         {
          "start": 1
         },
         {
          "start": 1
         },
         {
          "start": 1
         },
         {
          "start": 31
         },
         {
          "start": 4
         },
         {
          "start": 101
         },
         {
          "start": 79
         },
         {
          "start": 2
         },
         {
          "start": 1
         },
         {
          "start": 74
         },
         {
          "start": 2
         },
         {
          "start": 26
         },
         {
          "start": 104
         },
         {
          "start": 1
         },
         {
          "start": 2
         },
         {
          "start": 43
         },
         {
          "start": 119
         },
         {
          "start": 15
         },
         {
          "start": 1
         },
         {
          "start": 1
         },
         {
          "start": 1
         },
         {
          "start": 236
         },
         {
          "start": 4
         },
         {
          "start": 74
         },
         {
          "start": 1
         },
         {
          "start": 9
         },
         {
          "start": 1
         },
         {
          "start": 72
         },
         {
          "start": 1
         },
         {
          "start": 12
         },
         {
          "start": 6
         },
         {
          "start": 80
         },
         {
          "start": 1
         },
         {
          "start": 7
         },
         {
          "start": 34
         },
         {
          "start": 1
         },
         {
          "start": 1
         },
         {
          "start": 1
         },
         {
          "start": 9
         },
         {
          "start": 46
         },
         {
          "start": 32
         },
         {
          "start": 1
         },
         {
          "start": 16
         },
         {
          "start": 1
         },
         {
          "start": 50
         },
         {
          "start": 56
         },
         {
          "start": 94
         },
         {
          "start": 6
         },
         {
          "start": 19
         },
         {
          "start": 1
         },
         {
          "start": 1
         },
         {
          "start": 24
         },
         {
          "start": 1
         },
         {
          "start": 1
         },
         {
          "start": 104
         },
         {
          "start": 13
         },
         {
          "start": 6
         },
         {
          "start": 95
         },
         {
          "start": 9
         },
         {
          "start": 12
         },
         {
          "start": 5
         },
         {
          "start": 2
         },
         {
          "start": 4
         },
         {
          "start": 1
         },
         {
          "start": 83
         },
         {
          "start": 6
         },
         {
          "start": 48
         },
         {
          "start": 53
         },
         {
          "start": 55
         },
         {
          "start": 26
         },
         {
          "start": 86
         },
         {
          "start": 1
         },
         {
          "start": 7
         },
         {
          "start": 83
         },
         {
          "start": 72
         },
         {
          "start": 1
         },
         {
          "start": 1
         },
         {
          "start": 135
         },
         {
          "start": 143
         },
         {
          "start": 3
         },
         {
          "start": 1
         },
         {
          "start": 3
         },
         {
          "start": 8
         },
         {
          "start": 8
         },
         {
          "start": 11
         },
         {
          "start": 1
         },
         {
          "start": 97
         },
         {
          "start": 1
         },
         {
          "start": 105
         },
         {
          "start": 51
         },
         {
          "start": 2
         },
         {
          "start": 1
         },
         {
          "start": 2
         },
         {
          "start": 33
         },
         {
          "start": 3
         },
         {
          "start": 13
         },
         {
          "start": 129
         },
         {
          "start": 9
         },
         {
          "start": 3
         },
         {
          "start": 3
         },
         {
          "start": 52
         },
         {
          "start": 69
         },
         {
          "start": 70
         },
         {
          "start": 2
         },
         {
          "start": 1
         },
         {
          "start": 1
         },
         {
          "start": 9
         },
         {
          "start": 17
         },
         {
          "start": 4
         },
         {
          "start": 1
         },
         {
          "start": 3
         },
         {
          "start": 36
         },
         {
          "start": 60
         },
         {
          "start": 15
         },
         {
          "start": 1
         },
         {
          "start": 104
         },
         {
          "start": 1
         },
         {
          "start": 1
         },
         {
          "start": 6
         },
         {
          "start": 29
         },
         {
          "start": 76
         },
         {
          "start": 123
         },
         {
          "start": 55
         },
         {
          "start": 168
         },
         {
          "start": 114
         },
         {
          "start": 11
         },
         {
          "start": 29
         },
         {
          "start": 1
         },
         {
          "start": 147
         },
         {
          "start": 2
         },
         {
          "start": 98
         },
         {
          "start": 101
         },
         {
          "start": 105
         },
         {
          "start": 1
         },
         {
          "start": 29
         },
         {
          "start": 1
         },
         {
          "start": 71
         },
         {
          "start": 1
         },
         {
          "start": 68
         },
         {
          "start": 180
         },
         {
          "start": 12
         },
         {
          "start": 1
         },
         {
          "start": 5
         },
         {
          "start": 105
         },
         {
          "start": 99
         },
         {
          "start": 8
         },
         {
          "start": 126
         },
         {
          "start": 94
         },
         {
          "start": 3
         },
         {
          "start": 1
         },
         {
          "start": 1
         },
         {
          "start": 128
         },
         {
          "start": 1
         },
         {
          "start": 139
         },
         {
          "start": 10
         },
         {
          "start": 60
         },
         {
          "start": 9
         },
         {
          "start": 1
         },
         {
          "start": 1
         },
         {
          "start": 1
         },
         {
          "start": 1
         },
         {
          "start": 11
         },
         {
          "start": 1
         },
         {
          "start": 1
         },
         {
          "start": 164
         },
         {
          "start": 184
         },
         {
          "start": 6
         },
         {
          "start": 2
         },
         {
          "start": 27
         },
         {
          "start": 4
         },
         {
          "start": 80
         },
         {
          "start": 68
         },
         {
          "start": 1
         },
         {
          "start": 1
         },
         {
          "start": 81
         },
         {
          "start": 88
         },
         {
          "start": 12
         },
         {
          "start": 1
         },
         {
          "start": 16
         },
         {
          "start": 13
         },
         {
          "start": 63
         },
         {
          "start": 2
         },
         {
          "start": 16
         },
         {
          "start": 10
         },
         {
          "start": 1
         },
         {
          "start": 57
         },
         {
          "start": 71
         },
         {
          "start": 2
         },
         {
          "start": 48
         },
         {
          "start": 28
         },
         {
          "start": 4
         },
         {
          "start": 1
         },
         {
          "start": 1
         },
         {
          "start": 41
         },
         {
          "start": 99
         },
         {
          "start": 193
         },
         {
          "start": 124
         },
         {
          "start": 1
         },
         {
          "start": 1
         },
         {
          "start": 1
         },
         {
          "start": 155
         },
         {
          "start": 73
         },
         {
          "start": 1
         },
         {
          "start": 26
         },
         {
          "start": 86
         },
         {
          "start": 1
         },
         {
          "start": 1
         },
         {
          "start": 1
         },
         {
          "start": 19
         },
         {
          "start": 2
         },
         {
          "start": 1
         },
         {
          "start": 2
         },
         {
          "start": 108
         },
         {
          "start": 18
         },
         {
          "start": 2
         },
         {
          "start": 1
         },
         {
          "start": 9
         },
         {
          "start": 11
         },
         {
          "start": 9
         },
         {
          "start": 2
         },
         {
          "start": 26
         },
         {
          "start": 1
         },
         {
          "start": 4
         },
         {
          "start": 1
         },
         {
          "start": 13
         },
         {
          "start": 14
         },
         {
          "start": 27
         },
         {
          "start": 2
         },
         {
          "start": 25
         },
         {
          "start": 29
         },
         {
          "start": 1
         },
         {
          "start": 38
         },
         {
          "start": 49
         },
         {
          "start": 163
         },
         {
          "start": 109
         },
         {
          "start": 32
         },
         {
          "start": 1
         },
         {
          "start": 1
         },
         {
          "start": 130
         },
         {
          "start": 3
         },
         {
          "start": 164
         },
         {
          "start": 3
         },
         {
          "start": 32
         },
         {
          "start": 139
         },
         {
          "start": 22
         },
         {
          "start": 95
         },
         {
          "start": 21
         },
         {
          "start": 72
         },
         {
          "start": 118
         },
         {
          "start": 10
         },
         {
          "start": 66
         },
         {
          "start": 1
         },
         {
          "start": 222
         },
         {
          "start": 6
         },
         {
          "start": 1
         },
         {
          "start": 99
         },
         {
          "start": 1
         },
         {
          "start": 20
         },
         {
          "start": 3
         },
         {
          "start": 17
         },
         {
          "start": 7
         },
         {
          "start": 12
         },
         {
          "start": 3
         },
         {
          "start": 84
         },
         {
          "start": 1
         },
         {
          "start": 1
         },
         {
          "start": 77
         },
         {
          "start": 179
         },
         {
          "start": 93
         },
         {
          "start": 94
         },
         {
          "start": 4
         },
         {
          "start": 178
         },
         {
          "start": 1
         },
         {
          "start": 28
         },
         {
          "start": 1
         },
         {
          "start": 5
         },
         {
          "start": 2
         },
         {
          "start": 11
         },
         {
          "start": 13
         },
         {
          "start": 21
         },
         {
          "start": 46
         },
         {
          "start": 68
         },
         {
          "start": 31
         },
         {
          "start": 94
         },
         {
          "start": 1
         },
         {
          "start": 24
         },
         {
          "start": 1
         },
         {
          "start": 1
         },
         {
          "start": 21
         },
         {
          "start": 2
         },
         {
          "start": 2
         },
         {
          "start": 48
         },
         {
          "start": 6
         },
         {
          "start": 123
         },
         {
          "start": 10
         },
         {
          "start": 3
         },
         {
          "start": 6
         },
         {
          "start": 1
         },
         {
          "start": 130
         },
         {
          "start": 1
         },
         {
          "start": 129
         },
         {
          "start": 3
         },
         {
          "start": 84
         },
         {
          "start": 1
         },
         {
          "start": 1
         },
         {
          "start": 124
         },
         {
          "start": 23
         },
         {
          "start": 28
         },
         {
          "start": 234
         },
         {
          "start": 92
         },
         {
          "start": 53
         },
         {
          "start": 18
         },
         {
          "start": 61
         },
         {
          "start": 51
         },
         {
          "start": 134
         },
         {
          "start": 152
         },
         {
          "start": 4
         },
         {
          "start": 19
         },
         {
          "start": 16
         },
         {
          "start": 1
         },
         {
          "start": 1
         },
         {
          "start": 74
         },
         {
          "start": 2
         },
         {
          "start": 1
         },
         {
          "start": 153
         },
         {
          "start": 53
         },
         {
          "start": 4
         },
         {
          "start": 147
         },
         {
          "start": 4
         },
         {
          "start": 3
         },
         {
          "start": 96
         },
         {
          "start": 82
         },
         {
          "start": 61
         },
         {
          "start": 5
         },
         {
          "start": 1
         },
         {
          "start": 13
         },
         {
          "start": 7
         },
         {
          "start": 161
         },
         {
          "start": 3
         },
         {
          "start": 2
         },
         {
          "start": 8
         },
         {
          "start": 10
         },
         {
          "start": 1
         },
         {
          "start": 17
         },
         {
          "start": 148
         },
         {
          "start": 2
         },
         {
          "start": 83
         },
         {
          "start": 2
         },
         {
          "start": 29
         },
         {
          "start": 7
         },
         {
          "start": 93
         },
         {
          "start": 28
         },
         {
          "start": 1
         },
         {
          "start": 2
         },
         {
          "start": 92
         },
         {
          "start": 98
         },
         {
          "start": 9
         },
         {
          "start": 10
         },
         {
          "start": 55
         },
         {
          "start": 1
         },
         {
          "start": 1
         },
         {
          "start": 120
         },
         {
          "start": 2
         },
         {
          "start": 21
         },
         {
          "start": 75
         },
         {
          "start": 121
         },
         {
          "start": 164
         },
         {
          "start": 105
         },
         {
          "start": 55
         },
         {
          "start": 1
         },
         {
          "start": 127
         },
         {
          "start": 4
         },
         {
          "start": 4
         },
         {
          "start": 122
         },
         {
          "start": 32
         },
         {
          "start": 20
         },
         {
          "start": 2
         },
         {
          "start": 1
         },
         {
          "start": 96
         },
         {
          "start": 1
         },
         {
          "start": 3
         },
         {
          "start": 48
         },
         {
          "start": 1
         },
         {
          "start": 4
         },
         {
          "start": 2
         },
         {
          "start": 13
         },
         {
          "start": 236
         },
         {
          "start": 64
         },
         {
          "start": 17
         },
         {
          "start": 43
         },
         {
          "start": 146
         },
         {
          "start": 1
         },
         {
          "start": 110
         },
         {
          "start": 19
         },
         {
          "start": 2
         },
         {
          "start": 6
         },
         {
          "start": 1
         },
         {
          "start": 19
         },
         {
          "start": 2
         },
         {
          "start": 121
         },
         {
          "start": 5
         },
         {
          "start": 17
         },
         {
          "start": 85
         },
         {
          "start": 205
         },
         {
          "start": 55
         },
         {
          "start": 3
         },
         {
          "start": 143
         },
         {
          "start": 1
         },
         {
          "start": 1
         },
         {
          "start": 170
         },
         {
          "start": 166
         },
         {
          "start": 14
         },
         {
          "start": 2
         },
         {
          "start": 20
         },
         {
          "start": 73
         },
         {
          "start": 73
         },
         {
          "start": 44
         },
         {
          "start": 1
         },
         {
          "start": 3
         },
         {
          "start": 161
         },
         {
          "start": 9
         },
         {
          "start": 2
         },
         {
          "start": 77
         },
         {
          "start": 1
         },
         {
          "start": 3
         },
         {
          "start": 108
         },
         {
          "start": 7
         },
         {
          "start": 5
         },
         {
          "start": 22
         },
         {
          "start": 5
         },
         {
          "start": 46
         },
         {
          "start": 1
         },
         {
          "start": 69
         },
         {
          "start": 1
         },
         {
          "start": 99
         },
         {
          "start": 5
         },
         {
          "start": 11
         },
         {
          "start": 1
         },
         {
          "start": 129
         },
         {
          "start": 154
         },
         {
          "start": 1
         },
         {
          "start": 7
         },
         {
          "start": 8
         },
         {
          "start": 10
         },
         {
          "start": 1
         },
         {
          "start": 1
         },
         {
          "start": 74
         },
         {
          "start": 12
         },
         {
          "start": 14
         },
         {
          "start": 94
         },
         {
          "start": 2
         },
         {
          "start": 235
         },
         {
          "start": 1
         },
         {
          "start": 3
         },
         {
          "start": 67
         },
         {
          "start": 1
         },
         {
          "start": 3
         },
         {
          "start": 3
         },
         {
          "start": 41
         },
         {
          "start": 89
         },
         {
          "start": 1
         },
         {
          "start": 11
         },
         {
          "start": 3
         },
         {
          "start": 1
         },
         {
          "start": 1
         },
         {
          "start": 114
         },
         {
          "start": 49
         },
         {
          "start": 5
         },
         {
          "start": 3
         },
         {
          "start": 39
         },
         {
          "start": 52
         },
         {
          "start": 1
         },
         {
          "start": 3
         },
         {
          "start": 2
         },
         {
          "start": 1
         },
         {
          "start": 96
         },
         {
          "start": 1
         },
         {
          "start": 1
         },
         {
          "start": 1
         },
         {
          "start": 2
         },
         {
          "start": 58
         },
         {
          "start": 24
         },
         {
          "start": 120
         },
         {
          "start": 91
         },
         {
          "start": 1
         },
         {
          "start": 4
         },
         {
          "start": 132
         },
         {
          "start": 1
         },
         {
          "start": 33
         },
         {
          "start": 1
         },
         {
          "start": 146
         },
         {
          "start": 55
         },
         {
          "start": 102
         },
         {
          "start": 200
         },
         {
          "start": 1
         },
         {
          "start": 13
         },
         {
          "start": 69
         },
         {
          "start": 35
         },
         {
          "start": 124
         },
         {
          "start": 2
         },
         {
          "start": 28
         },
         {
          "start": 1
         },
         {
          "start": 2
         },
         {
          "start": 115
         },
         {
          "start": 131
         },
         {
          "start": 24
         },
         {
          "start": 1
         },
         {
          "start": 2
         },
         {
          "start": 44
         },
         {
          "start": 2
         },
         {
          "start": 7
         },
         {
          "start": 1
         },
         {
          "start": 1
         },
         {
          "start": 2
         },
         {
          "start": 2
         },
         {
          "start": 1
         },
         {
          "start": 115
         },
         {
          "start": 72
         },
         {
          "start": 99
         },
         {
          "start": 89
         },
         {
          "start": 2
         },
         {
          "start": 11
         },
         {
          "start": 2
         },
         {
          "start": 1
         },
         {
          "start": 36
         },
         {
          "start": 138
         },
         {
          "start": 1
         },
         {
          "start": 2
         },
         {
          "start": 28
         },
         {
          "start": 21
         },
         {
          "start": 65
         },
         {
          "start": 41
         },
         {
          "start": 137
         },
         {
          "start": 167
         },
         {
          "start": 23
         },
         {
          "start": 103
         },
         {
          "start": 20
         },
         {
          "start": 29
         },
         {
          "start": 9
         },
         {
          "start": 99
         },
         {
          "start": 4
         },
         {
          "start": 2
         },
         {
          "start": 1
         },
         {
          "start": 26
         },
         {
          "start": 64
         },
         {
          "start": 20
         },
         {
          "start": 1
         },
         {
          "start": 2
         },
         {
          "start": 104
         },
         {
          "start": 133
         },
         {
          "start": 49
         },
         {
          "start": 7
         },
         {
          "start": 19
         },
         {
          "start": 68
         },
         {
          "start": 1
         },
         {
          "start": 138
         },
         {
          "start": 25
         },
         {
          "start": 14
         },
         {
          "start": 68
         },
         {
          "start": 1
         },
         {
          "start": 3
         },
         {
          "start": 10
         },
         {
          "start": 112
         },
         {
          "start": 1
         },
         {
          "start": 132
         },
         {
          "start": 118
         },
         {
          "start": 87
         },
         {
          "start": 126
         },
         {
          "start": 59
         },
         {
          "start": 76
         },
         {
          "start": 84
         },
         {
          "start": 64
         },
         {
          "start": 5
         },
         {
          "start": 8
         },
         {
          "start": 45
         },
         {
          "start": 11
         },
         {
          "start": 2
         },
         {
          "start": 5
         },
         {
          "start": 184
         },
         {
          "start": 85
         },
         {
          "start": 27
         },
         {
          "start": 72
         },
         {
          "start": 1
         },
         {
          "start": 24
         },
         {
          "start": 1
         },
         {
          "start": 4
         },
         {
          "start": 73
         },
         {
          "start": 11
         },
         {
          "start": 1
         },
         {
          "start": 4
         },
         {
          "start": 8
         },
         {
          "start": 20
         },
         {
          "start": 28
         },
         {
          "start": 4
         },
         {
          "start": 120
         },
         {
          "start": 13
         },
         {
          "start": 3
         },
         {
          "start": 69
         },
         {
          "start": 37
         },
         {
          "start": 119
         },
         {
          "start": 78
         },
         {
          "start": 93
         },
         {
          "start": 9
         },
         {
          "start": 99
         },
         {
          "start": 4
         },
         {
          "start": 83
         },
         {
          "start": 31
         },
         {
          "start": 29
         },
         {
          "start": 17
         },
         {
          "start": 2
         },
         {
          "start": 19
         },
         {
          "start": 86
         },
         {
          "start": 35
         },
         {
          "start": 42
         },
         {
          "start": 1
         },
         {
          "start": 2
         },
         {
          "start": 28
         },
         {
          "start": 98
         },
         {
          "start": 1
         },
         {
          "start": 128
         },
         {
          "start": 103
         },
         {
          "start": 2
         },
         {
          "start": 1
         },
         {
          "start": 66
         },
         {
          "start": 1
         },
         {
          "start": 9
         },
         {
          "start": 222
         },
         {
          "start": 1
         },
         {
          "start": 153
         },
         {
          "start": 34
         },
         {
          "start": 8
         },
         {
          "start": 2
         },
         {
          "start": 34
         },
         {
          "start": 89
         },
         {
          "start": 84
         },
         {
          "start": 2
         },
         {
          "start": 87
         },
         {
          "start": 16
         },
         {
          "start": 2
         },
         {
          "start": 13
         },
         {
          "start": 109
         },
         {
          "start": 1
         },
         {
          "start": 107
         },
         {
          "start": 28
         },
         {
          "start": 9
         },
         {
          "start": 22
         },
         {
          "start": 156
         },
         {
          "start": 123
         },
         {
          "start": 17
         },
         {
          "start": 1
         },
         {
          "start": 1
         },
         {
          "start": 1
         },
         {
          "start": 1
         },
         {
          "start": 53
         },
         {
          "start": 3
         },
         {
          "start": 1
         },
         {
          "start": 7
         },
         {
          "start": 8
         },
         {
          "start": 10
         },
         {
          "start": 74
         },
         {
          "start": 126
         },
         {
          "start": 1
         },
         {
          "start": 10
         },
         {
          "start": 52
         },
         {
          "start": 8
         },
         {
          "start": 17
         },
         {
          "start": 1
         },
         {
          "start": 65
         },
         {
          "start": 1
         },
         {
          "start": 1
         },
         {
          "start": 135
         },
         {
          "start": 1
         },
         {
          "start": 2
         },
         {
          "start": 17
         },
         {
          "start": 124
         },
         {
          "start": 3
         },
         {
          "start": 21
         },
         {
          "start": 43
         },
         {
          "start": 1
         },
         {
          "start": 26
         },
         {
          "start": 1
         },
         {
          "start": 1
         },
         {
          "start": 33
         },
         {
          "start": 1
         },
         {
          "start": 100
         },
         {
          "start": 6
         },
         {
          "start": 36
         },
         {
          "start": 1
         },
         {
          "start": 49
         },
         {
          "start": 1
         },
         {
          "start": 9
         },
         {
          "start": 6
         },
         {
          "start": 15
         },
         {
          "start": 72
         },
         {
          "start": 1
         },
         {
          "start": 4
         },
         {
          "start": 144
         },
         {
          "start": 1
         },
         {
          "start": 1
         },
         {
          "start": 1
         },
         {
          "start": 110
         },
         {
          "start": 1
         },
         {
          "start": 87
         },
         {
          "start": 4
         },
         {
          "start": 171
         },
         {
          "start": 1
         },
         {
          "start": 13
         },
         {
          "start": 12
         },
         {
          "start": 145
         },
         {
          "start": 1
         },
         {
          "start": 23
         },
         {
          "start": 2
         },
         {
          "start": 10
         },
         {
          "start": 1
         },
         {
          "start": 67
         },
         {
          "start": 28
         },
         {
          "start": 1
         },
         {
          "start": 74
         },
         {
          "start": 1
         },
         {
          "start": 1
         },
         {
          "start": 183
         },
         {
          "start": 167
         },
         {
          "start": 3
         },
         {
          "start": 7
         },
         {
          "start": 4
         },
         {
          "start": 109
         },
         {
          "start": 160
         },
         {
          "start": 1
         },
         {
          "start": 144
         },
         {
          "start": 105
         },
         {
          "start": 1
         },
         {
          "start": 34
         },
         {
          "start": 1
         },
         {
          "start": 1
         },
         {
          "start": 1
         },
         {
          "start": 20
         },
         {
          "start": 6
         },
         {
          "start": 72
         },
         {
          "start": 1
         },
         {
          "start": 29
         },
         {
          "start": 23
         },
         {
          "start": 72
         },
         {
          "start": 51
         },
         {
          "start": 3
         },
         {
          "start": 84
         },
         {
          "start": 47
         },
         {
          "start": 52
         },
         {
          "start": 28
         },
         {
          "start": 4
         },
         {
          "start": 16
         },
         {
          "start": 3
         },
         {
          "start": 51
         },
         {
          "start": 13
         },
         {
          "start": 22
         },
         {
          "start": 1
         },
         {
          "start": 4
         },
         {
          "start": 25
         },
         {
          "start": 196
         },
         {
          "start": 4
         },
         {
          "start": 59
         },
         {
          "start": 96
         },
         {
          "start": 1
         },
         {
          "start": 3
         },
         {
          "start": 40
         },
         {
          "start": 1
         },
         {
          "start": 138
         },
         {
          "start": 1
         },
         {
          "start": 33
         },
         {
          "start": 13
         },
         {
          "start": 135
         },
         {
          "start": 1
         },
         {
          "start": 3
         },
         {
          "start": 1
         },
         {
          "start": 94
         },
         {
          "start": 160
         },
         {
          "start": 121
         },
         {
          "start": 1
         },
         {
          "start": 3
         },
         {
          "start": 118
         },
         {
          "start": 129
         },
         {
          "start": 6
         },
         {
          "start": 1
         },
         {
          "start": 183
         },
         {
          "start": 131
         },
         {
          "start": 3
         },
         {
          "start": 6
         },
         {
          "start": 3
         },
         {
          "start": 26
         },
         {
          "start": 2
         },
         {
          "start": 222
         },
         {
          "start": 87
         },
         {
          "start": 1
         },
         {
          "start": 8
         },
         {
          "start": 1
         },
         {
          "start": 1
         },
         {
          "start": 1
         },
         {
          "start": 4
         },
         {
          "start": 75
         },
         {
          "start": 60
         },
         {
          "start": 48
         },
         {
          "start": 125
         },
         {
          "start": 23
         },
         {
          "start": 9
         },
         {
          "start": 53
         },
         {
          "start": 10
         },
         {
          "start": 6
         },
         {
          "start": 4
         },
         {
          "start": 8
         },
         {
          "start": 19
         },
         {
          "start": 2
         },
         {
          "start": 103
         },
         {
          "start": 3
         },
         {
          "start": 1
         },
         {
          "start": 77
         },
         {
          "start": 51
         },
         {
          "start": 1
         },
         {
          "start": 1
         },
         {
          "start": 4
         },
         {
          "start": 1
         },
         {
          "start": 35
         },
         {
          "start": 7
         },
         {
          "start": 2
         },
         {
          "start": 1
         },
         {
          "start": 65
         },
         {
          "start": 5
         },
         {
          "start": 84
         },
         {
          "start": 1
         },
         {
          "start": 2
         },
         {
          "start": 92
         },
         {
          "start": 1
         },
         {
          "start": 75
         },
         {
          "start": 1
         },
         {
          "start": 1
         },
         {
          "start": 58
         },
         {
          "start": 110
         },
         {
          "start": 2
         },
         {
          "start": 1
         },
         {
          "start": 13
         },
         {
          "start": 102
         },
         {
          "start": 1
         },
         {
          "start": 149
         },
         {
          "start": 153
         },
         {
          "start": 117
         },
         {
          "start": 16
         },
         {
          "start": 3
         },
         {
          "start": 7
         },
         {
          "start": 180
         },
         {
          "start": 2
         },
         {
          "start": 130
         },
         {
          "start": 92
         },
         {
          "start": 1
         },
         {
          "start": 23
         },
         {
          "start": 62
         },
         {
          "start": 6
         },
         {
          "start": 2
         },
         {
          "start": 1
         },
         {
          "start": 100
         },
         {
          "start": 7
         },
         {
          "start": 3
         },
         {
          "start": 7
         },
         {
          "start": 6
         },
         {
          "start": 122
         },
         {
          "start": 19
         },
         {
          "start": 15
         },
         {
          "start": 8
         },
         {
          "start": 2
         },
         {
          "start": 1
         },
         {
          "start": 65
         },
         {
          "start": 35
         },
         {
          "start": 9
         },
         {
          "start": 109
         },
         {
          "start": 29
         },
         {
          "start": 1
         },
         {
          "start": 1
         },
         {
          "start": 5
         },
         {
          "start": 1
         },
         {
          "start": 235
         },
         {
          "start": 1
         },
         {
          "start": 47
         },
         {
          "start": 4
         },
         {
          "start": 122
         },
         {
          "start": 24
         },
         {
          "start": 96
         },
         {
          "start": 176
         },
         {
          "start": 1
         },
         {
          "start": 4
         },
         {
          "start": 132
         },
         {
          "start": 5
         },
         {
          "start": 1
         },
         {
          "start": 3
         },
         {
          "start": 1
         },
         {
          "start": 101
         },
         {
          "start": 6
         },
         {
          "start": 2
         },
         {
          "start": 116
         },
         {
          "start": 13
         },
         {
          "start": 12
         },
         {
          "start": 1
         },
         {
          "start": 107
         },
         {
          "start": 5
         },
         {
          "start": 13
         },
         {
          "start": 24
         },
         {
          "start": 2
         },
         {
          "start": 2
         },
         {
          "start": 1
         },
         {
          "start": 60
         },
         {
          "start": 171
         },
         {
          "start": 1
         },
         {
          "start": 1
         },
         {
          "start": 13
         },
         {
          "start": 19
         },
         {
          "start": 11
         },
         {
          "start": 3
         },
         {
          "start": 7
         },
         {
          "start": 5
         },
         {
          "start": 183
         },
         {
          "start": 188
         },
         {
          "start": 146
         },
         {
          "start": 1
         },
         {
          "start": 37
         },
         {
          "start": 1
         },
         {
          "start": 60
         },
         {
          "start": 124
         },
         {
          "start": 30
         },
         {
          "start": 3
         },
         {
          "start": 2
         },
         {
          "start": 60
         },
         {
          "start": 80
         },
         {
          "start": 15
         },
         {
          "start": 1
         },
         {
          "start": 26
         },
         {
          "start": 1
         },
         {
          "start": 167
         },
         {
          "start": 3
         },
         {
          "start": 1
         },
         {
          "start": 2
         },
         {
          "start": 165
         },
         {
          "start": 203
         },
         {
          "start": 1
         },
         {
          "start": 100
         },
         {
          "start": 109
         },
         {
          "start": 12
         },
         {
          "start": 119
         },
         {
          "start": 16
         },
         {
          "start": 18
         },
         {
          "start": 58
         },
         {
          "start": 78
         },
         {
          "start": 89
         },
         {
          "start": 56
         },
         {
          "start": 158
         },
         {
          "start": 2
         },
         {
          "start": 3
         },
         {
          "start": 1
         },
         {
          "start": 11
         },
         {
          "start": 3
         },
         {
          "start": 46
         },
         {
          "start": 143
         },
         {
          "start": 3
         },
         {
          "start": 10
         },
         {
          "start": 72
         },
         {
          "start": 2
         },
         {
          "start": 1
         },
         {
          "start": 5
         },
         {
          "start": 4
         },
         {
          "start": 147
         },
         {
          "start": 52
         },
         {
          "start": 19
         },
         {
          "start": 3
         },
         {
          "start": 5
         },
         {
          "start": 2
         },
         {
          "start": 108
         },
         {
          "start": 1
         },
         {
          "start": 7
         },
         {
          "start": 1
         },
         {
          "start": 72
         },
         {
          "start": 79
         },
         {
          "start": 77
         },
         {
          "start": 2
         },
         {
          "start": 24
         },
         {
          "start": 1
         },
         {
          "start": 2
         },
         {
          "start": 1
         },
         {
          "start": 65
         },
         {
          "start": 7
         },
         {
          "start": 1
         },
         {
          "start": 1
         },
         {
          "start": 71
         },
         {
          "start": 88
         },
         {
          "start": 8
         },
         {
          "start": 176
         },
         {
          "start": 1
         },
         {
          "start": 13
         },
         {
          "start": 1
         },
         {
          "start": 89
         },
         {
          "start": 10
         },
         {
          "start": 3
         },
         {
          "start": 27
         },
         {
          "start": 1
         },
         {
          "start": 73
         },
         {
          "start": 1
         },
         {
          "start": 3
         },
         {
          "start": 1
         },
         {
          "start": 23
         },
         {
          "start": 1
         },
         {
          "start": 2
         },
         {
          "start": 39
         },
         {
          "start": 21
         },
         {
          "start": 84
         },
         {
          "start": 120
         },
         {
          "start": 188
         },
         {
          "start": 22
         },
         {
          "start": 73
         },
         {
          "start": 6
         },
         {
          "start": 2
         },
         {
          "start": 35
         },
         {
          "start": 58
         },
         {
          "start": 4
         },
         {
          "start": 93
         },
         {
          "start": 67
         },
         {
          "start": 1
         },
         {
          "start": 7
         },
         {
          "start": 36
         },
         {
          "start": 77
         },
         {
          "start": 2
         },
         {
          "start": 32
         },
         {
          "start": 108
         },
         {
          "start": 2
         },
         {
          "start": 1
         },
         {
          "start": 2
         },
         {
          "start": 4
         },
         {
          "start": 1
         },
         {
          "start": 1
         },
         {
          "start": 5
         },
         {
          "start": 90
         },
         {
          "start": 4
         },
         {
          "start": 11
         },
         {
          "start": 129
         },
         {
          "start": 80
         },
         {
          "start": 1
         },
         {
          "start": 2
         },
         {
          "start": 138
         },
         {
          "start": 1
         },
         {
          "start": 1
         },
         {
          "start": 20
         },
         {
          "start": 108
         },
         {
          "start": 106
         },
         {
          "start": 81
         },
         {
          "start": 90
         },
         {
          "start": 48
         },
         {
          "start": 2
         },
         {
          "start": 1
         },
         {
          "start": 1
         },
         {
          "start": 141
         },
         {
          "start": 26
         },
         {
          "start": 2
         },
         {
          "start": 6
         },
         {
          "start": 15
         },
         {
          "start": 8
         },
         {
          "start": 54
         },
         {
          "start": 3
         },
         {
          "start": 4
         },
         {
          "start": 3
         },
         {
          "start": 2
         },
         {
          "start": 3
         },
         {
          "start": 169
         },
         {
          "start": 70
         },
         {
          "start": 1
         },
         {
          "start": 10
         },
         {
          "start": 38
         },
         {
          "start": 2
         },
         {
          "start": 1
         },
         {
          "start": 1
         },
         {
          "start": 22
         },
         {
          "start": 2
         },
         {
          "start": 2
         },
         {
          "start": 4
         },
         {
          "start": 40
         },
         {
          "start": 2
         },
         {
          "start": 5
         },
         {
          "start": 154
         },
         {
          "start": 1
         },
         {
          "start": 45
         },
         {
          "start": 99
         },
         {
          "start": 5
         },
         {
          "start": 5
         },
         {
          "start": 1
         },
         {
          "start": 7
         },
         {
          "start": 48
         },
         {
          "start": 214
         },
         {
          "start": 1
         },
         {
          "start": 2
         },
         {
          "start": 2
         },
         {
          "start": 115
         },
         {
          "start": 2
         },
         {
          "start": 4
         },
         {
          "start": 226
         },
         {
          "start": 55
         },
         {
          "start": 40
         },
         {
          "start": 1
         },
         {
          "start": 85
         },
         {
          "start": 91
         },
         {
          "start": 2
         },
         {
          "start": 29
         },
         {
          "start": 2
         },
         {
          "start": 20
         },
         {
          "start": 16
         },
         {
          "start": 8
         },
         {
          "start": 192
         },
         {
          "start": 17
         },
         {
          "start": 2
         },
         {
          "start": 12
         },
         {
          "start": 2
         },
         {
          "start": 1
         },
         {
          "start": 15
         },
         {
          "start": 43
         },
         {
          "start": 107
         },
         {
          "start": 115
         },
         {
          "start": 96
         },
         {
          "start": 103
         },
         {
          "start": 64
         },
         {
          "start": 14
         },
         {
          "start": 1
         },
         {
          "start": 27
         },
         {
          "start": 61
         },
         {
          "start": 1
         },
         {
          "start": 1
         },
         {
          "start": 114
         },
         {
          "start": 37
         },
         {
          "start": 7
         },
         {
          "start": 89
         },
         {
          "start": 71
         },
         {
          "start": 1
         },
         {
          "start": 231
         },
         {
          "start": 155
         },
         {
          "start": 188
         },
         {
          "start": 1
         },
         {
          "start": 19
         },
         {
          "start": 42
         },
         {
          "start": 7
         },
         {
          "start": 9
         },
         {
          "start": 3
         },
         {
          "start": 32
         },
         {
          "start": 8
         },
         {
          "start": 1
         },
         {
          "start": 57
         },
         {
          "start": 31
         },
         {
          "start": 7
         },
         {
          "start": 32
         },
         {
          "start": 6
         },
         {
          "start": 133
         },
         {
          "start": 12
         },
         {
          "start": 5
         },
         {
          "start": 79
         },
         {
          "start": 69
         },
         {
          "start": 19
         },
         {
          "start": 51
         },
         {
          "start": 159
         },
         {
          "start": 70
         },
         {
          "start": 5
         },
         {
          "start": 7
         },
         {
          "start": 74
         },
         {
          "start": 62
         },
         {
          "start": 164
         },
         {
          "start": 82
         },
         {
          "start": 207
         },
         {
          "start": 17
         },
         {
          "start": 1
         },
         {
          "start": 4
         },
         {
          "start": 3
         },
         {
          "start": 7
         },
         {
          "start": 3
         },
         {
          "start": 71
         },
         {
          "start": 23
         },
         {
          "start": 6
         },
         {
          "start": 109
         },
         {
          "start": 5
         },
         {
          "start": 178
         },
         {
          "start": 9
         },
         {
          "start": 1
         },
         {
          "start": 65
         },
         {
          "start": 64
         },
         {
          "start": 16
         },
         {
          "start": 1
         },
         {
          "start": 3
         },
         {
          "start": 55
         },
         {
          "start": 208
         },
         {
          "start": 4
         },
         {
          "start": 17
         },
         {
          "start": 1
         },
         {
          "start": 82
         },
         {
          "start": 2
         },
         {
          "start": 1
         },
         {
          "start": 55
         },
         {
          "start": 15
         },
         {
          "start": 61
         },
         {
          "start": 1
         },
         {
          "start": 1
         },
         {
          "start": 1
         },
         {
          "start": 197
         },
         {
          "start": 65
         },
         {
          "start": 23
         },
         {
          "start": 1
         },
         {
          "start": 22
         },
         {
          "start": 1
         },
         {
          "start": 94
         },
         {
          "start": 9
         },
         {
          "start": 1
         },
         {
          "start": 54
         },
         {
          "start": 1
         },
         {
          "start": 2
         },
         {
          "start": 4
         },
         {
          "start": 117
         },
         {
          "start": 21
         },
         {
          "start": 1
         },
         {
          "start": 120
         },
         {
          "start": 53
         },
         {
          "start": 169
         },
         {
          "start": 2
         },
         {
          "start": 1
         },
         {
          "start": 3
         },
         {
          "start": 4
         },
         {
          "start": 24
         },
         {
          "start": 16
         },
         {
          "start": 5
         },
         {
          "start": 74
         },
         {
          "start": 9
         },
         {
          "start": 4
         },
         {
          "start": 64
         },
         {
          "start": 2
         },
         {
          "start": 51
         },
         {
          "start": 65
         },
         {
          "start": 123
         },
         {
          "start": 3
         },
         {
          "start": 175
         },
         {
          "start": 23
         },
         {
          "start": 3
         },
         {
          "start": 128
         },
         {
          "start": 1
         },
         {
          "start": 2
         },
         {
          "start": 32
         },
         {
          "start": 79
         },
         {
          "start": 114
         },
         {
          "start": 189
         },
         {
          "start": 91
         },
         {
          "start": 18
         },
         {
          "start": 1
         },
         {
          "start": 110
         },
         {
          "start": 77
         },
         {
          "start": 63
         },
         {
          "start": 1
         },
         {
          "start": 1
         },
         {
          "start": 5
         },
         {
          "start": 1
         },
         {
          "start": 1
         },
         {
          "start": 65
         },
         {
          "start": 3
         },
         {
          "start": 3
         },
         {
          "start": 1
         },
         {
          "start": 3
         },
         {
          "start": 1
         },
         {
          "start": 1
         },
         {
          "start": 2
         },
         {
          "start": 24
         },
         {
          "start": 52
         },
         {
          "start": 1
         },
         {
          "start": 3
         },
         {
          "start": 3
         },
         {
          "start": 1
         },
         {
          "start": 3
         },
         {
          "start": 96
         },
         {
          "start": 171
         },
         {
          "start": 30
         },
         {
          "start": 2
         },
         {
          "start": 75
         },
         {
          "start": 1
         },
         {
          "start": 95
         },
         {
          "start": 2
         },
         {
          "start": 1
         },
         {
          "start": 1
         },
         {
          "start": 1
         },
         {
          "start": 1
         },
         {
          "start": 3
         },
         {
          "start": 3
         },
         {
          "start": 2
         },
         {
          "start": 209
         },
         {
          "start": 153
         },
         {
          "start": 83
         },
         {
          "start": 67
         },
         {
          "start": 2
         },
         {
          "start": 81
         },
         {
          "start": 62
         },
         {
          "start": 171
         },
         {
          "start": 133
         },
         {
          "start": 32
         },
         {
          "start": 1
         },
         {
          "start": 36
         },
         {
          "start": 119
         },
         {
          "start": 88
         },
         {
          "start": 4
         },
         {
          "start": 52
         },
         {
          "start": 167
         },
         {
          "start": 120
         },
         {
          "start": 126
         },
         {
          "start": 91
         },
         {
          "start": 112
         },
         {
          "start": 1
         },
         {
          "start": 26
         },
         {
          "start": 11
         },
         {
          "start": 16
         },
         {
          "start": 3
         },
         {
          "start": 20
         },
         {
          "start": 2
         },
         {
          "start": 130
         },
         {
          "start": 14
         },
         {
          "start": 60
         },
         {
          "start": 84
         },
         {
          "start": 6
         },
         {
          "start": 71
         },
         {
          "start": 74
         },
         {
          "start": 1
         },
         {
          "start": 1
         },
         {
          "start": 2
         },
         {
          "start": 11
         },
         {
          "start": 1
         },
         {
          "start": 138
         },
         {
          "start": 2
         },
         {
          "start": 178
         },
         {
          "start": 1
         },
         {
          "start": 7
         },
         {
          "start": 2
         },
         {
          "start": 112
         },
         {
          "start": 7
         },
         {
          "start": 109
         },
         {
          "start": 11
         },
         {
          "start": 171
         },
         {
          "start": 1
         },
         {
          "start": 69
         },
         {
          "start": 101
         },
         {
          "start": 1
         },
         {
          "start": 22
         },
         {
          "start": 18
         },
         {
          "start": 1
         },
         {
          "start": 31
         },
         {
          "start": 81
         },
         {
          "start": 5
         },
         {
          "start": 3
         },
         {
          "start": 88
         },
         {
          "start": 1
         },
         {
          "start": 94
         },
         {
          "start": 105
         },
         {
          "start": 1
         },
         {
          "start": 19
         },
         {
          "start": 53
         },
         {
          "start": 1
         },
         {
          "start": 2
         },
         {
          "start": 57
         },
         {
          "start": 97
         },
         {
          "start": 14
         },
         {
          "start": 89
         },
         {
          "start": 1
         },
         {
          "start": 80
         },
         {
          "start": 139
         },
         {
          "start": 1
         },
         {
          "start": 40
         },
         {
          "start": 1
         },
         {
          "start": 7
         },
         {
          "start": 118
         },
         {
          "start": 83
         },
         {
          "start": 124
         },
         {
          "start": 2
         },
         {
          "start": 13
         },
         {
          "start": 11
         },
         {
          "start": 15
         },
         {
          "start": 105
         },
         {
          "start": 37
         },
         {
          "start": 1
         },
         {
          "start": 32
         },
         {
          "start": 1
         },
         {
          "start": 112
         },
         {
          "start": 10
         },
         {
          "start": 1
         },
         {
          "start": 1
         },
         {
          "start": 1
         },
         {
          "start": 1
         },
         {
          "start": 10
         },
         {
          "start": 14
         },
         {
          "start": 7
         },
         {
          "start": 1
         },
         {
          "start": 47
         },
         {
          "start": 67
         },
         {
          "start": 23
         },
         {
          "start": 1
         },
         {
          "start": 14
         },
         {
          "start": 98
         },
         {
          "start": 11
         },
         {
          "start": 163
         },
         {
          "start": 104
         },
         {
          "start": 143
         },
         {
          "start": 4
         },
         {
          "start": 23
         },
         {
          "start": 32
         },
         {
          "start": 14
         },
         {
          "start": 3
         },
         {
          "start": 116
         },
         {
          "start": 48
         },
         {
          "start": 6
         },
         {
          "start": 130
         },
         {
          "start": 116
         },
         {
          "start": 1
         },
         {
          "start": 15
         },
         {
          "start": 1
         },
         {
          "start": 1
         },
         {
          "start": 4
         },
         {
          "start": 38
         },
         {
          "start": 1
         },
         {
          "start": 159
         },
         {
          "start": 16
         },
         {
          "start": 1
         },
         {
          "start": 6
         },
         {
          "start": 108
         },
         {
          "start": 12
         },
         {
          "start": 2
         },
         {
          "start": 73
         },
         {
          "start": 36
         },
         {
          "start": 10
         },
         {
          "start": 12
         },
         {
          "start": 179
         },
         {
          "start": 95
         },
         {
          "start": 179
         },
         {
          "start": 3
         },
         {
          "start": 155
         },
         {
          "start": 2
         },
         {
          "start": 10
         },
         {
          "start": 22
         },
         {
          "start": 2
         },
         {
          "start": 163
         },
         {
          "start": 67
         },
         {
          "start": 107
         },
         {
          "start": 2
         },
         {
          "start": 2
         },
         {
          "start": 2
         },
         {
          "start": 133
         },
         {
          "start": 68
         },
         {
          "start": 1
         },
         {
          "start": 1
         },
         {
          "start": 1
         },
         {
          "start": 1
         },
         {
          "start": 167
         },
         {
          "start": 4
         },
         {
          "start": 32
         },
         {
          "start": 1
         },
         {
          "start": 202
         },
         {
          "start": 5
         },
         {
          "start": 1
         },
         {
          "start": 3
         },
         {
          "start": 87
         },
         {
          "start": 3
         },
         {
          "start": 55
         },
         {
          "start": 32
         },
         {
          "start": 1
         },
         {
          "start": 25
         },
         {
          "start": 39
         },
         {
          "start": 42
         },
         {
          "start": 69
         },
         {
          "start": 55
         },
         {
          "start": 4
         },
         {
          "start": 2
         },
         {
          "start": 13
         },
         {
          "start": 17
         },
         {
          "start": 2
         },
         {
          "start": 29
         },
         {
          "start": 1
         },
         {
          "start": 5
         },
         {
          "start": 14
         },
         {
          "start": 1
         },
         {
          "start": 70
         },
         {
          "start": 6
         },
         {
          "start": 1
         },
         {
          "start": 1
         },
         {
          "start": 5
         },
         {
          "start": 16
         },
         {
          "start": 1
         },
         {
          "start": 117
         },
         {
          "start": 184
         },
         {
          "start": 2
         },
         {
          "start": 21
         },
         {
          "start": 123
         },
         {
          "start": 19
         },
         {
          "start": 1
         },
         {
          "start": 107
         },
         {
          "start": 3
         },
         {
          "start": 1
         },
         {
          "start": 1
         },
         {
          "start": 2
         },
         {
          "start": 5
         },
         {
          "start": 89
         },
         {
          "start": 25
         },
         {
          "start": 2
         },
         {
          "start": 1
         },
         {
          "start": 12
         },
         {
          "start": 1
         },
         {
          "start": 78
         },
         {
          "start": 197
         },
         {
          "start": 15
         },
         {
          "start": 121
         },
         {
          "start": 65
         },
         {
          "start": 130
         },
         {
          "start": 2
         },
         {
          "start": 32
         },
         {
          "start": 1
         },
         {
          "start": 27
         },
         {
          "start": 1
         },
         {
          "start": 58
         },
         {
          "start": 1
         },
         {
          "start": 165
         },
         {
          "start": 40
         },
         {
          "start": 9
         },
         {
          "start": 28
         },
         {
          "start": 110
         },
         {
          "start": 6
         },
         {
          "start": 3
         },
         {
          "start": 151
         },
         {
          "start": 7
         },
         {
          "start": 4
         },
         {
          "start": 146
         },
         {
          "start": 1
         },
         {
          "start": 129
         },
         {
          "start": 3
         },
         {
          "start": 23
         },
         {
          "start": 233
         },
         {
          "start": 1
         },
         {
          "start": 99
         },
         {
          "start": 92
         },
         {
          "start": 55
         },
         {
          "start": 7
         },
         {
          "start": 32
         },
         {
          "start": 86
         },
         {
          "start": 154
         },
         {
          "start": 1
         },
         {
          "start": 85
         },
         {
          "start": 140
         },
         {
          "start": 91
         },
         {
          "start": 6
         },
         {
          "start": 106
         },
         {
          "start": 1
         },
         {
          "start": 121
         },
         {
          "start": 3
         },
         {
          "start": 2
         },
         {
          "start": 1
         },
         {
          "start": 5
         },
         {
          "start": 21
         },
         {
          "start": 86
         },
         {
          "start": 92
         },
         {
          "start": 131
         },
         {
          "start": 1
         },
         {
          "start": 8
         },
         {
          "start": 5
         },
         {
          "start": 96
         },
         {
          "start": 1
         },
         {
          "start": 2
         },
         {
          "start": 61
         },
         {
          "start": 207
         },
         {
          "start": 8
         },
         {
          "start": 118
         },
         {
          "start": 1
         },
         {
          "start": 1
         },
         {
          "start": 32
         },
         {
          "start": 44
         },
         {
          "start": 1
         },
         {
          "start": 1
         },
         {
          "start": 90
         },
         {
          "start": 14
         },
         {
          "start": 7
         },
         {
          "start": 106
         },
         {
          "start": 5
         },
         {
          "start": 16
         },
         {
          "start": 118
         },
         {
          "start": 63
         },
         {
          "start": 1
         },
         {
          "start": 95
         },
         {
          "start": 121
         },
         {
          "start": 42
         },
         {
          "start": 40
         },
         {
          "start": 16
         },
         {
          "start": 12
         },
         {
          "start": 84
         },
         {
          "start": 4
         },
         {
          "start": 2
         },
         {
          "start": 96
         },
         {
          "start": 14
         },
         {
          "start": 1
         },
         {
          "start": 62
         },
         {
          "start": 97
         },
         {
          "start": 227
         },
         {
          "start": 14
         },
         {
          "start": 7
         },
         {
          "start": 41
         },
         {
          "start": 5
         },
         {
          "start": 5
         },
         {
          "start": 3
         },
         {
          "start": 7
         },
         {
          "start": 4
         },
         {
          "start": 97
         },
         {
          "start": 2
         },
         {
          "start": 8
         },
         {
          "start": 4
         },
         {
          "start": 83
         },
         {
          "start": 6
         },
         {
          "start": 5
         },
         {
          "start": 1
         },
         {
          "start": 7
         },
         {
          "start": 4
         },
         {
          "start": 1
         },
         {
          "start": 83
         },
         {
          "start": 2
         },
         {
          "start": 2
         },
         {
          "start": 64
         },
         {
          "start": 115
         },
         {
          "start": 44
         },
         {
          "start": 6
         },
         {
          "start": 4
         },
         {
          "start": 7
         },
         {
          "start": 1
         },
         {
          "start": 1
         },
         {
          "start": 76
         },
         {
          "start": 10
         },
         {
          "start": 1
         },
         {
          "start": 154
         },
         {
          "start": 94
         },
         {
          "start": 3
         },
         {
          "start": 35
         },
         {
          "start": 83
         },
         {
          "start": 13
         },
         {
          "start": 1
         },
         {
          "start": 120
         },
         {
          "start": 102
         },
         {
          "start": 128
         },
         {
          "start": 1
         },
         {
          "start": 24
         },
         {
          "start": 134
         },
         {
          "start": 1
         },
         {
          "start": 197
         },
         {
          "start": 15
         },
         {
          "start": 2
         },
         {
          "start": 91
         },
         {
          "start": 1
         },
         {
          "start": 44
         },
         {
          "start": 186
         },
         {
          "start": 3
         },
         {
          "start": 1
         },
         {
          "start": 1
         },
         {
          "start": 2
         },
         {
          "start": 6
         },
         {
          "start": 57
         },
         {
          "start": 1
         },
         {
          "start": 5
         },
         {
          "start": 92
         },
         {
          "start": 23
         },
         {
          "start": 121
         },
         {
          "start": 6
         },
         {
          "start": 1
         },
         {
          "start": 7
         },
         {
          "start": 24
         },
         {
          "start": 84
         },
         {
          "start": 2
         },
         {
          "start": 1
         },
         {
          "start": 1
         },
         {
          "start": 51
         },
         {
          "start": 109
         },
         {
          "start": 2
         },
         {
          "start": 3
         },
         {
          "start": 55
         },
         {
          "start": 121
         },
         {
          "start": 5
         },
         {
          "start": 2
         },
         {
          "start": 125
         },
         {
          "start": 82
         },
         {
          "start": 74
         },
         {
          "start": 3
         },
         {
          "start": 123
         },
         {
          "start": 2
         },
         {
          "start": 3
         },
         {
          "start": 78
         },
         {
          "start": 1
         },
         {
          "start": 1
         },
         {
          "start": 1
         },
         {
          "start": 23
         },
         {
          "start": 88
         },
         {
          "start": 21
         },
         {
          "start": 1
         },
         {
          "start": 2
         },
         {
          "start": 15
         },
         {
          "start": 193
         },
         {
          "start": 1
         },
         {
          "start": 5
         },
         {
          "start": 59
         },
         {
          "start": 49
         },
         {
          "start": 30
         },
         {
          "start": 7
         },
         {
          "start": 62
         },
         {
          "start": 72
         },
         {
          "start": 1
         },
         {
          "start": 105
         },
         {
          "start": 120
         },
         {
          "start": 89
         },
         {
          "start": 76
         },
         {
          "start": 1
         },
         {
          "start": 5
         },
         {
          "start": 126
         },
         {
          "start": 6
         },
         {
          "start": 1
         },
         {
          "start": 2
         },
         {
          "start": 1
         },
         {
          "start": 18
         },
         {
          "start": 127
         },
         {
          "start": 3
         },
         {
          "start": 22
         },
         {
          "start": 5
         },
         {
          "start": 1
         },
         {
          "start": 1
         },
         {
          "start": 1
         },
         {
          "start": 1
         },
         {
          "start": 3
         },
         {
          "start": 3
         },
         {
          "start": 6
         },
         {
          "start": 6
         },
         {
          "start": 53
         },
         {
          "start": 1
         },
         {
          "start": 204
         },
         {
          "start": 1
         },
         {
          "start": 7
         },
         {
          "start": 138
         },
         {
          "start": 155
         },
         {
          "start": 139
         },
         {
          "start": 140
         },
         {
          "start": 64
         },
         {
          "start": 51
         },
         {
          "start": 57
         },
         {
          "start": 94
         },
         {
          "start": 136
         },
         {
          "start": 1
         },
         {
          "start": 1
         },
         {
          "start": 2
         },
         {
          "start": 198
         },
         {
          "start": 1
         },
         {
          "start": 157
         },
         {
          "start": 5
         },
         {
          "start": 3
         },
         {
          "start": 208
         },
         {
          "start": 57
         },
         {
          "start": 82
         },
         {
          "start": 4
         },
         {
          "start": 6
         },
         {
          "start": 50
         },
         {
          "start": 91
         },
         {
          "start": 2
         },
         {
          "start": 88
         },
         {
          "start": 35
         },
         {
          "start": 56
         },
         {
          "start": 1
         },
         {
          "start": 90
         },
         {
          "start": 1
         },
         {
          "start": 112
         },
         {
          "start": 1
         },
         {
          "start": 10
         },
         {
          "start": 1
         },
         {
          "start": 23
         },
         {
          "start": 1
         },
         {
          "start": 76
         },
         {
          "start": 94
         },
         {
          "start": 102
         },
         {
          "start": 111
         },
         {
          "start": 110
         },
         {
          "start": 29
         },
         {
          "start": 140
         },
         {
          "start": 38
         },
         {
          "start": 1
         },
         {
          "start": 28
         },
         {
          "start": 3
         },
         {
          "start": 133
         },
         {
          "start": 1
         },
         {
          "start": 2
         },
         {
          "start": 1
         },
         {
          "start": 3
         },
         {
          "start": 78
         },
         {
          "start": 87
         },
         {
          "start": 2
         },
         {
          "start": 2
         },
         {
          "start": 158
         },
         {
          "start": 43
         },
         {
          "start": 159
         },
         {
          "start": 87
         },
         {
          "start": 110
         },
         {
          "start": 1
         },
         {
          "start": 3
         },
         {
          "start": 1
         },
         {
          "start": 27
         },
         {
          "start": 11
         },
         {
          "start": 87
         },
         {
          "start": 9
         },
         {
          "start": 74
         },
         {
          "start": 1
         },
         {
          "start": 7
         },
         {
          "start": 4
         },
         {
          "start": 44
         },
         {
          "start": 10
         },
         {
          "start": 19
         },
         {
          "start": 2
         },
         {
          "start": 108
         },
         {
          "start": 14
         },
         {
          "start": 2
         },
         {
          "start": 2
         },
         {
          "start": 63
         },
         {
          "start": 1
         },
         {
          "start": 2
         },
         {
          "start": 40
         },
         {
          "start": 1
         },
         {
          "start": 18
         },
         {
          "start": 2
         },
         {
          "start": 94
         },
         {
          "start": 62
         },
         {
          "start": 114
         },
         {
          "start": 6
         },
         {
          "start": 1
         },
         {
          "start": 11
         },
         {
          "start": 1
         },
         {
          "start": 51
         },
         {
          "start": 135
         },
         {
          "start": 10
         },
         {
          "start": 117
         },
         {
          "start": 3
         },
         {
          "start": 1
         },
         {
          "start": 17
         },
         {
          "start": 49
         },
         {
          "start": 98
         },
         {
          "start": 1
         },
         {
          "start": 41
         },
         {
          "start": 5
         },
         {
          "start": 19
         },
         {
          "start": 9
         },
         {
          "start": 1
         },
         {
          "start": 157
         },
         {
          "start": 146
         },
         {
          "start": 5
         },
         {
          "start": 4
         },
         {
          "start": 101
         },
         {
          "start": 1
         },
         {
          "start": 1
         },
         {
          "start": 41
         },
         {
          "start": 29
         },
         {
          "start": 1
         },
         {
          "start": 130
         },
         {
          "start": 28
         },
         {
          "start": 10
         },
         {
          "start": 1
         },
         {
          "start": 1
         },
         {
          "start": 6
         },
         {
          "start": 1
         },
         {
          "start": 21
         },
         {
          "start": 39
         },
         {
          "start": 12
         },
         {
          "start": 13
         },
         {
          "start": 23
         },
         {
          "start": 1
         },
         {
          "start": 78
         },
         {
          "start": 80
         },
         {
          "start": 1
         },
         {
          "start": 125
         },
         {
          "start": 81
         },
         {
          "start": 4
         },
         {
          "start": 13
         },
         {
          "start": 42
         },
         {
          "start": 125
         },
         {
          "start": 3
         },
         {
          "start": 1
         },
         {
          "start": 3
         },
         {
          "start": 1
         },
         {
          "start": 94
         },
         {
          "start": 122
         },
         {
          "start": 74
         },
         {
          "start": 68
         },
         {
          "start": 1
         },
         {
          "start": 24
         },
         {
          "start": 1
         },
         {
          "start": 3
         },
         {
          "start": 12
         },
         {
          "start": 80
         },
         {
          "start": 2
         },
         {
          "start": 30
         },
         {
          "start": 29
         },
         {
          "start": 76
         },
         {
          "start": 1
         },
         {
          "start": 92
         },
         {
          "start": 1
         },
         {
          "start": 89
         },
         {
          "start": 95
         },
         {
          "start": 2
         },
         {
          "start": 59
         },
         {
          "start": 1
         },
         {
          "start": 68
         },
         {
          "start": 79
         },
         {
          "start": 6
         },
         {
          "start": 61
         },
         {
          "start": 64
         },
         {
          "start": 2
         },
         {
          "start": 1
         },
         {
          "start": 19
         },
         {
          "start": 167
         },
         {
          "start": 1
         },
         {
          "start": 97
         },
         {
          "start": 1
         },
         {
          "start": 2
         },
         {
          "start": 108
         },
         {
          "start": 1
         },
         {
          "start": 197
         },
         {
          "start": 4
         },
         {
          "start": 52
         },
         {
          "start": 36
         },
         {
          "start": 48
         },
         {
          "start": 1
         },
         {
          "start": 1
         },
         {
          "start": 10
         },
         {
          "start": 139
         },
         {
          "start": 20
         },
         {
          "start": 7
         },
         {
          "start": 56
         },
         {
          "start": 29
         },
         {
          "start": 1
         },
         {
          "start": 79
         },
         {
          "start": 26
         },
         {
          "start": 3
         },
         {
          "start": 1
         },
         {
          "start": 6
         },
         {
          "start": 69
         },
         {
          "start": 47
         },
         {
          "start": 1
         },
         {
          "start": 4
         },
         {
          "start": 93
         },
         {
          "start": 49
         },
         {
          "start": 32
         },
         {
          "start": 10
         },
         {
          "start": 1
         },
         {
          "start": 4
         },
         {
          "start": 1
         },
         {
          "start": 6
         },
         {
          "start": 65
         },
         {
          "start": 57
         },
         {
          "start": 3
         },
         {
          "start": 1
         },
         {
          "start": 88
         },
         {
          "start": 45
         },
         {
          "start": 6
         },
         {
          "start": 4
         },
         {
          "start": 1
         },
         {
          "start": 157
         },
         {
          "start": 124
         },
         {
          "start": 3
         },
         {
          "start": 80
         },
         {
          "start": 15
         },
         {
          "start": 5
         },
         {
          "start": 1
         },
         {
          "start": 77
         },
         {
          "start": 1
         },
         {
          "start": 112
         },
         {
          "start": 225
         },
         {
          "start": 2
         },
         {
          "start": 27
         },
         {
          "start": 69
         },
         {
          "start": 105
         },
         {
          "start": 79
         },
         {
          "start": 8
         },
         {
          "start": 36
         },
         {
          "start": 38
         },
         {
          "start": 87
         },
         {
          "start": 1
         },
         {
          "start": 1
         },
         {
          "start": 1
         },
         {
          "start": 38
         },
         {
          "start": 46
         },
         {
          "start": 233
         },
         {
          "start": 13
         },
         {
          "start": 1
         },
         {
          "start": 7
         },
         {
          "start": 106
         },
         {
          "start": 13
         },
         {
          "start": 83
         },
         {
          "start": 1
         },
         {
          "start": 77
         },
         {
          "start": 2
         },
         {
          "start": 66
         },
         {
          "start": 5
         },
         {
          "start": 94
         },
         {
          "start": 6
         },
         {
          "start": 25
         },
         {
          "start": 1
         },
         {
          "start": 14
         },
         {
          "start": 1
         },
         {
          "start": 2
         },
         {
          "start": 41
         },
         {
          "start": 67
         },
         {
          "start": 212
         },
         {
          "start": 31
         },
         {
          "start": 1
         },
         {
          "start": 6
         },
         {
          "start": 21
         },
         {
          "start": 3
         },
         {
          "start": 1
         },
         {
          "start": 1
         },
         {
          "start": 4
         },
         {
          "start": 39
         },
         {
          "start": 32
         },
         {
          "start": 139
         },
         {
          "start": 1
         },
         {
          "start": 2
         },
         {
          "start": 57
         },
         {
          "start": 78
         },
         {
          "start": 12
         },
         {
          "start": 98
         },
         {
          "start": 13
         },
         {
          "start": 52
         },
         {
          "start": 20
         },
         {
          "start": 4
         },
         {
          "start": 1
         },
         {
          "start": 175
         },
         {
          "start": 12
         },
         {
          "start": 82
         },
         {
          "start": 5
         },
         {
          "start": 129
         },
         {
          "start": 20
         },
         {
          "start": 204
         },
         {
          "start": 21
         },
         {
          "start": 20
         },
         {
          "start": 4
         },
         {
          "start": 2
         },
         {
          "start": 77
         },
         {
          "start": 87
         },
         {
          "start": 1
         },
         {
          "start": 158
         },
         {
          "start": 9
         },
         {
          "start": 13
         },
         {
          "start": 207
         },
         {
          "start": 1
         },
         {
          "start": 121
         },
         {
          "start": 97
         },
         {
          "start": 17
         },
         {
          "start": 2
         },
         {
          "start": 1
         },
         {
          "start": 1
         },
         {
          "start": 2
         },
         {
          "start": 66
         },
         {
          "start": 30
         },
         {
          "start": 3
         },
         {
          "start": 13
         },
         {
          "start": 2
         },
         {
          "start": 3
         },
         {
          "start": 2
         },
         {
          "start": 22
         },
         {
          "start": 45
         },
         {
          "start": 20
         },
         {
          "start": 5
         },
         {
          "start": 71
         },
         {
          "start": 1
         },
         {
          "start": 13
         },
         {
          "start": 1
         },
         {
          "start": 4
         },
         {
          "start": 134
         },
         {
          "start": 1
         },
         {
          "start": 2
         },
         {
          "start": 6
         },
         {
          "start": 2
         },
         {
          "start": 1
         },
         {
          "start": 123
         },
         {
          "start": 68
         },
         {
          "start": 235
         },
         {
          "start": 35
         },
         {
          "start": 1
         },
         {
          "start": 14
         },
         {
          "start": 143
         },
         {
          "start": 1
         },
         {
          "start": 49
         },
         {
          "start": 2
         },
         {
          "start": 1
         },
         {
          "start": 1
         },
         {
          "start": 1
         },
         {
          "start": 49
         },
         {
          "start": 85
         },
         {
          "start": 5
         },
         {
          "start": 2
         },
         {
          "start": 83
         },
         {
          "start": 57
         },
         {
          "start": 8
         },
         {
          "start": 109
         },
         {
          "start": 11
         },
         {
          "start": 1
         },
         {
          "start": 119
         },
         {
          "start": 138
         },
         {
          "start": 176
         },
         {
          "start": 15
         },
         {
          "start": 34
         },
         {
          "start": 23
         },
         {
          "start": 165
         },
         {
          "start": 15
         },
         {
          "start": 1
         },
         {
          "start": 52
         },
         {
          "start": 4
         },
         {
          "start": 69
         },
         {
          "start": 3
         },
         {
          "start": 1
         },
         {
          "start": 1
         },
         {
          "start": 2
         },
         {
          "start": 1
         },
         {
          "start": 2
         },
         {
          "start": 24
         },
         {
          "start": 108
         },
         {
          "start": 90
         },
         {
          "start": 1
         },
         {
          "start": 1
         },
         {
          "start": 2
         },
         {
          "start": 54
         },
         {
          "start": 8
         },
         {
          "start": 8
         },
         {
          "start": 68
         },
         {
          "start": 1
         },
         {
          "start": 56
         },
         {
          "start": 5
         },
         {
          "start": 99
         },
         {
          "start": 4
         },
         {
          "start": 91
         },
         {
          "start": 1
         },
         {
          "start": 2
         },
         {
          "start": 12
         },
         {
          "start": 6
         },
         {
          "start": 13
         },
         {
          "start": 13
         },
         {
          "start": 3
         },
         {
          "start": 1
         },
         {
          "start": 62
         },
         {
          "start": 57
         },
         {
          "start": 89
         },
         {
          "start": 65
         },
         {
          "start": 1
         },
         {
          "start": 16
         },
         {
          "start": 34
         },
         {
          "start": 22
         },
         {
          "start": 119
         },
         {
          "start": 118
         },
         {
          "start": 161
         },
         {
          "start": 16
         },
         {
          "start": 67
         },
         {
          "start": 20
         },
         {
          "start": 2
         },
         {
          "start": 1
         },
         {
          "start": 110
         },
         {
          "start": 65
         },
         {
          "start": 1
         },
         {
          "start": 2
         },
         {
          "start": 5
         },
         {
          "start": 6
         },
         {
          "start": 2
         },
         {
          "start": 1
         },
         {
          "start": 2
         },
         {
          "start": 1
         },
         {
          "start": 92
         },
         {
          "start": 36
         },
         {
          "start": 145
         },
         {
          "start": 11
         },
         {
          "start": 19
         },
         {
          "start": 125
         },
         {
          "start": 8
         },
         {
          "start": 1
         },
         {
          "start": 14
         },
         {
          "start": 85
         },
         {
          "start": 3
         },
         {
          "start": 2
         },
         {
          "start": 1
         },
         {
          "start": 6
         },
         {
          "start": 2
         },
         {
          "start": 57
         },
         {
          "start": 22
         },
         {
          "start": 80
         },
         {
          "start": 153
         },
         {
          "start": 11
         },
         {
          "start": 69
         },
         {
          "start": 78
         },
         {
          "start": 72
         },
         {
          "start": 225
         },
         {
          "start": 1
         },
         {
          "start": 189
         },
         {
          "start": 113
         },
         {
          "start": 1
         },
         {
          "start": 63
         },
         {
          "start": 3
         },
         {
          "start": 31
         },
         {
          "start": 14
         },
         {
          "start": 44
         },
         {
          "start": 85
         },
         {
          "start": 72
         },
         {
          "start": 1
         },
         {
          "start": 20
         },
         {
          "start": 1
         },
         {
          "start": 9
         },
         {
          "start": 5
         },
         {
          "start": 2
         },
         {
          "start": 36
         },
         {
          "start": 54
         },
         {
          "start": 9
         },
         {
          "start": 1
         },
         {
          "start": 3
         },
         {
          "start": 99
         },
         {
          "start": 22
         },
         {
          "start": 4
         },
         {
          "start": 37
         },
         {
          "start": 35
         },
         {
          "start": 145
         },
         {
          "start": 5
         },
         {
          "start": 13
         },
         {
          "start": 10
         },
         {
          "start": 13
         },
         {
          "start": 108
         },
         {
          "start": 23
         },
         {
          "start": 39
         },
         {
          "start": 5
         },
         {
          "start": 105
         },
         {
          "start": 19
         },
         {
          "start": 70
         },
         {
          "start": 1
         },
         {
          "start": 2
         },
         {
          "start": 95
         },
         {
          "start": 232
         },
         {
          "start": 39
         },
         {
          "start": 107
         },
         {
          "start": 99
         },
         {
          "start": 1
         },
         {
          "start": 1
         },
         {
          "start": 56
         },
         {
          "start": 2
         },
         {
          "start": 1
         },
         {
          "start": 20
         },
         {
          "start": 7
         },
         {
          "start": 1
         },
         {
          "start": 7
         },
         {
          "start": 1
         },
         {
          "start": 1
         },
         {
          "start": 1
         },
         {
          "start": 1
         },
         {
          "start": 1
         },
         {
          "start": 1
         },
         {
          "start": 9
         },
         {
          "start": 1
         },
         {
          "start": 3
         },
         {
          "start": 44
         },
         {
          "start": 61
         },
         {
          "start": 1
         },
         {
          "start": 3
         },
         {
          "start": 3
         },
         {
          "start": 1
         },
         {
          "start": 1
         },
         {
          "start": 8
         },
         {
          "start": 2
         },
         {
          "start": 103
         },
         {
          "start": 37
         },
         {
          "start": 2
         },
         {
          "start": 15
         },
         {
          "start": 4
         },
         {
          "start": 2
         },
         {
          "start": 110
         },
         {
          "start": 74
         },
         {
          "start": 11
         },
         {
          "start": 129
         },
         {
          "start": 131
         },
         {
          "start": 13
         },
         {
          "start": 8
         },
         {
          "start": 31
         },
         {
          "start": 186
         },
         {
          "start": 1
         },
         {
          "start": 114
         },
         {
          "start": 1
         },
         {
          "start": 1
         },
         {
          "start": 23
         },
         {
          "start": 1
         },
         {
          "start": 205
         },
         {
          "start": 5
         },
         {
          "start": 14
         },
         {
          "start": 31
         },
         {
          "start": 24
         },
         {
          "start": 42
         },
         {
          "start": 79
         },
         {
          "start": 1
         },
         {
          "start": 3
         },
         {
          "start": 4
         },
         {
          "start": 100
         },
         {
          "start": 118
         },
         {
          "start": 1
         },
         {
          "start": 1
         },
         {
          "start": 105
         },
         {
          "start": 2
         },
         {
          "start": 64
         },
         {
          "start": 1
         },
         {
          "start": 51
         },
         {
          "start": 2
         },
         {
          "start": 40
         },
         {
          "start": 166
         },
         {
          "start": 131
         },
         {
          "start": 77
         },
         {
          "start": 2
         },
         {
          "start": 1
         },
         {
          "start": 121
         },
         {
          "start": 161
         },
         {
          "start": 2
         },
         {
          "start": 161
         },
         {
          "start": 1
         },
         {
          "start": 81
         },
         {
          "start": 112
         },
         {
          "start": 13
         },
         {
          "start": 1
         },
         {
          "start": 2
         },
         {
          "start": 22
         },
         {
          "start": 121
         },
         {
          "start": 1
         },
         {
          "start": 6
         },
         {
          "start": 110
         },
         {
          "start": 8
         },
         {
          "start": 94
         },
         {
          "start": 1
         },
         {
          "start": 1
         },
         {
          "start": 1
         },
         {
          "start": 76
         },
         {
          "start": 1
         },
         {
          "start": 2
         },
         {
          "start": 2
         },
         {
          "start": 88
         },
         {
          "start": 1
         },
         {
          "start": 7
         },
         {
          "start": 111
         },
         {
          "start": 3
         },
         {
          "start": 111
         },
         {
          "start": 8
         },
         {
          "start": 38
         },
         {
          "start": 126
         },
         {
          "start": 16
         },
         {
          "start": 71
         },
         {
          "start": 23
         },
         {
          "start": 6
         },
         {
          "start": 7
         },
         {
          "start": 1
         },
         {
          "start": 81
         },
         {
          "start": 1
         },
         {
          "start": 140
         },
         {
          "start": 1
         },
         {
          "start": 16
         },
         {
          "start": 118
         },
         {
          "start": 2
         },
         {
          "start": 1
         },
         {
          "start": 37
         },
         {
          "start": 97
         },
         {
          "start": 4
         },
         {
          "start": 1
         },
         {
          "start": 78
         },
         {
          "start": 54
         },
         {
          "start": 2
         },
         {
          "start": 1
         },
         {
          "start": 37
         },
         {
          "start": 127
         },
         {
          "start": 28
         },
         {
          "start": 99
         },
         {
          "start": 133
         },
         {
          "start": 141
         },
         {
          "start": 72
         },
         {
          "start": 4
         },
         {
          "start": 129
         },
         {
          "start": 4
         },
         {
          "start": 7
         },
         {
          "start": 1
         },
         {
          "start": 122
         },
         {
          "start": 1
         },
         {
          "start": 239
         },
         {
          "start": 2
         },
         {
          "start": 37
         },
         {
          "start": 61
         },
         {
          "start": 7
         },
         {
          "start": 102
         },
         {
          "start": 22
         },
         {
          "start": 1
         },
         {
          "start": 33
         },
         {
          "start": 81
         },
         {
          "start": 122
         },
         {
          "start": 19
         },
         {
          "start": 1
         },
         {
          "start": 134
         },
         {
          "start": 3
         },
         {
          "start": 1
         },
         {
          "start": 1
         },
         {
          "start": 30
         },
         {
          "start": 10
         },
         {
          "start": 70
         },
         {
          "start": 119
         },
         {
          "start": 1
         },
         {
          "start": 1
         },
         {
          "start": 52
         },
         {
          "start": 150
         },
         {
          "start": 90
         },
         {
          "start": 2
         },
         {
          "start": 6
         },
         {
          "start": 2
         },
         {
          "start": 4
         },
         {
          "start": 2
         },
         {
          "start": 51
         },
         {
          "start": 77
         },
         {
          "start": 10
         },
         {
          "start": 34
         },
         {
          "start": 1
         },
         {
          "start": 2
         },
         {
          "start": 153
         },
         {
          "start": 11
         },
         {
          "start": 190
         },
         {
          "start": 111
         },
         {
          "start": 12
         },
         {
          "start": 2
         },
         {
          "start": 30
         },
         {
          "start": 131
         },
         {
          "start": 135
         },
         {
          "start": 4
         },
         {
          "start": 4
         },
         {
          "start": 186
         },
         {
          "start": 1
         },
         {
          "start": 3
         },
         {
          "start": 14
         },
         {
          "start": 1
         },
         {
          "start": 15
         },
         {
          "start": 1
         },
         {
          "start": 2
         },
         {
          "start": 41
         },
         {
          "start": 150
         },
         {
          "start": 88
         },
         {
          "start": 163
         },
         {
          "start": 119
         },
         {
          "start": 1
         },
         {
          "start": 131
         },
         {
          "start": 4
         },
         {
          "start": 3
         },
         {
          "start": 31
         },
         {
          "start": 1
         },
         {
          "start": 3
         },
         {
          "start": 12
         },
         {
          "start": 1
         },
         {
          "start": 68
         },
         {
          "start": 1
         },
         {
          "start": 12
         },
         {
          "start": 24
         },
         {
          "start": 1
         },
         {
          "start": 3
         },
         {
          "start": 1
         },
         {
          "start": 134
         },
         {
          "start": 1
         },
         {
          "start": 1
         },
         {
          "start": 41
         },
         {
          "start": 1
         },
         {
          "start": 3
         },
         {
          "start": 1
         },
         {
          "start": 2
         },
         {
          "start": 2
         },
         {
          "start": 53
         },
         {
          "start": 153
         },
         {
          "start": 9
         },
         {
          "start": 104
         },
         {
          "start": 5
         },
         {
          "start": 11
         },
         {
          "start": 62
         },
         {
          "start": 1
         },
         {
          "start": 185
         },
         {
          "start": 4
         },
         {
          "start": 34
         },
         {
          "start": 1
         },
         {
          "start": 56
         },
         {
          "start": 39
         },
         {
          "start": 26
         },
         {
          "start": 50
         },
         {
          "start": 92
         },
         {
          "start": 206
         },
         {
          "start": 18
         },
         {
          "start": 1
         },
         {
          "start": 1
         },
         {
          "start": 93
         },
         {
          "start": 43
         },
         {
          "start": 2
         },
         {
          "start": 16
         },
         {
          "start": 22
         },
         {
          "start": 34
         },
         {
          "start": 22
         },
         {
          "start": 131
         },
         {
          "start": 230
         },
         {
          "start": 39
         },
         {
          "start": 42
         },
         {
          "start": 120
         },
         {
          "start": 100
         },
         {
          "start": 1
         },
         {
          "start": 89
         },
         {
          "start": 20
         },
         {
          "start": 1
         },
         {
          "start": 1
         },
         {
          "start": 1
         },
         {
          "start": 99
         },
         {
          "start": 4
         },
         {
          "start": 1
         },
         {
          "start": 74
         },
         {
          "start": 132
         },
         {
          "start": 2
         },
         {
          "start": 1
         },
         {
          "start": 31
         },
         {
          "start": 59
         },
         {
          "start": 1
         },
         {
          "start": 29
         },
         {
          "start": 26
         },
         {
          "start": 27
         },
         {
          "start": 1
         },
         {
          "start": 2
         },
         {
          "start": 2
         },
         {
          "start": 105
         },
         {
          "start": 94
         },
         {
          "start": 2
         },
         {
          "start": 27
         },
         {
          "start": 80
         },
         {
          "start": 1
         },
         {
          "start": 1
         },
         {
          "start": 3
         },
         {
          "start": 218
         },
         {
          "start": 62
         },
         {
          "start": 5
         },
         {
          "start": 1
         },
         {
          "start": 2
         },
         {
          "start": 160
         },
         {
          "start": 4
         },
         {
          "start": 53
         },
         {
          "start": 8
         },
         {
          "start": 4
         },
         {
          "start": 1
         },
         {
          "start": 4
         },
         {
          "start": 148
         },
         {
          "start": 2
         },
         {
          "start": 2
         },
         {
          "start": 2
         },
         {
          "start": 1
         },
         {
          "start": 24
         },
         {
          "start": 1
         },
         {
          "start": 4
         },
         {
          "start": 11
         },
         {
          "start": 48
         },
         {
          "start": 190
         },
         {
          "start": 1
         },
         {
          "start": 4
         },
         {
          "start": 69
         },
         {
          "start": 1
         },
         {
          "start": 188
         },
         {
          "start": 106
         },
         {
          "start": 144
         },
         {
          "start": 1
         },
         {
          "start": 1
         },
         {
          "start": 92
         },
         {
          "start": 41
         },
         {
          "start": 14
         },
         {
          "start": 118
         },
         {
          "start": 1
         },
         {
          "start": 123
         },
         {
          "start": 16
         },
         {
          "start": 86
         },
         {
          "start": 99
         },
         {
          "start": 1
         },
         {
          "start": 60
         },
         {
          "start": 49
         },
         {
          "start": 7
         },
         {
          "start": 1
         },
         {
          "start": 123
         },
         {
          "start": 2
         },
         {
          "start": 28
         },
         {
          "start": 80
         },
         {
          "start": 7
         },
         {
          "start": 10
         },
         {
          "start": 39
         },
         {
          "start": 76
         },
         {
          "start": 212
         },
         {
          "start": 9
         },
         {
          "start": 2
         },
         {
          "start": 110
         },
         {
          "start": 135
         },
         {
          "start": 32
         },
         {
          "start": 84
         },
         {
          "start": 149
         },
         {
          "start": 1
         },
         {
          "start": 51
         },
         {
          "start": 2
         },
         {
          "start": 48
         },
         {
          "start": 36
         },
         {
          "start": 188
         },
         {
          "start": 89
         },
         {
          "start": 100
         },
         {
          "start": 122
         },
         {
          "start": 12
         },
         {
          "start": 3
         },
         {
          "start": 131
         },
         {
          "start": 82
         },
         {
          "start": 1
         },
         {
          "start": 1
         },
         {
          "start": 208
         },
         {
          "start": 26
         },
         {
          "start": 3
         },
         {
          "start": 22
         },
         {
          "start": 19
         },
         {
          "start": 101
         },
         {
          "start": 21
         },
         {
          "start": 14
         },
         {
          "start": 7
         },
         {
          "start": 2
         },
         {
          "start": 24
         },
         {
          "start": 112
         },
         {
          "start": 4
         },
         {
          "start": 2
         },
         {
          "start": 70
         },
         {
          "start": 3
         },
         {
          "start": 1
         },
         {
          "start": 19
         },
         {
          "start": 47
         },
         {
          "start": 102
         },
         {
          "start": 120
         },
         {
          "start": 6
         },
         {
          "start": 3
         },
         {
          "start": 1
         },
         {
          "start": 115
         },
         {
          "start": 198
         },
         {
          "start": 126
         },
         {
          "start": 64
         },
         {
          "start": 90
         },
         {
          "start": 18
         },
         {
          "start": 30
         },
         {
          "start": 87
         },
         {
          "start": 1
         },
         {
          "start": 2
         },
         {
          "start": 4
         },
         {
          "start": 138
         },
         {
          "start": 182
         },
         {
          "start": 55
         },
         {
          "start": 2
         },
         {
          "start": 1
         },
         {
          "start": 26
         },
         {
          "start": 20
         },
         {
          "start": 181
         },
         {
          "start": 65
         },
         {
          "start": 189
         },
         {
          "start": 60
         },
         {
          "start": 1
         },
         {
          "start": 2
         },
         {
          "start": 92
         },
         {
          "start": 154
         },
         {
          "start": 70
         },
         {
          "start": 2
         },
         {
          "start": 129
         },
         {
          "start": 139
         },
         {
          "start": 15
         },
         {
          "start": 149
         },
         {
          "start": 2
         },
         {
          "start": 95
         },
         {
          "start": 1
         },
         {
          "start": 91
         },
         {
          "start": 3
         },
         {
          "start": 89
         },
         {
          "start": 1
         },
         {
          "start": 91
         },
         {
          "start": 40
         },
         {
          "start": 1
         },
         {
          "start": 169
         },
         {
          "start": 137
         },
         {
          "start": 9
         },
         {
          "start": 11
         },
         {
          "start": 10
         },
         {
          "start": 1
         },
         {
          "start": 123
         },
         {
          "start": 1
         },
         {
          "start": 5
         },
         {
          "start": 3
         },
         {
          "start": 13
         },
         {
          "start": 3
         },
         {
          "start": 15
         },
         {
          "start": 78
         },
         {
          "start": 116
         },
         {
          "start": 1
         },
         {
          "start": 3
         },
         {
          "start": 6
         },
         {
          "start": 108
         },
         {
          "start": 98
         },
         {
          "start": 5
         },
         {
          "start": 12
         },
         {
          "start": 107
         },
         {
          "start": 80
         },
         {
          "start": 8
         },
         {
          "start": 67
         },
         {
          "start": 1
         },
         {
          "start": 1
         },
         {
          "start": 6
         },
         {
          "start": 1
         },
         {
          "start": 124
         },
         {
          "start": 100
         },
         {
          "start": 1
         },
         {
          "start": 23
         },
         {
          "start": 61
         },
         {
          "start": 27
         },
         {
          "start": 59
         },
         {
          "start": 2
         },
         {
          "start": 17
         },
         {
          "start": 76
         },
         {
          "start": 59
         },
         {
          "start": 1
         },
         {
          "start": 114
         },
         {
          "start": 55
         },
         {
          "start": 8
         },
         {
          "start": 3
         },
         {
          "start": 76
         },
         {
          "start": 12
         },
         {
          "start": 25
         },
         {
          "start": 1
         },
         {
          "start": 3
         },
         {
          "start": 148
         },
         {
          "start": 3
         },
         {
          "start": 1
         },
         {
          "start": 34
         },
         {
          "start": 10
         },
         {
          "start": 3
         },
         {
          "start": 26
         },
         {
          "start": 2
         },
         {
          "start": 1
         },
         {
          "start": 1
         },
         {
          "start": 1
         },
         {
          "start": 123
         },
         {
          "start": 2
         },
         {
          "start": 12
         },
         {
          "start": 56
         },
         {
          "start": 3
         },
         {
          "start": 23
         },
         {
          "start": 66
         },
         {
          "start": 1
         },
         {
          "start": 109
         },
         {
          "start": 17
         },
         {
          "start": 36
         },
         {
          "start": 1
         },
         {
          "start": 20
         },
         {
          "start": 1
         },
         {
          "start": 11
         },
         {
          "start": 71
         },
         {
          "start": 46
         },
         {
          "start": 109
         },
         {
          "start": 1
         },
         {
          "start": 69
         },
         {
          "start": 172
         },
         {
          "start": 1
         },
         {
          "start": 218
         },
         {
          "start": 64
         },
         {
          "start": 67
         },
         {
          "start": 1
         },
         {
          "start": 1
         },
         {
          "start": 120
         },
         {
          "start": 53
         },
         {
          "start": 1
         },
         {
          "start": 1
         },
         {
          "start": 113
         },
         {
          "start": 1
         },
         {
          "start": 45
         },
         {
          "start": 14
         },
         {
          "start": 2
         },
         {
          "start": 5
         },
         {
          "start": 7
         },
         {
          "start": 6
         },
         {
          "start": 58
         },
         {
          "start": 26
         },
         {
          "start": 83
         },
         {
          "start": 5
         },
         {
          "start": 64
         },
         {
          "start": 2
         },
         {
          "start": 199
         },
         {
          "start": 27
         },
         {
          "start": 1
         },
         {
          "start": 1
         },
         {
          "start": 31
         },
         {
          "start": 1
         },
         {
          "start": 1
         },
         {
          "start": 40
         },
         {
          "start": 88
         },
         {
          "start": 3
         },
         {
          "start": 86
         },
         {
          "start": 131
         },
         {
          "start": 52
         },
         {
          "start": 1
         },
         {
          "start": 106
         },
         {
          "start": 1
         },
         {
          "start": 34
         },
         {
          "start": 76
         },
         {
          "start": 1
         },
         {
          "start": 1
         },
         {
          "start": 76
         },
         {
          "start": 1
         },
         {
          "start": 73
         },
         {
          "start": 29
         },
         {
          "start": 161
         },
         {
          "start": 1
         },
         {
          "start": 1
         },
         {
          "start": 37
         },
         {
          "start": 6
         },
         {
          "start": 32
         },
         {
          "start": 45
         },
         {
          "start": 1
         },
         {
          "start": 3
         },
         {
          "start": 23
         },
         {
          "start": 21
         },
         {
          "start": 23
         },
         {
          "start": 9
         },
         {
          "start": 55
         },
         {
          "start": 12
         },
         {
          "start": 2
         },
         {
          "start": 1
         },
         {
          "start": 24
         },
         {
          "start": 1
         },
         {
          "start": 115
         },
         {
          "start": 18
         },
         {
          "start": 127
         },
         {
          "start": 4
         },
         {
          "start": 3
         },
         {
          "start": 4
         },
         {
          "start": 11
         },
         {
          "start": 104
         },
         {
          "start": 8
         },
         {
          "start": 27
         },
         {
          "start": 59
         },
         {
          "start": 110
         },
         {
          "start": 8
         },
         {
          "start": 2
         },
         {
          "start": 104
         },
         {
          "start": 1
         },
         {
          "start": 134
         },
         {
          "start": 71
         },
         {
          "start": 116
         },
         {
          "start": 1
         },
         {
          "start": 1
         },
         {
          "start": 5
         },
         {
          "start": 2
         },
         {
          "start": 2
         },
         {
          "start": 51
         },
         {
          "start": 78
         },
         {
          "start": 174
         },
         {
          "start": 29
         },
         {
          "start": 75
         },
         {
          "start": 57
         },
         {
          "start": 40
         },
         {
          "start": 1
         },
         {
          "start": 1
         },
         {
          "start": 90
         },
         {
          "start": 1
         },
         {
          "start": 1
         },
         {
          "start": 79
         },
         {
          "start": 1
         },
         {
          "start": 105
         },
         {
          "start": 1
         },
         {
          "start": 1
         },
         {
          "start": 186
         },
         {
          "start": 5
         },
         {
          "start": 5
         },
         {
          "start": 40
         },
         {
          "start": 1
         },
         {
          "start": 23
         },
         {
          "start": 72
         },
         {
          "start": 1
         },
         {
          "start": 83
         },
         {
          "start": 40
         },
         {
          "start": 34
         },
         {
          "start": 2
         },
         {
          "start": 4
         },
         {
          "start": 1
         },
         {
          "start": 50
         },
         {
          "start": 40
         },
         {
          "start": 89
         },
         {
          "start": 103
         },
         {
          "start": 46
         },
         {
          "start": 1
         },
         {
          "start": 93
         },
         {
          "start": 102
         },
         {
          "start": 1
         },
         {
          "start": 10
         },
         {
          "start": 40
         },
         {
          "start": 2
         },
         {
          "start": 66
         },
         {
          "start": 1
         },
         {
          "start": 53
         },
         {
          "start": 1
         },
         {
          "start": 16
         },
         {
          "start": 42
         },
         {
          "start": 73
         },
         {
          "start": 167
         },
         {
          "start": 12
         },
         {
          "start": 39
         },
         {
          "start": 7
         },
         {
          "start": 59
         },
         {
          "start": 2
         },
         {
          "start": 173
         },
         {
          "start": 5
         },
         {
          "start": 1
         },
         {
          "start": 1
         },
         {
          "start": 74
         },
         {
          "start": 5
         },
         {
          "start": 1
         },
         {
          "start": 2
         },
         {
          "start": 26
         },
         {
          "start": 4
         },
         {
          "start": 3
         },
         {
          "start": 80
         },
         {
          "start": 10
         },
         {
          "start": 15
         },
         {
          "start": 44
         },
         {
          "start": 3
         },
         {
          "start": 143
         },
         {
          "start": 34
         },
         {
          "start": 2
         },
         {
          "start": 1
         },
         {
          "start": 15
         },
         {
          "start": 159
         },
         {
          "start": 33
         },
         {
          "start": 83
         },
         {
          "start": 93
         },
         {
          "start": 128
         },
         {
          "start": 9
         },
         {
          "start": 10
         },
         {
          "start": 1
         },
         {
          "start": 5
         },
         {
          "start": 173
         },
         {
          "start": 3
         },
         {
          "start": 2
         },
         {
          "start": 38
         },
         {
          "start": 1
         },
         {
          "start": 1
         },
         {
          "start": 1
         },
         {
          "start": 17
         },
         {
          "start": 74
         },
         {
          "start": 6
         },
         {
          "start": 1
         },
         {
          "start": 41
         },
         {
          "start": 89
         },
         {
          "start": 187
         },
         {
          "start": 122
         },
         {
          "start": 1
         },
         {
          "start": 191
         },
         {
          "start": 108
         },
         {
          "start": 1
         },
         {
          "start": 22
         },
         {
          "start": 25
         },
         {
          "start": 7
         },
         {
          "start": 70
         },
         {
          "start": 164
         },
         {
          "start": 29
         },
         {
          "start": 1
         },
         {
          "start": 20
         },
         {
          "start": 87
         },
         {
          "start": 1
         },
         {
          "start": 69
         },
         {
          "start": 51
         },
         {
          "start": 114
         },
         {
          "start": 39
         },
         {
          "start": 76
         },
         {
          "start": 1
         },
         {
          "start": 1
         },
         {
          "start": 107
         },
         {
          "start": 2
         },
         {
          "start": 1
         },
         {
          "start": 49
         },
         {
          "start": 6
         },
         {
          "start": 2
         },
         {
          "start": 1
         },
         {
          "start": 20
         },
         {
          "start": 70
         },
         {
          "start": 105
         },
         {
          "start": 120
         },
         {
          "start": 40
         },
         {
          "start": 29
         },
         {
          "start": 3
         },
         {
          "start": 1
         },
         {
          "start": 67
         },
         {
          "start": 1
         },
         {
          "start": 52
         },
         {
          "start": 107
         },
         {
          "start": 109
         },
         {
          "start": 92
         },
         {
          "start": 128
         },
         {
          "start": 74
         },
         {
          "start": 2
         },
         {
          "start": 141
         },
         {
          "start": 7
         },
         {
          "start": 10
         },
         {
          "start": 1
         },
         {
          "start": 36
         },
         {
          "start": 212
         },
         {
          "start": 9
         },
         {
          "start": 149
         },
         {
          "start": 91
         },
         {
          "start": 2
         },
         {
          "start": 14
         },
         {
          "start": 216
         },
         {
          "start": 15
         },
         {
          "start": 56
         },
         {
          "start": 8
         },
         {
          "start": 2
         },
         {
          "start": 1
         },
         {
          "start": 46
         },
         {
          "start": 1
         },
         {
          "start": 2
         },
         {
          "start": 79
         },
         {
          "start": 10
         },
         {
          "start": 98
         },
         {
          "start": 1
         },
         {
          "start": 115
         },
         {
          "start": 69
         },
         {
          "start": 1
         },
         {
          "start": 7
         },
         {
          "start": 9
         },
         {
          "start": 1
         },
         {
          "start": 29
         },
         {
          "start": 2
         },
         {
          "start": 74
         },
         {
          "start": 158
         },
         {
          "start": 6
         },
         {
          "start": 40
         },
         {
          "start": 1
         },
         {
          "start": 6
         },
         {
          "start": 2
         },
         {
          "start": 28
         },
         {
          "start": 23
         },
         {
          "start": 1
         },
         {
          "start": 2
         },
         {
          "start": 37
         },
         {
          "start": 1
         },
         {
          "start": 2
         },
         {
          "start": 3
         },
         {
          "start": 101
         },
         {
          "start": 1
         },
         {
          "start": 40
         },
         {
          "start": 89
         },
         {
          "start": 1
         },
         {
          "start": 109
         },
         {
          "start": 2
         },
         {
          "start": 148
         },
         {
          "start": 15
         },
         {
          "start": 38
         },
         {
          "start": 5
         },
         {
          "start": 2
         },
         {
          "start": 51
         },
         {
          "start": 1
         },
         {
          "start": 1
         },
         {
          "start": 43
         },
         {
          "start": 138
         },
         {
          "start": 151
         },
         {
          "start": 1
         },
         {
          "start": 46
         },
         {
          "start": 9
         },
         {
          "start": 13
         },
         {
          "start": 2
         },
         {
          "start": 121
         },
         {
          "start": 10
         },
         {
          "start": 41
         },
         {
          "start": 1
         },
         {
          "start": 8
         },
         {
          "start": 1
         },
         {
          "start": 4
         },
         {
          "start": 125
         },
         {
          "start": 10
         },
         {
          "start": 1
         },
         {
          "start": 37
         },
         {
          "start": 10
         },
         {
          "start": 1
         },
         {
          "start": 8
         },
         {
          "start": 35
         },
         {
          "start": 66
         },
         {
          "start": 1
         },
         {
          "start": 5
         },
         {
          "start": 19
         },
         {
          "start": 53
         },
         {
          "start": 11
         },
         {
          "start": 71
         },
         {
          "start": 237
         },
         {
          "start": 1
         },
         {
          "start": 121
         },
         {
          "start": 13
         },
         {
          "start": 1
         },
         {
          "start": 7
         },
         {
          "start": 7
         },
         {
          "start": 2
         },
         {
          "start": 1
         },
         {
          "start": 88
         },
         {
          "start": 15
         },
         {
          "start": 6
         },
         {
          "start": 1
         },
         {
          "start": 162
         },
         {
          "start": 71
         },
         {
          "start": 1
         },
         {
          "start": 131
         },
         {
          "start": 20
         },
         {
          "start": 109
         },
         {
          "start": 22
         },
         {
          "start": 1
         },
         {
          "start": 3
         },
         {
          "start": 165
         },
         {
          "start": 15
         },
         {
          "start": 12
         },
         {
          "start": 52
         },
         {
          "start": 5
         },
         {
          "start": 55
         },
         {
          "start": 13
         },
         {
          "start": 79
         },
         {
          "start": 1
         },
         {
          "start": 71
         },
         {
          "start": 2
         },
         {
          "start": 191
         },
         {
          "start": 110
         },
         {
          "start": 166
         },
         {
          "start": 2
         },
         {
          "start": 11
         },
         {
          "start": 3
         },
         {
          "start": 2
         },
         {
          "start": 58
         },
         {
          "start": 2
         },
         {
          "start": 1
         },
         {
          "start": 9
         },
         {
          "start": 8
         },
         {
          "start": 1
         },
         {
          "start": 17
         },
         {
          "start": 5
         },
         {
          "start": 8
         },
         {
          "start": 2
         },
         {
          "start": 47
         },
         {
          "start": 42
         },
         {
          "start": 1
         },
         {
          "start": 4
         },
         {
          "start": 20
         },
         {
          "start": 80
         },
         {
          "start": 5
         },
         {
          "start": 1
         },
         {
          "start": 118
         },
         {
          "start": 2
         },
         {
          "start": 163
         },
         {
          "start": 70
         },
         {
          "start": 156
         },
         {
          "start": 5
         },
         {
          "start": 118
         },
         {
          "start": 3
         },
         {
          "start": 91
         },
         {
          "start": 16
         },
         {
          "start": 44
         },
         {
          "start": 94
         },
         {
          "start": 72
         },
         {
          "start": 11
         },
         {
          "start": 95
         },
         {
          "start": 1
         },
         {
          "start": 162
         },
         {
          "start": 77
         },
         {
          "start": 8
         },
         {
          "start": 58
         },
         {
          "start": 110
         },
         {
          "start": 151
         },
         {
          "start": 62
         },
         {
          "start": 57
         },
         {
          "start": 127
         },
         {
          "start": 172
         },
         {
          "start": 3
         },
         {
          "start": 3
         },
         {
          "start": 117
         },
         {
          "start": 202
         },
         {
          "start": 211
         },
         {
          "start": 45
         },
         {
          "start": 1
         },
         {
          "start": 29
         },
         {
          "start": 11
         },
         {
          "start": 2
         },
         {
          "start": 12
         },
         {
          "start": 161
         },
         {
          "start": 10
         },
         {
          "start": 100
         },
         {
          "start": 120
         },
         {
          "start": 130
         },
         {
          "start": 66
         },
         {
          "start": 1
         },
         {
          "start": 42
         },
         {
          "start": 30
         },
         {
          "start": 102
         },
         {
          "start": 1
         },
         {
          "start": 21
         },
         {
          "start": 1
         },
         {
          "start": 1
         },
         {
          "start": 2
         },
         {
          "start": 1
         },
         {
          "start": 1
         },
         {
          "start": 50
         },
         {
          "start": 9
         },
         {
          "start": 1
         },
         {
          "start": 16
         },
         {
          "start": 57
         },
         {
          "start": 4
         },
         {
          "start": 130
         },
         {
          "start": 26
         },
         {
          "start": 2
         },
         {
          "start": 61
         },
         {
          "start": 4
         },
         {
          "start": 18
         },
         {
          "start": 44
         },
         {
          "start": 6
         },
         {
          "start": 99
         },
         {
          "start": 1
         },
         {
          "start": 211
         },
         {
          "start": 5
         },
         {
          "start": 27
         },
         {
          "start": 101
         },
         {
          "start": 1
         },
         {
          "start": 38
         },
         {
          "start": 1
         },
         {
          "start": 86
         },
         {
          "start": 1
         },
         {
          "start": 6
         },
         {
          "start": 7
         },
         {
          "start": 74
         },
         {
          "start": 1
         },
         {
          "start": 121
         },
         {
          "start": 5
         },
         {
          "start": 97
         },
         {
          "start": 1
         },
         {
          "start": 6
         },
         {
          "start": 7
         },
         {
          "start": 4
         },
         {
          "start": 1
         },
         {
          "start": 62
         },
         {
          "start": 72
         },
         {
          "start": 6
         },
         {
          "start": 1
         },
         {
          "start": 1
         },
         {
          "start": 1
         },
         {
          "start": 156
         },
         {
          "start": 11
         },
         {
          "start": 106
         },
         {
          "start": 1
         },
         {
          "start": 3
         },
         {
          "start": 94
         },
         {
          "start": 3
         },
         {
          "start": 121
         },
         {
          "start": 2
         },
         {
          "start": 1
         },
         {
          "start": 84
         },
         {
          "start": 3
         },
         {
          "start": 1
         },
         {
          "start": 116
         },
         {
          "start": 229
         },
         {
          "start": 50
         },
         {
          "start": 213
         },
         {
          "start": 2
         },
         {
          "start": 169
         },
         {
          "start": 9
         },
         {
          "start": 6
         },
         {
          "start": 29
         },
         {
          "start": 126
         },
         {
          "start": 1
         },
         {
          "start": 11
         },
         {
          "start": 1
         },
         {
          "start": 13
         },
         {
          "start": 1
         },
         {
          "start": 60
         },
         {
          "start": 116
         },
         {
          "start": 111
         },
         {
          "start": 6
         },
         {
          "start": 3
         },
         {
          "start": 115
         },
         {
          "start": 6
         },
         {
          "start": 19
         },
         {
          "start": 6
         },
         {
          "start": 105
         },
         {
          "start": 69
         },
         {
          "start": 5
         },
         {
          "start": 128
         },
         {
          "start": 5
         },
         {
          "start": 1
         },
         {
          "start": 1
         },
         {
          "start": 23
         },
         {
          "start": 16
         },
         {
          "start": 1
         },
         {
          "start": 75
         },
         {
          "start": 1
         },
         {
          "start": 8
         },
         {
          "start": 162
         },
         {
          "start": 1
         },
         {
          "start": 1
         },
         {
          "start": 128
         },
         {
          "start": 93
         },
         {
          "start": 42
         },
         {
          "start": 154
         },
         {
          "start": 146
         },
         {
          "start": 1
         },
         {
          "start": 3
         },
         {
          "start": 1
         },
         {
          "start": 1
         },
         {
          "start": 29
         },
         {
          "start": 151
         },
         {
          "start": 5
         },
         {
          "start": 1
         },
         {
          "start": 1
         },
         {
          "start": 2
         },
         {
          "start": 125
         },
         {
          "start": 11
         },
         {
          "start": 91
         },
         {
          "start": 1
         },
         {
          "start": 1
         },
         {
          "start": 42
         },
         {
          "start": 15
         },
         {
          "start": 4
         },
         {
          "start": 7
         },
         {
          "start": 1
         },
         {
          "start": 1
         },
         {
          "start": 1
         },
         {
          "start": 3
         }
        ]
       },
       "encoding": {
        "x": {
         "bin": {
          "maxbins": 100
         },
         "field": "start",
         "type": "quantitative"
        },
        "y": {
         "aggregate": "count",
         "type": "quantitative"
        }
       },
       "mark": "bar",
       "width": 900
      },
      "image/png": "[encoded data removed]",
      "text/plain": [
       "<VegaLite 2 object>\n",
       "\n",
       "If you see this message, it means the renderer has not been properly enabled\n",
       "for the frontend that you are using. For more information, see\n",
       "https://altair-viz.github.io/user_guide/troubleshooting.html\n"
      ]
     },
     "execution_count": 20,
     "metadata": {},
     "output_type": "execute_result"
    }
   ],
   "source": [
    "outlier_cutoff = user_starts_count.quantile(0.99)\n",
    "alt.Chart(user_starts_count[user_starts_count['start'] < outlier_cutoff['start']], width=900).mark_bar().encode(\n",
    "    alt.X('start', bin=alt.BinParams(maxbins=100)),\n",
    "    y='count()'\n",
    ")"
   ]
  },
  {
   "cell_type": "markdown",
   "metadata": {},
   "source": [
    "There's a lot of users who use the hub <5 times, and many who use it 5-10 times. We pick an arbitrary cut off of 'ten notebook server starts' to count as a 'real' user and not someone just trying out the hub."
   ]
  },
  {
   "cell_type": "code",
   "execution_count": 21,
   "metadata": {},
   "outputs": [
    {
     "data": {
      "text/html": [
       "<h4>Users who used the hub more than 10 times: <b>2646"
      ],
      "text/plain": [
       "<IPython.core.display.HTML object>"
      ]
     },
     "execution_count": 21,
     "metadata": {},
     "output_type": "execute_result"
    }
   ],
   "source": [
    "users_with_more_than_ten_starts = user_starts_count[user_starts_count['start'] > 10]\n",
    "display.HTML(f'<h4>Users who used the hub more than 10 times: <b>{users_with_more_than_ten_starts.count()[\"start\"]}')"
   ]
  },
  {
   "cell_type": "markdown",
   "metadata": {},
   "source": [
    "We can use this to plot a daily and monthly cost per user"
   ]
  },
  {
   "cell_type": "code",
   "execution_count": 22,
   "metadata": {},
   "outputs": [
    {
     "data": {
      "application/vnd.vegalite.v2+json": {
       "$schema": "https://vega.github.io/schema/vega-lite/v2.6.0.json",
       "config": {
        "axis": {
         "labelFontSize": 20,
         "titleFontSize": 20
        }
       },
       "data": {
        "name": "data-30259d427312df51d5e08a1f54864043"
       },
       "datasets": {
        "data-30259d427312df51d5e08a1f54864043": [
         {
          "cost": null,
          "cost_per_active_user": null,
          "cost_per_realistic_user": null,
          "cost_per_user": null,
          "start": "2018-08-17T00:00:00-07:00",
          "user": 13
         },
         {
          "cost": null,
          "cost_per_active_user": null,
          "cost_per_realistic_user": null,
          "cost_per_user": null,
          "start": "2018-08-18T00:00:00-07:00",
          "user": 38
         },
         {
          "cost": null,
          "cost_per_active_user": null,
          "cost_per_realistic_user": null,
          "cost_per_user": null,
          "start": "2018-08-19T00:00:00-07:00",
          "user": 24
         },
         {
          "cost": null,
          "cost_per_active_user": null,
          "cost_per_realistic_user": null,
          "cost_per_user": null,
          "start": "2018-08-20T00:00:00-07:00",
          "user": 53
         },
         {
          "cost": null,
          "cost_per_active_user": null,
          "cost_per_realistic_user": null,
          "cost_per_user": null,
          "start": "2018-08-21T00:00:00-07:00",
          "user": 135
         },
         {
          "cost": null,
          "cost_per_active_user": null,
          "cost_per_realistic_user": null,
          "cost_per_user": null,
          "start": "2018-08-22T00:00:00-07:00",
          "user": 1176
         },
         {
          "cost": null,
          "cost_per_active_user": null,
          "cost_per_realistic_user": null,
          "cost_per_user": null,
          "start": "2018-08-23T00:00:00-07:00",
          "user": 1184
         },
         {
          "cost": null,
          "cost_per_active_user": null,
          "cost_per_realistic_user": null,
          "cost_per_user": null,
          "start": "2018-08-24T00:00:00-07:00",
          "user": 1332
         },
         {
          "cost": null,
          "cost_per_active_user": null,
          "cost_per_realistic_user": null,
          "cost_per_user": null,
          "start": "2018-08-25T00:00:00-07:00",
          "user": 918
         },
         {
          "cost": null,
          "cost_per_active_user": null,
          "cost_per_realistic_user": null,
          "cost_per_user": null,
          "start": "2018-08-26T00:00:00-07:00",
          "user": 1133
         },
         {
          "cost": null,
          "cost_per_active_user": null,
          "cost_per_realistic_user": null,
          "cost_per_user": null,
          "start": "2018-08-27T00:00:00-07:00",
          "user": 1447
         },
         {
          "cost": null,
          "cost_per_active_user": null,
          "cost_per_realistic_user": null,
          "cost_per_user": null,
          "start": "2018-08-28T00:00:00-07:00",
          "user": 1276
         },
         {
          "cost": null,
          "cost_per_active_user": null,
          "cost_per_realistic_user": null,
          "cost_per_user": null,
          "start": "2018-08-29T00:00:00-07:00",
          "user": 1519
         },
         {
          "cost": null,
          "cost_per_active_user": null,
          "cost_per_realistic_user": null,
          "cost_per_user": null,
          "start": "2018-08-30T00:00:00-07:00",
          "user": 1236
         },
         {
          "cost": null,
          "cost_per_active_user": null,
          "cost_per_realistic_user": null,
          "cost_per_user": null,
          "start": "2018-08-31T00:00:00-07:00",
          "user": 1143
         },
         {
          "cost": null,
          "cost_per_active_user": null,
          "cost_per_realistic_user": null,
          "cost_per_user": null,
          "start": "2018-09-01T00:00:00-07:00",
          "user": 728
         },
         {
          "cost": null,
          "cost_per_active_user": null,
          "cost_per_realistic_user": null,
          "cost_per_user": null,
          "start": "2018-09-02T00:00:00-07:00",
          "user": 914
         },
         {
          "cost": null,
          "cost_per_active_user": null,
          "cost_per_realistic_user": null,
          "cost_per_user": null,
          "start": "2018-09-03T00:00:00-07:00",
          "user": 1202
         },
         {
          "cost": null,
          "cost_per_active_user": null,
          "cost_per_realistic_user": null,
          "cost_per_user": null,
          "start": "2018-09-04T00:00:00-07:00",
          "user": 1409
         },
         {
          "cost": null,
          "cost_per_active_user": null,
          "cost_per_realistic_user": null,
          "cost_per_user": null,
          "start": "2018-09-05T00:00:00-07:00",
          "user": 1586
         },
         {
          "cost": null,
          "cost_per_active_user": null,
          "cost_per_realistic_user": null,
          "cost_per_user": null,
          "start": "2018-09-06T00:00:00-07:00",
          "user": 1278
         },
         {
          "cost": null,
          "cost_per_active_user": null,
          "cost_per_realistic_user": null,
          "cost_per_user": null,
          "start": "2018-09-07T00:00:00-07:00",
          "user": 1011
         },
         {
          "cost": null,
          "cost_per_active_user": null,
          "cost_per_realistic_user": null,
          "cost_per_user": null,
          "start": "2018-09-08T00:00:00-07:00",
          "user": 815
         },
         {
          "cost": null,
          "cost_per_active_user": null,
          "cost_per_realistic_user": null,
          "cost_per_user": null,
          "start": "2018-09-09T00:00:00-07:00",
          "user": 971
         },
         {
          "cost": null,
          "cost_per_active_user": null,
          "cost_per_realistic_user": null,
          "cost_per_user": null,
          "start": "2018-09-10T00:00:00-07:00",
          "user": 1369
         },
         {
          "cost": null,
          "cost_per_active_user": null,
          "cost_per_realistic_user": null,
          "cost_per_user": null,
          "start": "2018-09-11T00:00:00-07:00",
          "user": 1417
         },
         {
          "cost": 40.156909999999996,
          "cost_per_active_user": 0.02689679169457468,
          "cost_per_realistic_user": 0.015176458805744518,
          "cost_per_user": 0.008279775257731959,
          "start": "2018-09-12T00:00:00-07:00",
          "user": 1493
         },
         {
          "cost": null,
          "cost_per_active_user": null,
          "cost_per_realistic_user": null,
          "cost_per_user": null,
          "start": "2018-09-12T00:00:00-07:00",
          "user": 1493
         },
         {
          "cost": 263.958762,
          "cost_per_active_user": 0.21832817369727045,
          "cost_per_realistic_user": 0.09975765759637187,
          "cost_per_user": 0.054424487010309275,
          "start": "2018-09-13T00:00:00-07:00",
          "user": 1209
         },
         {
          "cost": 233.378606,
          "cost_per_active_user": 0.2598870890868597,
          "cost_per_realistic_user": 0.0882005313681028,
          "cost_per_user": 0.048119300206185565,
          "start": "2018-09-14T00:00:00-07:00",
          "user": 898
         },
         {
          "cost": 220.49735600000002,
          "cost_per_active_user": 0.28341562467866327,
          "cost_per_realistic_user": 0.08333233408919125,
          "cost_per_user": 0.04546337237113403,
          "start": "2018-09-15T00:00:00-07:00",
          "user": 778
         },
         {
          "cost": 221.476064,
          "cost_per_active_user": 0.2103286457739791,
          "cost_per_realistic_user": 0.08370221617535903,
          "cost_per_user": 0.04566516783505155,
          "start": "2018-09-16T00:00:00-07:00",
          "user": 1053
         },
         {
          "cost": 254.118337,
          "cost_per_active_user": 0.17758094828791054,
          "cost_per_realistic_user": 0.0960386761148904,
          "cost_per_user": 0.05239553340206186,
          "start": "2018-09-17T00:00:00-07:00",
          "user": 1431
         },
         {
          "cost": 268.713372,
          "cost_per_active_user": 0.19963846359583953,
          "cost_per_realistic_user": 0.10155456235827665,
          "cost_per_user": 0.055404818969072164,
          "start": "2018-09-18T00:00:00-07:00",
          "user": 1346
         },
         {
          "cost": 277.049757,
          "cost_per_active_user": 0.18656549292929292,
          "cost_per_realistic_user": 0.10470512358276644,
          "cost_per_user": 0.057123661237113404,
          "start": "2018-09-19T00:00:00-07:00",
          "user": 1485
         },
         {
          "cost": 291.302796,
          "cost_per_active_user": 0.210783499276411,
          "cost_per_realistic_user": 0.1100917596371882,
          "cost_per_user": 0.06006243216494846,
          "start": "2018-09-20T00:00:00-07:00",
          "user": 1382
         },
         {
          "cost": 268.42976,
          "cost_per_active_user": 0.22184277685950413,
          "cost_per_realistic_user": 0.10144737717309145,
          "cost_per_user": 0.055346342268041235,
          "start": "2018-09-21T00:00:00-07:00",
          "user": 1210
         },
         {
          "cost": 246.082326,
          "cost_per_active_user": 0.2954169579831933,
          "cost_per_realistic_user": 0.09300163492063492,
          "cost_per_user": 0.050738623917525774,
          "start": "2018-09-22T00:00:00-07:00",
          "user": 833
         },
         {
          "cost": 244.174214,
          "cost_per_active_user": 0.28163115801614763,
          "cost_per_realistic_user": 0.09228050415721845,
          "cost_per_user": 0.0503451987628866,
          "start": "2018-09-23T00:00:00-07:00",
          "user": 867
         },
         {
          "cost": 245.52624400000002,
          "cost_per_active_user": 0.2068460353833193,
          "cost_per_realistic_user": 0.0927914754346183,
          "cost_per_user": 0.05062396783505155,
          "start": "2018-09-24T00:00:00-07:00",
          "user": 1187
         },
         {
          "cost": 254.888743,
          "cost_per_active_user": 0.20054189063729347,
          "cost_per_realistic_user": 0.09632983484504913,
          "cost_per_user": 0.05255438,
          "start": "2018-09-25T00:00:00-07:00",
          "user": 1271
         },
         {
          "cost": 277.179144,
          "cost_per_active_user": 0.1876636046039269,
          "cost_per_realistic_user": 0.10475402267573697,
          "cost_per_user": 0.057150338969072165,
          "start": "2018-09-26T00:00:00-07:00",
          "user": 1477
         },
         {
          "cost": 290.026115,
          "cost_per_active_user": 0.1991937603021978,
          "cost_per_realistic_user": 0.1096092649281935,
          "cost_per_user": 0.05979919896907217,
          "start": "2018-09-27T00:00:00-07:00",
          "user": 1456
         },
         {
          "cost": 268.253716,
          "cost_per_active_user": 0.2246681038525963,
          "cost_per_realistic_user": 0.10138084504913077,
          "cost_per_user": 0.05531004453608247,
          "start": "2018-09-28T00:00:00-07:00",
          "user": 1194
         },
         {
          "cost": 262.364679,
          "cost_per_active_user": 0.342066074315515,
          "cost_per_realistic_user": 0.09915520748299321,
          "cost_per_user": 0.054095810103092785,
          "start": "2018-09-29T00:00:00-07:00",
          "user": 767
         },
         {
          "cost": 244.44310099999998,
          "cost_per_active_user": 0.2454248002008032,
          "cost_per_realistic_user": 0.09238212433862433,
          "cost_per_user": 0.0504006393814433,
          "start": "2018-09-30T00:00:00-07:00",
          "user": 996
         },
         {
          "cost": 248.97004299999998,
          "cost_per_active_user": 0.1873363754702784,
          "cost_per_realistic_user": 0.09409298677248676,
          "cost_per_user": 0.051334029484536074,
          "start": "2018-10-01T00:00:00-07:00",
          "user": 1329
         },
         {
          "cost": 243.463813,
          "cost_per_active_user": 0.19384061544585987,
          "cost_per_realistic_user": 0.0920120230536659,
          "cost_per_user": 0.0501987243298969,
          "start": "2018-10-02T00:00:00-07:00",
          "user": 1256
         },
         {
          "cost": 304.920198,
          "cost_per_active_user": 0.2042332203616879,
          "cost_per_realistic_user": 0.11523817006802722,
          "cost_per_user": 0.06287014391752578,
          "start": "2018-10-03T00:00:00-07:00",
          "user": 1493
         },
         {
          "cost": 452.96205100000003,
          "cost_per_active_user": 0.3544303998435055,
          "cost_per_realistic_user": 0.17118747203325776,
          "cost_per_user": 0.09339423731958764,
          "start": "2018-10-04T00:00:00-07:00",
          "user": 1278
         },
         {
          "cost": 275.03173200000003,
          "cost_per_active_user": 0.31147421517553797,
          "cost_per_realistic_user": 0.10394245351473924,
          "cost_per_user": 0.05670757360824743,
          "start": "2018-10-05T00:00:00-07:00",
          "user": 883
         },
         {
          "cost": 181.814937,
          "cost_per_active_user": 0.2608535681492109,
          "cost_per_realistic_user": 0.06871312811791383,
          "cost_per_user": 0.037487615876288655,
          "start": "2018-10-06T00:00:00-07:00",
          "user": 697
         },
         {
          "cost": 173.638486,
          "cost_per_active_user": 0.193792953125,
          "cost_per_realistic_user": 0.06562301058201059,
          "cost_per_user": 0.03580174969072165,
          "start": "2018-10-07T00:00:00-07:00",
          "user": 896
         },
         {
          "cost": 197.120381,
          "cost_per_active_user": 0.15400029765625,
          "cost_per_realistic_user": 0.0744974984882842,
          "cost_per_user": 0.0406433775257732,
          "start": "2018-10-08T00:00:00-07:00",
          "user": 1280
         },
         {
          "cost": 212.07737500000002,
          "cost_per_active_user": 0.16363994984567903,
          "cost_per_realistic_user": 0.08015017951625095,
          "cost_per_user": 0.043727293814432994,
          "start": "2018-10-09T00:00:00-07:00",
          "user": 1296
         },
         {
          "cost": 219.799082,
          "cost_per_active_user": 0.1877020341588386,
          "cost_per_realistic_user": 0.08306843613000756,
          "cost_per_user": 0.04531939835051546,
          "start": "2018-10-10T00:00:00-07:00",
          "user": 1171
         },
         {
          "cost": 203.78078899999997,
          "cost_per_active_user": 0.22974158850056367,
          "cost_per_realistic_user": 0.07701465948601662,
          "cost_per_user": 0.04201665752577319,
          "start": "2018-10-11T00:00:00-07:00",
          "user": 887
         },
         {
          "cost": 206.12004299999998,
          "cost_per_active_user": 0.21927664148936168,
          "cost_per_realistic_user": 0.077898731292517,
          "cost_per_user": 0.042498977938144326,
          "start": "2018-10-12T00:00:00-07:00",
          "user": 940
         },
         {
          "cost": 202.40058399999998,
          "cost_per_active_user": 0.5782873828571428,
          "cost_per_realistic_user": 0.07649304006046863,
          "cost_per_user": 0.04173207917525773,
          "start": "2018-10-13T00:00:00-07:00",
          "user": 350
         },
         {
          "cost": 182.316341,
          "cost_per_active_user": 0.43408652619047616,
          "cost_per_realistic_user": 0.06890262320483749,
          "cost_per_user": 0.037590998144329896,
          "start": "2018-10-14T00:00:00-07:00",
          "user": 420
         },
         {
          "cost": 183.284113,
          "cost_per_active_user": 0.21613692570754717,
          "cost_per_realistic_user": 0.06926837226001512,
          "cost_per_user": 0.03779053876288659,
          "start": "2018-10-15T00:00:00-07:00",
          "user": 848
         },
         {
          "cost": 191.61486699999998,
          "cost_per_active_user": 0.24917407932379712,
          "cost_per_realistic_user": 0.07241680536659108,
          "cost_per_user": 0.03950822,
          "start": "2018-10-16T00:00:00-07:00",
          "user": 769
         },
         {
          "cost": 186.137944,
          "cost_per_active_user": 0.17915105293551492,
          "cost_per_realistic_user": 0.07034691761148903,
          "cost_per_user": 0.038378957525773194,
          "start": "2018-10-17T00:00:00-07:00",
          "user": 1039
         },
         {
          "cost": 185.817201,
          "cost_per_active_user": 0.18922321894093688,
          "cost_per_realistic_user": 0.07022569954648526,
          "cost_per_user": 0.03831282494845361,
          "start": "2018-10-18T00:00:00-07:00",
          "user": 982
         },
         {
          "cost": 185.48708799999997,
          "cost_per_active_user": 0.3086307620632279,
          "cost_per_realistic_user": 0.070100940287226,
          "cost_per_user": 0.038244760412371126,
          "start": "2018-10-19T00:00:00-07:00",
          "user": 601
         },
         {
          "cost": 149.516785,
          "cost_per_active_user": 0.23884470447284345,
          "cost_per_realistic_user": 0.056506721466364325,
          "cost_per_user": 0.030828203092783505,
          "start": "2018-10-20T00:00:00-07:00",
          "user": 626
         },
         {
          "cost": 121.764895,
          "cost_per_active_user": 0.14977231857318574,
          "cost_per_realistic_user": 0.046018478835978836,
          "cost_per_user": 0.02510616391752577,
          "start": "2018-10-21T00:00:00-07:00",
          "user": 813
         },
         {
          "cost": 142.410472,
          "cost_per_active_user": 0.1228735737704918,
          "cost_per_realistic_user": 0.05382104006046863,
          "cost_per_user": 0.029362983917525773,
          "start": "2018-10-22T00:00:00-07:00",
          "user": 1159
         },
         {
          "cost": 155.93802300000002,
          "cost_per_active_user": 0.1469726889726673,
          "cost_per_realistic_user": 0.05893349319727892,
          "cost_per_user": 0.032152169690721655,
          "start": "2018-10-23T00:00:00-07:00",
          "user": 1061
         },
         {
          "cost": 156.858114,
          "cost_per_active_user": 0.11276643709561467,
          "cost_per_realistic_user": 0.05928122222222222,
          "cost_per_user": 0.03234187917525773,
          "start": "2018-10-24T00:00:00-07:00",
          "user": 1391
         },
         {
          "cost": 156.38318199999998,
          "cost_per_active_user": 0.11937647480916029,
          "cost_per_realistic_user": 0.059101731670445946,
          "cost_per_user": 0.03224395505154639,
          "start": "2018-10-25T00:00:00-07:00",
          "user": 1310
         },
         {
          "cost": 155.87109700000002,
          "cost_per_active_user": 0.1409322757685353,
          "cost_per_realistic_user": 0.05890819992441422,
          "cost_per_user": 0.03213837051546392,
          "start": "2018-10-26T00:00:00-07:00",
          "user": 1106
         },
         {
          "cost": 145.873503,
          "cost_per_active_user": 0.22270763816793893,
          "cost_per_realistic_user": 0.055129819727891154,
          "cost_per_user": 0.030077010927835053,
          "start": "2018-10-27T00:00:00-07:00",
          "user": 655
         },
         {
          "cost": 143.64437099999998,
          "cost_per_active_user": 0.17390359685230022,
          "cost_per_realistic_user": 0.054287366213151916,
          "cost_per_user": 0.029617396082474223,
          "start": "2018-10-28T00:00:00-07:00",
          "user": 826
         },
         {
          "cost": 149.627417,
          "cost_per_active_user": 0.11922503346613547,
          "cost_per_realistic_user": 0.056548532501889646,
          "cost_per_user": 0.03085101381443299,
          "start": "2018-10-29T00:00:00-07:00",
          "user": 1255
         },
         {
          "cost": 168.580365,
          "cost_per_active_user": 0.14060080483736448,
          "cost_per_realistic_user": 0.06371140022675736,
          "cost_per_user": 0.034758838144329895,
          "start": "2018-10-30T00:00:00-07:00",
          "user": 1199
         },
         {
          "cost": 169.53366599999998,
          "cost_per_active_user": 0.12032197728885734,
          "cost_per_realistic_user": 0.06407168027210884,
          "cost_per_user": 0.034955395051546385,
          "start": "2018-10-31T00:00:00-07:00",
          "user": 1409
         },
         {
          "cost": 165.6526,
          "cost_per_active_user": 0.11600322128851541,
          "cost_per_realistic_user": 0.06260491307634165,
          "cost_per_user": 0.03415517525773196,
          "start": "2018-11-01T00:00:00-07:00",
          "user": 1428
         },
         {
          "cost": 174.670979,
          "cost_per_active_user": 0.15096886689714778,
          "cost_per_realistic_user": 0.06601321957671957,
          "cost_per_user": 0.03601463484536082,
          "start": "2018-11-02T00:00:00-07:00",
          "user": 1157
         },
         {
          "cost": 154.460981,
          "cost_per_active_user": 0.2511560666666667,
          "cost_per_realistic_user": 0.05837527626606198,
          "cost_per_user": 0.03184762494845361,
          "start": "2018-11-03T00:00:00-07:00",
          "user": 615
         },
         {
          "cost": 160.182685,
          "cost_per_active_user": 0.22981733859397416,
          "cost_per_realistic_user": 0.0605376738473167,
          "cost_per_user": 0.033027357731958765,
          "start": "2018-11-04T00:00:00-07:00",
          "user": 697
         },
         {
          "cost": 154.16036599999998,
          "cost_per_active_user": 0.15369926819541374,
          "cost_per_realistic_user": 0.05826166515495086,
          "cost_per_user": 0.0317856424742268,
          "start": "2018-11-05T00:00:00-08:00",
          "user": 1003
         },
         {
          "cost": 154.746287,
          "cost_per_active_user": 0.1444876629318394,
          "cost_per_realistic_user": 0.05848310166288737,
          "cost_per_user": 0.03190645092783505,
          "start": "2018-11-06T00:00:00-08:00",
          "user": 1071
         },
         {
          "cost": 170.92835399999998,
          "cost_per_active_user": 0.11723481069958847,
          "cost_per_realistic_user": 0.06459877324263039,
          "cost_per_user": 0.03524295958762886,
          "start": "2018-11-07T00:00:00-08:00",
          "user": 1458
         },
         {
          "cost": 177.70142,
          "cost_per_active_user": 0.14412118410381186,
          "cost_per_realistic_user": 0.06715851095993954,
          "cost_per_user": 0.03663946804123712,
          "start": "2018-11-08T00:00:00-08:00",
          "user": 1233
         },
         {
          "cost": 179.00012300000003,
          "cost_per_active_user": 0.2624635234604106,
          "cost_per_realistic_user": 0.067649328420257,
          "cost_per_user": 0.03690724185567011,
          "start": "2018-11-09T00:00:00-08:00",
          "user": 682
         },
         {
          "cost": 179.290468,
          "cost_per_active_user": 0.2924803719412724,
          "cost_per_realistic_user": 0.06775905820105821,
          "cost_per_user": 0.03696710680412371,
          "start": "2018-11-10T00:00:00-08:00",
          "user": 613
         },
         {
          "cost": 165.391022,
          "cost_per_active_user": 0.24215376573938505,
          "cost_per_realistic_user": 0.0625060551776266,
          "cost_per_user": 0.03410124164948453,
          "start": "2018-11-11T00:00:00-08:00",
          "user": 683
         },
         {
          "cost": 157.576163,
          "cost_per_active_user": 0.17705186853932586,
          "cost_per_realistic_user": 0.059552593726379444,
          "cost_per_user": 0.03248993051546392,
          "start": "2018-11-12T00:00:00-08:00",
          "user": 890
         },
         {
          "cost": 163.672754,
          "cost_per_active_user": 0.1422004813205908,
          "cost_per_realistic_user": 0.06185667195767196,
          "cost_per_user": 0.03374695958762886,
          "start": "2018-11-13T00:00:00-08:00",
          "user": 1151
         },
         {
          "cost": 183.722065,
          "cost_per_active_user": 0.12207446179401993,
          "cost_per_realistic_user": 0.06943388699924413,
          "cost_per_user": 0.037880838144329895,
          "start": "2018-11-14T00:00:00-08:00",
          "user": 1505
         },
         {
          "cost": 195.25908099999998,
          "cost_per_active_user": 0.1493948592195868,
          "cost_per_realistic_user": 0.07379405933484504,
          "cost_per_user": 0.040259604329896906,
          "start": "2018-11-15T00:00:00-08:00",
          "user": 1307
         },
         {
          "cost": 188.49224700000002,
          "cost_per_active_user": 0.21178904157303374,
          "cost_per_realistic_user": 0.0712366768707483,
          "cost_per_user": 0.03886438082474227,
          "start": "2018-11-16T00:00:00-08:00",
          "user": 890
         },
         {
          "cost": 180.42066499999999,
          "cost_per_active_user": 0.2377083860342556,
          "cost_per_realistic_user": 0.06818619236583522,
          "cost_per_user": 0.03720013711340206,
          "start": "2018-11-17T00:00:00-08:00",
          "user": 759
         },
         {
          "cost": 170.58507500000002,
          "cost_per_active_user": 0.23303971994535522,
          "cost_per_realistic_user": 0.06446903817082389,
          "cost_per_user": 0.035172180412371135,
          "start": "2018-11-18T00:00:00-08:00",
          "user": 732
         },
         {
          "cost": 169.096144,
          "cost_per_active_user": 0.20596363459196104,
          "cost_per_realistic_user": 0.06390632804232804,
          "cost_per_user": 0.03486518432989691,
          "start": "2018-11-19T00:00:00-08:00",
          "user": 821
         },
         {
          "cost": 168.46590500000002,
          "cost_per_active_user": 0.2587801920122888,
          "cost_per_realistic_user": 0.06366814247921392,
          "cost_per_user": 0.034735238144329904,
          "start": "2018-11-20T00:00:00-08:00",
          "user": 651
         },
         {
          "cost": 168.065076,
          "cost_per_active_user": 0.31297034636871507,
          "cost_per_realistic_user": 0.06351665759637189,
          "cost_per_user": 0.03465259298969072,
          "start": "2018-11-21T00:00:00-08:00",
          "user": 537
         },
         {
          "cost": 167.400497,
          "cost_per_active_user": 0.39295891314553993,
          "cost_per_realistic_user": 0.06326549395313681,
          "cost_per_user": 0.03451556639175258,
          "start": "2018-11-22T00:00:00-08:00",
          "user": 426
         },
         {
          "cost": 168.123972,
          "cost_per_active_user": 0.33895962096774196,
          "cost_per_realistic_user": 0.06353891609977325,
          "cost_per_user": 0.03466473649484536,
          "start": "2018-11-23T00:00:00-08:00",
          "user": 496
         },
         {
          "cost": 167.694091,
          "cost_per_active_user": 0.35229851050420163,
          "cost_per_realistic_user": 0.06337645162509448,
          "cost_per_user": 0.034576101237113396,
          "start": "2018-11-24T00:00:00-08:00",
          "user": 476
         },
         {
          "cost": 168.44466,
          "cost_per_active_user": 0.269511456,
          "cost_per_realistic_user": 0.06366011337868481,
          "cost_per_user": 0.03473085773195876,
          "start": "2018-11-25T00:00:00-08:00",
          "user": 625
         },
         {
          "cost": 172.00177,
          "cost_per_active_user": 0.1559399546690843,
          "cost_per_realistic_user": 0.06500444822373394,
          "cost_per_user": 0.0354642824742268,
          "start": "2018-11-26T00:00:00-08:00",
          "user": 1103
         },
         {
          "cost": 171.23877900000002,
          "cost_per_active_user": 0.1459836138107417,
          "cost_per_realistic_user": 0.0647160918367347,
          "cost_per_user": 0.03530696474226805,
          "start": "2018-11-27T00:00:00-08:00",
          "user": 1173
         },
         {
          "cost": 170.16072100000002,
          "cost_per_active_user": 0.11991594150810432,
          "cost_per_realistic_user": 0.06430866250944824,
          "cost_per_user": 0.035084684742268044,
          "start": "2018-11-28T00:00:00-08:00",
          "user": 1419
         },
         {
          "cost": 171.209544,
          "cost_per_active_user": 0.1276730380313199,
          "cost_per_realistic_user": 0.06470504308390022,
          "cost_per_user": 0.035300936907216494,
          "start": "2018-11-29T00:00:00-08:00",
          "user": 1341
         },
         {
          "cost": 170.10651,
          "cost_per_active_user": 0.1838989297297297,
          "cost_per_realistic_user": 0.0642881746031746,
          "cost_per_user": 0.03507350721649484,
          "start": "2018-11-30T00:00:00-08:00",
          "user": 925
         },
         {
          "cost": 162.890289,
          "cost_per_active_user": 0.3761900438799076,
          "cost_per_realistic_user": 0.06156095578231292,
          "cost_per_user": 0.033585626597938144,
          "start": "2018-12-01T00:00:00-08:00",
          "user": 433
         },
         {
          "cost": 164.59242200000003,
          "cost_per_active_user": 0.35094333049040516,
          "cost_per_realistic_user": 0.0622042411186697,
          "cost_per_user": 0.03393658185567011,
          "start": "2018-12-02T00:00:00-08:00",
          "user": 469
         },
         {
          "cost": 164.49821300000002,
          "cost_per_active_user": 0.26791239902280134,
          "cost_per_realistic_user": 0.062168636810279676,
          "cost_per_user": 0.03391715731958763,
          "start": "2018-12-03T00:00:00-08:00",
          "user": 614
         },
         {
          "cost": 164.51144,
          "cost_per_active_user": 0.36315991169977924,
          "cost_per_realistic_user": 0.06217363567649282,
          "cost_per_user": 0.033919884536082474,
          "start": "2018-12-04T00:00:00-08:00",
          "user": 453
         },
         {
          "cost": 165.150755,
          "cost_per_active_user": 0.3296422255489022,
          "cost_per_realistic_user": 0.062415251322751324,
          "cost_per_user": 0.03405170206185567,
          "start": "2018-12-05T00:00:00-08:00",
          "user": 501
         },
         {
          "cost": 165.040173,
          "cost_per_active_user": 0.3811551339491917,
          "cost_per_realistic_user": 0.06237345918367347,
          "cost_per_user": 0.034028901649484536,
          "start": "2018-12-06T00:00:00-08:00",
          "user": 433
         },
         {
          "cost": 164.40057099999999,
          "cost_per_active_user": 0.41515295707070704,
          "cost_per_realistic_user": 0.06213173507180649,
          "cost_per_user": 0.033897024948453605,
          "start": "2018-12-07T00:00:00-08:00",
          "user": 396
         },
         {
          "cost": 164.55875,
          "cost_per_active_user": 0.4956588855421687,
          "cost_per_realistic_user": 0.062191515495086926,
          "cost_per_user": 0.03392963917525773,
          "start": "2018-12-08T00:00:00-08:00",
          "user": 332
         },
         {
          "cost": 164.60581200000001,
          "cost_per_active_user": 0.5715479583333334,
          "cost_per_realistic_user": 0.06220930158730159,
          "cost_per_user": 0.03393934268041238,
          "start": "2018-12-09T00:00:00-08:00",
          "user": 288
         },
         {
          "cost": 164.520137,
          "cost_per_active_user": 0.5376475065359477,
          "cost_per_realistic_user": 0.06217692252456539,
          "cost_per_user": 0.03392167773195876,
          "start": "2018-12-10T00:00:00-08:00",
          "user": 306
         },
         {
          "cost": 164.85765,
          "cost_per_active_user": 0.5088199074074075,
          "cost_per_realistic_user": 0.062304478458049886,
          "cost_per_user": 0.033991268041237116,
          "start": "2018-12-11T00:00:00-08:00",
          "user": 324
         },
         {
          "cost": 164.251543,
          "cost_per_active_user": 0.35171636616702356,
          "cost_per_realistic_user": 0.062075413076341644,
          "cost_per_user": 0.03386629752577319,
          "start": "2018-12-12T00:00:00-08:00",
          "user": 467
         },
         {
          "cost": 164.572575,
          "cost_per_active_user": 0.29599383992805756,
          "cost_per_realistic_user": 0.062196740362811795,
          "cost_per_user": 0.03393248969072165,
          "start": "2018-12-13T00:00:00-08:00",
          "user": 556
         },
         {
          "cost": 162.11756,
          "cost_per_active_user": 0.8229317766497461,
          "cost_per_realistic_user": 0.06126891912320483,
          "cost_per_user": 0.033426301030927835,
          "start": "2018-12-14T00:00:00-08:00",
          "user": 197
         },
         {
          "cost": null,
          "cost_per_active_user": null,
          "cost_per_realistic_user": null,
          "cost_per_user": null,
          "start": "",
          "user": null
         },
         {
          "cost": null,
          "cost_per_active_user": null,
          "cost_per_realistic_user": null,
          "cost_per_user": null,
          "start": "",
          "user": null
         }
        ]
       },
       "encoding": {
        "x": {
         "field": "start",
         "type": "temporal"
        },
        "y": {
         "axis": {
          "format": "$.2f"
         },
         "field": "cost_per_realistic_user",
         "title": "Cost per realistic user",
         "type": "quantitative"
        }
       },
       "mark": "line",
       "title": "Daily cost per user (with >10 server starts)",
       "width": 900
      },
      "image/png": "[encoded data removed]",
      "text/plain": [
       "<VegaLite 2 object>\n",
       "\n",
       "If you see this message, it means the renderer has not been properly enabled\n",
       "for the frontend that you are using. For more information, see\n",
       "https://altair-viz.github.io/user_guide/troubleshooting.html\n"
      ]
     },
     "execution_count": 22,
     "metadata": {},
     "output_type": "execute_result"
    }
   ],
   "source": [
    "total['cost_per_realistic_user'] = total['cost'] / users_with_more_than_ten_starts.count()['start']\n",
    "\n",
    "alt.Chart(total, width=900, title='Daily cost per user (with >10 server starts)').mark_line().encode(\n",
    "    x='start',\n",
    "    y=alt.Y('cost_per_realistic_user', axis=alt.Axis(format=\"$.2f\"), title=\"Cost per realistic user\")\n",
    ")"
   ]
  },
  {
   "cell_type": "code",
   "execution_count": 23,
   "metadata": {},
   "outputs": [
    {
     "data": {
      "application/vnd.vegalite.v2+json": {
       "$schema": "https://vega.github.io/schema/vega-lite/v2.6.0.json",
       "config": {
        "axis": {
         "labelFontSize": 20,
         "titleFontSize": 20
        }
       },
       "data": {
        "name": "data-b4391edabb13fc8e281fb4b61ca7fee3"
       },
       "datasets": {
        "data-b4391edabb13fc8e281fb4b61ca7fee3": [
         {
          "cost": 0,
          "cost_per_realistic_user": 0,
          "start_time": "2018-08-31T00:00:00-07:00"
         },
         {
          "cost": 4672.020002,
          "cost_per_realistic_user": 1.7656916107331821,
          "start_time": "2018-09-30T00:00:00-07:00"
         },
         {
          "cost": 6052.7589579999985,
          "cost_per_realistic_user": 2.287512833711262,
          "start_time": "2018-10-31T00:00:00-07:00"
         },
         {
          "cost": 5107.921004,
          "cost_per_realistic_user": 1.9304312184429326,
          "start_time": "2018-11-30T00:00:00-08:00"
         },
         {
          "cost": 2300.56789,
          "cost_per_realistic_user": 0.8694512055933484,
          "start_time": "2018-12-31T00:00:00-08:00"
         }
        ]
       },
       "encoding": {
        "x": {
         "field": "start_time",
         "timeUnit": "month",
         "type": "ordinal"
        },
        "y": {
         "field": "cost_per_realistic_user",
         "type": "quantitative"
        }
       },
       "mark": "bar",
       "title": "Monthly cost per user (with >10 starts)",
       "width": 900
      },
      "image/png": "[encoded data removed]",
      "text/plain": [
       "<VegaLite 2 object>\n",
       "\n",
       "If you see this message, it means the renderer has not been properly enabled\n",
       "for the frontend that you are using. For more information, see\n",
       "https://altair-viz.github.io/user_guide/troubleshooting.html\n"
      ]
     },
     "execution_count": 23,
     "metadata": {},
     "output_type": "execute_result"
    }
   ],
   "source": [
    "realistic_monthly = cost.copy().set_index('start_time').resample('M').sum()\n",
    "realistic_monthly['cost_per_realistic_user'] = realistic_monthly['cost'] / users_with_more_than_ten_starts.count()['start']\n",
    "realistic_monthly = realistic_monthly.reset_index()\n",
    "\n",
    "alt.Chart(realistic_monthly, width=900, title='Monthly cost per user (with >10 starts)').mark_bar().encode(\n",
    "    x='month(start_time):O',\n",
    "    y='cost_per_realistic_user'\n",
    ")"
   ]
  },
  {
   "cell_type": "markdown",
   "metadata": {},
   "source": [
    "## Session length"
   ]
  },
  {
   "cell_type": "code",
   "execution_count": 24,
   "metadata": {},
   "outputs": [
    {
     "data": {
      "application/vnd.vegalite.v2+json": {
       "$schema": "https://vega.github.io/schema/vega-lite/v2.6.0.json",
       "config": {
        "axis": {
         "labelFontSize": 20,
         "titleFontSize": 20
        }
       },
       "data": {
        "name": "data-33a09a9cb0d37f2282d794f37e8b7917"
       },
       "datasets": {
        "data-33a09a9cb0d37f2282d794f37e8b7917": [
         {
          "length_hours": 0,
          "start": 535,
          "stop": 535,
          "user": 535
         },
         {
          "length_hours": 1,
          "start": 65803,
          "stop": 65803,
          "user": 65803
         },
         {
          "length_hours": 2,
          "start": 57260,
          "stop": 57260,
          "user": 57260
         },
         {
          "length_hours": 3,
          "start": 32242,
          "stop": 32242,
          "user": 32242
         },
         {
          "length_hours": 4,
          "start": 19259,
          "stop": 19259,
          "user": 19259
         },
         {
          "length_hours": 5,
          "start": 12737,
          "stop": 12737,
          "user": 12737
         },
         {
          "length_hours": 6,
          "start": 8867,
          "stop": 8867,
          "user": 8867
         },
         {
          "length_hours": 7,
          "start": 6071,
          "stop": 6071,
          "user": 6071
         },
         {
          "length_hours": 8,
          "start": 4619,
          "stop": 4619,
          "user": 4619
         },
         {
          "length_hours": 9,
          "start": 3332,
          "stop": 3332,
          "user": 3332
         },
         {
          "length_hours": 10,
          "start": 2612,
          "stop": 2612,
          "user": 2612
         },
         {
          "length_hours": 11,
          "start": 2087,
          "stop": 2087,
          "user": 2087
         },
         {
          "length_hours": 12,
          "start": 1685,
          "stop": 1685,
          "user": 1685
         },
         {
          "length_hours": 13,
          "start": 1430,
          "stop": 1430,
          "user": 1430
         },
         {
          "length_hours": 14,
          "start": 1244,
          "stop": 1244,
          "user": 1244
         },
         {
          "length_hours": 15,
          "start": 1075,
          "stop": 1075,
          "user": 1075
         },
         {
          "length_hours": 16,
          "start": 888,
          "stop": 888,
          "user": 888
         },
         {
          "length_hours": 17,
          "start": 774,
          "stop": 774,
          "user": 774
         },
         {
          "length_hours": 18,
          "start": 593,
          "stop": 593,
          "user": 593
         },
         {
          "length_hours": 19,
          "start": 501,
          "stop": 501,
          "user": 501
         },
         {
          "length_hours": 20,
          "start": 429,
          "stop": 429,
          "user": 429
         },
         {
          "length_hours": 21,
          "start": 373,
          "stop": 373,
          "user": 373
         },
         {
          "length_hours": 22,
          "start": 372,
          "stop": 372,
          "user": 372
         },
         {
          "length_hours": 23,
          "start": 319,
          "stop": 319,
          "user": 319
         }
        ]
       },
       "encoding": {
        "x": {
         "field": "length_hours",
         "type": "quantitative"
        },
        "y": {
         "field": "start",
         "title": "Count",
         "type": "quantitative"
        }
       },
       "mark": "bar",
       "width": 300
      },
      "image/png": "[encoded data removed]",
      "text/plain": [
       "<VegaLite 2 object>\n",
       "\n",
       "If you see this message, it means the renderer has not been properly enabled\n",
       "for the frontend that you are using. For more information, see\n",
       "https://altair-viz.github.io/user_guide/troubleshooting.html\n"
      ]
     },
     "execution_count": 24,
     "metadata": {},
     "output_type": "execute_result"
    }
   ],
   "source": [
    "length_counts = sessions.groupby('length_hours').count().reset_index()\n",
    "alt.Chart(length_counts, width=300).mark_bar().encode(\n",
    "    x='length_hours',\n",
    "    y=alt.Y('start', title=\"Count\")\n",
    ")"
   ]
  },
  {
   "cell_type": "markdown",
   "metadata": {},
   "source": [
    "# Summary\n",
    "\n",
    "Mean number of daily active users per day: **1006**\n",
    "\n",
    "Monthly cost per 'realistic' user: **~2$**"
   ]
  },
  {
   "cell_type": "code",
   "execution_count": null,
   "metadata": {},
   "outputs": [],
   "source": []
  }
 ],
 "metadata": {
  "kernelspec": {
   "display_name": "Python 3",
   "language": "python",
   "name": "python3"
  },
  "language_info": {
   "codemirror_mode": {
    "name": "ipython",
    "version": 3
   },
   "file_extension": ".py",
   "mimetype": "text/x-python",
   "name": "python",
   "nbconvert_exporter": "python",
   "pygments_lexer": "ipython3",
   "version": "3.6.5"
  }
 },
 "nbformat": 4,
 "nbformat_minor": 2
}
