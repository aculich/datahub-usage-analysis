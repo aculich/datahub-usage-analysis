{
 "cells": [
  {
   "cell_type": "code",
   "execution_count": 172,
   "metadata": {},
   "outputs": [],
   "source": [
    "import pandas as pd\n",
    "import numpy as np\n",
    "from datetime import datetime\n",
    "import altair as alt"
   ]
  },
  {
   "cell_type": "markdown",
   "metadata": {},
   "source": [
    "# Load and cleanup data\n",
    "\n",
    "We load user activity data and cloud cost data for the duration of the semester\n",
    "into pandas dataframes. We make sure our timezones are right, and that we fill in\n",
    "NaNs where we have missing data."
   ]
  },
  {
   "cell_type": "code",
   "execution_count": 169,
   "metadata": {},
   "outputs": [],
   "source": [
    "semester_start = pd.Timestamp('2018-08-15').tz_localize('US/Pacific')\n",
    "semester_end = pd.Timestamp('2018-12-15').tz_localize('US/Pacific')"
   ]
  },
  {
   "cell_type": "code",
   "execution_count": 173,
   "metadata": {},
   "outputs": [],
   "source": [
    "# Log data for user activity\n",
    "path_usage = '../data/processed/fall-2018/user-activity.jsonl'\n",
    "datahub = pd.read_json(path_usage, lines=True)\n",
    "\n",
    "# Index by timestamp\n",
    "datahub = datahub.set_index('timestamp')\n",
    "\n",
    "# Our timestamps are in UTC\n",
    "datahub = datahub.tz_localize('UTC')\n",
    "# But we want them in US/Pacific, since that's how our billing data is setup\n",
    "datahub = datahub.tz_convert('US/Pacific')\n",
    "# Only between start and end of semester\n",
    "datahub = datahub[datahub.index > semester_start][datahub.index < semester_end]"
   ]
  },
  {
   "cell_type": "code",
   "execution_count": 174,
   "metadata": {},
   "outputs": [],
   "source": [
    "# Cost per day, in PST\n",
    "cost = pd.read_json('../data/processed/fall-2018/cloud-costs.jsonl', lines=True)\n",
    "\n",
    "cost = cost.set_index('start_time')\n",
    "cost = cost.drop(columns=['end_time'])\n",
    "# Pandas' read_json reads dates in as UTC, but since our *actual* dates for cloud costs are in PST, we convert back\n",
    "cost = cost.tz_localize('UTC')\n",
    "cost = cost.tz_convert('US/Pacific')\n",
    "\n",
    "# Only between start and end of semester\n",
    "cost = cost[cost.index > semester_start][cost.index < semester_end]\n",
    "# We only use indexing timestamps to make the tz_localize easier.\n",
    "# after that, we drop it to make everything else easier\n",
    "cost = cost.reset_index()\n",
    "\n",
    "# Fill in any missing data before beginning of date\n",
    "missing_dates = pd.date_range(semester_start, cost.start_time.min(), name='start_time')\n",
    "missing_dates_cost = pd.DataFrame(missing_dates, np.full(len(missing_dates), np.nan), columns={'start_time', 'cost'})\n",
    "cost = cost.append(missing_dates_cost)"
   ]
  },
  {
   "cell_type": "markdown",
   "metadata": {},
   "source": [
    "# Metrics\n",
    "\n",
    "We munge our raw data into specific metrics we care about"
   ]
  },
  {
   "cell_type": "markdown",
   "metadata": {},
   "source": [
    "## Daily Active user\n",
    "\n",
    "We count someone as a 'daily active user' if they start / stop their notebook server\n",
    "at least once. Due to anonimization techniques applied earlier, this might slightly\n",
    "under count users"
   ]
  },
  {
   "cell_type": "code",
   "execution_count": 175,
   "metadata": {},
   "outputs": [],
   "source": [
    "# Unique daily users - we count anyone who has logged in at least once a day\n",
    "# We want a dataframe with no index so we can use it easily with Altair\n",
    "daily_active_users = pd.DataFrame(datahub['user'].resample('D').nunique()).reset_index()"
   ]
  },
  {
   "cell_type": "code",
   "execution_count": 176,
   "metadata": {},
   "outputs": [
    {
     "data": {
      "application/vnd.vegalite.v2+json": {
       "$schema": "https://vega.github.io/schema/vega-lite/v2.6.0.json",
       "config": {
        "view": {
         "height": 300,
         "width": 400
        }
       },
       "data": {
        "name": "data-6b9a4a41bb836c489c41dd534314b140"
       },
       "datasets": {
        "data-6b9a4a41bb836c489c41dd534314b140": [
         {
          "timestamp": "2018-08-17T00:00:00-07:00",
          "user": 19
         },
         {
          "timestamp": "2018-08-18T00:00:00-07:00",
          "user": 46
         },
         {
          "timestamp": "2018-08-19T00:00:00-07:00",
          "user": 33
         },
         {
          "timestamp": "2018-08-20T00:00:00-07:00",
          "user": 61
         },
         {
          "timestamp": "2018-08-21T00:00:00-07:00",
          "user": 149
         },
         {
          "timestamp": "2018-08-22T00:00:00-07:00",
          "user": 1194
         },
         {
          "timestamp": "2018-08-23T00:00:00-07:00",
          "user": 1243
         },
         {
          "timestamp": "2018-08-24T00:00:00-07:00",
          "user": 1391
         },
         {
          "timestamp": "2018-08-25T00:00:00-07:00",
          "user": 988
         },
         {
          "timestamp": "2018-08-26T00:00:00-07:00",
          "user": 1174
         },
         {
          "timestamp": "2018-08-27T00:00:00-07:00",
          "user": 1508
         },
         {
          "timestamp": "2018-08-28T00:00:00-07:00",
          "user": 1351
         },
         {
          "timestamp": "2018-08-29T00:00:00-07:00",
          "user": 1598
         },
         {
          "timestamp": "2018-08-30T00:00:00-07:00",
          "user": 1322
         },
         {
          "timestamp": "2018-08-31T00:00:00-07:00",
          "user": 1194
         },
         {
          "timestamp": "2018-09-01T00:00:00-07:00",
          "user": 793
         },
         {
          "timestamp": "2018-09-02T00:00:00-07:00",
          "user": 964
         },
         {
          "timestamp": "2018-09-03T00:00:00-07:00",
          "user": 1259
         },
         {
          "timestamp": "2018-09-04T00:00:00-07:00",
          "user": 1495
         },
         {
          "timestamp": "2018-09-05T00:00:00-07:00",
          "user": 1675
         },
         {
          "timestamp": "2018-09-06T00:00:00-07:00",
          "user": 1429
         },
         {
          "timestamp": "2018-09-07T00:00:00-07:00",
          "user": 1120
         },
         {
          "timestamp": "2018-09-08T00:00:00-07:00",
          "user": 880
         },
         {
          "timestamp": "2018-09-09T00:00:00-07:00",
          "user": 1028
         },
         {
          "timestamp": "2018-09-10T00:00:00-07:00",
          "user": 1432
         },
         {
          "timestamp": "2018-09-11T00:00:00-07:00",
          "user": 1502
         },
         {
          "timestamp": "2018-09-12T00:00:00-07:00",
          "user": 1580
         },
         {
          "timestamp": "2018-09-13T00:00:00-07:00",
          "user": 1345
         },
         {
          "timestamp": "2018-09-14T00:00:00-07:00",
          "user": 1006
         },
         {
          "timestamp": "2018-09-15T00:00:00-07:00",
          "user": 842
         },
         {
          "timestamp": "2018-09-16T00:00:00-07:00",
          "user": 1091
         },
         {
          "timestamp": "2018-09-17T00:00:00-07:00",
          "user": 1491
         },
         {
          "timestamp": "2018-09-18T00:00:00-07:00",
          "user": 1419
         },
         {
          "timestamp": "2018-09-19T00:00:00-07:00",
          "user": 1549
         },
         {
          "timestamp": "2018-09-20T00:00:00-07:00",
          "user": 1480
         },
         {
          "timestamp": "2018-09-21T00:00:00-07:00",
          "user": 1294
         },
         {
          "timestamp": "2018-09-22T00:00:00-07:00",
          "user": 921
         },
         {
          "timestamp": "2018-09-23T00:00:00-07:00",
          "user": 921
         },
         {
          "timestamp": "2018-09-24T00:00:00-07:00",
          "user": 1253
         },
         {
          "timestamp": "2018-09-25T00:00:00-07:00",
          "user": 1333
         },
         {
          "timestamp": "2018-09-26T00:00:00-07:00",
          "user": 1540
         },
         {
          "timestamp": "2018-09-27T00:00:00-07:00",
          "user": 1510
         },
         {
          "timestamp": "2018-09-28T00:00:00-07:00",
          "user": 1362
         },
         {
          "timestamp": "2018-09-29T00:00:00-07:00",
          "user": 896
         },
         {
          "timestamp": "2018-09-30T00:00:00-07:00",
          "user": 1049
         },
         {
          "timestamp": "2018-10-01T00:00:00-07:00",
          "user": 1392
         },
         {
          "timestamp": "2018-10-02T00:00:00-07:00",
          "user": 1342
         },
         {
          "timestamp": "2018-10-03T00:00:00-07:00",
          "user": 1567
         },
         {
          "timestamp": "2018-10-04T00:00:00-07:00",
          "user": 1434
         },
         {
          "timestamp": "2018-10-05T00:00:00-07:00",
          "user": 1061
         },
         {
          "timestamp": "2018-10-06T00:00:00-07:00",
          "user": 750
         },
         {
          "timestamp": "2018-10-07T00:00:00-07:00",
          "user": 941
         },
         {
          "timestamp": "2018-10-08T00:00:00-07:00",
          "user": 1342
         },
         {
          "timestamp": "2018-10-09T00:00:00-07:00",
          "user": 1356
         },
         {
          "timestamp": "2018-10-10T00:00:00-07:00",
          "user": 1342
         },
         {
          "timestamp": "2018-10-11T00:00:00-07:00",
          "user": 1013
         },
         {
          "timestamp": "2018-10-12T00:00:00-07:00",
          "user": 1002
         },
         {
          "timestamp": "2018-10-13T00:00:00-07:00",
          "user": 399
         },
         {
          "timestamp": "2018-10-14T00:00:00-07:00",
          "user": 441
         },
         {
          "timestamp": "2018-10-15T00:00:00-07:00",
          "user": 894
         },
         {
          "timestamp": "2018-10-16T00:00:00-07:00",
          "user": 826
         },
         {
          "timestamp": "2018-10-17T00:00:00-07:00",
          "user": 1138
         },
         {
          "timestamp": "2018-10-18T00:00:00-07:00",
          "user": 1038
         },
         {
          "timestamp": "2018-10-19T00:00:00-07:00",
          "user": 641
         },
         {
          "timestamp": "2018-10-20T00:00:00-07:00",
          "user": 664
         },
         {
          "timestamp": "2018-10-21T00:00:00-07:00",
          "user": 856
         },
         {
          "timestamp": "2018-10-22T00:00:00-07:00",
          "user": 1205
         },
         {
          "timestamp": "2018-10-23T00:00:00-07:00",
          "user": 1134
         },
         {
          "timestamp": "2018-10-24T00:00:00-07:00",
          "user": 1448
         },
         {
          "timestamp": "2018-10-25T00:00:00-07:00",
          "user": 1400
         },
         {
          "timestamp": "2018-10-26T00:00:00-07:00",
          "user": 1190
         },
         {
          "timestamp": "2018-10-27T00:00:00-07:00",
          "user": 745
         },
         {
          "timestamp": "2018-10-28T00:00:00-07:00",
          "user": 861
         },
         {
          "timestamp": "2018-10-29T00:00:00-07:00",
          "user": 1306
         },
         {
          "timestamp": "2018-10-30T00:00:00-07:00",
          "user": 1270
         },
         {
          "timestamp": "2018-10-31T00:00:00-07:00",
          "user": 1471
         },
         {
          "timestamp": "2018-11-01T00:00:00-07:00",
          "user": 1476
         },
         {
          "timestamp": "2018-11-02T00:00:00-07:00",
          "user": 1325
         },
         {
          "timestamp": "2018-11-03T00:00:00-07:00",
          "user": 786
         },
         {
          "timestamp": "2018-11-04T00:00:00-07:00",
          "user": 747
         },
         {
          "timestamp": "2018-11-05T00:00:00-08:00",
          "user": 1044
         },
         {
          "timestamp": "2018-11-06T00:00:00-08:00",
          "user": 1133
         },
         {
          "timestamp": "2018-11-07T00:00:00-08:00",
          "user": 1510
         },
         {
          "timestamp": "2018-11-08T00:00:00-08:00",
          "user": 1344
         },
         {
          "timestamp": "2018-11-09T00:00:00-08:00",
          "user": 833
         },
         {
          "timestamp": "2018-11-10T00:00:00-08:00",
          "user": 655
         },
         {
          "timestamp": "2018-11-11T00:00:00-08:00",
          "user": 731
         },
         {
          "timestamp": "2018-11-12T00:00:00-08:00",
          "user": 948
         },
         {
          "timestamp": "2018-11-13T00:00:00-08:00",
          "user": 1209
         },
         {
          "timestamp": "2018-11-14T00:00:00-08:00",
          "user": 1558
         },
         {
          "timestamp": "2018-11-15T00:00:00-08:00",
          "user": 1444
         },
         {
          "timestamp": "2018-11-16T00:00:00-08:00",
          "user": 1055
         },
         {
          "timestamp": "2018-11-17T00:00:00-08:00",
          "user": 815
         },
         {
          "timestamp": "2018-11-18T00:00:00-08:00",
          "user": 800
         },
         {
          "timestamp": "2018-11-19T00:00:00-08:00",
          "user": 874
         },
         {
          "timestamp": "2018-11-20T00:00:00-08:00",
          "user": 725
         },
         {
          "timestamp": "2018-11-21T00:00:00-08:00",
          "user": 606
         },
         {
          "timestamp": "2018-11-22T00:00:00-08:00",
          "user": 480
         },
         {
          "timestamp": "2018-11-23T00:00:00-08:00",
          "user": 528
         },
         {
          "timestamp": "2018-11-24T00:00:00-08:00",
          "user": 524
         },
         {
          "timestamp": "2018-11-25T00:00:00-08:00",
          "user": 668
         },
         {
          "timestamp": "2018-11-26T00:00:00-08:00",
          "user": 1143
         },
         {
          "timestamp": "2018-11-27T00:00:00-08:00",
          "user": 1245
         },
         {
          "timestamp": "2018-11-28T00:00:00-08:00",
          "user": 1470
         },
         {
          "timestamp": "2018-11-29T00:00:00-08:00",
          "user": 1413
         },
         {
          "timestamp": "2018-11-30T00:00:00-08:00",
          "user": 1092
         },
         {
          "timestamp": "2018-12-01T00:00:00-08:00",
          "user": 546
         },
         {
          "timestamp": "2018-12-02T00:00:00-08:00",
          "user": 493
         },
         {
          "timestamp": "2018-12-03T00:00:00-08:00",
          "user": 653
         },
         {
          "timestamp": "2018-12-04T00:00:00-08:00",
          "user": 493
         },
         {
          "timestamp": "2018-12-05T00:00:00-08:00",
          "user": 543
         },
         {
          "timestamp": "2018-12-06T00:00:00-08:00",
          "user": 466
         },
         {
          "timestamp": "2018-12-07T00:00:00-08:00",
          "user": 430
         },
         {
          "timestamp": "2018-12-08T00:00:00-08:00",
          "user": 367
         },
         {
          "timestamp": "2018-12-09T00:00:00-08:00",
          "user": 311
         },
         {
          "timestamp": "2018-12-10T00:00:00-08:00",
          "user": 331
         },
         {
          "timestamp": "2018-12-11T00:00:00-08:00",
          "user": 370
         },
         {
          "timestamp": "2018-12-12T00:00:00-08:00",
          "user": 495
         },
         {
          "timestamp": "2018-12-13T00:00:00-08:00",
          "user": 607
         },
         {
          "timestamp": "2018-12-14T00:00:00-08:00",
          "user": 247
         }
        ]
       },
       "encoding": {
        "x": {
         "field": "timestamp",
         "type": "temporal"
        },
        "y": {
         "field": "user",
         "type": "quantitative"
        }
       },
       "mark": "line",
       "width": 900
      },
      "image/png": "[encoded data removed]",
      "text/plain": [
       "<VegaLite 2 object>\n",
       "\n",
       "If you see this message, it means the renderer has not been properly enabled\n",
       "for the frontend that you are using. For more information, see\n",
       "https://altair-viz.github.io/user_guide/troubleshooting.html\n"
      ]
     },
     "execution_count": 176,
     "metadata": {},
     "output_type": "execute_result"
    }
   ],
   "source": [
    "alt.Chart(daily_active_users, width=900).mark_line().encode(\n",
    "    x='timestamp',\n",
    "    y='user'\n",
    ")"
   ]
  },
  {
   "cell_type": "markdown",
   "metadata": {},
   "source": [
    "## Daily cloud costs"
   ]
  },
  {
   "cell_type": "code",
   "execution_count": 181,
   "metadata": {},
   "outputs": [
    {
     "data": {
      "application/vnd.vegalite.v2+json": {
       "$schema": "https://vega.github.io/schema/vega-lite/v2.6.0.json",
       "config": {
        "view": {
         "height": 300,
         "width": 400
        }
       },
       "data": {
        "name": "data-e1a6ecb613e6b4b772489f2dc1fc7a71"
       },
       "datasets": {
        "data-e1a6ecb613e6b4b772489f2dc1fc7a71": [
         {
          "cost": 40.156909999999996,
          "start_time": "2018-09-12T00:00:00-07:00"
         },
         {
          "cost": 263.958762,
          "start_time": "2018-09-13T00:00:00-07:00"
         },
         {
          "cost": 233.378606,
          "start_time": "2018-09-14T00:00:00-07:00"
         },
         {
          "cost": 220.49735600000002,
          "start_time": "2018-09-15T00:00:00-07:00"
         },
         {
          "cost": 221.476064,
          "start_time": "2018-09-16T00:00:00-07:00"
         },
         {
          "cost": 254.118337,
          "start_time": "2018-09-17T00:00:00-07:00"
         },
         {
          "cost": 268.713372,
          "start_time": "2018-09-18T00:00:00-07:00"
         },
         {
          "cost": 277.049757,
          "start_time": "2018-09-19T00:00:00-07:00"
         },
         {
          "cost": 291.302796,
          "start_time": "2018-09-20T00:00:00-07:00"
         },
         {
          "cost": 268.42976,
          "start_time": "2018-09-21T00:00:00-07:00"
         },
         {
          "cost": 246.082326,
          "start_time": "2018-09-22T00:00:00-07:00"
         },
         {
          "cost": 244.174214,
          "start_time": "2018-09-23T00:00:00-07:00"
         },
         {
          "cost": 245.52624400000002,
          "start_time": "2018-09-24T00:00:00-07:00"
         },
         {
          "cost": 254.888743,
          "start_time": "2018-09-25T00:00:00-07:00"
         },
         {
          "cost": 277.179144,
          "start_time": "2018-09-26T00:00:00-07:00"
         },
         {
          "cost": 290.026115,
          "start_time": "2018-09-27T00:00:00-07:00"
         },
         {
          "cost": 268.253716,
          "start_time": "2018-09-28T00:00:00-07:00"
         },
         {
          "cost": 262.364679,
          "start_time": "2018-09-29T00:00:00-07:00"
         },
         {
          "cost": 244.44310099999998,
          "start_time": "2018-09-30T00:00:00-07:00"
         },
         {
          "cost": 248.97004299999998,
          "start_time": "2018-10-01T00:00:00-07:00"
         },
         {
          "cost": 243.463813,
          "start_time": "2018-10-02T00:00:00-07:00"
         },
         {
          "cost": 304.920198,
          "start_time": "2018-10-03T00:00:00-07:00"
         },
         {
          "cost": 452.96205100000003,
          "start_time": "2018-10-04T00:00:00-07:00"
         },
         {
          "cost": 275.03173200000003,
          "start_time": "2018-10-05T00:00:00-07:00"
         },
         {
          "cost": 181.814937,
          "start_time": "2018-10-06T00:00:00-07:00"
         },
         {
          "cost": 173.638486,
          "start_time": "2018-10-07T00:00:00-07:00"
         },
         {
          "cost": 197.120381,
          "start_time": "2018-10-08T00:00:00-07:00"
         },
         {
          "cost": 212.07737500000002,
          "start_time": "2018-10-09T00:00:00-07:00"
         },
         {
          "cost": 219.799082,
          "start_time": "2018-10-10T00:00:00-07:00"
         },
         {
          "cost": 203.78078899999997,
          "start_time": "2018-10-11T00:00:00-07:00"
         },
         {
          "cost": 206.12004299999998,
          "start_time": "2018-10-12T00:00:00-07:00"
         },
         {
          "cost": 202.40058399999998,
          "start_time": "2018-10-13T00:00:00-07:00"
         },
         {
          "cost": 182.316341,
          "start_time": "2018-10-14T00:00:00-07:00"
         },
         {
          "cost": 183.284113,
          "start_time": "2018-10-15T00:00:00-07:00"
         },
         {
          "cost": 191.61486699999998,
          "start_time": "2018-10-16T00:00:00-07:00"
         },
         {
          "cost": 186.137944,
          "start_time": "2018-10-17T00:00:00-07:00"
         },
         {
          "cost": 185.817201,
          "start_time": "2018-10-18T00:00:00-07:00"
         },
         {
          "cost": 185.48708799999997,
          "start_time": "2018-10-19T00:00:00-07:00"
         },
         {
          "cost": 149.516785,
          "start_time": "2018-10-20T00:00:00-07:00"
         },
         {
          "cost": 121.764895,
          "start_time": "2018-10-21T00:00:00-07:00"
         },
         {
          "cost": 142.410472,
          "start_time": "2018-10-22T00:00:00-07:00"
         },
         {
          "cost": 155.93802300000002,
          "start_time": "2018-10-23T00:00:00-07:00"
         },
         {
          "cost": 156.858114,
          "start_time": "2018-10-24T00:00:00-07:00"
         },
         {
          "cost": 156.38318199999998,
          "start_time": "2018-10-25T00:00:00-07:00"
         },
         {
          "cost": 155.87109700000002,
          "start_time": "2018-10-26T00:00:00-07:00"
         },
         {
          "cost": 145.873503,
          "start_time": "2018-10-27T00:00:00-07:00"
         },
         {
          "cost": 143.64437099999998,
          "start_time": "2018-10-28T00:00:00-07:00"
         },
         {
          "cost": 149.627417,
          "start_time": "2018-10-29T00:00:00-07:00"
         },
         {
          "cost": 168.580365,
          "start_time": "2018-10-30T00:00:00-07:00"
         },
         {
          "cost": 169.53366599999998,
          "start_time": "2018-10-31T00:00:00-07:00"
         },
         {
          "cost": 165.6526,
          "start_time": "2018-11-01T00:00:00-07:00"
         },
         {
          "cost": 174.670979,
          "start_time": "2018-11-02T00:00:00-07:00"
         },
         {
          "cost": 154.460981,
          "start_time": "2018-11-03T00:00:00-07:00"
         },
         {
          "cost": 160.182685,
          "start_time": "2018-11-04T00:00:00-07:00"
         },
         {
          "cost": 154.16036599999998,
          "start_time": "2018-11-05T00:00:00-08:00"
         },
         {
          "cost": 154.746287,
          "start_time": "2018-11-06T00:00:00-08:00"
         },
         {
          "cost": 170.92835399999998,
          "start_time": "2018-11-07T00:00:00-08:00"
         },
         {
          "cost": 177.70142,
          "start_time": "2018-11-08T00:00:00-08:00"
         },
         {
          "cost": 179.00012300000003,
          "start_time": "2018-11-09T00:00:00-08:00"
         },
         {
          "cost": 179.290468,
          "start_time": "2018-11-10T00:00:00-08:00"
         },
         {
          "cost": 165.391022,
          "start_time": "2018-11-11T00:00:00-08:00"
         },
         {
          "cost": 157.576163,
          "start_time": "2018-11-12T00:00:00-08:00"
         },
         {
          "cost": 163.672754,
          "start_time": "2018-11-13T00:00:00-08:00"
         },
         {
          "cost": 183.722065,
          "start_time": "2018-11-14T00:00:00-08:00"
         },
         {
          "cost": 195.25908099999998,
          "start_time": "2018-11-15T00:00:00-08:00"
         },
         {
          "cost": 188.49224700000002,
          "start_time": "2018-11-16T00:00:00-08:00"
         },
         {
          "cost": 180.42066499999999,
          "start_time": "2018-11-17T00:00:00-08:00"
         },
         {
          "cost": 170.58507500000002,
          "start_time": "2018-11-18T00:00:00-08:00"
         },
         {
          "cost": 169.096144,
          "start_time": "2018-11-19T00:00:00-08:00"
         },
         {
          "cost": 168.46590500000002,
          "start_time": "2018-11-20T00:00:00-08:00"
         },
         {
          "cost": 168.065076,
          "start_time": "2018-11-21T00:00:00-08:00"
         },
         {
          "cost": 167.400497,
          "start_time": "2018-11-22T00:00:00-08:00"
         },
         {
          "cost": 168.123972,
          "start_time": "2018-11-23T00:00:00-08:00"
         },
         {
          "cost": 167.694091,
          "start_time": "2018-11-24T00:00:00-08:00"
         },
         {
          "cost": 168.44466,
          "start_time": "2018-11-25T00:00:00-08:00"
         },
         {
          "cost": 172.00177,
          "start_time": "2018-11-26T00:00:00-08:00"
         },
         {
          "cost": 171.23877900000002,
          "start_time": "2018-11-27T00:00:00-08:00"
         },
         {
          "cost": 170.16072100000002,
          "start_time": "2018-11-28T00:00:00-08:00"
         },
         {
          "cost": 171.209544,
          "start_time": "2018-11-29T00:00:00-08:00"
         },
         {
          "cost": 170.10651,
          "start_time": "2018-11-30T00:00:00-08:00"
         },
         {
          "cost": 162.890289,
          "start_time": "2018-12-01T00:00:00-08:00"
         },
         {
          "cost": 164.59242200000003,
          "start_time": "2018-12-02T00:00:00-08:00"
         },
         {
          "cost": 164.49821300000002,
          "start_time": "2018-12-03T00:00:00-08:00"
         },
         {
          "cost": 164.51144,
          "start_time": "2018-12-04T00:00:00-08:00"
         },
         {
          "cost": 165.150755,
          "start_time": "2018-12-05T00:00:00-08:00"
         },
         {
          "cost": 165.040173,
          "start_time": "2018-12-06T00:00:00-08:00"
         },
         {
          "cost": 164.40057099999999,
          "start_time": "2018-12-07T00:00:00-08:00"
         },
         {
          "cost": 164.55875,
          "start_time": "2018-12-08T00:00:00-08:00"
         },
         {
          "cost": 164.60581200000001,
          "start_time": "2018-12-09T00:00:00-08:00"
         },
         {
          "cost": 164.520137,
          "start_time": "2018-12-10T00:00:00-08:00"
         },
         {
          "cost": 164.85765,
          "start_time": "2018-12-11T00:00:00-08:00"
         },
         {
          "cost": 164.251543,
          "start_time": "2018-12-12T00:00:00-08:00"
         },
         {
          "cost": 164.572575,
          "start_time": "2018-12-13T00:00:00-08:00"
         },
         {
          "cost": 162.11756,
          "start_time": "2018-12-14T00:00:00-08:00"
         },
         {
          "cost": null,
          "start_time": "2018-08-15T00:00:00-07:00"
         },
         {
          "cost": null,
          "start_time": "2018-08-16T00:00:00-07:00"
         },
         {
          "cost": null,
          "start_time": "2018-08-17T00:00:00-07:00"
         },
         {
          "cost": null,
          "start_time": "2018-08-18T00:00:00-07:00"
         },
         {
          "cost": null,
          "start_time": "2018-08-19T00:00:00-07:00"
         },
         {
          "cost": null,
          "start_time": "2018-08-20T00:00:00-07:00"
         },
         {
          "cost": null,
          "start_time": "2018-08-21T00:00:00-07:00"
         },
         {
          "cost": null,
          "start_time": "2018-08-22T00:00:00-07:00"
         },
         {
          "cost": null,
          "start_time": "2018-08-23T00:00:00-07:00"
         },
         {
          "cost": null,
          "start_time": "2018-08-24T00:00:00-07:00"
         },
         {
          "cost": null,
          "start_time": "2018-08-25T00:00:00-07:00"
         },
         {
          "cost": null,
          "start_time": "2018-08-26T00:00:00-07:00"
         },
         {
          "cost": null,
          "start_time": "2018-08-27T00:00:00-07:00"
         },
         {
          "cost": null,
          "start_time": "2018-08-28T00:00:00-07:00"
         },
         {
          "cost": null,
          "start_time": "2018-08-29T00:00:00-07:00"
         },
         {
          "cost": null,
          "start_time": "2018-08-30T00:00:00-07:00"
         },
         {
          "cost": null,
          "start_time": "2018-08-31T00:00:00-07:00"
         },
         {
          "cost": null,
          "start_time": "2018-09-01T00:00:00-07:00"
         },
         {
          "cost": null,
          "start_time": "2018-09-02T00:00:00-07:00"
         },
         {
          "cost": null,
          "start_time": "2018-09-03T00:00:00-07:00"
         },
         {
          "cost": null,
          "start_time": "2018-09-04T00:00:00-07:00"
         },
         {
          "cost": null,
          "start_time": "2018-09-05T00:00:00-07:00"
         },
         {
          "cost": null,
          "start_time": "2018-09-06T00:00:00-07:00"
         },
         {
          "cost": null,
          "start_time": "2018-09-07T00:00:00-07:00"
         },
         {
          "cost": null,
          "start_time": "2018-09-08T00:00:00-07:00"
         },
         {
          "cost": null,
          "start_time": "2018-09-09T00:00:00-07:00"
         },
         {
          "cost": null,
          "start_time": "2018-09-10T00:00:00-07:00"
         },
         {
          "cost": null,
          "start_time": "2018-09-11T00:00:00-07:00"
         },
         {
          "cost": null,
          "start_time": "2018-09-12T00:00:00-07:00"
         }
        ]
       },
       "encoding": {
        "x": {
         "field": "start_time",
         "type": "temporal"
        },
        "y": {
         "field": "cost",
         "type": "quantitative"
        }
       },
       "mark": "line",
       "width": 900
      },
      "image/png": "[encoded data removed]",
      "text/plain": [
       "<VegaLite 2 object>\n",
       "\n",
       "If you see this message, it means the renderer has not been properly enabled\n",
       "for the frontend that you are using. For more information, see\n",
       "https://altair-viz.github.io/user_guide/troubleshooting.html\n"
      ]
     },
     "execution_count": 181,
     "metadata": {},
     "output_type": "execute_result"
    }
   ],
   "source": [
    "alt.Chart(cost, width=900).mark_line().encode(\n",
    "    x='start_time',\n",
    "    y='cost'\n",
    ")"
   ]
  },
  {
   "cell_type": "markdown",
   "metadata": {},
   "source": [
    "## Daily cloud costs per **active** user\n",
    "\n",
    "This is cost per day for *active* users - those who used the cluster. This is only a fraction of your total users, so be careful using this for estimates."
   ]
  },
  {
   "cell_type": "code",
   "execution_count": 184,
   "metadata": {},
   "outputs": [],
   "source": [
    "# Combine into a single dataframe based on day\n",
    "total = pd.merge(daily_active_users, cost, how='outer', left_on='timestamp', right_on='start_time').drop(columns=['start_time'])\n",
    "\n",
    "# Calculate daily cost per user\n",
    "total['cost_per_user'] = total['cost'] / total['user']"
   ]
  },
  {
   "cell_type": "code",
   "execution_count": 185,
   "metadata": {},
   "outputs": [
    {
     "data": {
      "application/vnd.vegalite.v2+json": {
       "$schema": "https://vega.github.io/schema/vega-lite/v2.6.0.json",
       "config": {
        "view": {
         "height": 300,
         "width": 400
        }
       },
       "data": {
        "name": "data-90a64ad3b73aa028ed915e9944e92937"
       },
       "datasets": {
        "data-90a64ad3b73aa028ed915e9944e92937": [
         {
          "cost": null,
          "cost_per_user": null,
          "timestamp": "2018-08-17T00:00:00-07:00",
          "user": 19
         },
         {
          "cost": null,
          "cost_per_user": null,
          "timestamp": "2018-08-18T00:00:00-07:00",
          "user": 46
         },
         {
          "cost": null,
          "cost_per_user": null,
          "timestamp": "2018-08-19T00:00:00-07:00",
          "user": 33
         },
         {
          "cost": null,
          "cost_per_user": null,
          "timestamp": "2018-08-20T00:00:00-07:00",
          "user": 61
         },
         {
          "cost": null,
          "cost_per_user": null,
          "timestamp": "2018-08-21T00:00:00-07:00",
          "user": 149
         },
         {
          "cost": null,
          "cost_per_user": null,
          "timestamp": "2018-08-22T00:00:00-07:00",
          "user": 1194
         },
         {
          "cost": null,
          "cost_per_user": null,
          "timestamp": "2018-08-23T00:00:00-07:00",
          "user": 1243
         },
         {
          "cost": null,
          "cost_per_user": null,
          "timestamp": "2018-08-24T00:00:00-07:00",
          "user": 1391
         },
         {
          "cost": null,
          "cost_per_user": null,
          "timestamp": "2018-08-25T00:00:00-07:00",
          "user": 988
         },
         {
          "cost": null,
          "cost_per_user": null,
          "timestamp": "2018-08-26T00:00:00-07:00",
          "user": 1174
         },
         {
          "cost": null,
          "cost_per_user": null,
          "timestamp": "2018-08-27T00:00:00-07:00",
          "user": 1508
         },
         {
          "cost": null,
          "cost_per_user": null,
          "timestamp": "2018-08-28T00:00:00-07:00",
          "user": 1351
         },
         {
          "cost": null,
          "cost_per_user": null,
          "timestamp": "2018-08-29T00:00:00-07:00",
          "user": 1598
         },
         {
          "cost": null,
          "cost_per_user": null,
          "timestamp": "2018-08-30T00:00:00-07:00",
          "user": 1322
         },
         {
          "cost": null,
          "cost_per_user": null,
          "timestamp": "2018-08-31T00:00:00-07:00",
          "user": 1194
         },
         {
          "cost": null,
          "cost_per_user": null,
          "timestamp": "2018-09-01T00:00:00-07:00",
          "user": 793
         },
         {
          "cost": null,
          "cost_per_user": null,
          "timestamp": "2018-09-02T00:00:00-07:00",
          "user": 964
         },
         {
          "cost": null,
          "cost_per_user": null,
          "timestamp": "2018-09-03T00:00:00-07:00",
          "user": 1259
         },
         {
          "cost": null,
          "cost_per_user": null,
          "timestamp": "2018-09-04T00:00:00-07:00",
          "user": 1495
         },
         {
          "cost": null,
          "cost_per_user": null,
          "timestamp": "2018-09-05T00:00:00-07:00",
          "user": 1675
         },
         {
          "cost": null,
          "cost_per_user": null,
          "timestamp": "2018-09-06T00:00:00-07:00",
          "user": 1429
         },
         {
          "cost": null,
          "cost_per_user": null,
          "timestamp": "2018-09-07T00:00:00-07:00",
          "user": 1120
         },
         {
          "cost": null,
          "cost_per_user": null,
          "timestamp": "2018-09-08T00:00:00-07:00",
          "user": 880
         },
         {
          "cost": null,
          "cost_per_user": null,
          "timestamp": "2018-09-09T00:00:00-07:00",
          "user": 1028
         },
         {
          "cost": null,
          "cost_per_user": null,
          "timestamp": "2018-09-10T00:00:00-07:00",
          "user": 1432
         },
         {
          "cost": null,
          "cost_per_user": null,
          "timestamp": "2018-09-11T00:00:00-07:00",
          "user": 1502
         },
         {
          "cost": 40.156909999999996,
          "cost_per_user": 0.02541576582278481,
          "timestamp": "2018-09-12T00:00:00-07:00",
          "user": 1580
         },
         {
          "cost": null,
          "cost_per_user": null,
          "timestamp": "2018-09-12T00:00:00-07:00",
          "user": 1580
         },
         {
          "cost": 263.958762,
          "cost_per_user": 0.19625186765799255,
          "timestamp": "2018-09-13T00:00:00-07:00",
          "user": 1345
         },
         {
          "cost": 233.378606,
          "cost_per_user": 0.23198668588469185,
          "timestamp": "2018-09-14T00:00:00-07:00",
          "user": 1006
         },
         {
          "cost": 220.49735600000002,
          "cost_per_user": 0.26187334441805227,
          "timestamp": "2018-09-15T00:00:00-07:00",
          "user": 842
         },
         {
          "cost": 221.476064,
          "cost_per_user": 0.20300280843263063,
          "timestamp": "2018-09-16T00:00:00-07:00",
          "user": 1091
         },
         {
          "cost": 254.118337,
          "cost_per_user": 0.17043483366867873,
          "timestamp": "2018-09-17T00:00:00-07:00",
          "user": 1491
         },
         {
          "cost": 268.713372,
          "cost_per_user": 0.1893681268498943,
          "timestamp": "2018-09-18T00:00:00-07:00",
          "user": 1419
         },
         {
          "cost": 277.049757,
          "cost_per_user": 0.17885717043253713,
          "timestamp": "2018-09-19T00:00:00-07:00",
          "user": 1549
         },
         {
          "cost": 291.302796,
          "cost_per_user": 0.1968262135135135,
          "timestamp": "2018-09-20T00:00:00-07:00",
          "user": 1480
         },
         {
          "cost": 268.42976,
          "cost_per_user": 0.2074418547140649,
          "timestamp": "2018-09-21T00:00:00-07:00",
          "user": 1294
         },
         {
          "cost": 246.082326,
          "cost_per_user": 0.2671903648208469,
          "timestamp": "2018-09-22T00:00:00-07:00",
          "user": 921
         },
         {
          "cost": 244.174214,
          "cost_per_user": 0.26511858197611293,
          "timestamp": "2018-09-23T00:00:00-07:00",
          "user": 921
         },
         {
          "cost": 245.52624400000002,
          "cost_per_user": 0.1959507134876297,
          "timestamp": "2018-09-24T00:00:00-07:00",
          "user": 1253
         },
         {
          "cost": 254.888743,
          "cost_per_user": 0.19121436084021007,
          "timestamp": "2018-09-25T00:00:00-07:00",
          "user": 1333
         },
         {
          "cost": 277.179144,
          "cost_per_user": 0.17998645714285716,
          "timestamp": "2018-09-26T00:00:00-07:00",
          "user": 1540
         },
         {
          "cost": 290.026115,
          "cost_per_user": 0.1920702748344371,
          "timestamp": "2018-09-27T00:00:00-07:00",
          "user": 1510
         },
         {
          "cost": 268.253716,
          "cost_per_user": 0.19695573861967694,
          "timestamp": "2018-09-28T00:00:00-07:00",
          "user": 1362
         },
         {
          "cost": 262.364679,
          "cost_per_user": 0.29281772209821433,
          "timestamp": "2018-09-29T00:00:00-07:00",
          "user": 896
         },
         {
          "cost": 244.44310099999998,
          "cost_per_user": 0.233024881792183,
          "timestamp": "2018-09-30T00:00:00-07:00",
          "user": 1049
         },
         {
          "cost": 248.97004299999998,
          "cost_per_user": 0.17885778951149423,
          "timestamp": "2018-10-01T00:00:00-07:00",
          "user": 1392
         },
         {
          "cost": 243.463813,
          "cost_per_user": 0.1814186385991058,
          "timestamp": "2018-10-02T00:00:00-07:00",
          "user": 1342
         },
         {
          "cost": 304.920198,
          "cost_per_user": 0.19458851180599873,
          "timestamp": "2018-10-03T00:00:00-07:00",
          "user": 1567
         },
         {
          "cost": 452.96205100000003,
          "cost_per_user": 0.3158731178521618,
          "timestamp": "2018-10-04T00:00:00-07:00",
          "user": 1434
         },
         {
          "cost": 275.03173200000003,
          "cost_per_user": 0.2592193515551367,
          "timestamp": "2018-10-05T00:00:00-07:00",
          "user": 1061
         },
         {
          "cost": 181.814937,
          "cost_per_user": 0.24241991599999999,
          "timestamp": "2018-10-06T00:00:00-07:00",
          "user": 750
         },
         {
          "cost": 173.638486,
          "cost_per_user": 0.18452548990435708,
          "timestamp": "2018-10-07T00:00:00-07:00",
          "user": 941
         },
         {
          "cost": 197.120381,
          "cost_per_user": 0.14688552980625932,
          "timestamp": "2018-10-08T00:00:00-07:00",
          "user": 1342
         },
         {
          "cost": 212.07737500000002,
          "cost_per_user": 0.156399244100295,
          "timestamp": "2018-10-09T00:00:00-07:00",
          "user": 1356
         },
         {
          "cost": 219.799082,
          "cost_per_user": 0.16378471087928465,
          "timestamp": "2018-10-10T00:00:00-07:00",
          "user": 1342
         },
         {
          "cost": 203.78078899999997,
          "cost_per_user": 0.20116563573543925,
          "timestamp": "2018-10-11T00:00:00-07:00",
          "user": 1013
         },
         {
          "cost": 206.12004299999998,
          "cost_per_user": 0.205708625748503,
          "timestamp": "2018-10-12T00:00:00-07:00",
          "user": 1002
         },
         {
          "cost": 202.40058399999998,
          "cost_per_user": 0.507269634085213,
          "timestamp": "2018-10-13T00:00:00-07:00",
          "user": 399
         },
         {
          "cost": 182.316341,
          "cost_per_user": 0.4134157392290249,
          "timestamp": "2018-10-14T00:00:00-07:00",
          "user": 441
         },
         {
          "cost": 183.284113,
          "cost_per_user": 0.20501578635346754,
          "timestamp": "2018-10-15T00:00:00-07:00",
          "user": 894
         },
         {
          "cost": 191.61486699999998,
          "cost_per_user": 0.23197925786924936,
          "timestamp": "2018-10-16T00:00:00-07:00",
          "user": 826
         },
         {
          "cost": 186.137944,
          "cost_per_user": 0.16356585588752198,
          "timestamp": "2018-10-17T00:00:00-07:00",
          "user": 1138
         },
         {
          "cost": 185.817201,
          "cost_per_user": 0.17901464450867052,
          "timestamp": "2018-10-18T00:00:00-07:00",
          "user": 1038
         },
         {
          "cost": 185.48708799999997,
          "cost_per_user": 0.28937143213728544,
          "timestamp": "2018-10-19T00:00:00-07:00",
          "user": 641
         },
         {
          "cost": 149.516785,
          "cost_per_user": 0.22517588102409639,
          "timestamp": "2018-10-20T00:00:00-07:00",
          "user": 664
         },
         {
          "cost": 121.764895,
          "cost_per_user": 0.14224870911214954,
          "timestamp": "2018-10-21T00:00:00-07:00",
          "user": 856
         },
         {
          "cost": 142.410472,
          "cost_per_user": 0.11818296431535269,
          "timestamp": "2018-10-22T00:00:00-07:00",
          "user": 1205
         },
         {
          "cost": 155.93802300000002,
          "cost_per_user": 0.13751148412698413,
          "timestamp": "2018-10-23T00:00:00-07:00",
          "user": 1134
         },
         {
          "cost": 156.858114,
          "cost_per_user": 0.1083274267955801,
          "timestamp": "2018-10-24T00:00:00-07:00",
          "user": 1448
         },
         {
          "cost": 156.38318199999998,
          "cost_per_user": 0.11170227285714283,
          "timestamp": "2018-10-25T00:00:00-07:00",
          "user": 1400
         },
         {
          "cost": 155.87109700000002,
          "cost_per_user": 0.13098411512605043,
          "timestamp": "2018-10-26T00:00:00-07:00",
          "user": 1190
         },
         {
          "cost": 145.873503,
          "cost_per_user": 0.1958033597315436,
          "timestamp": "2018-10-27T00:00:00-07:00",
          "user": 745
         },
         {
          "cost": 143.64437099999998,
          "cost_per_user": 0.16683434494773516,
          "timestamp": "2018-10-28T00:00:00-07:00",
          "user": 861
         },
         {
          "cost": 149.627417,
          "cost_per_user": 0.11456923200612558,
          "timestamp": "2018-10-29T00:00:00-07:00",
          "user": 1306
         },
         {
          "cost": 168.580365,
          "cost_per_user": 0.13274044488188977,
          "timestamp": "2018-10-30T00:00:00-07:00",
          "user": 1270
         },
         {
          "cost": 169.53366599999998,
          "cost_per_user": 0.1152506227056424,
          "timestamp": "2018-10-31T00:00:00-07:00",
          "user": 1471
         },
         {
          "cost": 165.6526,
          "cost_per_user": 0.11223075880758808,
          "timestamp": "2018-11-01T00:00:00-07:00",
          "user": 1476
         },
         {
          "cost": 174.670979,
          "cost_per_user": 0.13182715396226413,
          "timestamp": "2018-11-02T00:00:00-07:00",
          "user": 1325
         },
         {
          "cost": 154.460981,
          "cost_per_user": 0.19651524300254453,
          "timestamp": "2018-11-03T00:00:00-07:00",
          "user": 786
         },
         {
          "cost": 160.182685,
          "cost_per_user": 0.2144346519410977,
          "timestamp": "2018-11-04T00:00:00-07:00",
          "user": 747
         },
         {
          "cost": 154.16036599999998,
          "cost_per_user": 0.14766318582375476,
          "timestamp": "2018-11-05T00:00:00-08:00",
          "user": 1044
         },
         {
          "cost": 154.746287,
          "cost_per_user": 0.13658101235657547,
          "timestamp": "2018-11-06T00:00:00-08:00",
          "user": 1133
         },
         {
          "cost": 170.92835399999998,
          "cost_per_user": 0.11319758543046357,
          "timestamp": "2018-11-07T00:00:00-08:00",
          "user": 1510
         },
         {
          "cost": 177.70142,
          "cost_per_user": 0.13221831845238097,
          "timestamp": "2018-11-08T00:00:00-08:00",
          "user": 1344
         },
         {
          "cost": 179.00012300000003,
          "cost_per_user": 0.21488610204081637,
          "timestamp": "2018-11-09T00:00:00-08:00",
          "user": 833
         },
         {
          "cost": 179.290468,
          "cost_per_user": 0.27372590534351143,
          "timestamp": "2018-11-10T00:00:00-08:00",
          "user": 655
         },
         {
          "cost": 165.391022,
          "cost_per_user": 0.2262531080711354,
          "timestamp": "2018-11-11T00:00:00-08:00",
          "user": 731
         },
         {
          "cost": 157.576163,
          "cost_per_user": 0.1662195812236287,
          "timestamp": "2018-11-12T00:00:00-08:00",
          "user": 948
         },
         {
          "cost": 163.672754,
          "cost_per_user": 0.13537862200165426,
          "timestamp": "2018-11-13T00:00:00-08:00",
          "user": 1209
         },
         {
          "cost": 183.722065,
          "cost_per_user": 0.11792173620025673,
          "timestamp": "2018-11-14T00:00:00-08:00",
          "user": 1558
         },
         {
          "cost": 195.25908099999998,
          "cost_per_user": 0.13522097022160665,
          "timestamp": "2018-11-15T00:00:00-08:00",
          "user": 1444
         },
         {
          "cost": 188.49224700000002,
          "cost_per_user": 0.17866563696682466,
          "timestamp": "2018-11-16T00:00:00-08:00",
          "user": 1055
         },
         {
          "cost": 180.42066499999999,
          "cost_per_user": 0.22137504907975458,
          "timestamp": "2018-11-17T00:00:00-08:00",
          "user": 815
         },
         {
          "cost": 170.58507500000002,
          "cost_per_user": 0.21323134375000002,
          "timestamp": "2018-11-18T00:00:00-08:00",
          "user": 800
         },
         {
          "cost": 169.096144,
          "cost_per_user": 0.19347384897025172,
          "timestamp": "2018-11-19T00:00:00-08:00",
          "user": 874
         },
         {
          "cost": 168.46590500000002,
          "cost_per_user": 0.23236676551724142,
          "timestamp": "2018-11-20T00:00:00-08:00",
          "user": 725
         },
         {
          "cost": 168.065076,
          "cost_per_user": 0.2773351089108911,
          "timestamp": "2018-11-21T00:00:00-08:00",
          "user": 606
         },
         {
          "cost": 167.400497,
          "cost_per_user": 0.3487510354166667,
          "timestamp": "2018-11-22T00:00:00-08:00",
          "user": 480
         },
         {
          "cost": 168.123972,
          "cost_per_user": 0.31841661363636364,
          "timestamp": "2018-11-23T00:00:00-08:00",
          "user": 528
         },
         {
          "cost": 167.694091,
          "cost_per_user": 0.320026891221374,
          "timestamp": "2018-11-24T00:00:00-08:00",
          "user": 524
         },
         {
          "cost": 168.44466,
          "cost_per_user": 0.2521626646706587,
          "timestamp": "2018-11-25T00:00:00-08:00",
          "user": 668
         },
         {
          "cost": 172.00177,
          "cost_per_user": 0.15048273840769902,
          "timestamp": "2018-11-26T00:00:00-08:00",
          "user": 1143
         },
         {
          "cost": 171.23877900000002,
          "cost_per_user": 0.13754118795180725,
          "timestamp": "2018-11-27T00:00:00-08:00",
          "user": 1245
         },
         {
          "cost": 170.16072100000002,
          "cost_per_user": 0.11575559251700682,
          "timestamp": "2018-11-28T00:00:00-08:00",
          "user": 1470
         },
         {
          "cost": 171.209544,
          "cost_per_user": 0.12116740552016984,
          "timestamp": "2018-11-29T00:00:00-08:00",
          "user": 1413
         },
         {
          "cost": 170.10651,
          "cost_per_user": 0.1557751923076923,
          "timestamp": "2018-11-30T00:00:00-08:00",
          "user": 1092
         },
         {
          "cost": 162.890289,
          "cost_per_user": 0.2983338626373626,
          "timestamp": "2018-12-01T00:00:00-08:00",
          "user": 546
         },
         {
          "cost": 164.59242200000003,
          "cost_per_user": 0.3338588681541583,
          "timestamp": "2018-12-02T00:00:00-08:00",
          "user": 493
         },
         {
          "cost": 164.49821300000002,
          "cost_per_user": 0.2519115053598775,
          "timestamp": "2018-12-03T00:00:00-08:00",
          "user": 653
         },
         {
          "cost": 164.51144,
          "cost_per_user": 0.3336946044624746,
          "timestamp": "2018-12-04T00:00:00-08:00",
          "user": 493
         },
         {
          "cost": 165.150755,
          "cost_per_user": 0.3041450368324125,
          "timestamp": "2018-12-05T00:00:00-08:00",
          "user": 543
         },
         {
          "cost": 165.040173,
          "cost_per_user": 0.35416346137339055,
          "timestamp": "2018-12-06T00:00:00-08:00",
          "user": 466
         },
         {
          "cost": 164.40057099999999,
          "cost_per_user": 0.38232690930232555,
          "timestamp": "2018-12-07T00:00:00-08:00",
          "user": 430
         },
         {
          "cost": 164.55875,
          "cost_per_user": 0.4483889645776567,
          "timestamp": "2018-12-08T00:00:00-08:00",
          "user": 367
         },
         {
          "cost": 164.60581200000001,
          "cost_per_user": 0.5292791382636657,
          "timestamp": "2018-12-09T00:00:00-08:00",
          "user": 311
         },
         {
          "cost": 164.520137,
          "cost_per_user": 0.49703968882175226,
          "timestamp": "2018-12-10T00:00:00-08:00",
          "user": 331
         },
         {
          "cost": 164.85765,
          "cost_per_user": 0.44556121621621625,
          "timestamp": "2018-12-11T00:00:00-08:00",
          "user": 370
         },
         {
          "cost": 164.251543,
          "cost_per_user": 0.331821298989899,
          "timestamp": "2018-12-12T00:00:00-08:00",
          "user": 495
         },
         {
          "cost": 164.572575,
          "cost_per_user": 0.2711245057660626,
          "timestamp": "2018-12-13T00:00:00-08:00",
          "user": 607
         },
         {
          "cost": 162.11756,
          "cost_per_user": 0.6563463967611336,
          "timestamp": "2018-12-14T00:00:00-08:00",
          "user": 247
         },
         {
          "cost": null,
          "cost_per_user": null,
          "timestamp": "",
          "user": null
         },
         {
          "cost": null,
          "cost_per_user": null,
          "timestamp": "",
          "user": null
         }
        ]
       },
       "encoding": {
        "x": {
         "field": "timestamp",
         "type": "temporal"
        },
        "y": {
         "field": "cost_per_user",
         "type": "quantitative"
        }
       },
       "mark": "line",
       "width": 900
      },
      "image/png": "[encoded data removed]",
      "text/plain": [
       "<VegaLite 2 object>\n",
       "\n",
       "If you see this message, it means the renderer has not been properly enabled\n",
       "for the frontend that you are using. For more information, see\n",
       "https://altair-viz.github.io/user_guide/troubleshooting.html\n"
      ]
     },
     "execution_count": 185,
     "metadata": {},
     "output_type": "execute_result"
    }
   ],
   "source": [
    "alt.Chart(total, width=900).mark_line().encode(\n",
    "    x='timestamp',\n",
    "    y='cost_per_user'\n",
    ")"
   ]
  }
 ],
 "metadata": {
  "kernelspec": {
   "display_name": "Python 3",
   "language": "python",
   "name": "python3"
  },
  "language_info": {
   "codemirror_mode": {
    "name": "ipython",
    "version": 3
   },
   "file_extension": ".py",
   "mimetype": "text/x-python",
   "name": "python",
   "nbconvert_exporter": "python",
   "pygments_lexer": "ipython3",
   "version": "3.6.3"
  }
 },
 "nbformat": 4,
 "nbformat_minor": 2
}
